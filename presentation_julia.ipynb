{
 "cells": [
  {
   "cell_type": "markdown",
   "metadata": {
    "slideshow": {
     "slide_type": "slide"
    }
   },
   "source": [
    "## You don't know what to choose between Matlab and Python :\n",
    "\n",
    "# Try Julia !\n",
    "\n",
    "<center><img src=\"figs/julialogo-smaller.png\"/></center>\n"
   ]
  },
  {
   "cell_type": "markdown",
   "metadata": {
    "slideshow": {
     "slide_type": "slide"
    }
   },
   "source": [
    "## Why a talk on programming language ?\n",
    "\n",
    "- [Better Software, Better Research](https://ieeexplore.ieee.org/stamp/stamp.jsp?tp=&arnumber=6886129&tag=1) (Goble, C. (2014). IEEE Internet Computing)\n",
    "\n",
    ">  Of  2,000  scientists surveyed  online, **91%** said  **using**  scientific  software  is  important  for  their own research, **84%** said **developing** scientific  software  is  important  for  their  own  research [...] and **38% spend at least one  fifth  of  their  time  developing  software**.  \n",
    "\n",
    ">   “You  can download our code from the URL supplied. Good luck downloading the only \n",
    "> postdoc who can get it to run, though” (Ian  Holmes)\n",
    "    \n",
    "- Big Data -> Big Software\n",
    "- Loi pour une république numérique (2017) $\\rightarrow$ new codes must (more or less) be open source (cf https://scinfolex.com/2017/12/08/les-logiciels-produits-par-les-administrations-sont-passes-en-open-source-par-defaut-et-voici-pourquoi/)"
   ]
  },
  {
   "cell_type": "markdown",
   "metadata": {
    "slideshow": {
     "slide_type": "slide"
    }
   },
   "source": [
    "# Play with the slides \n",
    "\n",
    "https://tinyurl.com/introjuliagipsa \n",
    "\n",
    "or https://mybinder.org/v2/gh/raphbacher/julia-intro/master?filepath=presentation_julia.ipynb\n",
    "\n",
    "Sources:\n",
    "\n",
    "https://github.com/raphbacher/julia-intro"
   ]
  },
  {
   "cell_type": "markdown",
   "metadata": {
    "slideshow": {
     "slide_type": "slide"
    }
   },
   "source": [
    "# Outline\n",
    "\n",
    "- State of the art : the two language problem\n",
    "- What is Julia\n",
    "- Why Julia is fast\n",
    "- Julia Ecosystem & interop \n",
    "- (Parallelism)"
   ]
  },
  {
   "cell_type": "markdown",
   "metadata": {
    "slideshow": {
     "slide_type": "slide"
    }
   },
   "source": [
    "## State of the art : Matlab\n",
    "\n",
    "Pros :\n",
    "- Polished product with support\n",
    "- Simulink\n",
    "- High level syntax\n",
    "\n",
    "Cons :\n",
    "- Closed : not everyone has access to it, impossible to put a demonstrator online.\n",
    "- Slow loops (better since 2015) : not everything is pretty once vectorized\n",
    "- Not fast per se (Fortran bindings), memory management is difficult\n",
    "- Not a generalist language (cumbersome to put a demo on the web e.g.)\n",
    "- 12 000€ each year for the lab\n",
    "\n",
    "\n"
   ]
  },
  {
   "cell_type": "markdown",
   "metadata": {
    "slideshow": {
     "slide_type": "slide"
    }
   },
   "source": [
    "## State of the art : Python\n",
    " \n",
    "Pros :\n",
    "- Free and open-source, generalist, widly used outside scientific community\n",
    "- Lot of scientific communities are embracing it\n",
    "- Lots of efforts to make it fast (numba, ...)\n",
    "\n",
    "Cons :\n",
    "- Scientific computing is not native : \n",
    "    - all fallback to C/Fortran black-boxes -> limit flexibility \n",
    "- Object Oriented paradigm can be cumbersome for scientific code"
   ]
  },
  {
   "cell_type": "markdown",
   "metadata": {
    "slideshow": {
     "slide_type": "slide"
    }
   },
   "source": [
    "## Science and the two languages problem\n",
    "\n",
    "Scientists need to easily explore new ideas :\n",
    "\n",
    "- Need for mathematical abstractions\n",
    "- Need for customizations (avoid black boxes, try variations)\n",
    "\n",
    "- But also need for performance (intrinsic goal or to allow re-use)\n",
    "\n",
    "What is done now (when you need to go further than using existing packages, for e.g. data analysis)\n",
    "\n",
    "1) Prototyping in R/Python/Matlab\n",
    "\n",
    "2) Rewriting whole or parts (if money/man power) to a performant low-level language as C/Fortran\n"
   ]
  },
  {
   "cell_type": "markdown",
   "metadata": {
    "slideshow": {
     "slide_type": "slide"
    }
   },
   "source": [
    "# Yet another language\n",
    "\n",
    "<center><img src=\"https://imgs.xkcd.com/comics/standards.png\" style=\"width:60%\"></center>"
   ]
  },
  {
   "cell_type": "markdown",
   "metadata": {
    "slideshow": {
     "slide_type": "slide"
    }
   },
   "source": [
    "# Here comes Julia :\n",
    "\n",
    "* innovative open-source generalist programming language with scientific computing at its core\n",
    "* **easy as Matlab, fast as Fortran, flexible as Python, deep as LISP**\n",
    "* leverages (for now...) major C/Fortran science packages, e.g. LAPACK, MPI, FFTW... \n",
    "* 5th language to run at 1 petaflops (Celeste project), after assembly, Fortran, C, C++ \n",
    "* State of the art packages in Optimization (JUMP), Differential Equations (DifEq), ... Well positioned for ML (Flux, Knet, autodiff...)\n",
    "* solves the \"two-language problem\"\n"
   ]
  },
  {
   "cell_type": "markdown",
   "metadata": {
    "slideshow": {
     "slide_type": "slide"
    }
   },
   "source": [
    "# Background\n",
    "\n",
    "* origins at MIT, UCSB applied math & computer science, 2010     \n",
    "* founders Viral Shah, Jeff Bezanson, Stefan Karpinsky (now at Julia Computing LLC), Alan Edelman (MIT)\n",
    "* ~10-person core language team, ~600 contributors, ~1500 registered packages \n",
    "* support from Intel, Microsoft, Wall St., Moore Foundation, NumFocus\n",
    "* julia-0.1 released in 2012, julia-1.0 in August 2018\n",
    "\n",
    "\n",
    "**Its goal : Solve the languages problem by having a dynamic, high level language with good mathematical expressivity able to be as fast as C/Fortran.**"
   ]
  },
  {
   "cell_type": "markdown",
   "metadata": {
    "slideshow": {
     "slide_type": "slide"
    }
   },
   "source": [
    "# Disclaimer\n",
    "\n",
    "- I am not a Julia expert : I've been following the language for ~ one year and started porting Python codes a few months ago.\n",
    "- Julia (like Python...) is not a drop-in replacement for Matlab, it is an alternative.\n",
    "- Don't fix that ain't broken : \n",
    "    - if Matlab/R/Python/C is good for you, no need to change\n",
    "    - but if you are sometimes faced with some limitations of these languages, give Julia a try"
   ]
  },
  {
   "cell_type": "markdown",
   "metadata": {
    "slideshow": {
     "slide_type": "slide"
    }
   },
   "source": [
    "# Julia: expressive as Matlab\n",
    "\n",
    "Julia can be a drop-in replacement for Matlab for interactive calculations with built-in numerical libraries and plotting. A few examples...\n",
    "\n",
    "### Linear algebra "
   ]
  },
  {
   "cell_type": "code",
   "execution_count": null,
   "metadata": {
    "slideshow": {
     "slide_type": "fragment"
    }
   },
   "outputs": [],
   "source": [
    "using LinearAlgebra\n",
    "A = randn(4,4)       # 4 x 4 matrix of normally distributed random numbers"
   ]
  },
  {
   "cell_type": "code",
   "execution_count": null,
   "metadata": {
    "slideshow": {
     "slide_type": "fragment"
    }
   },
   "outputs": [],
   "source": [
    "A[:,1]                # familiar colon syntax --extract first column of A"
   ]
  },
  {
   "cell_type": "code",
   "execution_count": null,
   "metadata": {
    "slideshow": {
     "slide_type": "fragment"
    }
   },
   "outputs": [],
   "source": [
    "b = randn(4)          \n",
    "x = A\\b               # solve Ax=b for x using backslash operator\n",
    "norm(A*x-b)"
   ]
  },
  {
   "cell_type": "code",
   "execution_count": null,
   "metadata": {
    "slideshow": {
     "slide_type": "fragment"
    }
   },
   "outputs": [],
   "source": [
    "U, σ, V = svd(A);     # singular value decomposition --note unicode variable name σ"
   ]
  },
  {
   "cell_type": "code",
   "execution_count": null,
   "metadata": {
    "slideshow": {
     "slide_type": "fragment"
    }
   },
   "outputs": [],
   "source": [
    "Σ = diagm(0 => σ)\n",
    "norm(A - U*Σ*V')      # compute error of SVD factorization A = U Σ V'"
   ]
  },
  {
   "cell_type": "markdown",
   "metadata": {
    "slideshow": {
     "slide_type": "slide"
    }
   },
   "source": [
    "# Fast as Fortran\n"
   ]
  },
  {
   "cell_type": "code",
   "execution_count": null,
   "metadata": {
    "slideshow": {
     "slide_type": "fragment"
    }
   },
   "outputs": [],
   "source": [
    "function loop()\n",
    "    a=0 \n",
    "    for i in 1:1_000_000\n",
    "        a+=1;\n",
    "    end\n",
    "end\n",
    "@time loop # compile time\n",
    "@time loop # now fast"
   ]
  },
  {
   "cell_type": "markdown",
   "metadata": {
    "slideshow": {
     "slide_type": "slide"
    }
   },
   "source": [
    "# Matlab (R2018) \n",
    "\n",
    "    function [] = loop()\n",
    "        a=0;\n",
    "        for i=1:1000000\n",
    "            a=i+1;\n",
    "        end\n",
    "    end\n",
    "    \n",
    "    f = @() loop();\n",
    "    \n",
    "    timeit(f) => 0.0018s\n"
   ]
  },
  {
   "cell_type": "markdown",
   "metadata": {
    "slideshow": {
     "slide_type": "slide"
    }
   },
   "source": [
    "### Benchmarks on common code pattterns\n",
    "\n",
    "Takeaway: Julia timings are clustered around C timing, Matlab/Python/R orders of magnitude slower.\n",
    "\n",
    "<center><img src=\"figs/benchmarks.png\"/></center>"
   ]
  },
  {
   "cell_type": "markdown",
   "metadata": {
    "slideshow": {
     "slide_type": "slide"
    }
   },
   "source": [
    "### KS-CNAB2 benchmark: CPU time of identical algorithm in six languages. \n",
    "\n",
    "Takeaway: Julia is nearly as fast as C and Fortran, within a few percent. Codes: [ks.py](https://github.com/johnfgibson/whyjulia/tree/master/ks-codes/ksbenchmark.py#48)\n",
    " [ks.m](https://github.com/johnfgibson/whyjulia/tree/master/ks-codes/ksbenchmark.m#46) \n",
    " [ks.jl](https://github.com/johnfgibson/whyjulia/tree/master/ks-codes/ksbenchmark.jl#L129) [ks.c](https://github.com/johnfgibson/whyjulia/tree/master/ks-codes/ksbenchmark.c#L82) [ks.cpp](https://github.com/johnfgibson/whyjulia/tree/master/ks-codes/ksbenchmark.cpp#L87) [ks.f90](https://github.com/johnfgibson/whyjulia/tree/master/ks-codes/ksbenchmark.f90#L84) \n",
    "\n",
    "<center><img src=\"figs/ks_cpu_scaling.png\"/></center"
   ]
  },
  {
   "cell_type": "markdown",
   "metadata": {
    "slideshow": {
     "slide_type": "slide"
    }
   },
   "source": [
    "### KS-CNAB2 benchmark: CPU time versus lines of code \n",
    "\n",
    "Takeaway: The Julia PDE code is almost as compact as Matlab/Python, almost as fast as C/Fortran.\n",
    "<center><img src=\"figs/ks_cpu_vs_lines_1024.png\"/></center>\n"
   ]
  },
  {
   "cell_type": "markdown",
   "metadata": {
    "slideshow": {
     "slide_type": "slide"
    }
   },
   "source": [
    "## Julia: easy, dynamic, and fast. How? \n",
    "\n",
    "\n",
    " * **Just-in-time compilation** (JIT)\n",
    "    - user-level code is compiled to machine code on-the-fly  \n",
    "    \n",
    "    \n",
    " * **Meticulous type system**\n",
    "    - designed to maximize impact of JIT\n",
    "    - type inference: compiler determines types of variables\n",
    "    \n",
    "    \n",
    " * **Multiple dispatch**\n",
    "    - functions are compiled for each set of argument types\n",
    "    - function dispatch determined at compile time when possible, run time when not\n",
    " \n",
    "\n",
    "### Just-in-time compilation\n",
    "\n",
    "Functions are compiled to machine code when first run. Subsequent runs are as fast as compiled C, C++, Fortran.\n"
   ]
  },
  {
   "cell_type": "markdown",
   "metadata": {
    "slideshow": {
     "slide_type": "slide"
    }
   },
   "source": [
    "# Caveats\n",
    "\n",
    "- It's a marathon not a sprint : Julia can be slow at first\n",
    "- It's an open-source language with lots of good willing contributors, it's not a product (see JuliaPro...)\n",
    "- If you directly translate from Matlab to Julia you will not always see an improvement, you have exploit Julia strengths (loops to avoid allocations, type stability, ...)"
   ]
  },
  {
   "cell_type": "markdown",
   "metadata": {
    "slideshow": {
     "slide_type": "slide"
    }
   },
   "source": [
    "# A julia type\n",
    "\n",
    "Like a Python object but without methods\n",
    "\n",
    "```julia\n",
    "struct Spaceship\n",
    "           speed::Float64\n",
    "           Position::Array{Float64,2}\n",
    "   end\n",
    "```\n",
    "\n",
    "## Multiple dispatch\n",
    "\n",
    "```julia\n",
    "collide(a::Asteroid, s::Spaceship) # a first method of the function collide\n",
    "collide(s1::Spaceship, s2::Spaceship) # another method of the function collide\n",
    "```"
   ]
  },
  {
   "cell_type": "markdown",
   "metadata": {
    "slideshow": {
     "slide_type": "slide"
    }
   },
   "source": [
    "#### Logistic map example \n",
    "$$f(x) = 4\\, x\\, (1-x)$$"
   ]
  },
  {
   "cell_type": "code",
   "execution_count": null,
   "metadata": {
    "slideshow": {
     "slide_type": "fragment"
    }
   },
   "outputs": [],
   "source": [
    "f(x) = 4x*(1-x)     # define logistic map\n",
    "@time f(0.3);       # first run is slow\n",
    "@time f(0.4);       # second run is a thousand times faster"
   ]
  },
  {
   "cell_type": "markdown",
   "metadata": {
    "slideshow": {
     "slide_type": "slide"
    }
   },
   "source": [
    "#### Observe the compilation of $f(x)$ by stages\n",
    "\n",
    "user Julia -> generic Julia expression -> typed Julia expression -> intermediate compiler language -> machine code"
   ]
  },
  {
   "cell_type": "code",
   "execution_count": null,
   "metadata": {
    "slideshow": {
     "slide_type": "fragment"
    }
   },
   "outputs": [],
   "source": [
    "include(\"macros.jl\");"
   ]
  },
  {
   "cell_type": "code",
   "execution_count": null,
   "metadata": {
    "slideshow": {
     "slide_type": "fragment"
    }
   },
   "outputs": [],
   "source": [
    "@code_lowered f(0.3)  # show f(x) as generic Julia expression"
   ]
  },
  {
   "cell_type": "code",
   "execution_count": null,
   "metadata": {
    "slideshow": {
     "slide_type": "fragment"
    }
   },
   "outputs": [],
   "source": [
    "@code_typed f(0.3)    # show f(x) as Julia expr with inferred types, based on the arg types"
   ]
  },
  {
   "cell_type": "code",
   "execution_count": null,
   "metadata": {
    "slideshow": {
     "slide_type": "fragment"
    }
   },
   "outputs": [],
   "source": [
    "@code_llvm_nocomment f(0.3)    # show f(x) in intermediate compiler language (LLVM)"
   ]
  },
  {
   "cell_type": "code",
   "execution_count": null,
   "metadata": {
    "slideshow": {
     "slide_type": "fragment"
    }
   },
   "outputs": [],
   "source": [
    "@code_native_nocomment f(0.3) # show f(x) in IA-64 assembly language"
   ]
  },
  {
   "cell_type": "code",
   "execution_count": null,
   "metadata": {
    "slideshow": {
     "slide_type": "fragment"
    }
   },
   "outputs": [],
   "source": [
    "@code_llvm_nocomment f(3)    # show f(x) in intermediate compiler language (LLVM)"
   ]
  },
  {
   "cell_type": "markdown",
   "metadata": {
    "slideshow": {
     "slide_type": "slide"
    }
   },
   "source": [
    "# Type stability\n",
    "\n",
    "No need to declare type but need to be type stable..."
   ]
  },
  {
   "cell_type": "code",
   "execution_count": null,
   "metadata": {
    "scrolled": true,
    "slideshow": {
     "slide_type": "slide"
    }
   },
   "outputs": [],
   "source": [
    "function g1(a,n)\n",
    "  x = 0\n",
    "  for i in 1:n\n",
    "    x += a\n",
    "  end\n",
    "end\n",
    "\n",
    "@code_warntype g1(2.0,10)\n",
    "# @code_llvm_nocomment g1(2.0,10)"
   ]
  },
  {
   "cell_type": "code",
   "execution_count": null,
   "metadata": {
    "slideshow": {
     "slide_type": "slide"
    }
   },
   "outputs": [],
   "source": [
    "function g2(a,n)\n",
    "  x = zero(a) # get the zero of the type of a\n",
    "  for i in 1:n\n",
    "    x += a\n",
    "  end\n",
    "end\n",
    "\n",
    "@code_warntype g2(2.0,10)\n",
    "#@code_llvm_nocomment g2(2.0,10)"
   ]
  },
  {
   "cell_type": "markdown",
   "metadata": {
    "slideshow": {
     "slide_type": "slide"
    }
   },
   "source": [
    "### Millionth iterate of logistic map: comparison of Julia, C, Matlab\n",
    "\n",
    "Given $f(x) = 4\\,x \\, (1-x)$, \n",
    "\n",
    "let $~~f^N(x) = f(\\,f(\\,...(\\,f(\\,f(x)))))$ be the millionth iterate of $f$, with $N=10^6$."
   ]
  },
  {
   "cell_type": "markdown",
   "metadata": {
    "slideshow": {
     "slide_type": "fragment"
    }
   },
   "source": [
    "#### $f^N$ in Julia: run-time code generation & compilation!"
   ]
  },
  {
   "cell_type": "code",
   "execution_count": null,
   "metadata": {
    "slideshow": {
     "slide_type": "slide"
    }
   },
   "outputs": [],
   "source": [
    "# define function that, given function g(x), \n",
    "# returns iterated function gᴺ(x) = g(g(...(g(g(x)))))\n",
    "function iterator(g, N)\n",
    "    \n",
    "    # construct gᴺ, the Nth iterate of g\n",
    "    function gᴺ(x)\n",
    "       for i ∈ 1:N             \n",
    "          x = g(x)\n",
    "       end        \n",
    "       return x\n",
    "    end    \n",
    "    \n",
    "    return gᴺ\n",
    "end\n",
    "\n",
    "\n",
    "fᴺ = iterator(f, 10^6);  # generate millionth iterate funcion fᴺ(x) for f(x) = 4x(1-x)\n",
    "\n",
    "fᴺ(0.67)                 # run fᴺ(x) once to compile it"
   ]
  },
  {
   "cell_type": "markdown",
   "metadata": {
    "slideshow": {
     "slide_type": "slide"
    }
   },
   "source": [
    "#### $f^N$ in C++, compiled"
   ]
  },
  {
   "cell_type": "code",
   "execution_count": null,
   "metadata": {
    "slideshow": {
     "slide_type": "fragment"
    }
   },
   "outputs": [],
   "source": [
    "; cat codes/fN.cpp"
   ]
  },
  {
   "cell_type": "markdown",
   "metadata": {
    "slideshow": {
     "slide_type": "fragment"
    }
   },
   "source": [
    " Compile fN.cpp in Unix shell"
   ]
  },
  {
   "cell_type": "code",
   "execution_count": null,
   "metadata": {
    "slideshow": {
     "slide_type": "fragment"
    }
   },
   "outputs": [],
   "source": [
    "; g++ -O3 -o fN codes/fN.cpp -lm "
   ]
  },
  {
   "cell_type": "markdown",
   "metadata": {
    "slideshow": {
     "slide_type": "slide"
    }
   },
   "source": [
    "### Compare execution time of $f^N$ in Julia, C++, Matlab\n",
    "\n",
    "#### Julia"
   ]
  },
  {
   "cell_type": "code",
   "execution_count": null,
   "metadata": {
    "slideshow": {
     "slide_type": "slide"
    }
   },
   "outputs": [],
   "source": [
    "print(\"t=\");\n",
    "@time x = fᴺ(0.67);         # run the Julia fᴺ on x = 0.67\n",
    "@show x;"
   ]
  },
  {
   "cell_type": "markdown",
   "metadata": {
    "slideshow": {
     "slide_type": "fragment"
    }
   },
   "source": [
    "#### C++"
   ]
  },
  {
   "cell_type": "code",
   "execution_count": null,
   "metadata": {
    "slideshow": {
     "slide_type": "fragment"
    }
   },
   "outputs": [],
   "source": [
    "; ./fN 0.67 "
   ]
  },
  {
   "cell_type": "markdown",
   "metadata": {
    "slideshow": {
     "slide_type": "fragment"
    }
   },
   "source": [
    "Julia and C++ get the same result `x` in roughly same execution time `t`. Sometimes Julia is faster, sometimes C++."
   ]
  },
  {
   "cell_type": "markdown",
   "metadata": {
    "slideshow": {
     "slide_type": "fragment"
    }
   },
   "source": [
    "#### Matlab\n",
    "```\n",
    ">> tic(); x=fN(0.67); t=toc();\n",
    ">> t, x\n",
    "t = 0.048889000000000\n",
    "x = 0.101168853345475\n",
    "```\n",
    "Matlab gets the same result $x$, but ten to twenty times slower than Julia or C++."
   ]
  },
  {
   "cell_type": "markdown",
   "metadata": {
    "slideshow": {
     "slide_type": "slide"
    }
   },
   "source": [
    "# A short break\n",
    "\n",
    "<center><img src=\"https://imgs.xkcd.com/comics/compiling.png\"/></center>"
   ]
  },
  {
   "cell_type": "markdown",
   "metadata": {
    "slideshow": {
     "slide_type": "slide"
    }
   },
   "source": [
    "## An ecosystem of packages\n",
    "\n",
    "- Most of packages are available on Github (ease collaboration)\n",
    "- Main fields are grouped in Github Organizations (see https://julialang.org/community/)\n",
    "- Julia comes with a powerful package/envrionment manager\n"
   ]
  },
  {
   "cell_type": "code",
   "execution_count": null,
   "metadata": {
    "slideshow": {
     "slide_type": "fragment"
    }
   },
   "outputs": [],
   "source": [
    "using Pkg #load the Pkg stdlib\n",
    "Pkg.activate(\".\") #activate the local environment"
   ]
  },
  {
   "cell_type": "markdown",
   "metadata": {
    "slideshow": {
     "slide_type": "slide"
    }
   },
   "source": [
    "### Singular values of Hilbert matrix and arbitrary precision\n",
    "\n",
    "The Hilbert matrix $A_{ij} = (i+j-1)^{-1}$ is notoriously ill-conditioned. "
   ]
  },
  {
   "cell_type": "code",
   "execution_count": null,
   "metadata": {
    "slideshow": {
     "slide_type": "fragment"
    }
   },
   "outputs": [],
   "source": [
    "using LinearAlgebra #load stdlib\n",
    "\n",
    "#install package : no need online, needed on your computer\n",
    "#Pkg.add(PackageSpec(name=\"GenericSVD\",rev=\"master\")); \n",
    "\n",
    "using GenericSVD #load package"
   ]
  },
  {
   "cell_type": "code",
   "execution_count": null,
   "metadata": {
    "slideshow": {
     "slide_type": "slide"
    }
   },
   "outputs": [],
   "source": [
    "m = 8\n",
    "A = [1//(i+j-1) for i=1:m, j=1:m]    # 8 x 8 Hilbert matrix of Rationals"
   ]
  },
  {
   "cell_type": "code",
   "execution_count": null,
   "metadata": {
    "slideshow": {
     "slide_type": "fragment"
    }
   },
   "outputs": [],
   "source": [
    "# 16 x 16 Hilbert is too ill-conditioned for 64-bit arithmetic \n",
    "m = 16\n",
    "A = [1/(i+j-1) for i=1:m, j=1:m]    # 16 x 16 Hilbert matrix of Float64s\n",
    "@show cond(A)\n",
    "@show eps(Float64)\n",
    ";"
   ]
  },
  {
   "cell_type": "code",
   "execution_count": null,
   "metadata": {
    "slideshow": {
     "slide_type": "fragment"
    }
   },
   "outputs": [],
   "source": [
    "σ = svdvals(A)"
   ]
  },
  {
   "cell_type": "code",
   "execution_count": null,
   "metadata": {
    "slideshow": {
     "slide_type": "slide"
    }
   },
   "outputs": [],
   "source": [
    "# Make 32 x 32 Hilbert matrix of 256-bit BigFloats and show a few elements\n",
    "setprecision(256)\n",
    "m = 32\n",
    "A = [BigFloat(1//(i+j-1)) for i=1:m, j=1:m]; \n",
    "@show A[1,1]\n",
    "@show A[2,1]\n",
    "@show A[3,1]\n",
    ";"
   ]
  },
  {
   "cell_type": "code",
   "execution_count": null,
   "metadata": {
    "slideshow": {
     "slide_type": "fragment"
    }
   },
   "outputs": [],
   "source": [
    "# Compute singular values of 32 x 32 Hilbert matrix in 256-bit arithmetic\n",
    "σ = svdvals!(A)"
   ]
  },
  {
   "cell_type": "markdown",
   "metadata": {
    "slideshow": {
     "slide_type": "slide"
    }
   },
   "source": [
    "## User-defined type: Galois field GF(p)\n",
    "\n",
    "Finite scalar field GF(p) is $\\mathbb{Z}/p$, the integers modulo p, where p is prime. Example by Andreas Noack, Julia Computing."
   ]
  },
  {
   "cell_type": "code",
   "execution_count": null,
   "metadata": {
    "slideshow": {
     "slide_type": "fragment"
    }
   },
   "outputs": [],
   "source": [
    "# Type definition: Galois fields GF(p), where p is prime modulus, T is integer type\n",
    "struct GF{p,T} <: Number where {p,T<:Integer}\n",
    "    rep::T  # representative integer which holds the value of a GF(p) variable\n",
    "    function GF{p,T}(x::Integer) where {p,T<:Integer}\n",
    "        return new(mod(x, p))\n",
    "    end\n",
    "end\n",
    "GF{p}(x::T) where {p,T<:Integer} = GF{p,T}(x)\n",
    "\n",
    "\n",
    "# Define some basic methods for GF(p) that all Julia Numbers must have\n",
    "import Base: convert, inv, one, promote_rule, show, zero\n",
    "\n",
    "function call(::Type{GF{p}}, x::Integer) where {p}\n",
    "    if !isprime(p)\n",
    "        throw(ArgumentError(\"p must be prime\"))\n",
    "    end\n",
    "    return GF{p,typeof(x)}(mod(x, p))\n",
    "end\n",
    "\n",
    "convert(::Type{GF{p,T}}, x::Integer) where {p,T} = GF{p}(x)\n",
    "convert(::Type{GF{p}}, x::Integer) where {p} = GF{p}(x)\n",
    "convert(::Type{GF{p,T}}, x::GF{p}) where {p,T} = GF{p,T}(x.rep)\n",
    "promote_rule(::Type{GF{p,T1}}, ::Type{T2}) where {p,T1,T2<:Integer} = GF{p,promote_type(T1,T2)}\n",
    "show(io::IO, x::GF) = show(io, x.rep);\n",
    "\n",
    "\n",
    "# Define arithmetic operations on GF(p)\n",
    "import Base: +, -, *, /,conj\n",
    "\n",
    "for op in (:+, :-, :*)   # loop over ops, defining each in terms of integer ops mod p\n",
    "    @eval begin\n",
    "        ($op)(x::GF{p,T}, y::GF{p,T}) where {p,T} = GF{p,T}($(op)(x.rep, y.rep))\n",
    "    end\n",
    "end\n",
    "\n",
    "\n",
    "# Define inverse and ÷. Requires more care than +, -, * because dividing by zero throws error\n",
    "function inv(x::GF{p,T}) where {p,T}\n",
    "    if x == zero(x)\n",
    "        throw(DivideError())\n",
    "    end\n",
    "    r, u, v = gcdx(x.rep, p)\n",
    "    GF{p,T}(u)\n",
    "end\n",
    "\n",
    "function conj(x::GF{p,T}) where {p,T}\n",
    "    u = conj(x.rep)\n",
    "    GF{p,T}(u)\n",
    "end\n",
    "\n",
    "\n",
    "(/)(x::GF{p}, y::GF{p}) where {p}= x*inv(y);"
   ]
  },
  {
   "cell_type": "code",
   "execution_count": null,
   "metadata": {
    "slideshow": {
     "slide_type": "slide"
    }
   },
   "outputs": [],
   "source": [
    "# Create some GF(7) variables and do arithmetic\n",
    "\n",
    "x = GF{7}(9)   # x =  9 mod 7 = 2\n",
    "y = GF{7}(12)  # y = 12 mod 7 = 5\n",
    "@show x\n",
    "@show y\n",
    "@show x + y     # 2 + 5 mod 7 = 0\n",
    "@show x - y     # 2 - 5 mod 7 = 4\n",
    "@show x * y     # 2 * 5 mod 7 = 3\n",
    "@show x / y     # 2 ÷ 5 mod 7 = 6, because 2 = 6*5 mod 7\n",
    ";"
   ]
  },
  {
   "cell_type": "markdown",
   "metadata": {
    "slideshow": {
     "slide_type": "slide"
    }
   },
   "source": [
    "### Linear algebra over Galois field"
   ]
  },
  {
   "cell_type": "code",
   "execution_count": null,
   "metadata": {
    "slideshow": {
     "slide_type": "fragment"
    }
   },
   "outputs": [],
   "source": [
    "import Random: seed!\n",
    "seed!(1234)\n",
    "A = [GF{7}(rand(0:6)) for i = 1:4, j = 1:4] # matrix of random GF(7) elems"
   ]
  },
  {
   "cell_type": "code",
   "execution_count": null,
   "metadata": {
    "slideshow": {
     "slide_type": "fragment"
    }
   },
   "outputs": [],
   "source": [
    "b = [GF{7}(rand(0:6)) for i = 1:4]          # random vector b for Ax=b problem"
   ]
  },
  {
   "cell_type": "code",
   "execution_count": null,
   "metadata": {
    "slideshow": {
     "slide_type": "fragment"
    }
   },
   "outputs": [],
   "source": [
    "x = A\\b   # solve Ax=b over GF(p)!"
   ]
  },
  {
   "cell_type": "code",
   "execution_count": null,
   "metadata": {
    "slideshow": {
     "slide_type": "fragment"
    }
   },
   "outputs": [],
   "source": [
    "A*x - b   # check that x satisfies Ax=b"
   ]
  },
  {
   "cell_type": "markdown",
   "metadata": {
    "slideshow": {
     "slide_type": "fragment"
    }
   },
   "source": [
    "**Whoa! Built-in backslash operator on matrix of GF(p) worked!** \n",
    "\n",
    "Julia generated and compiled a GF(p)-specific version of its generic LU decomp function. \n",
    "\n",
    "All it needs is definitions of $+, -, \\times, \\div$."
   ]
  },
  {
   "cell_type": "markdown",
   "metadata": {
    "slideshow": {
     "slide_type": "slide"
    }
   },
   "source": [
    "# Solving Differential Equations\n",
    "\n",
    " Solve the Lorenz equations:\n",
    " \n",
    "\n",
    "$$\n",
    "\\begin{align}\n",
    "\\frac{dx}{dt} &= σ(y-x) \\\\\n",
    "\\frac{dy}{dt} &= x(ρ-z) - y \\\\\n",
    "\\frac{dz}{dt} &= xy - βz \\\\\n",
    "\\end{align}\n",
    "$$"
   ]
  },
  {
   "cell_type": "markdown",
   "metadata": {},
   "source": [
    "<div style=\"padding: 20px;background-color: #f44336;color: white; margin-bottom: 15px;\">\n",
    "Fair Warning ⚠ : the next cell is gonna take some time. Like really. You can go grab a coffee.\n",
    "\n",
    "This compilation time only occurs the first time you load this version of this package on your machine. \n",
    "If you are trying this online on Mybinder, remember that each time you connect, you are on a fresh julia install \n",
    "just built for you, so this precompilation time occurs. And Plots and DifferentialEquations are pretty big libraries (DifEq regroups a lot of solvers).\n",
    "</div>"
   ]
  },
  {
   "cell_type": "code",
   "execution_count": null,
   "metadata": {
    "slideshow": {
     "slide_type": "slide"
    }
   },
   "outputs": [],
   "source": [
    "#Pkg.add(\"DifferentialEquations\") # add the Differential equation suite\n",
    "using DifferentialEquations # first time is very slow (precompilation)\n",
    "using Plots"
   ]
  },
  {
   "cell_type": "code",
   "execution_count": null,
   "metadata": {
    "slideshow": {
     "slide_type": "fragment"
    }
   },
   "outputs": [],
   "source": [
    "function lorenz(du,u,p,t)\n",
    " du[1] = 10.0*(u[2]-u[1])\n",
    " du[2] = u[1]*(28.0-u[3]) - u[2]\n",
    " du[3] = u[1]*u[2] - (8/3)*u[3]\n",
    "end\n",
    "\n",
    "u0 = [1.0;0.0;0.0]\n",
    "tspan = (0.0,100.0)\n",
    "prob = ODEProblem(lorenz,u0,tspan)\n",
    "\n",
    "sol = solve(prob)\n",
    "\n",
    "Plots.plot(sol,vars=(1,2,3))"
   ]
  },
  {
   "cell_type": "markdown",
   "metadata": {
    "slideshow": {
     "slide_type": "slide"
    }
   },
   "source": [
    "### Add a bit of interaction\n",
    "\n",
    "<center><img src=\"https://imgs.xkcd.com/comics/mac_pc.png\"/></center>"
   ]
  },
  {
   "cell_type": "code",
   "execution_count": null,
   "metadata": {
    "scrolled": true,
    "slideshow": {
     "slide_type": "fragment"
    }
   },
   "outputs": [],
   "source": [
    "#Pkg.add(\"IJulia\") \n",
    "#Pkg.add(\"Interact\") \n",
    "#Pkg.add(\"Plots\") \n",
    "\n",
    "using Interact #load library\n",
    "using Plots\n",
    "using IJulia\n"
   ]
  },
  {
   "cell_type": "code",
   "execution_count": null,
   "metadata": {
    "slideshow": {
     "slide_type": "fragment"
    }
   },
   "outputs": [],
   "source": [
    "x = y = 0:0.1:30\n",
    "\n",
    "freqs = OrderedDict(zip([\"pi/4\", \"π/2\", \"3π/4\", \"π\"], [π/4, π/2, 3π/4, π]))\n",
    "\n",
    "mp = @manipulate for freq1 in freqs, freq2 in slider(0.01:0.1:4π; label=\"freq2\")\n",
    "    y = @. sin(freq1*x) * sin(freq2*x)\n",
    "    plot(x, y)\n",
    "end\n",
    "\n",
    "display(mp) # do not work online on mybinder for now.\n"
   ]
  },
  {
   "cell_type": "markdown",
   "metadata": {
    "slideshow": {
     "slide_type": "slide"
    }
   },
   "source": [
    "## Automatic differentiation\n",
    "\n"
   ]
  },
  {
   "cell_type": "code",
   "execution_count": null,
   "metadata": {
    "slideshow": {
     "slide_type": "fragment"
    }
   },
   "outputs": [],
   "source": [
    "#Pkg.add(\"ForwardDiff\")\n",
    "using ForwardDiff\n",
    "\n",
    "f(x::Vector) = sum(sin, x) + prod(tan, x) * sum(sqrt, x);\n",
    "\n",
    "x = rand(5) # small size for example's sake\n",
    "\n",
    "g = x -> ForwardDiff.gradient(f, x); # g = ∇f\n",
    "\n",
    "@show g(x)\n",
    "\n",
    "@show ForwardDiff.hessian(f, x)"
   ]
  },
  {
   "cell_type": "markdown",
   "metadata": {
    "slideshow": {
     "slide_type": "slide"
    }
   },
   "source": [
    "# Interop\n",
    "\n",
    "Interop possible avec Python, Matlab, R, Java, C/Fortran,..."
   ]
  },
  {
   "cell_type": "code",
   "execution_count": null,
   "metadata": {
    "slideshow": {
     "slide_type": "fragment"
    }
   },
   "outputs": [],
   "source": [
    "#Pkg.add(\"PyCall\") # add python binding package\n",
    "\n",
    "using PyCall \n",
    "@pyimport math\n",
    "math.sin(math.pi / 4) - sin(pi / 4) # python - julia = 0"
   ]
  },
  {
   "cell_type": "markdown",
   "metadata": {
    "slideshow": {
     "slide_type": "slide"
    }
   },
   "source": [
    "### Macros: code that transforms code"
   ]
  },
  {
   "cell_type": "code",
   "execution_count": null,
   "metadata": {
    "slideshow": {
     "slide_type": "fragment"
    }
   },
   "outputs": [],
   "source": [
    "# @time macro inserts timing and memory profiling into expression, then evaluates, and prints\n",
    "@time f(2//3)"
   ]
  },
  {
   "cell_type": "code",
   "execution_count": null,
   "metadata": {
    "slideshow": {
     "slide_type": "fragment"
    }
   },
   "outputs": [],
   "source": [
    "# @which macro determines which function is called, provides link to source code on GitHub\n",
    "@which exp(π)"
   ]
  },
  {
   "cell_type": "code",
   "execution_count": null,
   "metadata": {
    "slideshow": {
     "slide_type": "fragment"
    }
   },
   "outputs": [],
   "source": [
    "@which exp(π*im)"
   ]
  },
  {
   "cell_type": "markdown",
   "metadata": {
    "slideshow": {
     "slide_type": "slide"
    }
   },
   "source": [
    "Macros enable run-time code generation and transformation. \n",
    "\n",
    "Applications :\n",
    "\n",
    "  * generation and execution of boilerplate code\n",
    "  * run-time generation and optimization of algorithms, e.g. FFTW, ATLAS\n",
    "  * symbolic mathematics, automatic differentiation\n",
    "  * *all written like high-level Python, running like compiled C !!!*"
   ]
  },
  {
   "cell_type": "markdown",
   "metadata": {
    "slideshow": {
     "slide_type": "slide"
    }
   },
   "source": [
    "## Parallelism in Julia: just change the array type\n",
    "\n",
    "Some very trivial examples of Julia's built-in parallelism"
   ]
  },
  {
   "cell_type": "code",
   "execution_count": null,
   "metadata": {
    "slideshow": {
     "slide_type": "fragment"
    }
   },
   "outputs": [],
   "source": [
    "using Distributed\n",
    "Pkg.add(\"DistributedArrays\")\n",
    "\n",
    "addprocs(2)"
   ]
  },
  {
   "cell_type": "code",
   "execution_count": null,
   "metadata": {
    "slideshow": {
     "slide_type": "fragment"
    }
   },
   "outputs": [],
   "source": [
    "; cat codes/count_heads.jl"
   ]
  },
  {
   "cell_type": "code",
   "execution_count": null,
   "metadata": {
    "slideshow": {
     "slide_type": "fragment"
    }
   },
   "outputs": [],
   "source": [
    "@everywhere include(\"codes/count_heads.jl\")\n",
    "\n",
    "a = @spawn count_heads(10000000)\n",
    "b = @spawn count_heads(10000000)\n",
    "fetch(a)+fetch(b)"
   ]
  },
  {
   "cell_type": "markdown",
   "metadata": {
    "slideshow": {
     "slide_type": "slide"
    }
   },
   "source": [
    "### Parallel loops with reduction"
   ]
  },
  {
   "cell_type": "code",
   "execution_count": null,
   "metadata": {
    "slideshow": {
     "slide_type": "fragment"
    }
   },
   "outputs": [],
   "source": [
    "nheads = @distributed (+) for i=1:200000000\n",
    "  Int(rand(Bool))\n",
    "end"
   ]
  },
  {
   "cell_type": "markdown",
   "metadata": {
    "slideshow": {
     "slide_type": "fragment"
    }
   },
   "source": [
    "And more :\n",
    "- Distributed arrays\n",
    "- GPUArrays\n",
    "- TPUArrays ...\n",
    "\n",
    "Just changing the behavior of the underlying structure can bring new hardware support for all packages"
   ]
  },
  {
   "cell_type": "markdown",
   "metadata": {
    "slideshow": {
     "slide_type": "slide"
    }
   },
   "source": [
    "# Helpful materials\n",
    "\n",
    "- Main site https://julialang.org/\n",
    "- Docs https://docs.julialang.org/en/v1/\n",
    "- Forum https://discourse.julialang.org/\n",
    "- Book https://benlauwens.github.io/ThinkJulia.jl/latest/book.html\n",
    "- Blog http://www.stochasticlifestyle.com/\n",
    "- All-in-one package : https://juliacomputing.com/products/juliapro.html\n",
    "- Try online (not yet 1.0) : https://juliabox.com/\n",
    "\n",
    "<center> <img src=\"https://imgs.xkcd.com/comics/wisdom_of_the_ancients.png\"></center>"
   ]
  },
  {
   "cell_type": "markdown",
   "metadata": {
    "slideshow": {
     "slide_type": "slide"
    }
   },
   "source": [
    "# Code as a first-class citizen product of research\n",
    "\n",
    "- The (new version) Julia package manager has reproductibility at its core (each code project is linked to a deterministic set of dependencies)\n",
    "- Creating a Julia package comes with tools for documentation, unit testing, continuous integration\n",
    "- New scientific collaborations can be based on software (see the Github organizations such as JuliaDiff, JuliaStats, etc...)\n",
    "\n"
   ]
  },
  {
   "cell_type": "markdown",
   "metadata": {
    "slideshow": {
     "slide_type": "slide"
    }
   },
   "source": [
    "# Food for thoughts\n",
    "\n",
    "- Cost and open source\n",
    "    - Matlab licences cost 12000€ each year to the lab \n",
    "    - Julia (and Python and R) come for free but development is not free\n",
    "    - A part of Matlab costs could go to financing open source software that is critical for science (see e.g. https://bitbucket.org/paugier/etude-asso-pynumfr/src/default/etude_asso_python_sciences_fr.rst?fileviewer=file-view-default)\n",
    "- The combo C(++) low-level libraries and high level bindings (as Tensorflow, Keras...) lead to black box workflows..."
   ]
  },
  {
   "cell_type": "markdown",
   "metadata": {
    "slideshow": {
     "slide_type": "slide"
    }
   },
   "source": [
    "# Conclusions\n",
    "\n",
    "Julia\n",
    "* **Easy as Matlab, fast as Fortran, flexible as Python, deep as Lisp**\n",
    "*  Scientific computing, from interactive exploration to HPC\n",
    "*  Paradigms (multiple dispatch) that enforce collaboration\n",
    "\n",
    "Not covered\n",
    "* large-scale programming, development ecosystem, environments, debuggers, etc.\n",
    "* Abstract Types, compositions, ...\n",
    "* rough edges: plotting, static compilation  (not quite there), package loading times, young 1.0\n",
    "\n",
    "*Thanks* : the Julia communityfor most of the examples, xkcd\n",
    "\n",
    "  \n",
    "Julia website: http://www.julialang.org, this talk: https://github.com/raphbacher/julia-intro\n"
   ]
  }
 ],
 "metadata": {
  "celltoolbar": "Slideshow",
  "kernelspec": {
   "display_name": "Julia 1.0.0",
   "language": "julia",
   "name": "julia-1.0"
  },
  "language_info": {
   "file_extension": ".jl",
   "mimetype": "application/julia",
   "name": "julia",
   "version": "1.0.0"
  },
  "rise": {
   "scroll": true
  }
 },
 "nbformat": 4,
 "nbformat_minor": 2
}
