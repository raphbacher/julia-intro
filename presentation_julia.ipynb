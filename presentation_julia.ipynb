{
 "cells": [
  {
   "cell_type": "markdown",
   "metadata": {
    "slideshow": {
     "slide_type": "slide"
    }
   },
   "source": [
    "## You don't know what to choose between Matlab and Python :\n",
    "\n",
    "# try Julia !\n",
    "\n",
    "\n"
   ]
  },
  {
   "cell_type": "markdown",
   "metadata": {
    "slideshow": {
     "slide_type": "slide"
    }
   },
   "source": [
    "# Science and the two languages problem\n",
    "\n",
    "Scientists need to easily explore new ideas :\n",
    "\n",
    "- Need for mathematical abstractions\n",
    "- Need for customizations (avoid black boxes, try variations)\n",
    "\n",
    "- But also need for performance (intrinsic goal or to allow re-use)\n",
    "\n",
    "What is done now :\n",
    "\n",
    "1) Prototyping in R/Python/Matlab\n",
    "\n",
    "2) Rewriting whole or parts (if money/man power) to a performant low-level language as C/Fortran\n"
   ]
  },
  {
   "cell_type": "markdown",
   "metadata": {
    "slideshow": {
     "slide_type": "slide"
    }
   },
   "source": [
    "# What is Julia\n",
    "\n",
    "- A generalist programming language with scientific computing at its core\n",
    "- Developed at MIT since 2009, first beta public release in 2012, 1.0 release in August 2018\n",
    "- Used by the NY Fed Bank, first dynamic language to access the Petaflots range (Celeste Project)\n",
    "- 2 millions downloads\n",
    "- State of the art packages in Optimization (JUMP), Differential Equations (DifEq), ... Well positioned for ML (Flux, Knet, autodiff...)\n",
    "\n",
    "**Its goal : Solve the languages problem by having a dynamic, high level language with good mathematical expressivity able to be as fast as C/Fortran.**"
   ]
  },
  {
   "cell_type": "markdown",
   "metadata": {
    "slideshow": {
     "slide_type": "slide"
    }
   },
   "source": [
    "# Look & feel\n",
    "\n"
   ]
  },
  {
   "cell_type": "code",
   "execution_count": null,
   "metadata": {
    "slideshow": {
     "slide_type": "fragment"
    }
   },
   "outputs": [],
   "source": [
    "A = []"
   ]
  }
 ],
 "metadata": {
  "celltoolbar": "Slideshow",
  "kernelspec": {
   "display_name": "Julia 1.0.0",
   "language": "julia",
   "name": "julia-1.0"
  },
  "language_info": {
   "file_extension": ".jl",
   "mimetype": "application/julia",
   "name": "julia",
   "version": "1.0.0"
  }
 },
 "nbformat": 4,
 "nbformat_minor": 2
}
