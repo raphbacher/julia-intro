{
 "cells": [
  {
   "cell_type": "markdown",
   "metadata": {
    "slideshow": {
     "slide_type": "slide"
    }
   },
   "source": [
    "## You don't know what to choose between Matlab and Python :\n",
    "\n",
    "# Try Julia !\n",
    "\n",
    "<center><img src=\"figs/julialogo-smaller.png\"/></center>\n"
   ]
  },
  {
   "cell_type": "markdown",
   "metadata": {
    "slideshow": {
     "slide_type": "slide"
    }
   },
   "source": [
    "## Why a talk on programming language ?\n",
    "\n",
    "- [Better Software, Better Research](https://ieeexplore.ieee.org/stamp/stamp.jsp?tp=&arnumber=6886129&tag=1) (Goble, C. (2014). IEEE Internet Computing)\n",
    "\n",
    ">  Of  2,000  scientists surveyed  online, **91%** said  **using**  scientific  software  is  important  for  their own research, **84%** said **developing** scientific  software  is  important  for  their  own  research [...] and **38% spend at least one  fifth  of  their  time  developing  software**.  \n",
    "\n",
    ">   “You  can download our code from the URL supplied. Good luck downloading the only \n",
    "> postdoc who can get it to run, though” (Ian  Holmes)\n",
    "    \n",
    "- Big Data -> Big Software\n",
    "- Loi pour une république numérique (2017) $\\rightarrow$ new codes must (more or less) be open source (cf https://scinfolex.com/2017/12/08/les-logiciels-produits-par-les-administrations-sont-passes-en-open-source-par-defaut-et-voici-pourquoi/)"
   ]
  },
  {
   "cell_type": "markdown",
   "metadata": {
    "slideshow": {
     "slide_type": "slide"
    }
   },
   "source": [
    "# Play with the slides \n",
    "\n",
    "https://tinyurl.com/introjuliagipsa \n",
    "\n",
    "or https://mybinder.org/v2/gh/raphbacher/julia-intro/master?filepath=presentation_julia.ipynb\n",
    "\n",
    "Sources:\n",
    "\n",
    "https://github.com/raphbacher/julia-intro"
   ]
  },
  {
   "cell_type": "markdown",
   "metadata": {
    "slideshow": {
     "slide_type": "slide"
    }
   },
   "source": [
    "# Outline\n",
    "\n",
    "- State of the art : the two language problem\n",
    "- What is Julia\n",
    "- Why Julia is fast\n",
    "- Julia Ecosystem & interop \n",
    "- (Parallelism)"
   ]
  },
  {
   "cell_type": "markdown",
   "metadata": {
    "slideshow": {
     "slide_type": "slide"
    }
   },
   "source": [
    "## State of the art : Matlab\n",
    "\n",
    "Pros :\n",
    "- Polished product with support\n",
    "- Simulink\n",
    "- High level syntax\n",
    "\n",
    "Cons :\n",
    "- Closed : not everyone has access to it, impossible to put a demonstrator online.\n",
    "- Slow loops (better since 2015) : not everything is pretty once vectorized\n",
    "- Not fast per se (Fortran bindings), memory management is difficult\n",
    "- Not a generalist language (cumbersome to put a demo on the web e.g.)\n",
    "- Comes with a cost (e.g. ~12 000€ each year for Gipsa-lab)\n",
    "\n",
    "\n"
   ]
  },
  {
   "cell_type": "markdown",
   "metadata": {
    "slideshow": {
     "slide_type": "slide"
    }
   },
   "source": [
    "## State of the art : Python\n",
    " \n",
    "Pros :\n",
    "- Free and open-source, generalist, widly used outside scientific community\n",
    "- Lot of scientific communities are embracing it\n",
    "- Lots of efforts to make it fast (numba, ...)\n",
    "\n",
    "Cons :\n",
    "- Scientific computing is not native : \n",
    "    - all fallback to C/Fortran black-boxes -> limit flexibility \n",
    "- Object Oriented paradigm can be cumbersome for scientific code"
   ]
  },
  {
   "cell_type": "markdown",
   "metadata": {
    "slideshow": {
     "slide_type": "slide"
    }
   },
   "source": [
    "## Science and the two languages problem\n",
    "\n",
    "Scientists need to easily explore new ideas :\n",
    "\n",
    "- Need for mathematical abstractions\n",
    "- Need for customizations (avoid black boxes, try variations)\n",
    "\n",
    "- But also need for performance (intrinsic goal or to allow re-use)\n",
    "\n",
    "What is done now (when you need to go further than using existing packages, for e.g. data analysis)\n",
    "\n",
    "1) Prototyping in R/Python/Matlab\n",
    "\n",
    "2) Rewriting whole or parts (if money/man power) to a performant low-level language as C/Fortran\n"
   ]
  },
  {
   "cell_type": "markdown",
   "metadata": {
    "slideshow": {
     "slide_type": "slide"
    }
   },
   "source": [
    "# Yet another language\n",
    "\n",
    "<center><img src=\"https://imgs.xkcd.com/comics/standards.png\" style=\"width:60%\"></center>"
   ]
  },
  {
   "cell_type": "markdown",
   "metadata": {
    "slideshow": {
     "slide_type": "slide"
    }
   },
   "source": [
    "# Here comes Julia :\n",
    "\n",
    "* innovative open-source generalist programming language with scientific computing at its core\n",
    "* **easy as Matlab, fast as Fortran, flexible as Python, deep as LISP**\n",
    "* leverages (for now...) major C/Fortran science packages, e.g. LAPACK, MPI, FFTW... \n",
    "* 5th language to run at 1 petaflops (Celeste project), after assembly, Fortran, C, C++ \n",
    "* State of the art packages in Optimization (JUMP), Differential Equations (DifEq), ... Well positioned for ML (Flux, Knet, autodiff...)\n",
    "* solves the \"two-language problem\"\n"
   ]
  },
  {
   "cell_type": "markdown",
   "metadata": {
    "slideshow": {
     "slide_type": "slide"
    }
   },
   "source": [
    "# Background\n",
    "\n",
    "* origins at MIT, UCSB applied math & computer science, 2010     \n",
    "* founders Viral Shah, Jeff Bezanson, Stefan Karpinsky (now at Julia Computing LLC), Alan Edelman (MIT)\n",
    "* ~10-person core language team, ~600 contributors, ~1500 registered packages \n",
    "* support from Intel, Microsoft, Wall St., Moore Foundation, NumFocus\n",
    "* julia-0.1 released in 2012, julia-1.0 in August 2018\n",
    "\n",
    "\n",
    "**Its goal : Solve the languages problem by having a dynamic, high level language with good mathematical expressivity able to be as fast as C/Fortran.**"
   ]
  },
  {
   "cell_type": "markdown",
   "metadata": {
    "slideshow": {
     "slide_type": "slide"
    }
   },
   "source": [
    "# Disclaimer\n",
    "\n",
    "- I am not a Julia expert : I've been following the language for ~ one year and started porting Python codes a few months ago.\n",
    "- Julia (like Python...) is not a drop-in replacement for Matlab, it is an alternative.\n",
    "- Don't fix that ain't broken : \n",
    "    - if Matlab/R/Python/C is good for you, no need to change\n",
    "    - but if you are sometimes faced with some limitations of these languages, give Julia a try"
   ]
  },
  {
   "cell_type": "markdown",
   "metadata": {
    "slideshow": {
     "slide_type": "slide"
    }
   },
   "source": [
    "# Julia: expressive as Matlab\n",
    "\n",
    "Julia can as expressive as Matlab for interactive calculations with built-in numerical libraries and plotting. A few examples...\n",
    "\n",
    "### Arrays"
   ]
  },
  {
   "cell_type": "code",
   "execution_count": 1,
   "metadata": {
    "slideshow": {
     "slide_type": "fragment"
    }
   },
   "outputs": [
    {
     "data": {
      "text/plain": [
       "4×4 Array{Float64,2}:\n",
       "  0.216412   1.22074   -0.905396  -0.061066 \n",
       "  0.85081    0.970079  -0.74118   -0.73516  \n",
       " -1.338      0.278458   0.963791  -1.40705  \n",
       " -1.28098   -0.525807  -0.530015  -0.0215791"
      ]
     },
     "execution_count": 1,
     "metadata": {},
     "output_type": "execute_result"
    }
   ],
   "source": [
    "using LinearAlgebra\n",
    "A = randn(4,4)       # 4 x 4 matrix of normally distributed random numbers"
   ]
  },
  {
   "cell_type": "code",
   "execution_count": 2,
   "metadata": {
    "slideshow": {
     "slide_type": "fragment"
    }
   },
   "outputs": [
    {
     "data": {
      "text/plain": [
       "4-element Array{Float64,1}:\n",
       "  0.21641152116533957\n",
       "  0.8508104976942702 \n",
       " -1.3380030742379299 \n",
       " -1.2809775828716725 "
      ]
     },
     "execution_count": 2,
     "metadata": {},
     "output_type": "execute_result"
    }
   ],
   "source": [
    "A[:,1]                # familiar colon syntax --extract first column of A"
   ]
  },
  {
   "cell_type": "markdown",
   "metadata": {
    "slideshow": {
     "slide_type": "slide"
    }
   },
   "source": [
    "## Linear Algebra"
   ]
  },
  {
   "cell_type": "code",
   "execution_count": 3,
   "metadata": {
    "slideshow": {
     "slide_type": "fragment"
    }
   },
   "outputs": [
    {
     "data": {
      "text/plain": [
       "5.551115123125783e-17"
      ]
     },
     "execution_count": 3,
     "metadata": {},
     "output_type": "execute_result"
    }
   ],
   "source": [
    "b = randn(4)          \n",
    "x = A\\b               # solve Ax=b for x using backslash operator\n",
    "norm(A*x-b)"
   ]
  },
  {
   "cell_type": "code",
   "execution_count": 4,
   "metadata": {
    "slideshow": {
     "slide_type": "fragment"
    }
   },
   "outputs": [],
   "source": [
    "U, σ, V = svd(A);     # singular value decomposition --note unicode variable name σ"
   ]
  },
  {
   "cell_type": "code",
   "execution_count": 5,
   "metadata": {
    "slideshow": {
     "slide_type": "fragment"
    }
   },
   "outputs": [
    {
     "data": {
      "text/plain": [
       "3.3325424098010424e-15"
      ]
     },
     "execution_count": 5,
     "metadata": {},
     "output_type": "execute_result"
    }
   ],
   "source": [
    "Σ = diagm(0 => σ)\n",
    "norm(A - U*Σ*V')      # compute error of SVD factorization A = U Σ V'"
   ]
  },
  {
   "cell_type": "markdown",
   "metadata": {
    "slideshow": {
     "slide_type": "slide"
    }
   },
   "source": [
    "# Fast as Fortran\n"
   ]
  },
  {
   "cell_type": "code",
   "execution_count": 6,
   "metadata": {
    "slideshow": {
     "slide_type": "fragment"
    }
   },
   "outputs": [
    {
     "name": "stdout",
     "output_type": "stream",
     "text": [
      "  0.007545 seconds (12.26 k allocations: 679.173 KiB)\n",
      "  0.000002 seconds (4 allocations: 160 bytes)\n"
     ]
    }
   ],
   "source": [
    "function loop()\n",
    "    a=0 \n",
    "    for i in 1:1_000_000\n",
    "        a+=1;\n",
    "    end\n",
    "end\n",
    "@time loop() # compile time\n",
    "@time loop() # now fast"
   ]
  },
  {
   "cell_type": "markdown",
   "metadata": {
    "slideshow": {
     "slide_type": "slide"
    }
   },
   "source": [
    "## Compare with Matlab (R2018) \n",
    "\n",
    "    function [] = loop()\n",
    "        a=0;\n",
    "        for i=1:1000000\n",
    "            a=i+1;\n",
    "        end\n",
    "    end\n",
    "    \n",
    "    f = @() loop();\n",
    "    \n",
    "    timeit(f) => 0.0018s\n",
    "\n",
    "**2000x slower !**"
   ]
  },
  {
   "cell_type": "markdown",
   "metadata": {
    "slideshow": {
     "slide_type": "slide"
    }
   },
   "source": [
    "### Benchmarks on common code pattterns\n",
    "\n",
    "Takeaway: Julia timings are clustered around C timing, Matlab/Python/R orders of magnitude slower.\n",
    "\n",
    "<center><img src=\"figs/benchmarks.png\"/></center>"
   ]
  },
  {
   "cell_type": "markdown",
   "metadata": {
    "slideshow": {
     "slide_type": "slide"
    }
   },
   "source": [
    "### KS-CNAB2 benchmark: CPU time of identical algorithm in six languages. \n",
    "\n",
    "Takeaway: Julia is nearly as fast as C and Fortran, within a few percent. Codes: [ks.py](https://github.com/johnfgibson/whyjulia/tree/master/ks-codes/ksbenchmark.py#48)\n",
    " [ks.m](https://github.com/johnfgibson/whyjulia/tree/master/ks-codes/ksbenchmark.m#46) \n",
    " [ks.jl](https://github.com/johnfgibson/whyjulia/tree/master/ks-codes/ksbenchmark.jl#L129) [ks.c](https://github.com/johnfgibson/whyjulia/tree/master/ks-codes/ksbenchmark.c#L82) [ks.cpp](https://github.com/johnfgibson/whyjulia/tree/master/ks-codes/ksbenchmark.cpp#L87) [ks.f90](https://github.com/johnfgibson/whyjulia/tree/master/ks-codes/ksbenchmark.f90#L84) \n",
    "\n",
    "<center><img src=\"figs/ks_cpu_scaling.png\"/></center>"
   ]
  },
  {
   "cell_type": "markdown",
   "metadata": {
    "slideshow": {
     "slide_type": "slide"
    }
   },
   "source": [
    "### KS-CNAB2 benchmark: CPU time versus lines of code \n",
    "\n",
    "Takeaway: The Julia PDE code is almost as compact as Matlab/Python, almost as fast as C/Fortran.\n",
    "<center><img src=\"figs/ks_cpu_vs_lines_1024.png\"/></center>\n"
   ]
  },
  {
   "cell_type": "markdown",
   "metadata": {
    "slideshow": {
     "slide_type": "slide"
    }
   },
   "source": [
    "## Julia: easy, dynamic, and fast. How? \n",
    "\n",
    "\n",
    " * **Just-in-time compilation** (JIT)\n",
    "    - user-level code is compiled to machine code on-the-fly  \n",
    "    \n",
    "    \n",
    " * **Meticulous type system**\n",
    "    - designed to maximize impact of JIT\n",
    "    - type inference: compiler determines types of variables\n",
    "    \n",
    "    \n",
    " * **Multiple dispatch**\n",
    "    - functions are compiled for each set of argument types\n",
    "    - function dispatch determined at compile time when possible, run time when not\n",
    " \n",
    "\n",
    "### Just-in-time compilation\n",
    "\n",
    "Functions are compiled to machine code when first run. Subsequent runs are as fast as compiled C, C++, Fortran.\n"
   ]
  },
  {
   "cell_type": "markdown",
   "metadata": {
    "slideshow": {
     "slide_type": "slide"
    }
   },
   "source": [
    "# Caveats\n",
    "\n",
    "- It's a marathon not a sprint : Julia can be slow at first\n",
    "- It's an open-source language with lots of good willing contributors, it's not a product (see JuliaPro...)\n",
    "- If you directly translate from Matlab to Julia you will not always see an improvement, you have exploit Julia strengths (loops to avoid allocations, type stability, ...)"
   ]
  },
  {
   "cell_type": "markdown",
   "metadata": {
    "slideshow": {
     "slide_type": "slide"
    }
   },
   "source": [
    "# A julia type\n",
    "\n",
    "Like a Python object but without methods\n",
    "\n",
    "```julia\n",
    "struct Spaceship\n",
    "           speed::Float64\n",
    "           Position::Array{Float64,2}\n",
    "   end\n",
    "```\n",
    "\n",
    "## Multiple dispatch\n",
    "\n",
    "```julia\n",
    "collide(a::Asteroid, s::Spaceship) # a first method of the function collide\n",
    "collide(s1::Spaceship, s2::Spaceship) # another method of the function collide\n",
    "```"
   ]
  },
  {
   "cell_type": "markdown",
   "metadata": {
    "slideshow": {
     "slide_type": "slide"
    }
   },
   "source": [
    "#### Logistic map example \n",
    "$$f(x) = 4\\, x\\, (1-x)$$"
   ]
  },
  {
   "cell_type": "code",
   "execution_count": 7,
   "metadata": {
    "slideshow": {
     "slide_type": "fragment"
    }
   },
   "outputs": [
    {
     "name": "stdout",
     "output_type": "stream",
     "text": [
      "  0.012148 seconds (15.87 k allocations: 883.537 KiB)\n",
      "  0.000003 seconds (5 allocations: 176 bytes)\n"
     ]
    }
   ],
   "source": [
    "f(x) = 4x*(1-x)     # define logistic map\n",
    "@time f(0.3);       # first run is slow\n",
    "@time f(0.4);       # second run is a thousand times faster"
   ]
  },
  {
   "cell_type": "markdown",
   "metadata": {
    "slideshow": {
     "slide_type": "slide"
    }
   },
   "source": [
    "#### Observe the compilation of $f(x)$ by stages\n",
    "\n",
    "user Julia -> generic Julia expression -> typed Julia expression -> intermediate compiler language -> machine code"
   ]
  },
  {
   "cell_type": "code",
   "execution_count": 8,
   "metadata": {
    "slideshow": {
     "slide_type": "fragment"
    }
   },
   "outputs": [],
   "source": [
    "include(\"macros.jl\");"
   ]
  },
  {
   "cell_type": "code",
   "execution_count": 9,
   "metadata": {
    "slideshow": {
     "slide_type": "fragment"
    }
   },
   "outputs": [
    {
     "data": {
      "text/plain": [
       "CodeInfo(\n",
       "\u001b[90m\u001b[77G│\u001b[1G\u001b[39m\u001b[90m1 \u001b[39m1 ─ %1 = 4 * x\n",
       "\u001b[90m\u001b[77G│\u001b[1G\u001b[39m\u001b[90m  \u001b[39m│   %2 = 1 - x\n",
       "\u001b[90m\u001b[77G│\u001b[1G\u001b[39m\u001b[90m  \u001b[39m│   %3 = %1 * %2\n",
       "\u001b[90m\u001b[77G│\u001b[1G\u001b[39m\u001b[90m  \u001b[39m└──      return %3\n",
       ")"
      ]
     },
     "execution_count": 9,
     "metadata": {},
     "output_type": "execute_result"
    }
   ],
   "source": [
    "@code_lowered f(0.3)  # show f(x) as generic Julia expression"
   ]
  },
  {
   "cell_type": "code",
   "execution_count": 10,
   "metadata": {
    "slideshow": {
     "slide_type": "fragment"
    }
   },
   "outputs": [
    {
     "data": {
      "text/plain": [
       "CodeInfo(\n",
       "\u001b[90m\u001b[72G│╻╷ *\u001b[1G\u001b[39m\u001b[90m1 \u001b[39m1 ─ %1 = (Base.mul_float)(4.0, x)\u001b[36m::Float64\u001b[39m\n",
       "\u001b[90m\u001b[72G││╻  -\u001b[1G\u001b[39m\u001b[90m  \u001b[39m│   %2 = (Base.sub_float)(1.0, x)\u001b[36m::Float64\u001b[39m\n",
       "\u001b[90m\u001b[72G│╻  *\u001b[1G\u001b[39m\u001b[90m  \u001b[39m│   %3 = (Base.mul_float)(%1, %2)\u001b[36m::Float64\u001b[39m\n",
       "\u001b[90m\u001b[72G│  \u001b[1G\u001b[39m\u001b[90m  \u001b[39m└──      return %3\n",
       ") => Float64"
      ]
     },
     "execution_count": 10,
     "metadata": {},
     "output_type": "execute_result"
    }
   ],
   "source": [
    "@code_typed f(0.3)    # show f(x) as Julia expr with inferred types, based on the arg types"
   ]
  },
  {
   "cell_type": "markdown",
   "metadata": {
    "slideshow": {
     "slide_type": "slide"
    }
   },
   "source": [
    "## Type inference and dispatch\n",
    "\n",
    "We can see that if we call f on an Integer we get a code specialised for integer (i64)"
   ]
  },
  {
   "cell_type": "code",
   "execution_count": 11,
   "metadata": {
    "slideshow": {
     "slide_type": "fragment"
    }
   },
   "outputs": [
    {
     "name": "stdout",
     "output_type": "stream",
     "text": [
      "\n",
      "define double @julia_f_35851(double) {\n",
      "top:\n",
      "  %1 = fmul double %0, 4.000000e+00\n",
      "  %2 = fsub double 1.000000e+00, %0\n",
      "  %3 = fmul double %1, %2\n",
      "  ret double %3\n",
      "}\n"
     ]
    }
   ],
   "source": [
    "@code_llvm_nocomment f(0.3)    # show f(x) in intermediate compiler language (LLVM)"
   ]
  },
  {
   "cell_type": "code",
   "execution_count": 12,
   "metadata": {
    "slideshow": {
     "slide_type": "fragment"
    }
   },
   "outputs": [
    {
     "name": "stdout",
     "output_type": "stream",
     "text": [
      "\t.text\n",
      "\tmovabsq\t$140509330717144, %rax  # imm = 0x7FCAE0BEB9D8\n",
      "\tvmulsd\t(%rax), %xmm0, %xmm1\n",
      "\tmovabsq\t$140509330717152, %rax  # imm = 0x7FCAE0BEB9E0\n",
      "\tvmovsd\t(%rax), %xmm2           # xmm2 = mem[0],zero\n",
      "\tvsubsd\t%xmm0, %xmm2, %xmm0\n",
      "\tvmulsd\t%xmm0, %xmm1, %xmm0\n",
      "\tretq\n",
      "\tnopw\t%cs:(%rax,%rax)\n"
     ]
    }
   ],
   "source": [
    "@code_native_nocomment f(0.3) # show f(x) in IA-64 assembly language"
   ]
  },
  {
   "cell_type": "code",
   "execution_count": 11,
   "metadata": {
    "slideshow": {
     "slide_type": "slide"
    }
   },
   "outputs": [
    {
     "name": "stdout",
     "output_type": "stream",
     "text": [
      "\n",
      "define double @julia_f_35851(double) {\n",
      "top:\n",
      "  %1 = fmul double %0, 4.000000e+00\n",
      "  %2 = fsub double 1.000000e+00, %0\n",
      "  %3 = fmul double %1, %2\n",
      "  ret double %3\n",
      "}\n"
     ]
    }
   ],
   "source": [
    "@code_llvm_nocomment f(0.3)    # show f(x) in intermediate compiler language (LLVM)"
   ]
  },
  {
   "cell_type": "code",
   "execution_count": 13,
   "metadata": {
    "slideshow": {
     "slide_type": "fragment"
    }
   },
   "outputs": [
    {
     "name": "stdout",
     "output_type": "stream",
     "text": [
      "\n",
      "define i64 @julia_f_36001(i64) {\n",
      "top:\n",
      "  %1 = shl i64 %0, 2\n",
      "  %2 = sub i64 1, %0\n",
      "  %3 = mul i64 %1, %2\n",
      "  ret i64 %3\n",
      "}\n"
     ]
    }
   ],
   "source": [
    "@code_llvm_nocomment f(3)    # show f(x) in intermediate compiler language (LLVM)"
   ]
  },
  {
   "cell_type": "markdown",
   "metadata": {
    "slideshow": {
     "slide_type": "slide"
    }
   },
   "source": [
    "# Type stability\n",
    "\n",
    "No need to declare type but need to be type stable..."
   ]
  },
  {
   "cell_type": "code",
   "execution_count": 14,
   "metadata": {
    "scrolled": false,
    "slideshow": {
     "slide_type": "slide"
    }
   },
   "outputs": [
    {
     "name": "stdout",
     "output_type": "stream",
     "text": [
      "Body\u001b[36m::Nothing\u001b[39m\n",
      "\u001b[90m\u001b[55G│╻╷╷╷╷ Colon\u001b[1G\u001b[39m\u001b[90m3 \u001b[39m1 ── %1  = (Base.sle_int)(1, n)\u001b[36m::Bool\u001b[39m\n",
      "\u001b[90m\u001b[55G││╻     Type\u001b[1G\u001b[39m\u001b[90m  \u001b[39m│          (Base.sub_int)(n, 1)\n",
      "\u001b[90m\u001b[55G│││┃     unitrange_last\u001b[1G\u001b[39m\u001b[90m  \u001b[39m│    %3  = (Base.ifelse)(%1, n, 0)\u001b[36m::Int64\u001b[39m\n",
      "\u001b[90m\u001b[55G││╻╷╷   isempty\u001b[1G\u001b[39m\u001b[90m  \u001b[39m│    %4  = (Base.slt_int)(%3, 1)\u001b[36m::Bool\u001b[39m\n",
      "\u001b[90m\u001b[55G││    \u001b[1G\u001b[39m\u001b[90m  \u001b[39m└───       goto #3 if not %4\n",
      "\u001b[90m\u001b[55G││    \u001b[1G\u001b[39m\u001b[90m  \u001b[39m2 ──       goto #4\n",
      "\u001b[90m\u001b[55G││    \u001b[1G\u001b[39m\u001b[90m  \u001b[39m3 ──       goto #4\n",
      "\u001b[90m\u001b[55G│     \u001b[1G\u001b[39m\u001b[90m  \u001b[39m4 ┄─ %8  = φ (#2 => true, #3 => false)\u001b[36m::Bool\u001b[39m\n",
      "\u001b[90m\u001b[55G│     \u001b[1G\u001b[39m\u001b[90m  \u001b[39m│    %9  = φ (#3 => 1)\u001b[36m::Int64\u001b[39m\n",
      "\u001b[90m\u001b[55G│     \u001b[1G\u001b[39m\u001b[90m  \u001b[39m│    %10 = (Base.not_int)(%8)\u001b[36m::Bool\u001b[39m\n",
      "\u001b[90m\u001b[55G│     \u001b[1G\u001b[39m\u001b[90m  \u001b[39m└───       goto #15 if not %10\n",
      "\u001b[90m\u001b[55G│     \u001b[1G\u001b[39m\u001b[90m  \u001b[39m5 ┄─ %12 = φ (#4 => 0, #14 => %27)\u001b[91m\u001b[1m::Union{Float64, Int64}\u001b[22m\u001b[39m\n",
      "\u001b[90m\u001b[55G│     \u001b[1G\u001b[39m\u001b[90m  \u001b[39m│    %13 = φ (#4 => %9, #14 => %33)\u001b[36m::Int64\u001b[39m\n",
      "\u001b[90m\u001b[55G│     \u001b[1G\u001b[39m\u001b[90m4 \u001b[39m│    %14 = (isa)(%12, Float64)\u001b[36m::Bool\u001b[39m\n",
      "\u001b[90m\u001b[55G│     \u001b[1G\u001b[39m\u001b[90m  \u001b[39m└───       goto #7 if not %14\n",
      "\u001b[90m\u001b[55G│     \u001b[1G\u001b[39m\u001b[90m  \u001b[39m6 ── %16 = π (%12, \u001b[36mFloat64\u001b[39m)\n",
      "\u001b[90m\u001b[55G│╻     +\u001b[1G\u001b[39m\u001b[90m  \u001b[39m│    %17 = (Base.add_float)(%16, a)\u001b[36m::Float64\u001b[39m\n",
      "\u001b[90m\u001b[55G│     \u001b[1G\u001b[39m\u001b[90m  \u001b[39m└───       goto #10\n",
      "\u001b[90m\u001b[55G│     \u001b[1G\u001b[39m\u001b[90m  \u001b[39m7 ── %19 = (isa)(%12, Int64)\u001b[36m::Bool\u001b[39m\n",
      "\u001b[90m\u001b[55G│     \u001b[1G\u001b[39m\u001b[90m  \u001b[39m└───       goto #9 if not %19\n",
      "\u001b[90m\u001b[55G│     \u001b[1G\u001b[39m\u001b[90m  \u001b[39m8 ── %21 = π (%12, \u001b[36mInt64\u001b[39m)\n",
      "\u001b[90m\u001b[55G││╻╷╷╷  promote\u001b[1G\u001b[39m\u001b[90m  \u001b[39m│    %22 = (Base.sitofp)(Float64, %21)\u001b[36m::Float64\u001b[39m\n",
      "\u001b[90m\u001b[55G││╻     +\u001b[1G\u001b[39m\u001b[90m  \u001b[39m│    %23 = (Base.add_float)(%22, a)\u001b[36m::Float64\u001b[39m\n",
      "\u001b[90m\u001b[55G│     \u001b[1G\u001b[39m\u001b[90m  \u001b[39m└───       goto #10\n",
      "\u001b[90m\u001b[55G│     \u001b[1G\u001b[39m\u001b[90m  \u001b[39m9 ──       (Core.throw)(ErrorException(\"fatal error in type inference (type bound)\"))\n",
      "\u001b[90m\u001b[55G│     \u001b[1G\u001b[39m\u001b[90m  \u001b[39m└───       $(Expr(:unreachable))\n",
      "\u001b[90m\u001b[55G│     \u001b[1G\u001b[39m\u001b[90m  \u001b[39m10 ┄ %27 = φ (#6 => %17, #8 => %23)\u001b[36m::Float64\u001b[39m\n",
      "\u001b[90m\u001b[55G││╻     ==\u001b[1G\u001b[39m\u001b[90m  \u001b[39m│    %28 = (%13 === %3)\u001b[36m::Bool\u001b[39m\n",
      "\u001b[90m\u001b[55G││    \u001b[1G\u001b[39m\u001b[90m  \u001b[39m└───       goto #12 if not %28\n",
      "\u001b[90m\u001b[55G││    \u001b[1G\u001b[39m\u001b[90m  \u001b[39m11 ─       goto #13\n",
      "\u001b[90m\u001b[55G││╻     +\u001b[1G\u001b[39m\u001b[90m  \u001b[39m12 ─ %31 = (Base.add_int)(%13, 1)\u001b[36m::Int64\u001b[39m\n",
      "\u001b[90m\u001b[55G│╻     iterate\u001b[1G\u001b[39m\u001b[90m  \u001b[39m└───       goto #13\n",
      "\u001b[90m\u001b[55G│     \u001b[1G\u001b[39m\u001b[90m  \u001b[39m13 ┄ %33 = φ (#12 => %31)\u001b[36m::Int64\u001b[39m\n",
      "\u001b[90m\u001b[55G│     \u001b[1G\u001b[39m\u001b[90m  \u001b[39m│    %34 = φ (#11 => true, #12 => false)\u001b[36m::Bool\u001b[39m\n",
      "\u001b[90m\u001b[55G│     \u001b[1G\u001b[39m\u001b[90m  \u001b[39m│    %35 = (Base.not_int)(%34)\u001b[36m::Bool\u001b[39m\n",
      "\u001b[90m\u001b[55G│     \u001b[1G\u001b[39m\u001b[90m  \u001b[39m└───       goto #15 if not %35\n",
      "\u001b[90m\u001b[55G│     \u001b[1G\u001b[39m\u001b[90m  \u001b[39m14 ─       goto #5\n",
      "\u001b[90m\u001b[55G│     \u001b[1G\u001b[39m\u001b[90m  \u001b[39m15 ─       return\n"
     ]
    }
   ],
   "source": [
    "function g1(a,n)\n",
    "  x = 0\n",
    "  for i in 1:n\n",
    "    x += a\n",
    "  end\n",
    "end\n",
    "\n",
    "@code_warntype g1(2.0,10) # see the Union{Float64, Int64}\n",
    "# @code_llvm_nocomment g1(2.0,10)"
   ]
  },
  {
   "cell_type": "code",
   "execution_count": 15,
   "metadata": {
    "slideshow": {
     "slide_type": "slide"
    }
   },
   "outputs": [
    {
     "name": "stdout",
     "output_type": "stream",
     "text": [
      "Body\u001b[36m::Nothing\u001b[39m\n",
      "\u001b[90m\u001b[55G│╻╷╷╷╷ Colon\u001b[1G\u001b[39m\u001b[90m3 \u001b[39m1 ── %1  = (Base.sle_int)(1, n)\u001b[36m::Bool\u001b[39m\n",
      "\u001b[90m\u001b[55G││╻     Type\u001b[1G\u001b[39m\u001b[90m  \u001b[39m│          (Base.sub_int)(n, 1)\n",
      "\u001b[90m\u001b[55G│││┃     unitrange_last\u001b[1G\u001b[39m\u001b[90m  \u001b[39m│    %3  = (Base.ifelse)(%1, n, 0)\u001b[36m::Int64\u001b[39m\n",
      "\u001b[90m\u001b[55G││╻╷╷   isempty\u001b[1G\u001b[39m\u001b[90m  \u001b[39m│    %4  = (Base.slt_int)(%3, 1)\u001b[36m::Bool\u001b[39m\n",
      "\u001b[90m\u001b[55G││    \u001b[1G\u001b[39m\u001b[90m  \u001b[39m└───       goto #3 if not %4\n",
      "\u001b[90m\u001b[55G││    \u001b[1G\u001b[39m\u001b[90m  \u001b[39m2 ──       goto #4\n",
      "\u001b[90m\u001b[55G││    \u001b[1G\u001b[39m\u001b[90m  \u001b[39m3 ──       goto #4\n",
      "\u001b[90m\u001b[55G│     \u001b[1G\u001b[39m\u001b[90m  \u001b[39m4 ┄─ %8  = φ (#2 => true, #3 => false)\u001b[36m::Bool\u001b[39m\n",
      "\u001b[90m\u001b[55G│     \u001b[1G\u001b[39m\u001b[90m  \u001b[39m│    %9  = φ (#3 => 1)\u001b[36m::Int64\u001b[39m\n",
      "\u001b[90m\u001b[55G│     \u001b[1G\u001b[39m\u001b[90m  \u001b[39m│    %10 = (Base.not_int)(%8)\u001b[36m::Bool\u001b[39m\n",
      "\u001b[90m\u001b[55G│     \u001b[1G\u001b[39m\u001b[90m  \u001b[39m└───       goto #10 if not %10\n",
      "\u001b[90m\u001b[55G│     \u001b[1G\u001b[39m\u001b[90m  \u001b[39m5 ┄─ %12 = φ (#4 => 0.0, #9 => %14)\u001b[36m::Float64\u001b[39m\n",
      "\u001b[90m\u001b[55G│     \u001b[1G\u001b[39m\u001b[90m  \u001b[39m│    %13 = φ (#4 => %9, #9 => %20)\u001b[36m::Int64\u001b[39m\n",
      "\u001b[90m\u001b[55G│╻     +\u001b[1G\u001b[39m\u001b[90m4 \u001b[39m│    %14 = (Base.add_float)(%12, a)\u001b[36m::Float64\u001b[39m\n",
      "\u001b[90m\u001b[55G││╻     ==\u001b[1G\u001b[39m\u001b[90m  \u001b[39m│    %15 = (%13 === %3)\u001b[36m::Bool\u001b[39m\n",
      "\u001b[90m\u001b[55G││    \u001b[1G\u001b[39m\u001b[90m  \u001b[39m└───       goto #7 if not %15\n",
      "\u001b[90m\u001b[55G││    \u001b[1G\u001b[39m\u001b[90m  \u001b[39m6 ──       goto #8\n",
      "\u001b[90m\u001b[55G││╻     +\u001b[1G\u001b[39m\u001b[90m  \u001b[39m7 ── %18 = (Base.add_int)(%13, 1)\u001b[36m::Int64\u001b[39m\n",
      "\u001b[90m\u001b[55G│╻     iterate\u001b[1G\u001b[39m\u001b[90m  \u001b[39m└───       goto #8\n",
      "\u001b[90m\u001b[55G│     \u001b[1G\u001b[39m\u001b[90m  \u001b[39m8 ┄─ %20 = φ (#7 => %18)\u001b[36m::Int64\u001b[39m\n",
      "\u001b[90m\u001b[55G│     \u001b[1G\u001b[39m\u001b[90m  \u001b[39m│    %21 = φ (#6 => true, #7 => false)\u001b[36m::Bool\u001b[39m\n",
      "\u001b[90m\u001b[55G│     \u001b[1G\u001b[39m\u001b[90m  \u001b[39m│    %22 = (Base.not_int)(%21)\u001b[36m::Bool\u001b[39m\n",
      "\u001b[90m\u001b[55G│     \u001b[1G\u001b[39m\u001b[90m  \u001b[39m└───       goto #10 if not %22\n",
      "\u001b[90m\u001b[55G│     \u001b[1G\u001b[39m\u001b[90m  \u001b[39m9 ──       goto #5\n",
      "\u001b[90m\u001b[55G│     \u001b[1G\u001b[39m\u001b[90m  \u001b[39m10 ─       return\n"
     ]
    }
   ],
   "source": [
    "function g2(a,n)\n",
    "  x = zero(a) # get the zero of the type of a\n",
    "  for i in 1:n\n",
    "    x += a\n",
    "  end\n",
    "end\n",
    "\n",
    "@code_warntype g2(2.0,10) # the type stable version is shorter thus faster\n",
    "#@code_llvm_nocomment g2(2.0,10)"
   ]
  },
  {
   "cell_type": "markdown",
   "metadata": {
    "slideshow": {
     "slide_type": "skip"
    }
   },
   "source": [
    "### Millionth iterate of logistic map: comparison of Julia, C, Matlab\n",
    "\n",
    "Given $f(x) = 4\\,x \\, (1-x)$, \n",
    "\n",
    "let $~~f^N(x) = f(\\,f(\\,...(\\,f(\\,f(x)))))$ be the millionth iterate of $f$, with $N=10^6$."
   ]
  },
  {
   "cell_type": "markdown",
   "metadata": {
    "slideshow": {
     "slide_type": "skip"
    }
   },
   "source": [
    "#### $f^N$ in Julia: run-time code generation & compilation!"
   ]
  },
  {
   "cell_type": "code",
   "execution_count": 16,
   "metadata": {
    "slideshow": {
     "slide_type": "skip"
    }
   },
   "outputs": [
    {
     "data": {
      "text/plain": [
       "0.10116885334547539"
      ]
     },
     "execution_count": 16,
     "metadata": {},
     "output_type": "execute_result"
    }
   ],
   "source": [
    "# define function that, given function g(x), \n",
    "# returns iterated function gᴺ(x) = g(g(...(g(g(x)))))\n",
    "function iterator(g, N)\n",
    "    \n",
    "    # construct gᴺ, the Nth iterate of g\n",
    "    function gᴺ(x)\n",
    "       for i ∈ 1:N             \n",
    "          x = g(x)\n",
    "       end        \n",
    "       return x\n",
    "    end    \n",
    "    \n",
    "    return gᴺ\n",
    "end\n",
    "\n",
    "\n",
    "fᴺ = iterator(f, 10^6);  # generate millionth iterate funcion fᴺ(x) for f(x) = 4x(1-x)\n",
    "\n",
    "fᴺ(0.67)                 # run fᴺ(x) once to compile it"
   ]
  },
  {
   "cell_type": "markdown",
   "metadata": {
    "slideshow": {
     "slide_type": "skip"
    }
   },
   "source": [
    "**$f^N$ in C++, compiled**"
   ]
  },
  {
   "cell_type": "code",
   "execution_count": 17,
   "metadata": {
    "slideshow": {
     "slide_type": "skip"
    }
   },
   "outputs": [
    {
     "name": "stdout",
     "output_type": "stream",
     "text": [
      "#include <stdlib.h>\n",
      "#include <iostream>\n",
      "#include <iomanip>\n",
      "#include <ctime>\n",
      "\n",
      "using namespace std;\n",
      "\n",
      "inline double f(double x) {\n",
      "  return 4*x*(1-x);\n",
      "}\n",
      "\n",
      "int main(int argc, char* argv[]) {\n",
      "  double x = argc > 1 ? atof(argv[1]) : 0.0;\n",
      "\n",
      "  double t0 = clock();\n",
      "  for (int n=0; n<1000000; ++n)\n",
      "    x = f(x);\n",
      "  double t1 = clock();\n",
      "\n",
      "  cout << \"t = \" << (t1-t0)/CLOCKS_PER_SEC << \" seconds\" << endl;\n",
      "  cout << setprecision(17);\n",
      "  cout << \"x = \" << x << endl;\n",
      "  \n",
      "  return 0;\n",
      "}\n",
      "  \n"
     ]
    }
   ],
   "source": [
    "; cat codes/fN.cpp "
   ]
  },
  {
   "cell_type": "markdown",
   "metadata": {
    "slideshow": {
     "slide_type": "skip"
    }
   },
   "source": [
    "### Compare execution time of $f^N$ in Julia, C++, Matlab\n",
    "\n",
    "#### Julia"
   ]
  },
  {
   "cell_type": "code",
   "execution_count": 18,
   "metadata": {
    "slideshow": {
     "slide_type": "skip"
    }
   },
   "outputs": [
    {
     "name": "stdout",
     "output_type": "stream",
     "text": [
      "t=  0.007246 seconds (5 allocations: 176 bytes)\n",
      "x = 0.10116885334547539\n"
     ]
    }
   ],
   "source": [
    "print(\"t=\");\n",
    "@time x = fᴺ(0.67);         # run the Julia fᴺ on x = 0.67\n",
    "@show x;"
   ]
  },
  {
   "cell_type": "markdown",
   "metadata": {
    "slideshow": {
     "slide_type": "skip"
    }
   },
   "source": [
    "#### C++"
   ]
  },
  {
   "cell_type": "code",
   "execution_count": 19,
   "metadata": {
    "slideshow": {
     "slide_type": "skip"
    }
   },
   "outputs": [],
   "source": [
    "; g++ -O3 -o fN codes/fN.cpp -lm "
   ]
  },
  {
   "cell_type": "code",
   "execution_count": 20,
   "metadata": {
    "slideshow": {
     "slide_type": "skip"
    }
   },
   "outputs": [
    {
     "name": "stdout",
     "output_type": "stream",
     "text": [
      "t = 0.004867 seconds\n",
      "x = 0.10116885334547539\n"
     ]
    }
   ],
   "source": [
    "; ./fN 0.67 "
   ]
  },
  {
   "cell_type": "markdown",
   "metadata": {
    "slideshow": {
     "slide_type": "skip"
    }
   },
   "source": [
    "Julia and C++ get the same result `x` in roughly same execution time `t`. Sometimes Julia is faster, sometimes C++."
   ]
  },
  {
   "cell_type": "markdown",
   "metadata": {
    "slideshow": {
     "slide_type": "skip"
    }
   },
   "source": [
    "#### Matlab\n",
    "```\n",
    ">> tic(); x=fN(0.67); t=toc();\n",
    ">> t, x\n",
    "t = 0.048889000000000\n",
    "x = 0.101168853345475\n",
    "```\n",
    "Matlab gets the same result $x$, but ten to twenty times slower than Julia or C++."
   ]
  },
  {
   "cell_type": "markdown",
   "metadata": {
    "slideshow": {
     "slide_type": "slide"
    }
   },
   "source": [
    "## An ecosystem of packages\n",
    "\n",
    "- Most of packages are available on Github (ease collaboration)\n",
    "- Main fields are grouped in Github Organizations (see https://julialang.org/community/)\n",
    "- Julia comes with a powerful package/envrionment manager\n"
   ]
  },
  {
   "cell_type": "code",
   "execution_count": 21,
   "metadata": {
    "slideshow": {
     "slide_type": "fragment"
    }
   },
   "outputs": [
    {
     "data": {
      "text/plain": [
       "\"/home/raphaelb/Projets/Perso/tests-julia/julia-intro/Project.toml\""
      ]
     },
     "execution_count": 21,
     "metadata": {},
     "output_type": "execute_result"
    }
   ],
   "source": [
    "using Pkg #load the Pkg stdlib\n",
    "Pkg.activate(\".\") #activate the local environment"
   ]
  },
  {
   "cell_type": "markdown",
   "metadata": {
    "slideshow": {
     "slide_type": "slide"
    }
   },
   "source": [
    "### Singular values of Hilbert matrix and arbitrary precision\n",
    "\n",
    "The Hilbert matrix $A_{ij} = (i+j-1)^{-1}$ is notoriously ill-conditioned. "
   ]
  },
  {
   "cell_type": "code",
   "execution_count": 22,
   "metadata": {
    "slideshow": {
     "slide_type": "fragment"
    }
   },
   "outputs": [],
   "source": [
    "using LinearAlgebra #load stdlib\n",
    "\n",
    "#install package : no need online, needed on your computer\n",
    "#Pkg.add(\"GenericSVD\"); \n",
    "\n",
    "using GenericSVD #load package"
   ]
  },
  {
   "cell_type": "code",
   "execution_count": 23,
   "metadata": {
    "slideshow": {
     "slide_type": "slide"
    }
   },
   "outputs": [
    {
     "data": {
      "text/plain": [
       "8×8 Array{Rational{Int64},2}:\n",
       " 1//1  1//2  1//3   1//4   1//5   1//6   1//7   1//8 \n",
       " 1//2  1//3  1//4   1//5   1//6   1//7   1//8   1//9 \n",
       " 1//3  1//4  1//5   1//6   1//7   1//8   1//9   1//10\n",
       " 1//4  1//5  1//6   1//7   1//8   1//9   1//10  1//11\n",
       " 1//5  1//6  1//7   1//8   1//9   1//10  1//11  1//12\n",
       " 1//6  1//7  1//8   1//9   1//10  1//11  1//12  1//13\n",
       " 1//7  1//8  1//9   1//10  1//11  1//12  1//13  1//14\n",
       " 1//8  1//9  1//10  1//11  1//12  1//13  1//14  1//15"
      ]
     },
     "execution_count": 23,
     "metadata": {},
     "output_type": "execute_result"
    }
   ],
   "source": [
    "m = 8\n",
    "A = [1//(i+j-1) for i=1:m, j=1:m]    # 8 x 8 Hilbert matrix of Rationals"
   ]
  },
  {
   "cell_type": "code",
   "execution_count": 24,
   "metadata": {
    "slideshow": {
     "slide_type": "fragment"
    }
   },
   "outputs": [
    {
     "name": "stdout",
     "output_type": "stream",
     "text": [
      "cond(A) = 7.865467778431645e17\n",
      "eps(Float64) = 2.220446049250313e-16\n"
     ]
    }
   ],
   "source": [
    "# 16 x 16 Hilbert is too ill-conditioned for 64-bit arithmetic \n",
    "m = 16 ; A = [1/(i+j-1) for i=1:m, j=1:m]    # 16 x 16 Hilbert matrix of Float64s\n",
    "@show cond(A)\n",
    "@show eps(Float64);"
   ]
  },
  {
   "cell_type": "code",
   "execution_count": 25,
   "metadata": {
    "slideshow": {
     "slide_type": "fragment"
    }
   },
   "outputs": [
    {
     "data": {
      "text/plain": [
       "6-element Array{Float64,1}:\n",
       " 2.0859343371840952e-12\n",
       " 3.827799492915146e-14 \n",
       " 5.394906952936614e-16 \n",
       " 1.2294102317479617e-17\n",
       " 1.0657542513253642e-17\n",
       " 2.3648135052359386e-18"
      ]
     },
     "execution_count": 25,
     "metadata": {},
     "output_type": "execute_result"
    }
   ],
   "source": [
    "σ = svdvals(A)\n",
    "σ[end-5:end] # last 5 values"
   ]
  },
  {
   "cell_type": "code",
   "execution_count": 26,
   "metadata": {
    "slideshow": {
     "slide_type": "slide"
    }
   },
   "outputs": [
    {
     "name": "stdout",
     "output_type": "stream",
     "text": [
      "A[1, 1] = 1.0\n",
      "A[2, 1] = 5.0e-01\n",
      "A[3, 1] = 3.333333333333333333333333333333333333333333333333333333333333333333333333333348e-01\n"
     ]
    }
   ],
   "source": [
    "# Make 32 x 32 Hilbert matrix of 256-bit BigFloats and show a few elements\n",
    "setprecision(256)\n",
    "m = 32\n",
    "A = [BigFloat(1//(i+j-1)) for i=1:m, j=1:m]; \n",
    "@show A[1,1]\n",
    "@show A[2,1]\n",
    "@show A[3,1]\n",
    ";"
   ]
  },
  {
   "cell_type": "code",
   "execution_count": 27,
   "metadata": {
    "slideshow": {
     "slide_type": "fragment"
    }
   },
   "outputs": [
    {
     "data": {
      "text/plain": [
       "6-element Array{BigFloat,1}:\n",
       " 4.722253487722886629537566561063426718193936108783761901779058653423762612571911e-35\n",
       " 3.721728303529685301163286716629296819149422130979579196306836707182776329082812e-37\n",
       " 2.282607735977945944697879155526163440375905564402972710884859678322712924025411e-39\n",
       " 1.022045231388037386957792253667740236529498419265717624536070287487104900963478e-41\n",
       " 2.971550767330245214028010047204120157838584421268951012254754735920458055015361e-44\n",
       " 4.210099032402693745703330910061443236619344029786752208732102155291009952659503e-47"
      ]
     },
     "execution_count": 27,
     "metadata": {},
     "output_type": "execute_result"
    }
   ],
   "source": [
    "# Compute singular values of 32 x 32 Hilbert matrix in 256-bit arithmetic\n",
    "σ = svdvals!(A);\n",
    "σ[end-5:end] # last 5 values"
   ]
  },
  {
   "cell_type": "markdown",
   "metadata": {
    "slideshow": {
     "slide_type": "skip"
    }
   },
   "source": [
    "## User-defined type: Galois field GF(p)\n",
    "\n",
    "Finite scalar field GF(p) is $\\mathbb{Z}/p$, the integers modulo p, where p is prime. Example by Andreas Noack, Julia Computing."
   ]
  },
  {
   "cell_type": "code",
   "execution_count": 28,
   "metadata": {
    "slideshow": {
     "slide_type": "skip"
    }
   },
   "outputs": [],
   "source": [
    "# Type definition: Galois fields GF(p), where p is prime modulus, T is integer type\n",
    "struct GF{p,T} <: Number where {p,T<:Integer}\n",
    "    rep::T  # representative integer which holds the value of a GF(p) variable\n",
    "    function GF{p,T}(x::Integer) where {p,T<:Integer}\n",
    "        return new(mod(x, p))\n",
    "    end\n",
    "end\n",
    "GF{p}(x::T) where {p,T<:Integer} = GF{p,T}(x)\n",
    "\n",
    "\n",
    "# Define some basic methods for GF(p) that all Julia Numbers must have\n",
    "import Base: convert, inv, one, promote_rule, show, zero\n",
    "\n",
    "function call(::Type{GF{p}}, x::Integer) where {p}\n",
    "    if !isprime(p)\n",
    "        throw(ArgumentError(\"p must be prime\"))\n",
    "    end\n",
    "    return GF{p,typeof(x)}(mod(x, p))\n",
    "end\n",
    "\n",
    "convert(::Type{GF{p,T}}, x::Integer) where {p,T} = GF{p}(x)\n",
    "convert(::Type{GF{p}}, x::Integer) where {p} = GF{p}(x)\n",
    "convert(::Type{GF{p,T}}, x::GF{p}) where {p,T} = GF{p,T}(x.rep)\n",
    "promote_rule(::Type{GF{p,T1}}, ::Type{T2}) where {p,T1,T2<:Integer} = GF{p,promote_type(T1,T2)}\n",
    "show(io::IO, x::GF) = show(io, x.rep);\n",
    "\n",
    "\n"
   ]
  },
  {
   "cell_type": "code",
   "execution_count": 29,
   "metadata": {
    "slideshow": {
     "slide_type": "skip"
    }
   },
   "outputs": [],
   "source": [
    "# Define arithmetic operations on GF(p)\n",
    "import Base: +, -, *, /,conj\n",
    "\n",
    "for op in (:+, :-, :*)   # loop over ops, defining each in terms of integer ops mod p\n",
    "    @eval begin\n",
    "        ($op)(x::GF{p,T}, y::GF{p,T}) where {p,T} = GF{p,T}($(op)(x.rep, y.rep))\n",
    "    end\n",
    "end\n",
    "\n",
    "\n",
    "# Define inverse and ÷. Requires more care than +, -, * because dividing by zero throws error\n",
    "function inv(x::GF{p,T}) where {p,T}\n",
    "    if x == zero(x)\n",
    "        throw(DivideError())\n",
    "    end\n",
    "    r, u, v = gcdx(x.rep, p)\n",
    "    GF{p,T}(u)\n",
    "end\n",
    "\n",
    "function conj(x::GF{p,T}) where {p,T}\n",
    "    u = conj(x.rep)\n",
    "    GF{p,T}(u)\n",
    "end\n",
    "\n",
    "\n",
    "(/)(x::GF{p}, y::GF{p}) where {p}= x*inv(y);"
   ]
  },
  {
   "cell_type": "code",
   "execution_count": 30,
   "metadata": {
    "slideshow": {
     "slide_type": "skip"
    }
   },
   "outputs": [
    {
     "name": "stdout",
     "output_type": "stream",
     "text": [
      "x = 2\n",
      "y = 5\n",
      "x + y = 0\n",
      "x - y = 4\n",
      "x * y = 3\n",
      "x / y = 6\n"
     ]
    }
   ],
   "source": [
    "# Create some GF(7) variables and do arithmetic\n",
    "\n",
    "x = GF{7}(9)   # x =  9 mod 7 = 2\n",
    "y = GF{7}(12)  # y = 12 mod 7 = 5\n",
    "@show x\n",
    "@show y\n",
    "@show x + y     # 2 + 5 mod 7 = 0\n",
    "@show x - y     # 2 - 5 mod 7 = 4\n",
    "@show x * y     # 2 * 5 mod 7 = 3\n",
    "@show x / y     # 2 ÷ 5 mod 7 = 6, because 2 = 6*5 mod 7\n",
    ";"
   ]
  },
  {
   "cell_type": "markdown",
   "metadata": {
    "slideshow": {
     "slide_type": "skip"
    }
   },
   "source": [
    "### Linear algebra over Galois field"
   ]
  },
  {
   "cell_type": "code",
   "execution_count": 31,
   "metadata": {
    "slideshow": {
     "slide_type": "skip"
    }
   },
   "outputs": [],
   "source": [
    "import Random: seed!\n",
    "seed!(1234)\n",
    "A = [GF{7}(rand(0:6)) for i = 1:4, j = 1:4]; # matrix of random GF(7) elems"
   ]
  },
  {
   "cell_type": "code",
   "execution_count": 32,
   "metadata": {
    "slideshow": {
     "slide_type": "skip"
    }
   },
   "outputs": [],
   "source": [
    "b = [GF{7}(rand(0:6)) for i = 1:4];         # random vector b for Ax=b problem"
   ]
  },
  {
   "cell_type": "code",
   "execution_count": 33,
   "metadata": {
    "slideshow": {
     "slide_type": "skip"
    }
   },
   "outputs": [],
   "source": [
    "x = A\\b;   # solve Ax=b over GF(p)!"
   ]
  },
  {
   "cell_type": "code",
   "execution_count": 34,
   "metadata": {
    "slideshow": {
     "slide_type": "skip"
    }
   },
   "outputs": [
    {
     "data": {
      "text/plain": [
       "4-element Array{GF{7,Int64},1}:\n",
       " 0\n",
       " 0\n",
       " 0\n",
       " 0"
      ]
     },
     "execution_count": 34,
     "metadata": {},
     "output_type": "execute_result"
    }
   ],
   "source": [
    "A*x - b   # check that x satisfies Ax=b"
   ]
  },
  {
   "cell_type": "markdown",
   "metadata": {
    "slideshow": {
     "slide_type": "skip"
    }
   },
   "source": [
    "**Whoa! Built-in backslash operator on matrix of GF(p) worked!** \n",
    "\n",
    "Julia generated and compiled a GF(p)-specific version of its generic LU decomp function. All it needs is definitions of $+, -, \\times, \\div$."
   ]
  },
  {
   "cell_type": "markdown",
   "metadata": {
    "slideshow": {
     "slide_type": "slide"
    }
   },
   "source": [
    "# Solving Differential Equations\n",
    "\n",
    " Solve the Lorenz equations:\n",
    " \n",
    "\n",
    "$$\n",
    "\\begin{align}\n",
    "\\frac{dx}{dt} &= σ(y-x) \\\\\n",
    "\\frac{dy}{dt} &= x(ρ-z) - y \\\\\n",
    "\\frac{dz}{dt} &= xy - βz \\\\\n",
    "\\end{align}\n",
    "$$"
   ]
  },
  {
   "cell_type": "markdown",
   "metadata": {
    "slideshow": {
     "slide_type": "skip"
    }
   },
   "source": [
    "<div style=\"padding: 20px;background-color: #f44336;color: white; margin-bottom: 15px;\">\n",
    "Fair Warning ⚠ : the next cell is gonna take some time. Like really. You can go grab a coffee.\n",
    "\n",
    "This compilation time only occurs the first time you load this version of this package on your machine. \n",
    "If you are trying this online on Mybinder, remember that each time you connect, you are on a fresh julia install \n",
    "just built for you, so this precompilation time occurs. And Plots and DifferentialEquations are pretty big libraries (DifEq regroups a lot of solvers).\n",
    "</div>"
   ]
  },
  {
   "cell_type": "code",
   "execution_count": 49,
   "metadata": {
    "slideshow": {
     "slide_type": "slide"
    }
   },
   "outputs": [],
   "source": [
    "#Pkg.add(\"DifferentialEquations\") # add the Differential equation suite\n",
    "using DifferentialEquations # first time is very slow (precompilation)\n",
    "using Plots"
   ]
  },
  {
   "cell_type": "code",
   "execution_count": 36,
   "metadata": {
    "slideshow": {
     "slide_type": "fragment"
    }
   },
   "outputs": [
    {
     "data": {
      "image/svg+xml": [
       "<?xml version=\"1.0\" encoding=\"utf-8\"?>\n",
       "<svg xmlns=\"http://www.w3.org/2000/svg\" xmlns:xlink=\"http://www.w3.org/1999/xlink\" width=\"150\" height=\"100\" viewBox=\"0 0 600 400\">\n",
       "<defs>\n",
       "  <clipPath id=\"clip3600\">\n",
       "    <rect x=\"0\" y=\"0\" width=\"2000\" height=\"2000\"/>\n",
       "  </clipPath>\n",
       "</defs>\n",
       "<defs>\n",
       "  <clipPath id=\"clip3601\">\n",
       "    <rect x=\"0\" y=\"0\" width=\"600\" height=\"400\"/>\n",
       "  </clipPath>\n",
       "</defs>\n",
       "<polygon clip-path=\"url(#clip3601)\" points=\"\n",
       "0,400 600,400 600,0 0,0 \n",
       "  \" fill=\"#ffffff\" fill-rule=\"evenodd\" fill-opacity=\"1\"/>\n",
       "<defs>\n",
       "  <clipPath id=\"clip3602\">\n",
       "    <rect x=\"120\" y=\"0\" width=\"421\" height=\"400\"/>\n",
       "  </clipPath>\n",
       "</defs>\n",
       "<polygon clip-path=\"url(#clip3601)\" points=\"\n",
       "130.144,375.869 494.202,375.869 494.202,11.811 130.144,11.811 \n",
       "  \" fill=\"#ffffff\" fill-rule=\"evenodd\" fill-opacity=\"1\"/>\n",
       "<defs>\n",
       "  <clipPath id=\"clip3603\">\n",
       "    <rect x=\"130\" y=\"11\" width=\"365\" height=\"365\"/>\n",
       "  </clipPath>\n",
       "</defs>\n",
       "<polyline clip-path=\"url(#clip3601)\" style=\"stroke:#cccccc; stroke-width:0.5; stroke-opacity:0.1; fill:none\" points=\"\n",
       "  156.134,356.784 289.389,292.267 \n",
       "  \"/>\n",
       "<polyline clip-path=\"url(#clip3601)\" style=\"stroke:#cccccc; stroke-width:0.5; stroke-opacity:0.1; fill:none\" points=\"\n",
       "  289.389,292.267 289.389,14.2328 \n",
       "  \"/>\n",
       "<polyline clip-path=\"url(#clip3601)\" style=\"stroke:#ededed; stroke-width:0.5; stroke-opacity:0.1; fill:none\" points=\"\n",
       "  184.427,359.421 317.681,294.903 \n",
       "  \"/>\n",
       "<polyline clip-path=\"url(#clip3601)\" style=\"stroke:#ededed; stroke-width:0.5; stroke-opacity:0.1; fill:none\" points=\"\n",
       "  317.681,294.903 317.681,16.869 \n",
       "  \"/>\n",
       "<polyline clip-path=\"url(#clip3601)\" style=\"stroke:#cccccc; stroke-width:0.5; stroke-opacity:0.1; fill:none\" points=\"\n",
       "  212.719,362.057 345.973,297.539 \n",
       "  \"/>\n",
       "<polyline clip-path=\"url(#clip3601)\" style=\"stroke:#cccccc; stroke-width:0.5; stroke-opacity:0.1; fill:none\" points=\"\n",
       "  345.973,297.539 345.973,19.5053 \n",
       "  \"/>\n",
       "<polyline clip-path=\"url(#clip3601)\" style=\"stroke:#ededed; stroke-width:0.5; stroke-opacity:0.1; fill:none\" points=\"\n",
       "  241.011,364.693 374.266,300.175 \n",
       "  \"/>\n",
       "<polyline clip-path=\"url(#clip3601)\" style=\"stroke:#ededed; stroke-width:0.5; stroke-opacity:0.1; fill:none\" points=\"\n",
       "  374.266,300.175 374.266,22.1415 \n",
       "  \"/>\n",
       "<polyline clip-path=\"url(#clip3601)\" style=\"stroke:#cccccc; stroke-width:0.5; stroke-opacity:0.1; fill:none\" points=\"\n",
       "  269.304,367.329 402.558,302.811 \n",
       "  \"/>\n",
       "<polyline clip-path=\"url(#clip3601)\" style=\"stroke:#cccccc; stroke-width:0.5; stroke-opacity:0.1; fill:none\" points=\"\n",
       "  402.558,302.811 402.558,24.7778 \n",
       "  \"/>\n",
       "<polyline clip-path=\"url(#clip3601)\" style=\"stroke:#ededed; stroke-width:0.5; stroke-opacity:0.1; fill:none\" points=\"\n",
       "  297.596,369.966 430.85,305.448 \n",
       "  \"/>\n",
       "<polyline clip-path=\"url(#clip3601)\" style=\"stroke:#ededed; stroke-width:0.5; stroke-opacity:0.1; fill:none\" points=\"\n",
       "  430.85,305.448 430.85,27.414 \n",
       "  \"/>\n",
       "<polyline clip-path=\"url(#clip3601)\" style=\"stroke:#cccccc; stroke-width:0.5; stroke-opacity:0.1; fill:none\" points=\"\n",
       "  325.888,372.602 459.143,308.084 \n",
       "  \"/>\n",
       "<polyline clip-path=\"url(#clip3601)\" style=\"stroke:#cccccc; stroke-width:0.5; stroke-opacity:0.1; fill:none\" points=\"\n",
       "  459.143,308.084 459.143,30.0502 \n",
       "  \"/>\n",
       "<polyline clip-path=\"url(#clip3601)\" style=\"stroke:#ededed; stroke-width:0.5; stroke-opacity:0.1; fill:none\" points=\"\n",
       "  354.181,375.238 487.435,310.72 \n",
       "  \"/>\n",
       "<polyline clip-path=\"url(#clip3601)\" style=\"stroke:#ededed; stroke-width:0.5; stroke-opacity:0.1; fill:none\" points=\"\n",
       "  487.435,310.72 487.435,32.6865 \n",
       "  \"/>\n",
       "<polyline clip-path=\"url(#clip3601)\" style=\"stroke:#cccccc; stroke-width:0.5; stroke-opacity:0.1; fill:none\" points=\"\n",
       "  146.003,346.684 376.806,368.19 \n",
       "  \"/>\n",
       "<polyline clip-path=\"url(#clip3601)\" style=\"stroke:#cccccc; stroke-width:0.5; stroke-opacity:0.1; fill:none\" points=\"\n",
       "  146.003,346.684 146.003,68.6506 \n",
       "  \"/>\n",
       "<polyline clip-path=\"url(#clip3601)\" style=\"stroke:#ededed; stroke-width:0.5; stroke-opacity:0.1; fill:none\" points=\"\n",
       "  169.84,335.143 400.643,356.649 \n",
       "  \"/>\n",
       "<polyline clip-path=\"url(#clip3601)\" style=\"stroke:#ededed; stroke-width:0.5; stroke-opacity:0.1; fill:none\" points=\"\n",
       "  169.84,335.143 169.84,57.1095 \n",
       "  \"/>\n",
       "<polyline clip-path=\"url(#clip3601)\" style=\"stroke:#cccccc; stroke-width:0.5; stroke-opacity:0.1; fill:none\" points=\"\n",
       "  193.676,323.602 424.48,345.108 \n",
       "  \"/>\n",
       "<polyline clip-path=\"url(#clip3601)\" style=\"stroke:#cccccc; stroke-width:0.5; stroke-opacity:0.1; fill:none\" points=\"\n",
       "  193.676,323.602 193.676,45.5684 \n",
       "  \"/>\n",
       "<polyline clip-path=\"url(#clip3601)\" style=\"stroke:#ededed; stroke-width:0.5; stroke-opacity:0.1; fill:none\" points=\"\n",
       "  217.513,312.061 448.317,333.567 \n",
       "  \"/>\n",
       "<polyline clip-path=\"url(#clip3601)\" style=\"stroke:#ededed; stroke-width:0.5; stroke-opacity:0.1; fill:none\" points=\"\n",
       "  217.513,312.061 217.513,34.0273 \n",
       "  \"/>\n",
       "<polyline clip-path=\"url(#clip3601)\" style=\"stroke:#cccccc; stroke-width:0.5; stroke-opacity:0.1; fill:none\" points=\"\n",
       "  241.35,300.52 472.153,322.026 \n",
       "  \"/>\n",
       "<polyline clip-path=\"url(#clip3601)\" style=\"stroke:#cccccc; stroke-width:0.5; stroke-opacity:0.1; fill:none\" points=\"\n",
       "  241.35,300.52 241.35,22.4862 \n",
       "  \"/>\n",
       "<polyline clip-path=\"url(#clip3601)\" style=\"stroke:#cccccc; stroke-width:0.5; stroke-opacity:0.1; fill:none\" points=\"\n",
       "  130.144,354.363 263.398,289.845 \n",
       "  \"/>\n",
       "<polyline clip-path=\"url(#clip3601)\" style=\"stroke:#cccccc; stroke-width:0.5; stroke-opacity:0.1; fill:none\" points=\"\n",
       "  263.398,289.845 494.202,311.351 \n",
       "  \"/>\n",
       "<polyline clip-path=\"url(#clip3601)\" style=\"stroke:#ededed; stroke-width:0.5; stroke-opacity:0.1; fill:none\" points=\"\n",
       "  130.144,319.608 263.398,255.091 \n",
       "  \"/>\n",
       "<polyline clip-path=\"url(#clip3601)\" style=\"stroke:#ededed; stroke-width:0.5; stroke-opacity:0.1; fill:none\" points=\"\n",
       "  263.398,255.091 494.202,276.597 \n",
       "  \"/>\n",
       "<polyline clip-path=\"url(#clip3601)\" style=\"stroke:#cccccc; stroke-width:0.5; stroke-opacity:0.1; fill:none\" points=\"\n",
       "  130.144,284.854 263.398,220.336 \n",
       "  \"/>\n",
       "<polyline clip-path=\"url(#clip3601)\" style=\"stroke:#cccccc; stroke-width:0.5; stroke-opacity:0.1; fill:none\" points=\"\n",
       "  263.398,220.336 494.202,241.842 \n",
       "  \"/>\n",
       "<polyline clip-path=\"url(#clip3601)\" style=\"stroke:#ededed; stroke-width:0.5; stroke-opacity:0.1; fill:none\" points=\"\n",
       "  130.144,250.1 263.398,185.582 \n",
       "  \"/>\n",
       "<polyline clip-path=\"url(#clip3601)\" style=\"stroke:#ededed; stroke-width:0.5; stroke-opacity:0.1; fill:none\" points=\"\n",
       "  263.398,185.582 494.202,207.088 \n",
       "  \"/>\n",
       "<polyline clip-path=\"url(#clip3601)\" style=\"stroke:#cccccc; stroke-width:0.5; stroke-opacity:0.1; fill:none\" points=\"\n",
       "  130.144,215.346 263.398,150.828 \n",
       "  \"/>\n",
       "<polyline clip-path=\"url(#clip3601)\" style=\"stroke:#cccccc; stroke-width:0.5; stroke-opacity:0.1; fill:none\" points=\"\n",
       "  263.398,150.828 494.202,172.334 \n",
       "  \"/>\n",
       "<polyline clip-path=\"url(#clip3601)\" style=\"stroke:#ededed; stroke-width:0.5; stroke-opacity:0.1; fill:none\" points=\"\n",
       "  130.144,180.592 263.398,116.074 \n",
       "  \"/>\n",
       "<polyline clip-path=\"url(#clip3601)\" style=\"stroke:#ededed; stroke-width:0.5; stroke-opacity:0.1; fill:none\" points=\"\n",
       "  263.398,116.074 494.202,137.58 \n",
       "  \"/>\n",
       "<polyline clip-path=\"url(#clip3601)\" style=\"stroke:#cccccc; stroke-width:0.5; stroke-opacity:0.1; fill:none\" points=\"\n",
       "  130.144,145.837 263.398,81.3195 \n",
       "  \"/>\n",
       "<polyline clip-path=\"url(#clip3601)\" style=\"stroke:#cccccc; stroke-width:0.5; stroke-opacity:0.1; fill:none\" points=\"\n",
       "  263.398,81.3195 494.202,102.825 \n",
       "  \"/>\n",
       "<polyline clip-path=\"url(#clip3601)\" style=\"stroke:#ededed; stroke-width:0.5; stroke-opacity:0.1; fill:none\" points=\"\n",
       "  130.144,111.083 263.398,46.5652 \n",
       "  \"/>\n",
       "<polyline clip-path=\"url(#clip3601)\" style=\"stroke:#ededed; stroke-width:0.5; stroke-opacity:0.1; fill:none\" points=\"\n",
       "  263.398,46.5652 494.202,68.0712 \n",
       "  \"/>\n",
       "<polyline clip-path=\"url(#clip3601)\" style=\"stroke:#cccccc; stroke-width:0.5; stroke-opacity:0.1; fill:none\" points=\"\n",
       "  130.144,76.329 263.398,11.811 \n",
       "  \"/>\n",
       "<polyline clip-path=\"url(#clip3601)\" style=\"stroke:#cccccc; stroke-width:0.5; stroke-opacity:0.1; fill:none\" points=\"\n",
       "  263.398,11.811 494.202,33.317 \n",
       "  \"/>\n",
       "<polyline clip-path=\"url(#clip3601)\" style=\"stroke:#000000; stroke-width:4; stroke-opacity:1; fill:none\" points=\"\n",
       "  123.967,282.997 122.967,283.892 122.301,285.449 121.968,287.668 121.968,288.902 122.301,290.798 122.967,291.709 123.967,291.637 124.634,291.314 125.634,290.418 \n",
       "  126.3,288.861 126.634,286.643 126.634,285.408 126.3,283.513 125.634,282.601 124.634,282.674 123.967,282.997 \n",
       "  \"/>\n",
       "<polyline clip-path=\"url(#clip3601)\" style=\"stroke:#000000; stroke-width:4; stroke-opacity:1; fill:none\" points=\"\n",
       "  115.635,219.58 115.635,219.168 115.968,218.184 116.302,217.611 116.968,216.877 118.301,216.232 118.968,216.32 119.301,216.57 119.635,217.232 119.635,218.055 \n",
       "  119.301,219.039 118.635,220.596 115.302,226.324 119.968,224.065 \n",
       "  \"/>\n",
       "<polyline clip-path=\"url(#clip3601)\" style=\"stroke:#000000; stroke-width:4; stroke-opacity:1; fill:none\" points=\"\n",
       "  123.967,213.488 122.967,214.384 122.301,215.941 121.968,218.159 121.968,219.394 122.301,221.289 122.967,222.201 123.967,222.128 124.634,221.805 125.634,220.91 \n",
       "  126.3,219.353 126.634,217.134 126.634,215.9 126.3,214.004 125.634,213.093 124.634,213.165 123.967,213.488 \n",
       "  \"/>\n",
       "<polyline clip-path=\"url(#clip3601)\" style=\"stroke:#000000; stroke-width:4; stroke-opacity:1; fill:none\" points=\"\n",
       "  118.635,146.562 115.302,153.935 120.301,151.515 \n",
       "  \"/>\n",
       "<polyline clip-path=\"url(#clip3601)\" style=\"stroke:#000000; stroke-width:4; stroke-opacity:1; fill:none\" points=\"\n",
       "  118.635,146.562 118.635,155.202 \n",
       "  \"/>\n",
       "<polyline clip-path=\"url(#clip3601)\" style=\"stroke:#000000; stroke-width:4; stroke-opacity:1; fill:none\" points=\"\n",
       "  123.967,143.98 122.967,144.875 122.301,146.432 121.968,148.651 121.968,149.885 122.301,151.781 122.967,152.692 123.967,152.62 124.634,152.297 125.634,151.401 \n",
       "  126.3,149.844 126.634,147.626 126.634,146.392 126.3,144.496 125.634,143.584 124.634,143.657 123.967,143.98 \n",
       "  \"/>\n",
       "<polyline clip-path=\"url(#clip3601)\" style=\"stroke:#000000; stroke-width:4; stroke-opacity:1; fill:none\" points=\"\n",
       "  119.635,77.8034 119.301,77.142 118.301,77.2146 117.635,77.5374 116.635,78.4329 115.968,79.99 115.635,82.2085 115.635,84.2656 115.968,85.75 116.635,86.2501 \n",
       "  117.635,86.1774 117.968,86.016 118.968,85.1205 119.635,83.9749 119.968,82.5792 119.968,82.1678 119.635,81.0949 118.968,80.5948 117.968,80.6674 117.635,80.8288 \n",
       "  116.635,81.7244 115.968,82.87 115.635,84.2656 \n",
       "  \"/>\n",
       "<polyline clip-path=\"url(#clip3601)\" style=\"stroke:#000000; stroke-width:4; stroke-opacity:1; fill:none\" points=\"\n",
       "  123.967,74.4713 122.967,75.3669 122.301,76.9239 121.968,79.1424 121.968,80.3767 122.301,82.2725 122.967,83.184 123.967,83.1113 124.634,82.7886 125.634,81.893 \n",
       "  126.3,80.336 126.634,78.1175 126.634,76.8832 126.3,74.9874 125.634,74.0759 124.634,74.1486 123.967,74.4713 \n",
       "  \"/>\n",
       "<polyline clip-path=\"url(#clip3601)\" style=\"stroke:#000000; stroke-width:1; stroke-opacity:1; fill:none\" points=\"\n",
       "  130.144,354.363 130.144,354.363 127.479,355.653 130.144,354.363 130.144,319.608 128.811,320.254 130.144,319.608 130.144,284.854 127.479,286.145 130.144,284.854 \n",
       "  130.144,250.1 128.811,250.745 130.144,250.1 130.144,215.346 127.479,216.636 130.144,215.346 130.144,180.592 128.811,181.237 130.144,180.592 130.144,145.837 \n",
       "  127.479,147.128 130.144,145.837 130.144,111.083 128.811,111.728 130.144,111.083 130.144,76.329 127.479,77.6193 130.144,76.329 \n",
       "  \"/>\n",
       "<polyline clip-path=\"url(#clip3601)\" style=\"stroke:#000000; stroke-width:4; stroke-opacity:1; fill:none\" points=\"\n",
       "  167.606,367.219 174.948,367.903 \n",
       "  \"/>\n",
       "<polyline clip-path=\"url(#clip3601)\" style=\"stroke:#000000; stroke-width:4; stroke-opacity:1; fill:none\" points=\"\n",
       "  179.027,364.991 179.843,364.656 181.067,363.536 181.067,372.176 \n",
       "  \"/>\n",
       "<polyline clip-path=\"url(#clip3601)\" style=\"stroke:#000000; stroke-width:4; stroke-opacity:1; fill:none\" points=\"\n",
       "  188.409,364.22 187.185,364.517 186.369,365.675 185.961,367.695 185.961,368.929 186.369,371.024 187.185,372.334 188.409,372.86 189.224,372.936 190.448,372.638 \n",
       "  191.264,371.48 191.672,369.461 191.672,368.227 191.264,366.132 190.448,364.821 189.224,364.296 188.409,364.22 \n",
       "  \"/>\n",
       "<polyline clip-path=\"url(#clip3601)\" style=\"stroke:#000000; stroke-width:4; stroke-opacity:1; fill:none\" points=\"\n",
       "  235.612,368.618 234.388,368.916 233.572,370.074 233.165,372.093 233.165,373.327 233.572,375.422 234.388,376.733 235.612,377.258 236.428,377.334 237.651,377.037 \n",
       "  238.467,375.878 238.875,373.859 238.875,372.625 238.467,370.53 237.651,369.22 236.428,368.694 235.612,368.618 \n",
       "  \"/>\n",
       "<polyline clip-path=\"url(#clip3601)\" style=\"stroke:#000000; stroke-width:4; stroke-opacity:1; fill:none\" points=\"\n",
       "  286.894,375.042 287.71,374.707 288.933,373.587 288.933,382.227 \n",
       "  \"/>\n",
       "<polyline clip-path=\"url(#clip3601)\" style=\"stroke:#000000; stroke-width:4; stroke-opacity:1; fill:none\" points=\"\n",
       "  296.275,374.271 295.052,374.568 294.236,375.726 293.828,377.745 293.828,378.98 294.236,381.075 295.052,382.385 296.275,382.911 297.091,382.987 298.315,382.689 \n",
       "  299.131,381.531 299.538,379.512 299.538,378.278 299.131,376.182 298.315,374.872 297.091,374.347 296.275,374.271 \n",
       "  \"/>\n",
       "<polyline clip-path=\"url(#clip3601)\" style=\"stroke:#000000; stroke-width:4; stroke-opacity:1; fill:none\" points=\"\n",
       "  342.663,380.65 342.663,380.239 343.071,379.454 343.478,379.08 344.294,378.745 345.926,378.897 346.742,379.384 347.149,379.834 347.557,380.695 347.557,381.518 \n",
       "  347.149,382.302 346.334,383.461 342.255,387.195 347.965,387.727 \n",
       "  \"/>\n",
       "<polyline clip-path=\"url(#clip3601)\" style=\"stroke:#000000; stroke-width:4; stroke-opacity:1; fill:none\" points=\"\n",
       "  352.86,379.543 351.636,379.841 350.82,380.999 350.413,383.018 350.413,384.252 350.82,386.347 351.636,387.658 352.86,388.183 353.676,388.259 354.899,387.962 \n",
       "  355.715,386.803 356.123,384.784 356.123,383.55 355.715,381.455 354.899,380.145 353.676,379.619 352.86,379.543 \n",
       "  \"/>\n",
       "<polyline clip-path=\"url(#clip3601)\" style=\"stroke:#000000; stroke-width:1; stroke-opacity:1; fill:none\" points=\"\n",
       "  130.144,354.363 156.134,356.784 154.802,357.43 156.134,356.784 184.427,359.421 181.762,360.711 184.427,359.421 212.719,362.057 211.387,362.702 212.719,362.057 \n",
       "  241.011,364.693 238.346,365.984 241.011,364.693 269.304,367.329 267.971,367.975 269.304,367.329 297.596,369.966 294.931,371.256 297.596,369.966 325.888,372.602 \n",
       "  324.556,373.247 325.888,372.602 354.181,375.238 351.515,376.529 354.181,375.238 360.947,375.869 \n",
       "  \"/>\n",
       "<polyline clip-path=\"url(#clip3601)\" style=\"stroke:#000000; stroke-width:4; stroke-opacity:1; fill:none\" points=\"\n",
       "  378.733,379.455 384.733,376.551 \n",
       "  \"/>\n",
       "<polyline clip-path=\"url(#clip3601)\" style=\"stroke:#000000; stroke-width:4; stroke-opacity:1; fill:none\" points=\"\n",
       "  387.399,372.38 387.399,371.968 387.732,370.984 388.066,370.411 388.732,369.677 390.065,369.031 390.732,369.12 391.065,369.37 391.399,370.032 391.399,370.855 \n",
       "  391.065,371.839 390.399,373.396 387.066,379.124 391.732,376.865 \n",
       "  \"/>\n",
       "<polyline clip-path=\"url(#clip3601)\" style=\"stroke:#000000; stroke-width:4; stroke-opacity:1; fill:none\" points=\"\n",
       "  395.731,366.288 394.732,367.184 394.065,368.741 393.732,370.959 393.732,372.194 394.065,374.089 394.732,375.001 395.731,374.928 396.398,374.605 397.398,373.71 \n",
       "  398.065,372.153 398.398,369.934 398.398,368.7 398.065,366.804 397.398,365.893 396.398,365.965 395.731,366.288 \n",
       "  \"/>\n",
       "<polyline clip-path=\"url(#clip3601)\" style=\"stroke:#000000; stroke-width:4; stroke-opacity:1; fill:none\" points=\"\n",
       "  435.739,346.917 434.739,347.813 434.073,349.37 433.74,351.589 433.74,352.823 434.073,354.719 434.739,355.63 435.739,355.557 436.406,355.235 437.406,354.339 \n",
       "  438.072,352.782 438.406,350.564 438.406,349.329 438.072,347.434 437.406,346.522 436.406,346.595 435.739,346.917 \n",
       "  \"/>\n",
       "<polyline clip-path=\"url(#clip3601)\" style=\"stroke:#000000; stroke-width:4; stroke-opacity:1; fill:none\" points=\"\n",
       "  478.414,328.313 478.414,327.902 478.747,326.917 479.08,326.345 479.747,325.61 481.08,324.965 481.747,325.054 482.08,325.304 482.413,325.965 482.413,326.788 \n",
       "  482.08,327.772 481.413,329.329 478.08,335.057 482.746,332.798 \n",
       "  \"/>\n",
       "<polyline clip-path=\"url(#clip3601)\" style=\"stroke:#000000; stroke-width:4; stroke-opacity:1; fill:none\" points=\"\n",
       "  486.746,322.222 485.746,323.117 485.079,324.674 484.746,326.893 484.746,328.127 485.079,330.023 485.746,330.934 486.746,330.862 487.413,330.539 488.412,329.643 \n",
       "  489.079,328.086 489.412,325.868 489.412,324.633 489.079,322.738 488.412,321.826 487.413,321.899 486.746,322.222 \n",
       "  \"/>\n",
       "<polyline clip-path=\"url(#clip3601)\" style=\"stroke:#000000; stroke-width:1; stroke-opacity:1; fill:none\" points=\"\n",
       "  360.947,375.869 376.806,368.19 381.422,368.62 376.806,368.19 400.643,356.649 402.951,356.864 400.643,356.649 424.48,345.108 429.096,345.538 424.48,345.108 \n",
       "  448.317,333.567 450.625,333.782 448.317,333.567 472.153,322.026 476.769,322.456 472.153,322.026 494.202,311.351 \n",
       "  \"/>\n",
       "<polyline clip-path=\"url(#clip3603)\" style=\"stroke:#009af9; stroke-width:3; stroke-opacity:1; fill:none\" points=\"\n",
       "  310.202,264.951 310.323,264.672 310.524,264.415 310.803,264.174 311.156,263.945 311.584,263.723 312.086,263.503 312.666,263.283 313.324,263.057 314.066,262.822 \n",
       "  314.896,262.574 315.818,262.31 316.841,262.024 317.972,261.712 319.218,261.37 320.59,260.992 322.098,260.572 323.754,260.103 325.571,259.577 327.562,258.986 \n",
       "  329.742,258.32 332.128,257.566 334.737,256.713 337.588,255.744 340.699,254.641 344.092,253.385 347.786,251.953 351.804,250.317 356.166,248.448 360.891,246.311 \n",
       "  365.996,243.869 371.496,241.078 377.404,237.891 383.72,234.257 390.436,230.123 397.533,225.435 404.975,220.142 412.707,214.193 420.653,207.54 428.704,200.163 \n",
       "  436.715,192.067 444.512,183.286 451.89,173.885 458.617,163.987 464.399,153.781 468.96,143.497 472.052,133.411 473.45,123.845 472.958,115.164 470.465,107.726 \n",
       "  465.983,101.804 459.6,97.5882 451.482,95.1767 441.88,94.5766 431.127,95.7033 419.599,98.3502 407.641,102.198 395.567,106.941 383.642,112.282 372.083,117.935 \n",
       "  361.056,123.623 350.668,129.163 340.973,134.432 331.998,139.341 323.746,143.836 316.195,147.902 309.311,151.547 303.053,154.792 297.377,157.671 292.237,160.22 \n",
       "  287.589,162.472 283.389,164.462 279.595,166.227 276.167,167.797 273.067,169.201 270.263,170.461 267.724,171.599 265.419,172.632 263.323,173.575 261.408,174.44 \n",
       "  259.656,175.237 258.046,175.974 256.562,176.658 255.188,177.294 253.908,177.886 252.709,178.438 251.579,178.951 250.505,179.427 249.482,179.867 248.5,180.271 \n",
       "  247.554,180.639 246.637,180.973 245.744,181.27 244.871,181.532 244.014,181.757 243.169,181.946 242.337,182.096 241.514,182.208 240.701,182.281 239.898,182.314 \n",
       "  239.104,182.307 238.32,182.261 237.547,182.174 236.786,182.047 236.038,181.88 235.307,181.674 234.596,181.429 233.907,181.146 233.242,180.826 232.606,180.471 \n",
       "  232.001,180.082 231.43,179.663 230.897,179.214 230.404,178.739 229.955,178.242 229.553,177.724 229.2,177.191 228.901,176.644 228.656,176.09 228.469,175.53 \n",
       "  228.34,174.97 228.271,174.413 228.262,173.865 228.313,173.329 228.424,172.811 228.594,172.314 228.821,171.843 229.104,171.4 229.44,170.991 229.827,170.617 \n",
       "  230.262,170.282 230.742,169.987 231.262,169.736 231.819,169.529 232.408,169.368 233.024,169.254 233.661,169.187 234.316,169.166 234.983,169.192 235.657,169.263 \n",
       "  236.333,169.379 237.008,169.537 237.676,169.736 238.334,169.975 238.977,170.252 239.601,170.564 240.204,170.908 240.78,171.283 241.328,171.684 241.844,172.11 \n",
       "  242.325,172.555 242.768,173.017 243.172,173.494 243.535,173.983 243.857,174.481 244.135,174.986 244.369,175.495 244.558,176.005 244.701,176.513 244.797,177.018 \n",
       "  244.847,177.517 244.851,178.006 244.809,178.485 244.722,178.949 244.589,179.399 244.413,179.831 244.195,180.244 243.934,180.635 243.632,181.002 243.29,181.343 \n",
       "  242.908,181.656 242.488,181.94 242.033,182.193 241.544,182.413 241.023,182.599 240.473,182.749 239.897,182.863 239.298,182.939 238.679,182.977 238.044,182.975 \n",
       "  237.396,182.933 236.738,182.85 236.073,182.728 235.405,182.564 234.739,182.359 234.078,182.114 233.426,181.828 232.787,181.502 232.167,181.138 231.568,180.738 \n",
       "  230.996,180.303 230.454,179.836 229.947,179.339 229.48,178.816 229.056,178.27 228.68,177.705 228.356,177.125 228.084,176.534 227.868,175.938 227.71,175.338 \n",
       "  227.613,174.741 227.578,174.151 227.605,173.57 227.694,173.004 227.847,172.456 228.06,171.932 228.335,171.434 228.667,170.967 229.056,170.536 229.497,170.144 \n",
       "  229.989,169.795 230.525,169.494 231.103,169.242 231.717,169.038 232.361,168.883 233.032,168.778 233.724,168.725 234.432,168.721 235.15,168.768 235.876,168.863 \n",
       "  236.602,169.006 237.325,169.196 238.039,169.429 238.74,169.704 239.423,170.017 240.083,170.365 240.716,170.745 241.319,171.154 241.89,171.59 242.425,172.05 \n",
       "  242.922,172.531 243.379,173.029 243.794,173.542 244.165,174.067 244.49,174.601 244.768,175.14 244.998,175.683 245.18,176.226 245.312,176.767 245.396,177.302 \n",
       "  245.43,177.829 245.415,178.344 245.353,178.847 245.243,179.334 245.087,179.805 244.885,180.256 244.637,180.686 244.344,181.091 244.007,181.471 243.628,181.823 \n",
       "  243.208,182.145 242.748,182.435 242.252,182.692 241.721,182.914 241.159,183.1 240.566,183.249 239.948,183.358 239.307,183.428 238.645,183.456 237.967,183.444 \n",
       "  237.276,183.39 236.574,183.293 235.867,183.152 235.157,182.966 234.449,182.737 233.747,182.463 233.055,182.146 232.378,181.786 231.721,181.387 231.087,180.948 \n",
       "  230.482,180.473 229.91,179.964 229.377,179.425 228.888,178.857 228.448,178.267 228.061,177.656 227.73,177.032 227.457,176.397 227.244,175.757 227.095,175.116 \n",
       "  227.011,174.479 226.993,173.849 227.043,173.232 227.159,172.631 227.342,172.052 227.591,171.498 227.904,170.974 228.279,170.485 228.714,170.035 229.204,169.628 \n",
       "  229.747,169.269 230.337,168.962 230.971,168.709 231.641,168.508 232.342,168.36 233.069,168.267 233.817,168.228 234.579,168.243 235.351,168.311 236.128,168.432 \n",
       "  236.904,168.603 237.674,168.823 238.434,169.09 239.177,169.4 239.9,169.75 240.596,170.137 241.263,170.556 241.895,171.004 242.49,171.48 243.047,171.979 \n",
       "  243.562,172.499 244.033,173.036 244.459,173.588 244.837,174.15 245.166,174.72 245.445,175.296 245.673,175.873 245.849,176.449 245.973,177.021 246.045,177.587 \n",
       "  246.064,178.143 246.032,178.688 245.949,179.217 245.816,179.729 245.635,180.222 245.406,180.695 245.13,181.144 244.807,181.568 244.439,181.964 244.026,182.33 \n",
       "  243.57,182.664 243.072,182.964 242.536,183.229 241.963,183.456 241.356,183.644 240.718,183.792 240.052,183.899 239.361,183.963 238.65,183.983 237.922,183.958 \n",
       "  237.181,183.888 236.43,183.774 235.672,183.614 234.914,183.407 234.158,183.153 233.41,182.853 232.675,182.507 231.957,182.116 231.26,181.681 230.591,181.205 \n",
       "  229.953,180.69 229.352,180.138 228.792,179.553 228.279,178.939 227.818,178.299 227.413,177.639 227.07,176.962 226.793,176.276 226.583,175.586 226.441,174.896 \n",
       "  226.37,174.213 226.369,173.541 226.441,172.884 226.584,172.247 226.798,171.635 227.082,171.052 227.434,170.503 227.852,169.992 228.332,169.522 228.872,169.099 \n",
       "  229.466,168.726 230.111,168.407 230.802,168.145 231.532,167.945 232.294,167.805 233.083,167.723 233.891,167.699 234.714,167.733 235.544,167.823 236.376,167.967 \n",
       "  237.205,168.166 238.025,168.416 238.831,168.714 239.618,169.059 240.382,169.446 241.117,169.872 241.819,170.333 242.485,170.825 243.109,171.343 243.69,171.882 \n",
       "  244.225,172.442 244.713,173.02 245.152,173.611 245.54,174.213 245.876,174.821 246.158,175.434 246.387,176.047 246.56,176.658 246.678,177.264 246.742,177.862 \n",
       "  246.75,178.45 246.703,179.024 246.602,179.582 246.448,180.121 246.243,180.64 245.988,181.137 245.684,181.609 245.333,182.054 244.934,182.47 244.489,182.854 \n",
       "  243.999,183.204 243.466,183.517 242.891,183.793 242.277,184.029 241.626,184.224 240.942,184.375 240.227,184.483 239.486,184.544 238.722,184.559 237.939,184.526 \n",
       "  237.143,184.445 236.338,184.314 235.528,184.134 234.716,183.905 233.907,183.628 233.107,183.302 232.321,182.927 231.554,182.504 230.811,182.035 230.099,181.522 \n",
       "  229.422,180.966 228.785,180.372 228.194,179.741 227.653,179.079 227.168,178.388 226.743,177.676 226.383,176.945 226.092,176.204 225.877,175.457 225.737,174.713 \n",
       "  225.674,173.976 225.689,173.254 225.781,172.55 225.95,171.87 226.195,171.218 226.515,170.6 226.907,170.02 227.369,169.482 227.897,168.99 228.487,168.549 \n",
       "  229.136,168.161 229.837,167.83 230.587,167.56 231.378,167.354 232.204,167.215 233.057,167.143 233.93,167.133 234.816,167.184 235.709,167.296 236.602,167.466 \n",
       "  237.489,167.692 238.364,167.971 239.222,168.302 240.058,168.681 240.867,169.105 241.644,169.57 242.385,170.071 243.086,170.605 243.743,171.166 244.352,171.75 \n",
       "  244.911,172.352 245.42,172.971 245.875,173.604 246.276,174.246 246.622,174.895 246.911,175.547 247.142,176.199 247.316,176.848 247.431,177.491 247.488,178.124 \n",
       "  247.487,178.745 247.428,179.352 247.312,179.941 247.141,180.511 246.914,181.059 246.634,181.582 246.304,182.079 245.925,182.548 245.496,182.987 245.02,183.391 \n",
       "  244.496,183.76 243.926,184.091 243.312,184.382 242.657,184.63 241.963,184.834 241.233,184.993 240.47,185.104 239.678,185.167 238.861,185.18 238.023,185.143 \n",
       "  237.17,185.054 236.307,184.912 235.439,184.717 234.571,184.47 233.707,184.17 232.85,183.818 232.008,183.415 231.186,182.961 230.391,182.457 229.628,181.905 \n",
       "  228.904,181.308 228.223,180.669 227.592,179.992 227.015,179.279 226.499,178.536 226.047,177.769 225.665,176.983 225.358,176.183 225.13,175.378 224.985,174.575 \n",
       "  224.925,173.781 224.949,173.002 225.057,172.245 225.249,171.515 225.522,170.817 225.876,170.156 226.307,169.538 226.813,168.965 227.389,168.444 228.033,167.977 \n",
       "  228.738,167.569 229.499,167.223 230.311,166.943 231.166,166.731 232.058,166.59 232.979,166.522 233.921,166.524 234.875,166.591 235.834,166.723 236.792,166.916 \n",
       "  237.742,167.169 238.677,167.479 239.593,167.843 240.483,168.258 241.343,168.719 242.168,169.223 242.953,169.766 243.694,170.341 244.387,170.946 245.029,171.573 \n",
       "  245.617,172.219 246.151,172.881 246.627,173.557 247.046,174.242 247.405,174.934 247.705,175.628 247.943,176.321 248.12,177.01 248.236,177.692 248.29,178.363 \n",
       "  248.283,179.021 248.215,179.664 248.088,180.288 247.901,180.891 247.657,181.47 247.357,182.024 247.004,182.551 246.599,183.048 246.142,183.512 245.634,183.941 \n",
       "  245.076,184.333 244.469,184.684 243.816,184.993 243.119,185.257 242.38,185.475 241.602,185.645 240.789,185.765 239.946,185.834 239.075,185.85 238.182,185.812 \n",
       "  237.273,185.72 236.351,185.572 235.424,185.367 234.497,185.105 233.572,184.788 232.654,184.414 231.752,183.985 230.87,183.502 230.016,182.964 229.196,182.374 \n",
       "  228.417,181.736 227.684,181.051 227.003,180.324 226.381,179.559 225.823,178.761 225.335,177.936 224.922,177.09 224.59,176.23 224.344,175.364 224.188,174.499 \n",
       "  224.123,173.645 224.148,172.807 224.265,171.992 224.472,171.205 224.767,170.454 225.149,169.742 225.615,169.075 226.162,168.459 226.785,167.897 227.48,167.396 \n",
       "  228.242,166.958 229.065,166.588 229.942,166.29 230.865,166.067 231.828,165.923 232.82,165.858 233.834,165.865 234.859,165.943 235.89,166.09 236.918,166.304 \n",
       "  237.936,166.582 238.939,166.921 239.919,167.318 240.871,167.768 241.789,168.267 242.668,168.812 243.504,169.395 244.292,170.013 245.028,170.659 245.709,171.329 \n",
       "  246.332,172.019 246.897,172.726 247.402,173.448 247.845,174.178 248.224,174.914 248.54,175.653 248.792,176.39 248.978,177.122 249.1,177.846 249.156,178.559 \n",
       "  249.149,179.258 249.077,179.94 248.942,180.603 248.746,181.243 248.489,181.86 248.176,182.45 247.805,183.011 247.378,183.54 246.895,184.035 246.357,184.493 \n",
       "  245.765,184.911 245.122,185.288 244.429,185.62 243.689,185.906 242.905,186.143 242.08,186.33 241.219,186.465 240.324,186.547 239.401,186.573 238.455,186.542 \n",
       "  237.49,186.453 236.512,186.305 235.525,186.097 234.533,185.83 233.543,185.502 232.56,185.113 231.591,184.663 230.643,184.152 229.723,183.583 228.837,182.957 \n",
       "  227.991,182.278 227.194,181.547 226.451,180.771 225.77,179.953 225.157,179.099 224.619,178.215 224.165,177.308 223.799,176.385 223.524,175.457 223.344,174.531 \n",
       "  223.26,173.612 223.274,172.71 223.386,171.829 223.596,170.976 223.902,170.159 224.303,169.382 224.796,168.653 225.378,167.978 226.044,167.362 226.789,166.811 \n",
       "  227.607,166.331 228.493,165.928 229.438,165.606 230.433,165.37 231.469,165.216 232.536,165.141 233.625,165.145 234.727,165.227 235.834,165.384 236.939,165.614 \n",
       "  238.034,165.913 239.111,166.279 240.164,166.706 241.187,167.191 242.173,167.727 243.117,168.309 244.012,168.932 244.855,169.587 245.643,170.274 246.372,170.988 \n",
       "  247.041,171.724 247.647,172.479 248.189,173.247 248.665,174.025 249.074,174.809 249.415,175.595 249.687,176.379 249.891,177.158 250.026,177.928 250.093,178.687 \n",
       "  250.092,179.431 250.024,180.157 249.891,180.864 249.694,181.548 249.434,182.207 249.111,182.838 248.726,183.439 248.28,184.006 247.773,184.537 247.208,185.03 \n",
       "  246.586,185.482 245.91,185.891 245.182,186.254 244.404,186.569 243.581,186.834 242.715,187.048 241.81,187.207 240.87,187.31 239.9,187.355 238.903,187.342 \n",
       "  237.882,187.269 236.844,187.133 235.793,186.932 234.734,186.666 233.674,186.332 232.618,185.932 231.574,185.466 230.549,184.934 229.548,184.339 228.581,183.682 \n",
       "  227.654,182.967 226.777,182.197 225.957,181.376 225.204,180.509 224.525,179.601 223.926,178.662 223.412,177.697 222.989,176.714 222.664,175.72 222.439,174.723 \n",
       "  222.318,173.729 222.303,172.746 222.396,171.782 222.596,170.845 222.903,169.941 223.315,169.081 223.83,168.271 224.444,167.52 225.152,166.837 225.948,166.23 \n",
       "  226.826,165.707 227.776,165.269 228.789,164.915 229.854,164.648 230.963,164.468 232.106,164.375 233.275,164.369 234.459,164.448 235.652,164.61 236.843,164.852 \n",
       "  238.025,165.169 239.188,165.557 240.326,166.011 241.428,166.523 242.489,167.088 243.503,167.702 244.467,168.361 245.376,169.058 246.226,169.789 247.015,170.549 \n",
       "  247.739,171.333 248.396,172.137 248.984,172.955 249.501,173.783 249.947,174.618 250.321,175.454 250.621,176.289 250.849,177.118 251.005,177.939 251.09,178.746 \n",
       "  251.105,179.539 251.05,180.314 250.926,181.069 250.732,181.8 250.471,182.505 250.142,183.182 249.748,183.826 249.288,184.437 248.766,185.01 248.182,185.545 \n",
       "  247.539,186.037 246.839,186.485 246.085,186.887 245.279,187.24 244.425,187.541 243.526,187.791 242.584,187.987 241.604,188.124 240.587,188.2 239.537,188.213 \n",
       "  238.459,188.159 237.356,188.038 236.235,187.847 235.102,187.586 233.962,187.255 232.822,186.853 231.691,186.381 230.575,185.84 229.484,185.23 228.427,184.554 \n",
       "  227.413,183.812 226.451,183.009 225.545,182.15 224.704,181.241 223.939,180.285 223.257,179.29 222.666,178.261 222.174,177.205 221.785,176.131 221.504,175.045 \n",
       "  221.336,173.957 221.283,172.876 221.347,171.812 221.529,170.775 221.829,169.776 222.246,168.826 222.778,167.938 223.42,167.118 224.164,166.372 225.003,165.705 \n",
       "  225.928,165.123 226.931,164.63 228.004,164.228 229.136,163.919 230.32,163.705 231.544,163.585 232.8,163.56 234.077,163.627 235.363,163.784 236.648,164.026 \n",
       "  237.921,164.351 239.173,164.751 240.396,165.222 241.583,165.758 242.728,166.352 243.825,167 244.868,167.697 245.853,168.436 246.775,169.212 247.63,170.021 \n",
       "  248.416,170.856 249.13,171.712 249.771,172.583 250.336,173.466 250.826,174.354 251.24,175.242 251.578,176.126 251.841,177.006 252.028,177.877 252.14,178.737 \n",
       "  252.178,179.582 252.14,180.409 252.03,181.215 251.846,181.996 251.591,182.752 251.266,183.477 250.871,184.17 250.409,184.829 249.881,185.451 249.288,186.033 \n",
       "  248.636,186.574 247.929,187.073 247.165,187.525 246.345,187.927 245.471,188.276 244.543,188.569 243.565,188.803 242.538,188.975 241.467,189.083 240.355,189.124 \n",
       "  239.208,189.097 238.031,189.001 236.83,188.832 235.612,188.591 234.385,188.276 233.155,187.887 231.933,187.422 230.728,186.882 229.549,186.265 228.401,185.576 \n",
       "  227.29,184.816 226.227,183.988 225.223,183.096 224.286,182.143 223.427,181.134 222.654,180.076 221.974,178.975 221.396,177.839 220.925,176.676 220.569,175.498 \n",
       "  220.332,174.314 220.22,173.136 220.238,171.976 220.387,170.848 220.666,169.764 221.072,168.731 221.599,167.758 222.243,166.853 222.998,166.022 223.857,165.272 \n",
       "  224.813,164.608 225.857,164.034 226.981,163.556 228.176,163.176 229.432,162.898 230.738,162.724 232.081,162.655 233.451,162.692 234.833,162.831 236.216,163.064 \n",
       "  237.589,163.384 238.943,163.788 240.269,164.269 241.558,164.822 242.804,165.441 243.999,166.12 245.137,166.853 246.213,167.634 247.223,168.455 248.164,169.309 \n",
       "  249.031,170.19 249.822,171.091 250.536,172.009 251.171,172.941 251.727,173.88 252.204,174.824 252.6,175.767 252.916,176.706 253.152,177.637 253.308,178.557 \n",
       "  253.385,179.461 253.383,180.348 253.304,181.213 253.148,182.055 252.917,182.87 252.612,183.657 252.238,184.413 251.793,185.135 251.279,185.819 250.695,186.464 \n",
       "  250.043,187.066 249.323,187.623 248.538,188.131 247.69,188.588 246.781,188.992 245.815,189.339 244.794,189.626 243.722,189.852 242.604,190.014 241.445,190.108 \n",
       "  240.248,190.133 239.02,190.086 237.765,189.965 236.487,189.769 235.194,189.496 233.891,189.141 232.587,188.705 231.29,188.185 230.007,187.582 228.748,186.898 \n",
       "  227.521,186.133 226.337,185.29 225.206,184.373 224.138,183.386 223.145,182.334 222.236,181.224 221.425,180.063 220.718,178.862 220.124,177.632 219.65,176.382 \n",
       "  219.302,175.121 219.085,173.859 219.004,172.607 219.059,171.374 219.254,170.17 219.586,169.007 220.055,167.893 220.657,166.842 221.389,165.862 222.245,164.965 \n",
       "  223.217,164.162 224.298,163.466 225.477,162.883 226.739,162.411 228.071,162.052 229.46,161.806 230.894,161.673 232.359,161.652 233.845,161.739 235.338,161.933 \n",
       "  236.829,162.228 238.306,162.618 239.758,163.096 241.176,163.656 242.547,164.286 243.865,164.981 245.124,165.735 246.319,166.542 247.445,167.395 248.498,168.286 \n",
       "  249.474,169.211 250.372,170.162 251.188,171.135 251.92,172.123 252.568,173.122 253.13,174.126 253.606,175.132 253.996,176.135 254.302,177.13 254.524,178.115 \n",
       "  254.664,179.086 254.722,180.041 254.698,180.976 254.593,181.889 254.408,182.776 254.144,183.634 253.803,184.462 253.385,185.254 252.892,186.011 252.326,186.727 \n",
       "  251.687,187.402 250.979,188.031 250.204,188.614 249.362,189.146 248.459,189.628 247.496,190.055 246.475,190.424 245.396,190.73 244.262,190.97 243.076,191.142 \n",
       "  241.842,191.241 240.563,191.265 239.245,191.212 237.895,191.078 236.517,190.863 235.121,190.564 233.713,190.18 232.303,189.709 230.9,189.151 229.515,188.504 \n",
       "  228.156,187.768 226.83,186.948 225.55,186.044 224.327,185.061 223.175,184 222.104,182.867 221.127,181.668 220.254,180.41 219.493,179.103 218.854,177.755 \n",
       "  218.346,176.378 217.976,174.983 217.751,173.586 217.677,172.2 217.76,170.84 218.001,169.525 218.397,168.265 218.942,167.072 219.631,165.956 220.458,164.927 \n",
       "  221.414,163.992 222.491,163.158 223.679,162.433 224.968,161.822 226.346,161.329 227.8,160.957 229.316,160.711 230.881,160.591 232.479,160.599 234.093,160.728 \n",
       "  235.71,160.968 237.318,161.313 238.904,161.758 240.458,162.294 241.97,162.915 243.431,163.614 244.833,164.383 246.169,165.214 247.434,166.1 248.622,167.032 \n",
       "  249.73,168.001 250.754,168.999 251.691,170.02 252.541,171.061 253.301,172.117 253.972,173.182 254.554,174.251 255.046,175.32 255.449,176.385 255.762,177.441 \n",
       "  255.987,178.485 256.124,179.513 256.175,180.522 256.139,181.51 256.02,182.474 255.818,183.411 255.537,184.318 255.176,185.193 254.736,186.033 254.216,186.834 \n",
       "  253.62,187.595 252.946,188.313 252.198,188.984 251.377,189.606 250.484,190.176 249.523,190.691 248.496,191.147 247.405,191.542 246.254,191.873 245.047,192.137 \n",
       "  243.787,192.331 242.477,192.452 241.122,192.497 239.725,192.461 238.292,192.339 236.828,192.13 235.341,191.83 233.837,191.436 232.326,190.948 230.816,190.365 \n",
       "  229.318,189.686 227.843,188.912 226.402,188.043 225.008,187.082 223.674,186.03 222.408,184.894 221.224,183.681 220.136,182.397 219.159,181.049 218.305,179.648 \n",
       "  217.585,178.202 217.008,176.722 216.582,175.219 216.315,173.707 216.21,172.2 216.272,170.711 216.503,169.257 216.904,167.855 217.473,166.522 218.209,165.277 \n",
       "  219.103,164.132 220.144,163.096 221.319,162.176 222.617,161.382 224.023,160.717 225.525,160.186 227.107,159.792 228.756,159.534 230.456,159.412 232.192,159.423 \n",
       "  233.947,159.564 235.704,159.828 237.447,160.208 239.163,160.695 240.843,161.28 242.475,161.956 244.051,162.713 245.562,163.544 247,164.439 248.36,165.39 \n",
       "  249.636,166.391 250.823,167.432 251.919,168.506 252.921,169.607 253.828,170.726 254.64,171.856 255.358,172.991 255.98,174.127 256.507,175.263 256.94,176.393 \n",
       "  257.28,177.515 257.527,178.623 257.682,179.716 257.747,180.788 257.724,181.838 257.612,182.862 257.413,183.858 257.129,184.823 256.762,185.755 256.313,186.651 \n",
       "  255.787,187.509 255.183,188.327 254.501,189.1 253.741,189.827 252.903,190.504 251.988,191.128 250.997,191.696 249.933,192.205 248.798,192.652 247.595,193.033 \n",
       "  246.327,193.344 244.998,193.583 243.614,193.746 242.178,193.829 240.696,193.828 239.175,193.74 237.62,193.561 236.036,193.29 234.43,192.923 232.81,192.455 \n",
       "  231.186,191.884 229.569,191.207 227.968,190.425 226.396,189.537 224.866,188.545 223.389,187.452 221.98,186.263 220.654,184.982 219.426,183.615 218.311,182.172 \n",
       "  217.323,180.664 216.474,179.106 215.776,177.512 215.238,175.893 214.869,174.264 214.676,172.637 214.663,171.027 214.832,169.448 215.185,167.914 215.72,166.441 \n",
       "  216.433,165.044 217.321,163.738 218.376,162.54 219.589,161.465 220.951,160.53 222.446,159.746 224.052,159.111 225.751,158.626 227.525,158.292 229.357,158.109 \n",
       "  231.23,158.074 233.127,158.183 235.033,158.429 236.931,158.806 238.807,159.305 240.646,159.913 242.434,160.62 244.159,161.413 245.814,162.287 247.391,163.232 \n",
       "  248.885,164.238 250.29,165.296 251.603,166.398 252.819,167.536 253.935,168.702 254.95,169.89 255.863,171.092 256.673,172.303 257.38,173.518 257.986,174.731 \n",
       "  258.492,175.938 258.901,177.136 259.211,178.321 259.426,179.49 259.545,180.639 259.571,181.767 259.506,182.869 259.349,183.943 259.103,184.986 258.769,185.996 \n",
       "  258.348,186.97 257.842,187.905 257.253,188.8 256.581,189.651 255.83,190.458 255.006,191.217 254.105,191.924 253.127,192.577 252.072,193.172 250.938,193.705 \n",
       "  249.728,194.172 248.444,194.57 247.087,194.895 245.662,195.143 244.173,195.311 242.625,195.393 241.023,195.388 239.375,195.29 237.688,195.095 235.969,194.8 \n",
       "  234.228,194.4 232.476,193.891 230.718,193.272 228.964,192.542 227.226,191.698 225.519,190.739 223.856,189.665 222.254,188.476 220.726,187.179 219.288,185.777 \n",
       "  217.955,184.279 216.742,182.693 215.667,181.031 214.744,179.307 213.99,177.534 213.422,175.734 213.049,173.93 212.874,172.139 212.9,170.376 213.127,168.657 \n",
       "  213.553,166.998 214.176,165.412 214.99,163.914 215.989,162.519 217.165,161.24 218.508,160.092 220.006,159.086 221.647,158.236 223.415,157.555 225.294,157.055 \n",
       "  227.258,156.732 229.28,156.575 231.341,156.579 233.42,156.739 235.499,157.045 237.562,157.491 239.594,158.067 241.58,158.762 243.507,159.564 245.364,160.46 \n",
       "  247.14,161.437 248.828,162.481 250.42,163.585 251.912,164.741 253.302,165.94 254.586,167.172 255.764,168.432 256.834,169.71 257.795,171.001 258.647,172.298 \n",
       "  259.39,173.596 260.026,174.891 260.555,176.177 260.98,177.452 261.304,178.712 261.527,179.953 261.651,181.173 261.679,182.369 261.611,183.539 261.45,184.679 \n",
       "  261.195,185.787 260.85,186.861 260.414,187.898 259.891,188.896 259.28,189.852 258.584,190.764 257.803,191.63 256.939,192.446 255.995,193.212 254.972,193.922 \n",
       "  253.869,194.575 252.684,195.165 251.42,195.689 250.077,196.143 248.658,196.523 247.165,196.824 245.602,197.043 243.973,197.175 242.284,197.216 240.54,197.16 \n",
       "  238.748,197.003 236.915,196.74 235.049,196.365 233.157,195.878 231.248,195.275 229.336,194.549 227.432,193.698 225.552,192.718 223.709,191.608 221.92,190.371 \n",
       "  220.201,189.008 218.568,187.527 217.04,185.934 215.635,184.237 214.373,182.448 213.273,180.58 212.356,178.648 211.635,176.678 211.122,174.689 210.824,172.7 \n",
       "  210.749,170.73 210.899,168.796 211.277,166.917 211.881,165.113 212.707,163.4 213.749,161.798 214.998,160.326 216.443,159 218.069,157.839 219.862,156.862 \n",
       "  221.8,156.084 223.856,155.499 226.002,155.103 228.216,154.893 230.474,154.865 232.755,155.012 235.04,155.326 237.308,155.797 239.543,156.413 241.728,157.16 \n",
       "  243.848,158.022 245.887,158.983 247.836,160.03 249.687,161.154 251.435,162.344 253.075,163.59 254.603,164.88 256.016,166.206 257.313,167.558 258.493,168.93 \n",
       "  259.554,170.313 260.497,171.702 261.324,173.091 262.038,174.476 262.64,175.851 263.133,177.213 263.518,178.56 263.798,179.887 263.974,181.192 264.05,182.473 \n",
       "  264.027,183.726 263.906,184.949 263.689,186.14 263.378,187.296 262.975,188.416 262.48,189.497 261.896,190.538 261.225,191.535 260.471,192.488 259.634,193.392 \n",
       "  258.709,194.246 257.697,195.047 256.597,195.791 255.408,196.474 254.131,197.094 252.768,197.647 251.32,198.127 249.79,198.532 248.181,198.855 246.497,199.092 \n",
       "  244.743,199.239 242.923,199.289 241.044,199.236 239.111,199.076 237.133,198.801 235.113,198.41 233.06,197.895 230.986,197.251 228.902,196.47 226.822,195.55 \n",
       "  224.761,194.488 222.735,193.283 220.762,191.938 218.86,190.454 217.051,188.837 215.356,187.092 213.798,185.229 212.399,183.261 211.177,181.209 210.152,179.09 \n",
       "  209.343,176.924 208.762,174.731 208.422,172.53 208.33,170.342 208.492,168.188 208.91,166.091 209.584,164.073 210.51,162.158 211.681,160.37 213.089,158.734 \n",
       "  214.721,157.275 216.561,156.018 218.581,154.973 220.751,154.138 223.043,153.519 225.431,153.112 227.889,152.917 230.393,152.926 232.918,153.132 235.442,153.522 \n",
       "  237.942,154.083 240.396,154.798 242.784,155.646 245.089,156.614 247.302,157.69 249.413,158.858 251.414,160.106 253.299,161.419 255.063,162.787 256.701,164.197 \n",
       "  258.211,165.64 259.592,167.106 260.844,168.587 261.969,170.076 262.969,171.567 263.848,173.054 264.608,174.532 265.249,175.999 265.776,177.45 266.192,178.883 \n",
       "  266.498,180.295 266.698,181.682 266.794,183.042 266.788,184.373 266.682,185.672 266.478,186.938 266.179,188.17 265.785,189.364 265.3,190.521 264.726,191.637 \n",
       "  264.062,192.71 263.307,193.739 262.461,194.721 261.524,195.654 260.494,196.535 259.373,197.361 258.161,198.128 256.859,198.834 255.468,199.473 253.989,200.042 \n",
       "  252.424,200.537 250.775,200.952 249.044,201.282 247.235,201.521 245.349,201.667 243.388,201.711 241.357,201.645 239.259,201.462 237.103,201.155 234.896,200.717 \n",
       "  232.649,200.143 230.374,199.426 228.084,198.562 225.796,197.547 223.526,196.377 221.294,195.048 219.113,193.563 217.004,191.925 214.996,190.138 213.12,188.208 \n",
       "  211.401,186.142 209.863,183.953 208.53,181.656 207.421,179.269 206.555,176.814 205.949,174.313 205.616,171.795 205.57,169.291 205.82,166.833 206.375,164.459 \n",
       "  207.238,162.207 208.395,160.106 209.827,158.177 211.514,156.442 213.435,154.917 215.567,153.614 217.885,152.544 220.362,151.713 222.968,151.125 225.674,150.779 \n",
       "  228.447,150.671 231.253,150.795 234.06,151.136 236.845,151.672 239.584,152.384 242.257,153.255 244.846,154.269 247.334,155.407 249.71,156.653 251.964,157.992 \n",
       "  254.087,159.406 256.076,160.879 257.927,162.397 259.641,163.946 261.214,165.518 262.648,167.108 263.945,168.707 265.108,170.309 266.139,171.908 267.042,173.498 \n",
       "  267.82,175.075 268.474,176.634 269.01,178.174 269.43,179.69 269.737,181.181 269.937,182.644 270.031,184.079 270.023,185.482 269.914,186.853 269.707,188.19 \n",
       "  269.403,189.492 269.003,190.756 268.51,191.981 267.923,193.167 267.245,194.309 266.476,195.409 265.617,196.462 264.668,197.468 263.629,198.423 262.498,199.326 \n",
       "  261.273,200.172 259.955,200.959 258.542,201.682 257.035,202.339 255.433,202.922 253.738,203.429 251.951,203.853 250.073,204.189 248.105,204.43 246.05,204.57 \n",
       "  243.914,204.605 241.699,204.524 239.408,204.318 237.048,203.976 234.628,203.491 232.157,202.855 229.65,202.059 227.121,201.1 224.587,199.97 222.068,198.667 \n",
       "  219.586,197.185 217.165,195.522 214.829,193.679 212.597,191.663 210.504,189.482 208.587,187.144 206.875,184.665 205.398,182.061 204.181,179.353 203.247,176.567 \n",
       "  202.616,173.732 202.304,170.88 202.326,168.049 202.69,165.279 203.407,162.614 204.475,160.101 205.876,157.769 207.587,155.647 209.585,153.757 211.843,152.116 \n",
       "  214.333,150.74 217.023,149.638 219.88,148.815 222.87,148.274 225.954,148.011 229.092,148.02 232.244,148.287 235.381,148.785 238.475,149.493 241.499,150.389 \n",
       "  244.434,151.45 247.259,152.657 249.961,153.99 252.526,155.428 254.946,156.952 257.217,158.544 259.335,160.184 261.299,161.858 263.107,163.561 264.762,165.281 \n",
       "  266.266,167.01 267.624,168.742 268.838,170.468 269.912,172.183 270.85,173.883 271.657,175.564 272.337,177.221 272.895,178.855 273.336,180.461 273.664,182.038 \n",
       "  273.883,183.586 273.997,185.101 274.007,186.584 273.918,188.033 273.732,189.447 273.45,190.825 273.075,192.165 272.608,193.468 272.051,194.732 271.405,195.956 \n",
       "  270.669,197.138 269.844,198.278 268.926,199.373 267.917,200.421 266.814,201.421 265.616,202.369 264.323,203.263 262.933,204.099 261.446,204.873 259.86,205.582 \n",
       "  258.176,206.22 256.391,206.783 254.507,207.266 252.521,207.661 250.432,207.962 248.24,208.159 245.948,208.245 243.559,208.212 241.079,208.049 238.515,207.748 \n",
       "  235.874,207.298 233.168,206.69 230.406,205.912 227.601,204.96 224.771,203.827 221.937,202.498 219.125,200.96 216.361,199.207 213.672,197.235 211.088,195.048 \n",
       "  208.641,192.652 206.363,190.058 204.291,187.281 202.461,184.344 200.912,181.27 199.684,178.09 198.811,174.841 198.311,171.573 198.199,168.327 198.485,165.145 \n",
       "  199.174,162.066 200.262,159.129 201.741,156.373 203.596,153.835 205.803,151.551 208.335,149.556 211.156,147.885 214.225,146.568 217.491,145.596 220.902,144.958 \n",
       "  224.415,144.645 227.985,144.645 231.573,144.939 235.143,145.506 238.66,146.321 242.096,147.354 245.421,148.573 248.613,149.94 251.655,151.437 254.539,153.044 \n",
       "  257.256,154.739 259.803,156.503 262.176,158.318 264.372,160.168 266.393,162.042 268.242,163.926 269.922,165.812 271.439,167.692 272.8,169.561 274.01,171.412 \n",
       "  275.075,173.242 276.003,175.048 276.798,176.828 277.468,178.578 278.017,180.297 278.451,181.983 278.775,183.636 278.993,185.254 279.109,186.838 279.129,188.387 \n",
       "  279.055,189.9 278.891,191.379 278.636,192.821 278.293,194.228 277.863,195.598 277.345,196.931 276.742,198.227 276.054,199.484 275.279,200.702 274.42,201.88 \n",
       "  273.474,203.017 272.441,204.111 271.317,205.161 270.1,206.164 268.787,207.117 267.376,208.019 265.864,208.865 264.248,209.651 262.527,210.374 260.697,211.026 \n",
       "  258.756,211.604 256.703,212.102 254.54,212.513 252.262,212.828 249.866,213.039 247.351,213.132 244.718,213.099 241.972,212.927 239.117,212.604 236.164,212.118 \n",
       "  233.122,211.457 230.005,210.608 226.83,209.557 223.614,208.291 220.378,206.795 217.141,205.069 213.94,203.099 210.813,200.871 207.8,198.382 204.942,195.635 \n",
       "  202.28,192.638 199.856,189.408 197.715,185.969 195.9,182.353 194.456,178.598 193.431,174.748 192.868,170.86 192.788,167.007 193.196,163.243 194.09,159.619 \n",
       "  195.463,156.183 197.299,152.98 199.577,150.054 202.267,147.444 205.334,145.189 208.735,143.323 212.42,141.878 216.33,140.88 220.396,140.3 224.555,140.109 \n",
       "  228.752,140.284 232.939,140.795 237.071,141.614 241.112,142.704 245.028,144.03 248.793,145.55 252.384,147.22 255.786,149.013 258.99,150.907 261.991,152.877 \n",
       "  264.789,154.902 267.382,156.964 269.773,159.045 271.964,161.132 273.963,163.214 275.776,165.283 277.414,167.333 278.883,169.357 280.192,171.353 281.351,173.316 \n",
       "  282.368,175.246 283.252,177.139 284.009,178.996 284.647,180.814 285.173,182.594 285.594,184.335 285.916,186.039 286.146,187.705 286.287,189.334 286.343,190.927 \n",
       "  286.316,192.484 286.21,194.006 286.027,195.492 285.768,196.944 285.436,198.362 285.033,199.746 284.558,201.097 284.015,202.416 283.402,203.702 282.716,204.954 \n",
       "  281.957,206.174 281.123,207.361 280.21,208.513 279.217,209.63 278.14,210.712 276.977,211.756 275.725,212.76 274.378,213.724 272.936,214.643 271.391,215.517 \n",
       "  269.738,216.34 267.973,217.109 266.09,217.82 264.085,218.467 261.953,219.042 259.691,219.538 257.295,219.947 254.761,220.26 252.087,220.466 249.271,220.555 \n",
       "  246.32,220.519 243.229,220.34 239.996,219.996 236.623,219.468 233.119,218.739 229.497,217.788 225.774,216.599 221.974,215.153 218.124,213.434 214.257,211.424 \n",
       "  210.411,209.108 206.63,206.47 202.953,203.502 199.43,200.21 196.133,196.596 193.132,192.672 190.492,188.462 188.272,184.002 186.528,179.339 185.311,174.532 \n",
       "  184.667,169.652 184.636,164.783 185.256,160.019 186.537,155.459 188.454,151.185 190.975,147.267 194.062,143.764 197.663,140.726 201.718,138.19 206.159,136.187 \n",
       "  210.906,134.733 215.872,133.837 220.966,133.481 226.117,133.607 231.254,134.17 236.317,135.122 241.255,136.413 246.026,137.994 250.596,139.811 254.941,141.814 \n",
       "  259.046,143.948 262.898,146.18 266.493,148.485 269.835,150.836 272.925,153.209 275.77,155.586 278.377,157.95 280.757,160.291 282.921,162.6 284.883,164.87 \n",
       "  286.656,167.098 288.251,169.279 289.683,171.413 290.962,173.497 292.101,175.531 293.111,177.515 294.002,179.45 294.785,181.337 295.469,183.177 296.062,184.971 \n",
       "  296.572,186.72 297.006,188.426 297.37,190.09 297.67,191.713 297.913,193.297 298.103,194.844 298.245,196.355 298.34,197.831 298.393,199.272 298.407,200.682 \n",
       "  298.383,202.06 298.323,203.407 298.23,204.726 298.104,206.017 297.945,207.28 297.755,208.517 297.533,209.729 297.28,210.916 296.994,212.08 296.677,213.221 \n",
       "  296.326,214.34 295.941,215.438 295.519,216.515 295.06,217.572 294.562,218.609 294.021,219.626 293.436,220.626 292.804,221.606 292.122,222.569 291.387,223.513 \n",
       "  290.594,224.44 289.741,225.349 288.821,226.239 287.832,227.111 286.767,227.964 285.621,228.796 284.389,229.607 283.064,230.395 281.64,231.159 280.109,231.898 \n",
       "  278.463,232.607 276.694,233.284 274.794,233.925 272.755,234.524 270.567,235.075 268.222,235.571 265.709,236.003 263.02,236.364 260.149,236.643 257.088,236.826 \n",
       "  253.822,236.899 250.341,236.843 246.64,236.638 242.716,236.26 238.571,235.684 234.21,234.881 229.645,233.82 224.89,232.468 219.962,230.788 214.885,228.747 \n",
       "  209.7,226.319 204.455,223.446 199.21,220.081 194.038,216.193 189.02,211.768 184.25,206.805 179.833,201.32 175.883,195.343 172.527,188.92 169.893,182.123 \n",
       "  168.079,175.08 167.173,167.924 167.237,160.787 168.309,153.806 170.4,147.117 173.492,140.862 177.542,135.185 182.481,130.232 188.211,126.151 194.579,123.001 \n",
       "  201.416,120.767 208.575,119.426 215.92,118.934 223.323,119.226 230.668,120.211 237.849,121.777 244.771,123.793 251.376,126.163 257.633,128.806 263.516,131.64 \n",
       "  269.011,134.596 274.112,137.613 278.821,140.644 283.153,143.653 287.13,146.614 290.77,149.506 294.092,152.313 297.119,155.034 299.878,157.665 302.39,160.206 \n",
       "  304.679,162.654 306.766,165.01 308.672,167.274 310.414,169.448 312.011,171.532 313.48,173.53 314.838,175.445 316.104,177.284 317.291,179.047 318.412,180.738 \n",
       "  319.48,182.359 320.507,183.912 321.504,185.399 322.482,186.822 323.451,188.182 324.42,189.48 325.395,190.716 326.384,191.891 327.395,193.004 328.435,194.054 \n",
       "  329.51,195.043 330.627,195.967 331.795,196.828 333.018,197.623 334.303,198.349 335.654,199.006 337.077,199.588 338.578,200.093 340.162,200.518 341.834,200.858 \n",
       "  343.601,201.108 345.466,201.264 347.435,201.321 349.511,201.273 351.699,201.11 354.003,200.827 356.425,200.415 358.966,199.865 361.625,199.171 364.402,198.323 \n",
       "  367.293,197.312 370.294,196.131 373.4,194.771 376.596,193.229 379.874,191.492 383.218,189.551 386.609,187.402 390.023,185.043 393.433,182.48 396.804,179.722 \n",
       "  400.099,176.78 403.275,173.674 406.287,170.424 409.081,167.058 411.609,163.607 413.828,160.118 415.68,156.643 417.112,153.231 418.084,149.935 418.563,146.805 \n",
       "  418.525,143.892 417.955,141.248 416.848,138.924 415.208,136.972 413.049,135.435 410.413,134.318 407.349,133.621 403.909,133.339 400.148,133.46 396.122,133.962 \n",
       "  391.892,134.815 387.519,135.982 383.069,137.417 378.61,139.066 374.194,140.884 369.863,142.835 365.652,144.883 361.593,146.993 357.712,149.139 354.028,151.296 \n",
       "  350.554,153.445 347.297,155.571 344.258,157.662 341.435,159.713 338.829,161.719 336.433,163.678 334.241,165.59 332.245,167.454 330.435,169.27 328.804,171.039 \n",
       "  327.342,172.764 326.04,174.447 324.888,176.09 323.876,177.694 322.995,179.262 322.236,180.795 321.593,182.293 321.056,183.759 320.621,185.192 320.279,186.594 \n",
       "  320.025,187.965 319.854,189.304 319.761,190.613 319.743,191.89 319.798,193.137 319.922,194.353 320.114,195.537 320.371,196.689 320.693,197.807 321.077,198.892 \n",
       "  321.524,199.94 322.033,200.952 322.606,201.927 323.244,202.863 323.948,203.759 324.722,204.612 325.566,205.422 326.484,206.185 327.478,206.9 328.551,207.563 \n",
       "  329.708,208.172 330.953,208.723 332.29,209.212 333.725,209.637 335.262,209.992 336.907,210.272 338.665,210.471 340.542,210.583 342.543,210.601 344.674,210.517 \n",
       "  346.939,210.324 349.341,210.015 351.888,209.578 354.589,209.001 357.448,208.271 360.468,207.376 363.649,206.303 366.989,205.04 370.481,203.574 374.118,201.893 \n",
       "  377.89,199.984 381.782,197.835 385.778,195.432 389.859,192.772 393.991,189.85 398.136,186.659 402.251,183.2 406.285,179.487 410.182,175.541 413.881,171.392 \n",
       "  417.315,167.08 420.412,162.657 423.092,158.18 425.271,153.719 426.884,149.368 427.877,145.212 428.206,141.328 427.842,137.782 426.772,134.637 424.996,131.947 \n",
       "  422.532,129.76 419.41,128.118 415.678,127.056 411.396,126.601 406.651,126.743 401.555,127.402 396.203,128.525 390.687,130.054 385.088,131.931 379.485,134.091 \n",
       "  373.949,136.466 368.543,138.983 363.327,141.57 358.337,144.187 353.595,146.81 349.119,149.409 344.919,151.963 341.002,154.455 337.369,156.874 334.016,159.213 \n",
       "  330.932,161.473 328.104,163.658 325.518,165.77 323.164,167.811 321.026,169.787 319.088,171.703 317.336,173.562 315.757,175.369 314.335,177.128 313.059,178.844 \n",
       "  311.914,180.52 310.89,182.159 309.973,183.764 309.153,185.337 308.421,186.88 307.768,188.395 307.185,189.883 306.665,191.345 306.199,192.783 305.782,194.196 \n",
       "  305.406,195.586 305.067,196.952 304.76,198.295 304.481,199.616 304.227,200.915 303.993,202.193 303.776,203.449 303.574,204.683 303.382,205.896 303.198,207.089 \n",
       "  303.022,208.26 302.85,209.412 302.681,210.543 302.512,211.655 302.343,212.747 302.172,213.82 301.996,214.874 301.815,215.909 301.627,216.926 301.431,217.926 \n",
       "  301.225,218.908 301.008,219.873 300.778,220.822 300.535,221.754 300.275,222.67 299.999,223.571 299.703,224.457 299.387,225.329 299.049,226.186 298.685,227.03 \n",
       "  298.295,227.86 297.876,228.678 297.425,229.483 296.94,230.275 296.418,231.056 295.856,231.826 295.25,232.584 294.597,233.331 293.893,234.068 293.134,234.794 \n",
       "  292.314,235.509 291.431,236.212 290.477,236.905 289.447,237.586 288.336,238.255 287.136,238.912 285.841,239.554 284.443,240.18 282.933,240.789 281.304,241.376 \n",
       "  279.545,241.941 277.647,242.478 275.602,242.983 273.398,243.451 271.022,243.876 268.46,244.251 265.702,244.565 262.734,244.807 259.548,244.962 256.131,245.012 \n",
       "  252.475,244.939 248.57,244.722 244.407,244.336 239.99,243.76 235.317,242.96 230.381,241.89 225.185,240.506 219.746,238.76 214.095,236.608 208.275,234.002 \n",
       "  202.341,230.898 196.362,227.247 190.421,223.004 184.606,218.127 179.014,212.615 173.805,206.452 169.139,199.652 165.164,192.264 162.017,184.372 159.825,176.096 \n",
       "  158.704,167.592 158.758,159.051 160.082,150.699 162.691,142.777 166.522,135.487 171.496,128.998 177.499,123.445 184.393,118.931 192.006,115.527 200.139,113.269 \n",
       "  208.577,112.138 217.146,112.008 225.686,112.757 234.061,114.257 242.165,116.378 249.912,118.984 257.248,121.932 264.137,125.09 270.56,128.385 276.518,131.745 \n",
       "  282.015,135.109 287.067,138.429 291.691,141.67 295.915,144.811 299.767,147.836 303.274,150.737 306.466,153.512 309.372,156.161 312.019,158.684 314.432,161.084 \n",
       "  316.638,163.364 318.66,165.53 320.522,167.587 322.245,169.54 323.847,171.394 325.348,173.153 326.764,174.821 328.11,176.401 329.403,177.896 330.656,179.309 \n",
       "  331.882,180.642 333.091,181.897 334.294,183.074 335.499,184.175 336.717,185.198 337.955,186.145 339.221,187.015 340.525,187.808 341.871,188.522 343.266,189.155 \n",
       "  344.715,189.706 346.223,190.171 347.795,190.549 349.434,190.835 351.145,191.027 352.93,191.12 354.793,191.113 356.734,190.999 358.755,190.775 360.856,190.434 \n",
       "  363.035,189.972 365.291,189.385 367.619,188.668 370.014,187.817 372.469,186.828 374.977,185.7 377.529,184.43 380.11,183.017 382.705,181.461 385.297,179.761 \n",
       "  387.865,177.922 390.389,175.951 392.844,173.857 395.204,171.653 397.442,169.355 399.528,166.983 401.431,164.558 403.116,162.106 404.559,159.654 405.731,157.236 \n",
       "  406.604,154.884 407.155,152.629 407.366,150.501 407.227,148.53 406.731,146.741 405.88,145.162 404.68,143.819 403.141,142.734 401.284,141.924 399.137,141.386 \n",
       "  396.732,141.116 394.103,141.107 391.286,141.351 388.315,141.833 385.228,142.536 382.062,143.437 378.855,144.511 375.647,145.728 372.471,147.063 369.35,148.498 \n",
       "  366.309,150.011 363.368,151.584 360.545,153.198 357.853,154.839 355.304,156.493 352.906,158.15 350.664,159.799 348.578,161.435 346.649,163.052 344.875,164.645 \n",
       "  343.257,166.213 341.791,167.753 340.472,169.264 339.297,170.743 338.261,172.189 337.36,173.603 336.589,174.982 335.945,176.328 335.42,177.639 335.012,178.916 \n",
       "  334.715,180.156 334.525,181.361 334.44,182.529 334.457,183.659 334.572,184.75 334.784,185.802 335.089,186.811 335.487,187.777 335.976,188.697 336.554,189.571 \n",
       "  337.221,190.394 337.978,191.165 338.825,191.883 339.763,192.543 340.794,193.144 341.918,193.681 343.136,194.152 344.45,194.552 345.861,194.876 347.37,195.12 \n",
       "  348.978,195.28 350.685,195.349 352.494,195.323 354.406,195.196 356.424,194.961 358.546,194.612 360.772,194.142 363.099,193.546 365.524,192.816 368.041,191.948 \n",
       "  370.644,190.934 373.326,189.77 376.077,188.449 378.885,186.972 381.736,185.334 384.61,183.531 387.489,181.563 390.348,179.434 393.162,177.151 395.902,174.726 \n",
       "  398.537,172.173 401.034,169.512 403.356,166.767 405.463,163.962 407.314,161.13 408.867,158.306 410.097,155.533 410.973,152.852 411.469,150.302 411.564,147.916 \n",
       "  411.248,145.728 410.515,143.769 409.369,142.065 407.818,140.644 405.88,139.529 403.579,138.739 400.947,138.292 398.027,138.169 394.871,138.348 391.525,138.812 \n",
       "  388.035,139.539 384.444,140.505 380.796,141.684 377.131,143.047 373.488,144.559 369.906,146.186 366.421,147.889 363.056,149.65 359.828,151.455 356.751,153.284 \n",
       "  353.836,155.123 351.093,156.959 348.528,158.782 346.143,160.582 343.94,162.353 341.915,164.094 340.065,165.801 338.38,167.477 336.861,169.116 335.499,170.72 \n",
       "  334.288,172.288 333.222,173.82 332.293,175.317 331.497,176.778 330.826,178.203 330.276,179.593 329.84,180.948 329.515,182.269 329.294,183.555 329.172,184.805 \n",
       "  329.147,186.018 329.215,187.196 329.375,188.336 329.623,189.438 329.959,190.502 330.38,191.524 330.886,192.504 331.476,193.44 332.149,194.329 332.904,195.169 \n",
       "  333.744,195.958 334.671,196.694 335.685,197.373 336.79,197.994 337.988,198.551 339.281,199.043 340.671,199.463 342.161,199.809 343.754,200.074 345.453,200.253 \n",
       "  347.258,200.341 349.173,200.333 351.203,200.22 353.35,199.996 355.618,199.653 358.007,199.182 360.516,198.575 363.143,197.826 365.884,196.925 368.736,195.864 \n",
       "  371.691,194.636 374.742,193.23 377.878,191.643 381.085,189.872 384.345,187.908 387.637,185.746 390.936,183.384 394.215,180.828 397.439,178.087 400.573,175.177 \n",
       "  403.576,172.116 406.403,168.929 409.007,165.647 411.336,162.305 413.333,158.943 414.959,155.614 416.175,152.374 416.943,149.272 417.232,146.355 417.024,143.667 \n",
       "  416.31,141.248 415.089,139.136 413.369,137.366 411.17,135.97 408.52,134.977 405.456,134.412 402.036,134.252 398.326,134.467 394.386,135.031 390.274,135.917 \n",
       "  386.046,137.092 381.757,138.52 377.458,140.159 373.199,141.966 369.027,143.89 364.985,145.885 361.097,147.934 357.381,150.015 353.853,152.108 350.525,154.194 \n",
       "  347.406,156.261 344.499,158.295 341.805,160.29 339.323,162.241 337.044,164.148 334.96,166.011 333.064,167.831 331.35,169.606 329.808,171.338 328.429,173.028 \n",
       "  327.204,174.678 326.124,176.289 325.18,177.861 324.365,179.397 323.672,180.898 323.092,182.366 322.619,183.8 322.246,185.201 321.967,186.571 321.778,187.908 \n",
       "  321.673,189.214 321.651,190.488 321.706,191.73 321.837,192.939 322.039,194.115 322.312,195.257 322.652,196.364 323.061,197.434 323.538,198.467 324.083,199.462 \n",
       "  324.698,200.418 325.383,201.333 326.141,202.204 326.972,203.031 327.879,203.811 328.864,204.54 329.93,205.216 331.08,205.837 332.319,206.399 333.651,206.898 \n",
       "  335.081,207.331 336.613,207.693 338.251,207.978 340.002,208.182 341.869,208.297 343.857,208.317 345.973,208.234 348.216,208.043 350.593,207.735 353.111,207.298 \n",
       "  355.777,206.72 358.594,205.991 361.564,205.098 364.684,204.03 367.952,202.777 371.361,201.325 374.9,199.665 378.56,197.785 382.326,195.673 386.182,193.319 \n",
       "  390.105,190.723 394.063,187.879 398.019,184.783 401.927,181.442 405.741,177.867 409.408,174.082 412.869,170.118 416.063,166.014 418.923,161.819 421.377,157.589 \n",
       "  423.348,153.391 424.77,149.31 425.6,145.43 425.804,141.817 425.36,138.533 424.259,135.629 422.506,133.153 420.118,131.146 417.124,129.641 413.568,128.666 \n",
       "  409.505,128.241 405.005,128.377 400.172,129.004 395.099,130.062 389.871,131.498 384.566,133.257 379.256,135.283 374.003,137.516 368.867,139.896 363.898,142.362 \n",
       "  359.138,144.855 354.611,147.358 350.331,149.848 346.31,152.304 342.552,154.709 339.061,157.054 335.835,159.329 332.866,161.533 330.143,163.667 327.653,165.736 \n",
       "  325.386,167.742 323.328,169.686 321.466,171.573 319.786,173.407 318.274,175.193 316.918,176.932 315.707,178.629 314.627,180.287 313.669,181.909 312.82,183.497 \n",
       "  312.071,185.053 311.412,186.578 310.837,188.075 310.337,189.545 309.904,190.988 309.534,192.406 309.219,193.798 308.953,195.166 308.731,196.508 308.551,197.827 \n",
       "  308.408,199.122 308.3,200.393 308.223,201.64 308.176,202.864 308.156,204.065 308.161,205.242 308.189,206.396 308.239,207.526 308.311,208.634 308.405,209.718 \n",
       "  308.519,210.779 308.653,211.817 308.807,212.832 308.982,213.824 309.177,214.792 309.393,215.738 309.632,216.66 309.893,217.558 310.178,218.434 310.489,219.285 \n",
       "  310.826,220.113 311.191,220.916 311.585,221.695 312.012,222.449 312.473,223.178 312.971,223.881 313.508,224.557 314.087,225.206 314.712,225.827 315.386,226.418 \n",
       "  316.112,226.979 316.895,227.507 317.739,228.002 318.649,228.462 319.63,228.885 320.687,229.267 321.827,229.607 323.057,229.901 324.382,230.146 325.811,230.336 \n",
       "  327.351,230.467 329.012,230.534 330.801,230.531 332.726,230.452 334.798,230.288 337.029,230.031 339.431,229.671 342.014,229.196 344.79,228.593 347.769,227.847 \n",
       "  350.961,226.942 354.374,225.86 358.019,224.583 361.902,223.089 366.029,221.36 370.389,219.378 374.996,217.106 379.851,214.509 384.946,211.559 390.26,208.231 \n",
       "  395.759,204.507 401.399,200.373 407.121,195.822 412.857,190.851 418.525,185.464 424.037,179.671 429.301,173.522 434.164,167.093 438.474,160.475 442.095,153.775 \n",
       "  444.9,147.115 446.777,140.635 447.626,134.49 447.359,128.849 445.901,123.9 443.232,119.805 439.423,116.646 434.557,114.476 428.743,113.312 422.112,113.134 \n",
       "  414.822,113.888 407.05,115.483 398.998,117.792 390.829,120.659 382.689,123.934 374.702,127.485 366.969,131.195 359.569,134.959 352.555,138.69 345.958,142.315 \n",
       "  339.798,145.794 334.079,149.109 328.794,152.248 323.931,155.205 319.473,157.983 315.399,160.589 311.681,163.039 308.294,165.346 305.21,167.523 302.403,169.586 \n",
       "  299.846,171.548 297.515,173.419 295.385,175.211 293.434,176.934 291.641,178.595 289.983,180.202 288.442,181.76 287.002,183.274 285.646,184.747 284.36,186.184 \n",
       "  283.128,187.585 281.936,188.952 280.773,190.286 279.627,191.587 278.488,192.855 277.347,194.09 276.195,195.292 275.024,196.458 273.826,197.588 272.593,198.681 \n",
       "  271.317,199.733 269.993,200.743 268.613,201.708 267.174,202.626 265.67,203.493 264.096,204.305 262.447,205.058 260.719,205.748 258.907,206.37 257.01,206.918 \n",
       "  255.023,207.387 252.946,207.769 250.776,208.057 248.514,208.243 246.161,208.319 243.719,208.275 241.193,208.102 238.587,207.791 235.909,207.33 233.166,206.714 \n",
       "  230.372,205.931 227.541,204.968 224.69,203.811 221.837,202.452 219.007,200.882 216.225,199.1 213.518,197.105 210.918,194.9 208.458,192.492 206.176,189.888 \n",
       "  204.111,187.102 202.295,184.154 200.761,181.073 199.549,177.89 198.689,174.639 198.206,171.357 198.118,168.085 198.436,164.866 199.165,161.748 200.301,158.779 \n",
       "  201.838,156.014 203.755,153.499 206.022,151.263 208.602,149.329 211.455,147.717 214.544,146.437 217.825,145.496 221.255,144.891 224.789,144.615 228.379,144.651 \n",
       "  231.978,144.98 235.548,145.574 239.059,146.408 242.483,147.451 245.794,148.677 248.973,150.061 252.002,151.578 254.87,153.204 257.568,154.917 260.091,156.695 \n",
       "  262.44,158.518 264.616,160.37 266.616,162.243 268.446,164.128 270.11,166.014 271.613,167.895 272.96,169.764 274.156,171.615 275.208,173.443 276.121,175.247 \n",
       "  276.902,177.023 277.559,178.769 278.095,180.484 278.517,182.167 278.829,183.817 279.036,185.432 279.141,187.013 279.15,188.559 279.064,190.069 278.887,191.543 \n",
       "  278.621,192.982 278.269,194.385 277.832,195.751 277.309,197.08 276.701,198.372 276.006,199.626 275.226,200.841 274.358,202.015 273.402,203.148 272.357,204.238 \n",
       "  271.221,205.283 269.993,206.281 268.671,207.23 267.251,208.126 265.73,208.966 264.105,209.747 262.373,210.463 260.531,211.11 258.578,211.681 256.512,212.17 \n",
       "  254.331,212.569 252.034,212.871 249.622,213.069 247.099,213.155 244.465,213.116 241.718,212.937 238.862,212.605 235.905,212.105 232.855,211.425 229.727,210.553 \n",
       "  226.538,209.475 223.308,208.181 220.062,206.659 216.827,204.899 213.634,202.892 210.516,200.628 207.502,198.113 204.641,195.349 201.984,192.342 199.579,189.105 \n",
       "  197.472,185.661 195.703,182.038 194.312,178.274 193.336,174.413 192.806,170.509 192.754,166.621 193.206,162.819 194.164,159.175 195.611,155.744 197.524,152.571 \n",
       "  199.874,149.695 202.628,147.152 205.747,144.971 209.186,143.174 212.896,141.781 216.821,140.805 220.901,140.251 225.07,140.11 229.273,140.333 233.46,140.887 \n",
       "  237.586,141.738 241.614,142.853 245.512,144.195 249.255,145.732 252.823,147.426 256.202,149.242 259.383,151.148 262.359,153.125 265.129,155.154 267.696,157.218 \n",
       "  270.062,159.3 272.231,161.388 274.209,163.471 276.002,165.539 277.62,167.586 279.069,169.608 280.36,171.6 281.501,173.559 282.502,175.484 283.369,177.373 \n",
       "  284.111,179.225 284.735,181.038 285.248,182.814 285.656,184.551 285.966,186.25 286.184,187.912 286.314,189.537 286.361,191.125 286.326,192.678 286.212,194.195 \n",
       "  286.022,195.678 285.755,197.126 285.415,198.54 285.003,199.92 284.52,201.267 283.966,202.581 283.343,203.863 282.649,205.112 281.882,206.328 281.039,207.51 \n",
       "  280.118,208.659 279.116,209.772 278.03,210.849 276.857,211.889 275.594,212.889 274.237,213.848 272.783,214.762 271.226,215.63 269.563,216.447 267.785,217.21 \n",
       "  265.89,217.914 263.871,218.553 261.725,219.121 259.447,219.609 257.035,220.008 254.484,220.31 251.793,220.504 248.96,220.577 245.985,220.521 242.875,220.323 \n",
       "  239.628,219.964 236.244,219.42 232.732,218.672 229.101,217.699 225.372,216.483 221.565,215.006 217.709,213.252 213.839,211.206 209.993,208.852 206.216,206.178 \n",
       "  202.557,203.171 199.058,199.836 195.783,196.184 192.809,192.228 190.203,187.992 188.028,183.513 186.339,178.837 185.185,174.025 184.61,169.145 184.649,164.279 \n",
       "  185.333,159.521 186.681,154.975 188.674,150.739 191.267,146.874 194.412,143.434 198.052,140.459 202.129,137.983 206.576,136.028 211.322,134.607 216.291,133.725 \n",
       "  221.401,133.375 226.566,133.537 231.711,134.143 236.778,135.132 241.716,136.452 246.483,138.052 251.046,139.884 255.379,141.901 259.468,144.057 263.305,146.309 \n",
       "  266.885,148.623 270.208,150.979 273.28,153.356 276.107,155.736 278.7,158.103 281.067,160.447 283.219,162.757 285.169,165.026 286.929,167.252 288.513,169.432 \n",
       "  289.934,171.562 291.204,173.643 292.335,175.675 293.337,177.656 294.221,179.588 294.998,181.472 295.677,183.308 296.266,185.099 296.774,186.845 297.207,188.547 \n",
       "  297.57,190.208 297.871,191.829 298.115,193.41 298.305,194.953 298.448,196.461 298.547,197.933 298.604,199.372 298.622,200.779 298.603,202.154 298.549,203.498 \n",
       "  298.463,204.814 298.344,206.102 298.194,207.362 298.013,208.597 297.802,209.806 297.56,210.991 297.287,212.152 296.982,213.29 296.645,214.407 296.275,215.502 \n",
       "  295.87,216.576 295.429,217.631 294.95,218.666 294.43,219.682 293.867,220.679 293.259,221.658 292.603,222.619 291.895,223.563 291.132,224.489 290.31,225.397 \n",
       "  289.424,226.287 288.471,227.16 287.445,228.014 286.341,228.849 285.154,229.664 283.876,230.458 282.501,231.228 281.024,231.973 279.436,232.69 277.731,233.377 \n",
       "  275.899,234.029 273.931,234.644 271.816,235.216 269.547,235.739 267.113,236.205 264.505,236.603 261.716,236.924 258.736,237.153 255.557,237.278 252.17,237.283 \n",
       "  248.57,237.152 244.76,236.866 240.729,236.397 236.473,235.714 231.993,234.786 227.302,233.578 222.418,232.056 217.37,230.185 212.194,227.929 206.935,225.249 \n",
       "  201.645,222.106 196.382,218.468 191.215,214.324 186.256,209.642 181.617,204.411 177.411,198.646 173.747,192.386 170.733,185.699 168.476,178.675 167.08,171.433 \n",
       "  166.648,164.114 167.261,156.889 168.921,149.934 171.613,143.406 175.296,137.44 179.902,132.157 185.338,127.661 191.481,124.036 198.185,121.35 205.284,119.624 \n",
       "  212.625,118.781 220.067,118.745 227.486,119.434 234.776,120.756 241.85,122.606 248.638,124.87 255.087,127.427 261.164,130.199 266.855,133.12 272.154,136.127 \n",
       "  277.061,139.169 281.585,142.204 285.738,145.2 289.543,148.136 293.019,150.994 296.188,153.767 299.076,156.447 301.705,159.034 304.099,161.523 306.278,163.916 \n",
       "  308.264,166.213 310.079,168.417 311.742,170.533 313.272,172.563 314.686,174.51 316,176.377 317.228,178.168 318.385,179.884 319.484,181.529 320.539,183.105 \n",
       "  321.561,184.614 322.56,186.057 323.546,187.436 324.526,188.751 325.511,190.004 326.506,191.194 327.522,192.322 328.565,193.387 329.643,194.39 330.763,195.33 \n",
       "  331.929,196.204 333.148,197.012 334.425,197.751 335.768,198.418 337.181,199.012 338.671,199.53 340.243,199.967 341.902,200.321 343.654,200.586 345.503,200.756 \n",
       "  347.454,200.827 349.511,200.792 351.677,200.644 353.956,200.377 356.35,199.984 358.86,199.455 361.486,198.786 364.227,197.966 367.083,196.985 370.05,195.832 \n",
       "  373.121,194.499 376.286,192.98 379.532,191.268 382.842,189.36 386.196,187.254 389.57,184.948 392.937,182.443 396.272,179.745 399.535,176.866 402.679,173.822 \n",
       "  405.658,170.633 408.425,167.327 410.935,163.935 413.139,160.498 414.992,157.06 416.447,153.673 417.457,150.392 417.979,147.281 417.992,144.398 417.485,141.79 \n",
       "  416.456,139.499 414.91,137.556 412.865,135.99 410.348,134.818 407.393,134.054 404.048,133.701 400.368,133.757 396.418,134.209 392.265,135.006 387.974,136.106 \n",
       "  383.607,137.469 379.217,139.057 374.855,140.828 370.566,142.743 366.388,144.762 362.355,146.843 358.496,148.955 354.826,151.082 351.358,153.206 348.098,155.314 \n",
       "  345.053,157.393 342.224,159.434 339.609,161.432 337.206,163.383 335.006,165.287 333.002,167.145 331.185,168.957 329.546,170.724 328.076,172.447 326.765,174.128 \n",
       "  325.605,175.769 324.585,177.371 323.698,178.936 322.935,180.466 322.288,181.961 321.749,183.423 321.312,184.853 320.97,186.251 320.719,187.617 320.554,188.952 \n",
       "  320.47,190.257 320.462,191.53 320.528,192.771 320.664,193.98 320.868,195.157 321.138,196.3 321.475,197.409 321.877,198.483 322.345,199.521 322.878,200.523 \n",
       "  323.478,201.486 324.144,202.409 324.879,203.29 325.684,204.128 326.562,204.919 327.516,205.663 328.549,206.357 329.664,206.997 330.866,207.581 332.158,208.105 \n",
       "  333.546,208.565 335.033,208.956 336.624,209.274 338.324,209.514 340.139,209.67 342.075,209.735 344.139,209.701 346.336,209.562 348.672,209.307 351.15,208.928 \n",
       "  353.774,208.415 356.548,207.756 359.473,206.941 362.552,205.957 365.782,204.793 369.156,203.443 372.674,201.884 376.333,200.1 380.123,198.076 384.028,195.802 \n",
       "  388.025,193.272 392.085,190.483 396.172,187.436 400.244,184.136 404.254,180.592 408.146,176.818 411.864,172.83 415.356,168.668 418.537,164.383 421.329,160.031 \n",
       "  423.657,155.671 425.459,151.371 426.68,147.201 427.272,143.237 427.197,139.56 426.424,136.258 424.932,133.42 422.739,131.101 419.897,129.324 416.461,128.103 \n",
       "  412.495,127.437 408.066,127.315 403.249,127.712 398.125,128.594 392.78,129.91 387.308,131.601 381.803,133.593 376.339,135.813 370.979,138.199 365.775,140.697 \n",
       "  360.77,143.259 355.997,145.845 351.478,148.422 347.227,150.962 343.249,153.449 339.548,155.869 336.12,158.22 332.958,160.498 330.052,162.702 327.391,164.832 \n",
       "  324.965,166.892 322.76,168.884 320.763,170.814 318.957,172.689 317.328,174.51 315.863,176.284 314.547,178.012 313.37,179.7 312.317,181.349 311.379,182.964 \n",
       "  310.543,184.546 309.799,186.097 309.138,187.619 308.552,189.112 308.033,190.58 307.575,192.022 307.172,193.439 306.818,194.833 306.506,196.203 306.232,197.549 \n",
       "  305.99,198.873 305.775,200.173 305.587,201.451 305.421,202.707 305.275,203.94 305.147,205.152 305.033,206.343 304.933,207.511 304.844,208.659 304.765,209.785 \n",
       "  304.694,210.891 304.631,211.976 304.574,213.041 304.522,214.086 304.475,215.111 304.43,216.116 304.389,217.102 304.35,218.069 304.312,219.018 304.276,219.948 \n",
       "  304.241,220.86 304.206,221.754 304.17,222.631 304.135,223.49 304.098,224.333 304.06,225.159 304.021,225.97 303.98,226.764 303.937,227.543 303.891,228.307 \n",
       "  303.843,229.056 303.792,229.791 303.737,230.511 303.678,231.218 303.615,231.911 303.548,232.591 303.475,233.258 303.397,233.913 303.313,234.555 303.222,235.186 \n",
       "  303.124,235.806 303.019,236.414 302.904,237.011 302.781,237.599 302.648,238.176 302.504,238.743 302.348,239.301 302.179,239.85 301.996,240.39 301.798,240.923 \n",
       "  301.584,241.447 301.352,241.964 301.1,242.473 300.827,242.976 300.532,243.473 300.211,243.963 299.863,244.448 299.486,244.928 299.077,245.403 298.633,245.874 \n",
       "  298.151,246.34 297.628,246.803 297.059,247.262 296.442,247.719 295.772,248.172 295.044,248.622 294.253,249.07 293.394,249.515 292.461,249.958 291.447,250.398 \n",
       "  290.345,250.834 289.148,251.266 287.847,251.692 286.432,252.112 284.896,252.523 283.229,252.922 281.419,253.307 279.453,253.675 277.318,254.023 275.001,254.344 \n",
       "  272.487,254.631 269.762,254.873 266.812,255.06 263.62,255.177 260.172,255.21 256.453,255.141 252.451,254.95 248.159,254.613 243.552,254.096 238.615,253.362 \n",
       "  233.342,252.368 227.739,251.068 221.82,249.408 215.611,247.331 209.147,244.773 202.475,241.668 195.648,237.948 188.742,233.577 181.882,228.459 175.206,222.519 \n",
       "  168.87,215.725 163.039,208.088 157.894,199.658 153.626,190.529 150.441,180.834 148.555,170.752 148.122,160.527 149.216,150.451 151.877,140.791 156.086,131.806 \n",
       "  161.763,123.736 168.773,116.81 176.917,111.242 185.942,107.171 195.573,104.541 205.559,103.276 215.675,103.265 225.721,104.358 235.526,106.365 244.943,109.059 \n",
       "  253.871,112.235 262.265,115.757 270.096,119.486 277.349,123.306 284.028,127.123 290.15,130.87 295.749,134.5 300.852,137.978 305.496,141.29 309.716,144.429 \n",
       "  313.551,147.394 317.033,150.183 320.196,152.799 323.073,155.247 325.693,157.537 328.088,159.68 330.284,161.683 332.305,163.554 334.176,165.303 335.916,166.934 \n",
       "  337.546,168.455 339.086,169.872 340.552,171.188 341.958,172.41 343.318,173.538 344.642,174.577 345.942,175.527 347.227,176.392 348.508,177.172 349.793,177.868 \n",
       "  351.089,178.483 352.403,179.014 353.739,179.463 355.101,179.828 356.492,180.109 357.915,180.304 359.373,180.413 360.866,180.434 362.396,180.368 363.961,180.213 \n",
       "  365.561,179.968 367.194,179.632 368.854,179.203 370.54,178.681 372.244,178.067 373.961,177.361 375.684,176.565 377.405,175.681 379.114,174.711 380.802,173.661 \n",
       "  382.458,172.533 384.068,171.335 385.617,170.073 387.092,168.754 388.48,167.389 389.765,165.988 390.935,164.562 391.976,163.124 392.874,161.69 393.617,160.274 \n",
       "  394.19,158.893 394.588,157.562 394.802,156.295 394.824,155.108 394.652,154.013 394.285,153.022 393.723,152.145 392.973,151.392 392.041,150.771 390.937,150.288 \n",
       "  389.673,149.948 388.264,149.753 386.726,149.698 385.077,149.78 383.335,149.992 381.517,150.33 379.641,150.786 377.724,151.352 375.785,152.017 373.84,152.773 \n",
       "  371.906,153.605 370,154.502 368.136,155.454 366.325,156.452 364.577,157.489 362.9,158.556 361.302,159.646 359.79,160.751 358.37,161.864 357.046,162.981 \n",
       "  355.822,164.095 354.698,165.203 353.678,166.301 352.759,167.385 351.945,168.452 351.233,169.5 350.624,170.526 350.116,171.527 349.707,172.501 349.397,173.445 \n",
       "  349.184,174.358 349.068,175.238 349.045,176.082 349.116,176.889 349.278,177.657 349.529,178.384 349.868,179.067 350.293,179.704 350.805,180.293 351.402,180.832 \n",
       "  352.083,181.319 352.848,181.75 353.695,182.123 354.622,182.436 355.629,182.685 356.712,182.868 357.87,182.982 359.101,183.023 360.402,182.988 361.771,182.876 \n",
       "  363.205,182.684 364.703,182.407 366.26,182.044 367.873,181.592 369.535,181.049 371.241,180.414 372.982,179.687 374.75,178.867 376.537,177.955 378.331,176.953 \n",
       "  380.121,175.86 381.896,174.682 383.646,173.423 385.353,172.09 387.001,170.69 388.572,169.232 390.049,167.724 391.417,166.178 392.66,164.606 393.764,163.022 \n",
       "  394.714,161.441 395.496,159.878 396.097,158.352 396.504,156.881 396.705,155.486 396.691,154.186 396.463,152.993 396.021,151.922 395.37,150.982 394.515,150.181 \n",
       "  393.465,149.528 392.229,149.028 390.821,148.682 389.253,148.492 387.544,148.458 385.712,148.576 383.778,148.842 381.766,149.25 379.697,149.784 377.591,150.433 \n",
       "  375.47,151.184 373.352,152.028 371.253,152.952 369.19,153.947 367.176,155 365.223,156.102 363.345,157.241 361.549,158.408 359.844,159.591 358.237,160.782 \n",
       "  356.733,161.978 355.334,163.174 354.043,164.366 352.861,165.548 351.788,166.717 350.826,167.869 349.973,169.002 349.231,170.111 348.597,171.196 348.07,172.253 \n",
       "  347.648,173.283 347.329,174.283 347.111,175.25 346.992,176.183 346.971,177.079 347.046,177.937 347.215,178.756 347.478,179.532 347.832,180.263 348.276,180.948 \n",
       "  348.809,181.584 349.429,182.169 350.136,182.7 350.928,183.174 351.802,183.589 352.757,183.942 353.794,184.23 354.913,184.45 356.114,184.597 357.396,184.67 \n",
       "  358.757,184.665 360.196,184.579 361.708,184.409 363.291,184.152 364.94,183.804 366.65,183.364 368.416,182.827 370.232,182.192 372.09,181.456 373.985,180.617 \n",
       "  375.907,179.679 377.845,178.639 379.789,177.499 381.725,176.259 383.64,174.926 385.518,173.503 387.344,171.999 389.1,170.422 390.77,168.783 392.333,167.094 \n",
       "  393.769,165.37 395.058,163.625 396.181,161.881 397.123,160.159 397.868,158.477 398.404,156.854 398.718,155.304 398.804,153.843 398.658,152.487 398.276,151.25 \n",
       "  397.66,150.145 396.813,149.186 395.742,148.384 394.456,147.751 392.967,147.298 391.291,147.035 389.447,146.959 387.464,147.052 385.367,147.308 383.178,147.718 \n",
       "  380.922,148.272 378.619,148.958 376.293,149.766 373.963,150.68 371.65,151.687 369.374,152.77 367.152,153.912 365.002,155.098 362.934,156.322 360.957,157.576 \n",
       "  359.078,158.851 357.305,160.137 355.642,161.428 354.095,162.718 352.665,163.999 351.355,165.269 350.165,166.523 349.096,167.758 348.145,168.972 347.31,170.164 \n",
       "  346.589,171.331 345.982,172.471 345.485,173.581 345.096,174.66 344.812,175.706 344.633,176.718 344.555,177.693 344.577,178.63 344.697,179.527 344.913,180.382 \n",
       "  345.223,181.193 345.627,181.958 346.121,182.676 346.702,183.342 347.37,183.955 348.127,184.512 348.972,185.011 349.908,185.45 350.932,185.824 352.046,186.132 \n",
       "  353.247,186.37 354.535,186.535 355.907,186.623 357.363,186.63 358.899,186.552 360.513,186.384 362.201,186.123 363.96,185.764 365.786,185.302 367.675,184.738 \n",
       "  369.623,184.068 371.625,183.288 373.671,182.395 375.754,181.389 377.863,180.27 379.985,179.039 382.106,177.698 384.211,176.253 386.282,174.707 388.302,173.068 \n",
       "  390.25,171.343 392.111,169.546 393.865,167.692 395.483,165.798 396.941,163.881 398.217,161.959 399.29,160.05 400.144,158.173 400.765,156.347 401.139,154.594 \n",
       "  401.259,152.932 401.115,151.385 400.706,149.975 400.027,148.724 399.081,147.655 397.872,146.788 396.421,146.119 394.748,145.649 392.876,145.381 390.828,145.31 \n",
       "  388.626,145.433 386.296,145.742 383.863,146.226 381.354,146.872 378.795,147.665 376.216,148.584 373.645,149.61 371.104,150.727 368.612,151.922 366.185,153.181 \n",
       "  363.839,154.489 361.587,155.835 359.44,157.207 357.408,158.595 355.496,159.99 353.711,161.385 352.054,162.773 350.528,164.149 349.13,165.509 347.859,166.851 \n",
       "  346.716,168.171 345.7,169.468 344.807,170.739 344.035,171.982 343.381,173.196 342.842,174.378 342.416,175.528 342.1,176.643 341.893,177.723 341.79,178.766 \n",
       "  341.789,179.771 341.888,180.736 342.083,181.66 342.375,182.539 342.761,183.374 343.242,184.162 343.816,184.9 344.482,185.587 345.24,186.22 346.089,186.796 \n",
       "  347.029,187.311 348.058,187.763 349.176,188.148 350.382,188.461 351.676,188.7 353.057,188.861 354.527,188.94 356.087,188.933 357.734,188.834 359.469,188.64 \n",
       "  361.289,188.346 363.19,187.949 365.168,187.444 367.219,186.826 369.336,186.094 371.514,185.241 373.743,184.266 376.015,183.169 378.319,181.949 380.641,180.604 \n",
       "  382.965,179.133 385.276,177.54 387.554,175.829 389.78,174.01 391.933,172.091 393.99,170.085 395.927,168.009 397.718,165.878 399.335,163.714 400.751,161.538 \n",
       "  401.935,159.377 402.871,157.262 403.541,155.22 403.93,153.276 404.025,151.451 403.819,149.768 403.31,148.246 402.499,146.902 401.391,145.753 399.997,144.814 \n",
       "  398.331,144.099 396.412,143.617 394.262,143.381 391.911,143.383 389.397,143.599 386.753,144.018 384.01,144.625 381.2,145.406 378.352,146.342 375.494,147.417 \n",
       "  372.651,148.61 369.85,149.9 367.113,151.266 364.463,152.682 361.917,154.135 359.484,155.619 357.174,157.123 354.993,158.637 352.947,160.151 351.041,161.659 \n",
       "  349.276,163.153 347.654,164.63 346.176,166.085 344.838,167.515 343.637,168.921 342.571,170.301 341.635,171.651 340.827,172.972 340.142,174.261 339.578,175.517 \n",
       "  339.129,176.74 338.793,177.928 338.566,179.079 338.446,180.194 338.429,181.27 338.514,182.307 338.697,183.302 338.977,184.256 339.349,185.164 339.814,186.025 \n",
       "  340.371,186.837 341.021,187.599 341.764,188.309 342.6,188.963 343.528,189.56 344.55,190.095 345.664,190.566 346.872,190.969 348.172,191.299 349.565,191.551 \n",
       "  351.05,191.721 352.628,191.804 354.298,191.798 356.063,191.696 357.923,191.492 359.877,191.183 361.924,190.761 364.059,190.223 366.279,189.563 368.578,188.777 \n",
       "  370.949,187.86 373.384,186.808 375.873,185.617 378.406,184.286 380.971,182.818 383.549,181.209 386.121,179.46 388.665,177.574 391.159,175.56 393.578,173.425 \n",
       "  395.898,171.184 398.09,168.854 400.126,166.453 401.976,164.004 403.608,161.534 404.99,159.072 406.086,156.65 406.868,154.306 407.323,152.076 407.439,149.989 \n",
       "  407.207,148.071 406.625,146.347 405.695,144.837 404.423,143.557 402.823,142.524 400.911,141.75 398.712,141.242 396.252,141.008 393.565,141.052 390.692,141.357 \n",
       "  387.677,141.892 384.559,142.637 381.376,143.571 378.163,144.675 374.952,145.924 371.774,147.298 368.654,148.771 365.618,150.321 362.688,151.921 359.883,153.547 \n",
       "  357.215,155.194 354.691,156.851 352.317,158.511 350.097,160.162 348.034,161.8 346.129,163.417 344.382,165.009 342.791,166.573 341.353,168.108 340.064,169.613 \n",
       "  338.917,171.088 337.91,172.53 337.037,173.94 336.292,175.316 335.671,176.658 335.17,177.966 334.784,179.238 334.508,180.475 334.34,181.675 334.276,182.838 \n",
       "  334.312,183.963 334.445,185.048 334.673,186.092 334.992,187.093 335.403,188.051 335.904,188.963 336.497,189.828 337.182,190.645 337.958,191.411 338.825,192.123 \n",
       "  339.785,192.778 340.836,193.373 341.981,193.904 343.218,194.367 344.55,194.757 345.976,195.069 347.499,195.3 349.123,195.446 350.85,195.501 352.68,195.46 \n",
       "  354.615,195.316 356.655,195.064 358.799,194.697 361.045,194.209 363.391,193.594 365.835,192.844 368.37,191.954 370.988,190.923 373.683,189.741 376.445,188.401 \n",
       "  379.266,186.895 382.131,185.22 385.021,183.376 387.917,181.367 390.795,179.198 393.626,176.878 396.38,174.421 399.024,171.841 401.519,169.156 403.826,166.389 \n",
       "  405.903,163.563 407.724,160.718 409.249,157.891 410.441,155.12 411.268,152.442 411.708,149.894 411.742,147.511 411.36,145.328 410.558,143.378 409.339,141.694 \n",
       "  407.712,140.309 405.694,139.255 403.316,138.536 400.621,138.138 397.652,138.055 394.454,138.275 391.07,138.783 387.543,139.556 383.918,140.571 380.238,141.797 \n",
       "  376.546,143.2 372.887,144.741 369.303,146.38 365.818,148.101 362.454,149.882 359.23,151.703 356.161,153.546 353.259,155.395 350.533,157.237 347.988,159.063 \n",
       "  345.626,160.865 343.445,162.638 341.441,164.38 339.607,166.089 337.944,167.764 336.444,169.403 335.101,171.006 333.908,172.573 332.858,174.103 331.946,175.598 \n",
       "  331.165,177.057 330.51,178.48 329.974,179.868 329.553,181.222 329.24,182.541 329.03,183.825 328.92,185.074 328.905,186.287 328.984,187.463 329.153,188.603 \n",
       "  329.411,189.704 329.755,190.766 330.184,191.788 330.697,192.766 331.291,193.7 331.968,194.587 332.729,195.426 333.575,196.213 334.507,196.948 335.528,197.626 \n",
       "  336.639,198.246 337.842,198.803 339.141,199.293 340.537,199.713 342.033,200.057 343.631,200.32 345.334,200.498 347.145,200.584 349.069,200.573 351.108,200.457 \n",
       "  353.267,200.23 355.545,199.882 357.944,199.408 360.463,198.799 363.099,198.046 365.851,197.14 368.714,196.074 371.683,194.838 374.746,193.431 377.894,191.843 \n",
       "  381.114,190.061 384.391,188.08 387.703,185.896 391.027,183.511 394.332,180.933 397.585,178.17 400.748,175.239 403.778,172.159 406.628,168.953 409.247,165.649 \n",
       "  411.582,162.282 413.596,158.898 415.239,155.552 416.464,152.291 417.233,149.164 417.518,146.217 417.299,143.497 416.567,141.048 415.321,138.912 413.57,137.131 \n",
       "  411.332,135.746 408.635,134.788 405.533,134.238 402.085,134.082 398.348,134.304 394.379,134.883 390.234,135.79 385.969,136.991 381.641,138.447 377.305,140.111 \n",
       "  373.017,141.93 368.828,143.856 364.766,145.865 360.857,147.932 357.122,150.03 353.579,152.137 350.24,154.235 347.113,156.31 344.203,158.351 341.507,160.352 \n",
       "  339.021,162.309 336.735,164.224 334.647,166.094 332.749,167.918 331.032,169.697 329.487,171.433 328.105,173.127 326.877,174.779 325.794,176.393 324.849,177.968 \n",
       "  324.032,179.507 323.337,181.011 322.755,182.481 322.278,183.919 321.901,185.324 321.619,186.697 321.425,188.039 321.316,189.349 321.288,190.627 321.336,191.874 \n",
       "  321.458,193.088 321.65,194.268 321.911,195.414 322.241,196.526 322.638,197.603 323.103,198.643 323.636,199.646 324.238,200.61 324.909,201.534 325.651,202.415 \n",
       "  326.464,203.251 327.351,204.04 328.315,204.781 329.36,205.47 330.488,206.104 331.704,206.682 333.012,207.198 334.416,207.648 335.92,208.029 337.53,208.335 \n",
       "  339.25,208.561 341.085,208.701 343.038,208.748 345.117,208.696 347.329,208.536 349.68,208.259 352.174,207.855 354.814,207.314 357.602,206.626 360.539,205.779 \n",
       "  363.625,204.762 366.857,203.563 370.234,202.169 373.749,200.567 377.389,198.754 381.142,196.711 384.995,194.422 388.927,191.878 392.91,189.075 396.908,186.015 \n",
       "  400.882,182.705 404.782,179.162 408.554,175.404 412.137,171.459 415.462,167.359 418.461,163.146 421.078,158.882 423.233,154.641 424.859,150.489 425.899,146.498 \n",
       "  426.311,142.734 426.064,139.264 425.143,136.156 423.544,133.475 421.276,131.287 418.364,129.653 414.865,128.584 410.859,128.058 406.424,128.057 401.639,128.554 \n",
       "  396.583,129.511 391.337,130.879 385.98,132.601 380.593,134.608 375.258,136.821 370.045,139.172 364.991,141.624 360.135,144.134 355.506,146.664 351.125,149.184 \n",
       "  347.01,151.67 343.166,154.103 339.595,156.473 336.289,158.774 333.237,161.007 330.437,163.169 327.875,165.263 325.539,167.29 323.416,169.255 321.493,171.161 \n",
       "  319.756,173.012 318.193,174.812 316.79,176.565 315.535,178.275 314.414,179.945 313.416,181.578 312.53,183.177 311.747,184.744 311.057,186.28 310.45,187.788 \n",
       "  309.919,189.268 309.456,190.721 309.054,192.148 308.707,193.549 308.41,194.926 308.158,196.279 307.948,197.608 307.775,198.914 307.636,200.197 307.526,201.456 \n",
       "  307.443,202.691 307.386,203.904 307.351,205.094 307.339,206.261 307.346,207.405 307.373,208.527 307.418,209.626 307.48,210.703 307.558,211.757 307.653,212.789 \n",
       "  307.764,213.799 307.892,214.787 308.036,215.753 308.197,216.697 308.375,217.619 308.57,218.519 308.784,219.397 309.018,220.253 309.272,221.087 309.548,221.9 \n",
       "  309.847,222.689 310.171,223.457 310.521,224.202 310.899,224.924 311.307,225.622 311.748,226.297 312.223,226.948 312.737,227.574 313.29,228.174 313.887,228.748 \n",
       "  314.532,229.295 315.227,229.813 315.978,230.301 316.787,230.757 317.661,231.181 318.604,231.569 319.621,231.92 320.72,232.232 321.905,232.5 323.185,232.722 \n",
       "  324.566,232.893 326.057,233.008 327.667,233.063 329.403,233.051 331.277,232.966 333.296,232.802 335.47,232.549 337.814,232.197 340.339,231.736 343.058,231.153 \n",
       "  345.983,230.433 349.124,229.56 352.492,228.517 356.096,227.283 359.944,225.838 364.046,224.159 368.405,222.224 373.009,220.016 377.87,217.493 382.987,214.618 \n",
       "  388.349,211.36 393.928,207.694 399.685,203.603 405.566,199.074 411.503,194.105 417.415,188.697 423.206,182.858 428.78,176.611 434.024,170.024 438.763,163.192 \n",
       "  442.839,156.226 446.107,149.251 448.441,142.407 449.73,135.85 449.879,129.753 448.811,124.3 446.468,119.692 442.882,116.061 438.149,113.467 432.383,111.939 \n",
       "  425.717,111.466 418.31,111.999 410.342,113.451 402.017,115.695 393.537,118.57 385.054,121.91 376.708,125.567 368.61,129.407 360.849,133.318 353.488,137.204 \n",
       "  346.563,140.987 340.092,144.611 334.084,148.055 328.533,151.307 323.425,154.362 318.744,157.221 314.466,159.893 310.564,162.393 307.009,164.737 303.774,166.939 \n",
       "  300.829,169.016 298.147,170.983 295.702,172.853 293.469,174.637 291.424,176.346 289.543,177.988 287.805,179.573 286.19,181.105 284.68,182.59 283.258,184.032 \n",
       "  281.908,185.434 280.616,186.798 279.368,188.127 278.149,189.421 276.949,190.68 275.756,191.903 274.563,193.092 273.359,194.244 272.137,195.358 270.888,196.433 \n",
       "  269.606,197.467 268.281,198.458 266.908,199.403 265.482,200.299 263.997,201.143 262.449,201.931 260.834,202.66 259.147,203.324 257.385,203.919 255.545,204.441 \n",
       "  253.625,204.882 251.623,205.238 249.54,205.5 247.375,205.663 245.128,205.716 242.805,205.653 240.408,205.465 237.945,205.143 235.423,204.679 232.85,204.064 \n",
       "  230.238,203.289 227.6,202.351 224.953,201.239 222.317,199.943 219.714,198.455 217.169,196.773 214.705,194.897 212.351,192.832 210.135,190.585 208.087,188.167 \n",
       "  206.24,185.595 204.628,182.885 203.285,180.062 202.232,177.155 201.495,174.198 201.098,171.227 201.055,168.278 201.377,165.386 202.067,162.589 203.12,159.925 \n",
       "  204.528,157.434 206.273,155.154 208.333,153.127 210.677,151.375 213.269,149.907 216.07,148.736 219.044,147.864 222.151,147.292 225.355,147.013 228.619,147.015 \n",
       "  231.905,147.283 235.176,147.794 238.396,148.522 241.543,149.447 244.594,150.544 247.533,151.791 250.343,153.165 253.011,154.646 255.529,156.215 257.889,157.853 \n",
       "  260.089,159.544 262.126,161.274 264.004,163.029 265.724,164.798 267.287,166.574 268.698,168.351 269.961,170.121 271.081,171.879 272.064,173.621 272.912,175.342 \n",
       "  273.632,177.039 274.229,178.71 274.706,180.352 275.069,181.965 275.323,183.547 275.472,185.097 275.517,186.614 275.463,188.096 275.312,189.544 275.067,190.956 \n",
       "  274.728,192.331 274.298,193.669 273.779,194.968 273.171,196.229 272.475,197.449 271.69,198.629 270.815,199.765 269.849,200.857 268.791,201.902 267.64,202.899 \n",
       "  266.393,203.844 265.051,204.735 263.61,205.568 262.071,206.339 260.431,207.044 258.689,207.679 256.845,208.239 254.896,208.716 252.839,209.103 250.674,209.394 \n",
       "  248.403,209.58 246.029,209.653 243.554,209.602 240.983,209.419 238.324,209.092 235.584,208.612 232.772,207.966 229.9,207.151 226.984,206.153 224.042,204.956 \n",
       "  221.096,203.545 218.17,201.912 215.29,200.053 212.486,197.966 209.791,195.654 207.239,193.125 204.869,190.391 202.722,187.466 200.84,184.371 199.268,181.13 \n",
       "  198.031,177.786 197.163,174.378 196.69,170.949 196.631,167.541 196.998,164.197 197.796,160.962 199.021,157.879 200.662,154.997 202.702,152.361 205.113,150.02 \n",
       "  207.862,148.021 210.901,146.374 214.178,145.084 217.644,144.152 221.251,143.575 224.954,143.342 228.708,143.438 232.471,143.841 236.204,144.523 239.866,145.45 \n",
       "  243.422,146.583 246.85,147.9 250.133,149.373 253.257,150.974 256.212,152.681 258.988,154.469 261.581,156.319 263.987,158.214 266.208,160.137 268.247,162.076 \n",
       "  270.11,164.019 271.803,165.959 273.33,167.887 274.697,169.8 275.912,171.693 276.983,173.561 277.915,175.402 278.715,177.213 279.39,178.992 279.944,180.737 \n",
       "  280.385,182.447 280.717,184.123 280.946,185.764 281.076,187.37 281.112,188.94 281.055,190.475 280.909,191.974 280.676,193.437 280.357,194.865 279.955,196.257 \n",
       "  279.47,197.612 278.903,198.932 278.256,200.215 277.527,201.461 276.716,202.668 275.819,203.837 274.837,204.966 273.765,206.054 272.603,207.098 271.347,208.096 \n",
       "  269.995,209.047 268.544,209.946 266.992,210.791 265.335,211.578 263.572,212.302 261.697,212.959 259.706,213.541 257.595,214.044 255.363,214.458 253.008,214.775 \n",
       "  250.529,214.987 247.928,215.082 245.207,215.049 242.368,214.877 239.415,214.552 236.355,214.064 233.201,213.405 229.962,212.551 226.652,211.481 223.287,210.177 \n",
       "  219.892,208.624 216.493,206.811 213.121,204.731 209.815,202.381 206.614,199.759 203.565,196.869 200.719,193.719 198.129,190.317 195.842,186.689 193.903,182.874 \n",
       "  192.367,178.914 191.278,174.854 190.672,170.745 190.576,166.64 191.005,162.598 191.967,158.682 193.458,154.96 195.466,151.504 197.97,148.388 200.925,145.665 \n",
       "  204.272,143.357 207.951,141.483 211.903,140.054 216.07,139.071 220.392,138.526 224.812,138.4 229.269,138.667 233.705,139.292 238.062,140.229 242.302,141.438 \n",
       "  246.398,142.88 250.324,144.516 254.06,146.309 257.59,148.226 260.905,150.239 263.999,152.32 266.87,154.447 269.524,156.599 271.97,158.761 274.211,160.919 \n",
       "  276.253,163.066 278.105,165.195 279.778,167.299 281.281,169.373 282.624,171.414 283.814,173.418 284.862,175.382 285.775,177.306 286.563,179.19 287.234,181.034 \n",
       "  287.797,182.837 288.257,184.6 288.621,186.324 288.895,188.009 289.083,189.656 289.192,191.266 289.224,192.839 289.184,194.377 289.075,195.88 288.898,197.349 \n",
       "  288.656,198.785 288.349,200.189 287.978,201.56 287.542,202.901 287.043,204.21 286.479,205.488 285.851,206.737 285.157,207.955 284.395,209.143 283.563,210.301 \n",
       "  282.658,211.428 281.676,212.524 280.615,213.587 279.47,214.617 278.238,215.611 276.915,216.569 275.495,217.488 273.974,218.365 272.348,219.198 270.609,219.982 \n",
       "  268.752,220.713 266.771,221.387 264.659,221.997 262.411,222.536 260.024,222.995 257.491,223.366 254.81,223.636 251.976,223.796 248.986,223.833 245.847,223.738 \n",
       "  242.557,223.493 239.113,223.074 235.515,222.458 231.772,221.623 227.897,220.546 223.909,219.208 219.835,217.587 215.707,215.664 211.561,213.42 207.441,210.836 \n",
       "  203.399,207.896 199.484,204.586 195.747,200.916 192.273,196.89 189.142,192.525 186.427,187.85 184.198,182.909 182.517,177.76 181.439,172.473 181.013,167.135 \n",
       "  181.284,161.844 182.286,156.713 184.014,151.853 186.435,147.352 189.507,143.286 193.177,139.717 197.382,136.695 202.047,134.257 207.087,132.426 212.406,131.216 \n",
       "  217.898,130.62 223.475,130.584 229.056,131.049 234.571,131.959 239.959,133.256 245.171,134.882 250.166,136.778 254.916,138.884 259.404,141.139 263.615,143.499 \n",
       "  267.546,145.937 271.198,148.421 274.575,150.925 277.684,153.427 280.536,155.911 283.14,158.363 285.513,160.775 287.668,163.141 289.62,165.455 291.385,167.715 \n",
       "  292.976,169.919 294.407,172.066 295.693,174.156 296.845,176.189 297.876,178.167 298.8,180.092 299.625,181.964 300.362,183.785 301.019,185.557 301.603,187.28 \n",
       "  302.123,188.958 302.585,190.59 302.997,192.18 303.366,193.728 303.698,195.236 303.999,196.707 304.27,198.141 304.516,199.538 304.74,200.901 304.946,202.23 \n",
       "  305.136,203.527 305.314,204.792 305.482,206.027 305.641,207.233 305.795,208.409 305.944,209.558 306.091,210.679 306.236,211.773 306.382,212.842 306.53,213.885 \n",
       "  306.681,214.903 306.837,215.897 306.999,216.868 307.168,217.815 307.344,218.738 307.531,219.639 307.728,220.518 307.937,221.374 308.16,222.209 308.397,223.021 \n",
       "  308.651,223.812 308.922,224.582 309.213,225.329 309.525,226.055 309.86,226.759 310.221,227.441 310.609,228.101 311.026,228.739 311.475,229.354 311.959,229.945 \n",
       "  312.481,230.512 313.043,231.054 313.65,231.571 314.304,232.061 315.011,232.523 315.774,232.956 316.597,233.359 317.487,233.728 318.447,234.064 319.484,234.362 \n",
       "  320.605,234.62 321.816,234.835 323.125,235.002 324.539,235.119 326.067,235.18 327.716,235.18 329.498,235.113 331.422,234.973 333.499,234.75 335.742,234.436 \n",
       "  338.161,234.019 340.769,233.488 343.576,232.83 346.596,232.028 349.84,231.068 353.32,229.932 357.038,228.603 361.012,227.054 365.257,225.256 369.781,223.18 \n",
       "  374.584,220.797 379.659,218.08 384.989,215.002 390.552,211.534 396.317,207.65 402.245,203.324 408.29,198.535 414.386,193.285 420.436,187.568 426.328,181.402 \n",
       "  431.942,174.829 437.147,167.919 441.801,160.769 445.755,153.5 448.846,146.262 450.903,139.232 451.802,132.609 451.466,126.588 449.846,121.33 446.934,116.971 \n",
       "  442.769,113.617 437.43,111.343 431.043,110.199 423.776,110.198 415.839,111.225 407.441,113.132 398.772,115.777 390.007,119.009 381.301,122.672 372.792,126.603 \n",
       "  364.599,130.63 356.802,134.646 349.44,138.587 342.544,142.393 336.128,146.02 330.196,149.44 324.737,152.643 319.728,155.636 315.144,158.426 310.962,161.027 \n",
       "  307.151,163.454 303.68,165.726 300.522,167.859 297.647,169.867 295.028,171.766 292.639,173.568 290.454,175.287 288.448,176.933 286.598,178.515 284.883,180.039 \n",
       "  283.285,181.512 281.785,182.939 280.365,184.323 279.01,185.667 277.703,186.972 276.433,188.24 275.188,189.471 273.958,190.666 272.732,191.824 271.501,192.944 \n",
       "  270.255,194.025 268.985,195.065 267.684,196.063 266.344,197.015 264.962,197.919 263.53,198.773 262.044,199.573 260.499,200.315 258.892,200.995 257.218,201.61 \n",
       "  255.474,202.153 253.659,202.621 251.77,203.007 249.807,203.305 247.77,203.508 245.661,203.61 243.482,203.603 241.237,203.48 238.932,203.234 236.571,202.856 \n",
       "  234.164,202.339 231.721,201.679 229.253,200.866 226.776,199.891 224.306,198.745 221.862,197.426 219.465,195.932 217.136,194.263 214.899,192.422 212.782,190.416 \n",
       "  210.811,188.253 209.017,185.943 207.425,183.502 206.061,180.953 204.954,178.318 204.128,175.626 203.603,172.902 203.395,170.178 203.514,167.486 203.964,164.861 \n",
       "  204.746,162.338 205.854,159.956 207.279,157.755 209.002,155.766 210.998,154.005 213.237,152.492 215.69,151.239 218.325,150.254 221.11,149.541 224.011,149.097 \n",
       "  226.992,148.917 230.018,148.987 233.05,149.293 236.061,149.817 239.026,150.537 241.923,151.434 244.73,152.486 247.432,153.676 250.013,154.983 252.462,156.389 \n",
       "  254.771,157.878 256.935,159.431 258.951,161.033 260.819,162.667 262.538,164.326 264.109,166.002 265.534,167.686 266.816,169.373 267.959,171.055 268.966,172.726 \n",
       "  269.841,174.383 270.588,176.022 271.211,177.638 271.715,179.231 272.104,180.797 272.381,182.335 272.552,183.843 272.617,185.32 272.58,186.764 272.444,188.174 \n",
       "  272.211,189.548 271.882,190.887 271.46,192.187 270.946,193.449 270.341,194.671 269.647,195.852 268.862,196.99 267.986,198.083 267.017,199.129 265.956,200.127 \n",
       "  264.801,201.073 263.551,201.965 262.206,202.799 260.764,203.571 259.227,204.278 257.592,204.914 255.86,205.476 254.03,205.958 252.103,206.355 250.078,206.657 \n",
       "  247.954,206.859 245.734,206.951 243.421,206.926 241.022,206.775 238.543,206.49 235.992,206.06 233.379,205.477 230.716,204.732 228.014,203.815 225.29,202.725 \n",
       "  222.563,201.45 219.858,199.977 217.201,198.301 214.618,196.418 212.137,194.331 209.789,192.047 207.603,189.575 205.612,186.931 203.851,184.135 202.355,181.209 \n",
       "  201.159,178.183 200.299,175.09 199.789,171.975 199.646,168.879 199.88,165.841 200.495,162.896 201.489,160.083 202.854,157.437 204.576,154.992 206.636,152.782 \n",
       "  209.007,150.841 211.658,149.2 214.549,147.889 217.635,146.905 220.869,146.237 224.208,145.879 227.61,145.819 231.039,146.042 234.459,146.528 237.838,147.256 \n",
       "  241.147,148.198 244.358,149.325 247.448,150.604 250.401,152.013 253.205,153.535 255.854,155.148 258.342,156.834 260.663,158.576 262.816,160.359 264.801,162.168 \n",
       "  266.618,163.994 268.272,165.825 269.768,167.655 271.11,169.477 272.303,171.285 273.354,173.075 274.268,174.844 275.051,176.588 275.708,178.306 276.245,179.994 \n",
       "  276.666,181.651 276.976,183.276 277.179,184.867 277.279,186.425 277.28,187.949 277.186,189.438 277,190.891 276.721,192.308 276.352,193.689 275.893,195.033 \n",
       "  275.345,196.339 274.709,197.606 273.985,198.834 273.173,200.021 272.272,201.165 271.284,202.266 270.206,203.322 269.036,204.331 267.771,205.289 266.409,206.195 \n",
       "  264.948,207.044 263.385,207.834 261.719,208.559 259.947,209.214 258.068,209.795 256.08,210.294 253.982,210.705 251.777,211.024 249.465,211.241 247.043,211.346 \n",
       "  244.512,211.327 241.873,211.172 239.132,210.869 236.296,210.408 233.378,209.777 230.389,208.964 227.346,207.959 224.268,206.75 221.176,205.327 218.096,203.677 \n",
       "  215.051,201.796 212.068,199.682 209.19,197.332 206.461,194.744 203.923,191.926 201.615,188.89 199.577,185.659 197.848,182.258 196.464,178.723 195.46,175.096 \n",
       "  194.872,171.423 194.732,167.761 195.062,164.177 195.858,160.729 197.108,157.463 198.794,154.42 200.893,151.638 203.378,149.149 206.215,146.985 209.367,145.169 \n",
       "  212.789,143.725 216.432,142.669 220.243,142.015 224.162,141.752 228.132,141.838 232.105,142.244 236.039,142.942 239.896,143.903 243.646,145.095 247.262,146.486 \n",
       "  250.722,148.042 254.011,149.728 257.118,151.513 260.033,153.378 262.755,155.305 265.284,157.275 267.621,159.274 269.769,161.287 271.731,163.302 273.514,165.311 \n",
       "  275.124,167.305 276.567,169.279 277.853,171.229 278.99,173.151 279.985,175.042 280.845,176.901 281.579,178.726 282.192,180.515 282.691,182.269 283.082,183.986 \n",
       "  283.37,185.666 283.561,187.31 283.661,188.918 283.673,190.489 283.6,192.026 283.444,193.526 283.205,194.992 282.886,196.423 282.486,197.818 282.008,199.179 \n",
       "  281.451,200.505 280.816,201.796 280.104,203.051 279.313,204.271 278.445,205.455 277.498,206.602 276.465,207.711 275.345,208.78 274.135,209.808 272.83,210.792 \n",
       "  271.429,211.73 269.927,212.619 268.321,213.455 266.606,214.234 264.78,214.953 262.841,215.605 260.783,216.185 258.599,216.686 256.285,217.098 253.838,217.415 \n",
       "  251.256,217.623 248.541,217.714 245.693,217.674 242.716,217.491 239.616,217.149 236.398,216.635 233.071,215.931 229.645,215.021 226.137,213.899 222.568,212.539 \n",
       "  218.96,210.916 215.345,209.011 211.754,206.812 208.228,204.312 204.808,201.508 201.545,198.406 198.491,195.015 195.704,191.351 193.246,187.436 191.18,183.303 \n",
       "  189.549,179.011 188.405,174.616 187.787,170.178 187.725,165.757 188.236,161.417 189.327,157.222 190.993,153.241 193.219,149.543 195.976,146.199 199.228,143.283 \n",
       "  202.918,140.854 206.965,138.917 211.295,137.475 215.838,136.524 220.525,136.052 225.293,136.034 230.08,136.439 234.828,137.224 239.481,138.336 243.988,139.718 \n",
       "  248.32,141.331 252.456,143.137 256.379,145.094 260.075,147.168 263.537,149.327 266.759,151.543 269.742,153.794 272.491,156.059 275.015,158.323 277.327,160.576 \n",
       "  279.432,162.806 281.34,165.008 283.063,167.177 284.613,169.31 286,171.402 287.235,173.452 288.329,175.457 289.29,177.418 290.128,179.334 290.852,181.205 \n",
       "  291.471,183.032 291.994,184.817 292.426,186.56 292.774,188.262 293.044,189.924 293.241,191.548 293.37,193.134 293.436,194.684 293.441,196.2 293.39,197.681 \n",
       "  293.283,199.129 293.123,200.546 292.911,201.931 292.647,203.286 292.333,204.612 291.968,205.91 291.552,207.18 291.087,208.423 290.57,209.639 289.999,210.83 \n",
       "  289.373,211.995 288.69,213.134 287.947,214.249 287.141,215.338 286.268,216.401 285.327,217.439 284.312,218.451 283.22,219.435 282.046,220.391 280.785,221.317 \n",
       "  279.43,222.213 277.977,223.076 276.419,223.903 274.751,224.69 272.965,225.434 271.055,226.131 269.013,226.774 266.833,227.36 264.516,227.88 262.049,228.326 \n",
       "  259.42,228.69 256.62,228.959 253.642,229.121 250.482,229.16 247.138,229.059 243.612,228.8 239.906,228.363 236.028,227.724 231.986,226.86 227.792,225.744 \n",
       "  223.46,224.35 219.011,222.654 214.477,220.634 209.898,218.247 205.32,215.458 200.799,212.247 196.398,208.6 192.188,204.519 188.249,200.014 184.666,195.106 \n",
       "  181.535,189.829 178.958,184.227 177.017,178.392 175.783,172.424 175.31,166.421 175.635,160.483 176.778,154.71 178.739,149.205 181.5,144.07 185.028,139.413 \n",
       "  189.267,135.339 194.146,131.956 199.555,129.325 205.354,127.426 211.43,126.244 217.674,125.747 223.988,125.892 230.28,126.615 236.467,127.843 242.474,129.483 \n",
       "  248.239,131.439 253.728,133.656 258.919,136.073 263.797,138.632 268.353,141.283 272.582,143.985 276.489,146.704 280.084,149.412 283.383,152.091 286.405,154.725 \n",
       "  289.161,157.302 291.669,159.818 293.95,162.269 296.023,164.653 297.903,166.969 299.61,169.216 301.158,171.394 302.563,173.502 303.838,175.543 304.998,177.516 \n",
       "  306.055,179.424 307.023,181.272 307.915,183.06 308.74,184.792 309.508,186.469 310.228,188.092 310.908,189.664 311.558,191.185 312.185,192.659 312.796,194.086 \n",
       "  313.396,195.466 313.993,196.802 314.589,198.094 315.192,199.342 315.806,200.547 316.436,201.709 317.088,202.829 317.765,203.906 318.473,204.942 319.216,205.934 \n",
       "  319.997,206.883 320.822,207.788 321.695,208.647 322.621,209.46 323.605,210.224 324.652,210.939 325.768,211.603 326.958,212.212 328.228,212.764 329.582,213.256 \n",
       "  331.028,213.684 332.572,214.043 334.22,214.329 335.979,214.537 337.857,214.659 339.859,214.691 341.993,214.625 344.266,214.452 346.686,214.163 349.262,213.746 \n",
       "  351.999,213.191 354.902,212.485 357.974,211.616 361.218,210.57 364.635,209.332 368.225,207.886 371.985,206.219 375.901,204.322 379.969,202.17 384.177,199.743 \n",
       "  388.506,197.026 392.928,194.01 397.406,190.694 401.895,187.081 406.342,183.182 410.685,179.012 414.855,174.595 418.772,169.958 422.372,165.153 425.559,160.252 \n",
       "  428.235,155.331 430.314,150.473 431.726,145.76 432.414,141.283 432.332,137.133 431.45,133.407 429.752,130.204 427.239,127.62 423.965,125.684 420.008,124.408 \n",
       "  415.45,123.787 410.376,123.802 404.881,124.417 399.062,125.582 393.026,127.229 386.881,129.276 380.741,131.627 374.685,134.202 368.778,136.93 363.077,139.748 \n",
       "  357.625,142.601 352.455,145.446 347.588,148.249 343.032,150.984 338.787,153.635 334.853,156.195 331.222,158.66 327.884,161.031 324.824,163.311 322.028,165.501 \n",
       "  319.481,167.608 317.166,169.638 315.066,171.6 313.162,173.498 311.438,175.338 309.878,177.127 308.465,178.869 307.187,180.569 306.029,182.23 304.977,183.855 \n",
       "  304.019,185.448 303.142,187.01 302.338,188.543 301.595,190.05 300.907,191.531 300.264,192.988 299.659,194.421 299.084,195.832 298.532,197.22 297.997,198.586 \n",
       "  297.473,199.93 296.955,201.252 296.438,202.553 295.918,203.834 295.391,205.094 294.85,206.333 294.293,207.551 293.715,208.75 293.112,209.927 292.481,211.085 \n",
       "  291.817,212.222 291.117,213.339 290.376,214.435 289.59,215.511 288.754,216.565 287.864,217.598 286.915,218.61 285.903,219.598 284.822,220.564 283.667,221.505 \n",
       "  282.432,222.42 281.112,223.308 279.7,224.166 278.189,224.993 276.573,225.784 274.844,226.538 272.995,227.25 271.019,227.916 268.907,228.529 266.653,229.083 \n",
       "  264.248,229.569 261.685,229.979 258.957,230.303 256.059,230.53 252.987,230.648 249.731,230.638 246.284,230.483 242.645,230.162 238.815,229.653 234.802,228.932 \n",
       "  230.617,227.974 226.274,226.751 221.796,225.234 217.204,223.392 212.53,221.197 207.813,218.63 203.11,215.65 198.483,212.226 194.004,208.345 189.748,204.005 \n",
       "  185.8,199.221 182.247,194.021 179.188,188.447 176.725,182.556 174.955,176.434 173.945,170.2 173.75,163.965 174.404,157.84 175.921,151.934 178.294,146.358 \n",
       "  181.493,141.221 185.47,136.632 190.155,132.7 195.457,129.532 201.243,127.15 207.381,125.529 213.752,124.644 220.245,124.454 226.761,124.901 233.206,125.911 \n",
       "  239.499,127.396 245.567,129.252 251.364,131.409 256.864,133.802 262.044,136.366 266.892,139.044 271.402,141.79 275.576,144.565 279.422,147.336 282.957,150.082 \n",
       "  286.196,152.785 289.155,155.432 291.853,158.017 294.309,160.533 296.541,162.978 298.568,165.347 300.408,167.641 302.078,169.859 303.594,172.004 304.975,174.077 \n",
       "  306.235,176.081 307.389,178.018 308.448,179.891 309.425,181.7 310.332,183.449 311.18,185.139 311.98,186.773 312.741,188.353 313.472,189.88 314.18,191.355 \n",
       "  314.872,192.78 315.556,194.155 316.236,195.482 316.921,196.761 317.616,197.994 318.326,199.18 319.059,200.319 319.818,201.413 320.608,202.459 321.434,203.458 \n",
       "  322.301,204.41 323.214,205.312 324.179,206.164 325.201,206.966 326.285,207.714 327.437,208.407 328.661,209.042 329.964,209.617 331.351,210.127 332.828,210.57 \n",
       "  334.401,210.94 336.077,211.234 337.863,211.446 339.764,211.571 341.787,211.6 343.939,211.528 346.227,211.345 348.658,211.042 351.236,210.61 353.966,210.036 \n",
       "  356.851,209.311 359.896,208.421 363.101,207.354 366.465,206.099 369.981,204.645 373.648,202.972 377.463,201.061 381.414,198.898 385.482,196.47 389.644,193.773 \n",
       "  393.867,190.802 398.113,187.559 402.336,184.051 406.483,180.285 410.497,176.275 414.322,172.048 417.886,167.648 421.1,163.129 423.882,158.551 426.159,153.98 \n",
       "  427.865,149.49 428.942,145.162 429.339,141.083 429.013,137.347 427.929,134.055 426.093,131.28 423.542,129.061 420.327,127.423 416.505,126.376 412.144,125.917 \n",
       "  407.319,126.029 402.116,126.682 396.629,127.829 390.961,129.412 385.216,131.352 379.477,133.567 373.816,135.985 368.297,138.546 362.969,141.194 357.872,143.882 \n",
       "  353.033,146.569 348.469,149.222 344.191,151.817 340.205,154.346 336.506,156.799 333.089,159.172 329.945,161.463 327.064,163.672 324.433,165.802 322.038,167.858 \n",
       "  319.863,169.848 317.892,171.774 316.109,173.642 314.499,175.457 313.048,177.224 311.743,178.947 310.569,180.629 309.514,182.274 308.565,183.885 307.71,185.464 \n",
       "  306.941,187.013 306.248,188.533 305.623,190.027 305.059,191.495 304.548,192.94 304.083,194.361 303.658,195.759 303.264,197.134 302.896,198.486 302.55,199.816 \n",
       "  302.223,201.124 301.911,202.411 301.61,203.677 301.317,204.922 301.029,206.147 300.742,207.352 300.454,208.536 300.162,209.701 299.863,210.846 299.556,211.973 \n",
       "  299.238,213.08 298.907,214.17 298.559,215.241 298.194,216.294 297.807,217.33 297.397,218.349 296.963,219.351 296.5,220.336 296.006,221.306 295.478,222.259 \n",
       "  294.914,223.197 294.31,224.12 293.662,225.027 292.967,225.919 292.221,226.796 291.42,227.658 290.559,228.505 289.634,229.337 288.64,230.152 287.57,230.951 \n",
       "  286.42,231.733 285.182,232.496 283.851,233.238 282.419,233.959 280.878,234.657 279.22,235.328 277.438,235.97 275.521,236.578 273.461,237.146 271.248,237.669 \n",
       "  268.872,238.139 266.323,238.55 263.596,238.891 260.678,239.151 257.554,239.317 254.213,239.373 250.647,239.301 246.851,239.079 242.823,238.683 238.564,238.084 \n",
       "  234.079,237.254 229.374,236.159 224.461,234.763 219.359,233.036 214.1,230.94 208.718,228.415 203.262,225.41 197.795,221.887 192.393,217.819 187.146,213.191 \n",
       "  182.156,208 177.542,202.255 173.434,195.975 169.957,189.213 167.229,182.074 165.378,174.675 164.499,167.143 164.663,159.617 165.908,152.246 168.245,145.193 \n",
       "  171.654,138.629 176.088,132.74 181.462,127.708 187.619,123.613 194.396,120.484 201.639,118.327 209.2,117.119 216.935,116.806 224.705,117.306 232.373,118.506 \n",
       "  239.814,120.272 246.961,122.495 253.766,125.072 260.189,127.902 266.205,130.903 271.801,134 276.976,137.134 281.743,140.259 286.128,143.342 290.15,146.356 \n",
       "  293.823,149.286 297.174,152.124 300.229,154.866 303.012,157.506 305.546,160.042 307.855,162.475 309.96,164.804 311.884,167.032 313.646,169.165 315.27,171.205 \n",
       "  316.771,173.158 318.168,175.025 319.475,176.811 320.708,178.519 321.881,180.15 323.008,181.707 324.1,183.193 325.171,184.61 326.229,185.959 327.282,187.24 \n",
       "  328.34,188.454 329.411,189.601 330.502,190.681 331.623,191.694 332.781,192.64 333.983,193.518 335.234,194.326 336.542,195.062 337.911,195.723 339.346,196.308 \n",
       "  340.854,196.813 342.44,197.233 344.109,197.567 345.865,197.81 347.714,197.957 349.658,198.003 351.703,197.941 353.85,197.766 356.102,197.47 358.46,197.046 \n",
       "  360.924,196.489 363.492,195.79 366.163,194.942 368.932,193.939 371.793,192.774 374.737,191.444 377.755,189.937 380.833,188.246 383.956,186.369 387.104,184.305 \n",
       "  390.251,182.058 393.371,179.633 396.431,177.043 399.397,174.299 402.228,171.421 404.882,168.427 407.321,165.346 409.503,162.214 411.377,159.073 412.899,155.964 \n",
       "  414.031,152.929 414.742,150.012 415.008,147.257 414.811,144.711 414.14,142.418 412.992,140.428 411.373,138.782 409.308,137.492 406.836,136.567 403.994,136.01 \n",
       "  400.826,135.816 397.377,135.973 393.698,136.463 389.842,137.259 385.865,138.329 381.828,139.63 377.785,141.124 373.775,142.775 369.838,144.55 366.005,146.417 \n",
       "  362.307,148.349 358.765,150.321 355.397,152.312 352.215,154.304 349.225,156.283 346.431,158.238 343.835,160.162 341.435,162.052 339.228,163.905 337.209,165.718 \n",
       "  335.371,167.49 333.709,169.22 332.215,170.909 330.882,172.558 329.702,174.169 328.666,175.742 327.766,177.278 326.995,178.779 326.345,180.244 325.811,181.676 \n",
       "  325.385,183.073 325.063,184.437 324.839,185.767 324.707,187.064 324.664,188.327 324.705,189.556 324.829,190.749 325.033,191.908 325.316,193.03 325.677,194.117 \n",
       "  326.114,195.165 326.628,196.174 327.218,197.142 327.884,198.066 328.625,198.946 329.443,199.778 330.341,200.56 331.321,201.29 332.386,201.966 333.54,202.584 \n",
       "  334.784,203.14 336.123,203.632 337.559,204.054 339.098,204.402 340.742,204.671 342.494,204.855 344.36,204.948 346.346,204.944 348.457,204.835 350.696,204.613 \n",
       "  353.066,204.269 355.57,203.795 358.208,203.181 360.981,202.417 363.887,201.494 366.924,200.4 370.09,199.124 373.374,197.663 376.767,196.002 380.26,194.128 \n",
       "  383.839,192.031 387.482,189.703 391.163,187.145 394.852,184.361 398.511,181.357 402.096,178.148 405.561,174.751 408.852,171.187 411.909,167.484 414.687,163.682 \n",
       "  417.122,159.838 419.148,156.006 420.706,152.245 421.75,148.612 422.243,145.164 422.158,141.962 421.477,139.065 420.194,136.533 418.313,134.43 415.849,132.806 \n",
       "  412.856,131.662 409.393,130.996 405.524,130.797 401.312,131.047 396.825,131.719 392.13,132.776 387.299,134.171 382.404,135.85 377.52,137.748 372.711,139.807 \n",
       "  368.017,141.991 363.476,144.258 359.12,146.573 354.974,148.904 351.056,151.228 347.377,153.524 343.942,155.779 340.749,157.985 337.79,160.137 335.066,162.232 \n",
       "  332.567,164.27 330.284,166.25 328.208,168.175 326.328,170.046 324.632,171.866 323.11,173.638 321.748,175.366 320.536,177.051 319.464,178.698 318.52,180.307 \n",
       "  317.696,181.881 316.982,183.422 316.368,184.93 315.848,186.409 315.415,187.857 315.062,189.277 314.783,190.668 314.574,192.032 314.429,193.368 314.343,194.677 \n",
       "  314.314,195.959 314.339,197.212 314.415,198.439 314.54,199.637 314.713,200.807 314.933,201.949 315.198,203.063 315.509,204.146 315.865,205.2 316.268,206.223 \n",
       "  316.717,207.215 317.214,208.175 317.761,209.102 318.36,209.995 319.011,210.853 319.719,211.675 320.486,212.458 321.314,213.202 322.208,213.905 323.172,214.564 \n",
       "  324.21,215.178 325.326,215.743 326.526,216.257 327.815,216.716 329.198,217.116 330.682,217.454 332.272,217.723 333.976,217.92 335.802,218.038 337.758,218.071 \n",
       "  339.85,218.009 342.086,217.846 344.474,217.57 347.02,217.172 349.732,216.641 352.618,215.964 355.68,215.13 358.919,214.127 362.347,212.934 365.969,211.531 \n",
       "  369.786,209.899 373.794,208.02 377.983,205.879 382.336,203.46 386.832,200.749 391.444,197.735 396.139,194.405 400.879,190.75 405.622,186.772 410.304,182.484 \n",
       "  414.846,177.903 419.165,173.058 423.176,167.996 426.793,162.775 429.924,157.469 432.478,152.166 434.358,146.969 435.469,141.993 435.747,137.363 435.162,133.185 \n",
       "  433.696,129.547 431.357,126.522 428.175,124.166 424.202,122.515 419.514,121.593 414.209,121.404 408.406,121.927 402.238,123.067 395.83,124.734 389.295,126.843 \n",
       "  382.738,129.309 376.25,132.044 369.911,134.961 363.79,137.969 357.941,140.995 352.393,144.008 347.166,146.972 342.273,149.859 337.719,152.649 333.504,155.331 \n",
       "  329.618,157.9 326.047,160.359 322.775,162.714 319.786,164.968 317.061,167.129 314.58,169.204 312.325,171.202 310.278,173.129 308.419,174.993 306.732,176.799 \n",
       "  305.197,178.556 303.8,180.266 302.524,181.936 301.357,183.568 300.284,185.165 299.293,186.731 298.371,188.268 297.509,189.777 296.694,191.26 295.917,192.717 \n",
       "  295.17,194.15 294.447,195.559 293.739,196.945 293.04,198.307 292.342,199.648 291.638,200.965 290.923,202.259 290.191,203.531 289.437,204.78 288.655,206.005 \n",
       "  287.841,207.207 286.989,208.385 286.094,209.539 285.151,210.667 284.155,211.769 283.099,212.845 281.98,213.892 280.791,214.91 279.528,215.897 278.184,216.852 \n",
       "  276.754,217.77 275.231,218.651 273.61,219.491 271.883,220.286 270.045,221.031 268.089,221.723 266.009,222.355 263.797,222.92 261.447,223.412 258.955,223.82 \n",
       "  256.316,224.135 253.525,224.345 250.579,224.437 247.475,224.399 244.219,224.22 240.808,223.877 237.241,223.348 233.523,222.61 229.666,221.64 225.686,220.417 \n",
       "  221.606,218.919 217.455,217.124 213.267,215.012 209.083,212.563 204.949,209.757 200.911,206.582 197.029,203.039 193.38,199.124 190.044,194.848 187.092,190.236 \n",
       "  184.595,185.328 182.621,180.178 181.234,174.856 180.493,169.447 180.455,164.048 181.156,158.782 182.587,153.752 184.726,149.041 187.539,144.725 190.982,140.87 \n",
       "  194.996,137.534 199.515,134.765 204.458,132.605 209.735,131.084 215.241,130.217 220.875,129.942 226.547,130.201 232.181,130.939 237.71,132.097 243.078,133.617 \n",
       "  248.243,135.436 253.17,137.487 257.834,139.706 262.221,142.054 266.324,144.495 270.143,146.993 273.68,149.519 276.942,152.05 279.936,154.566 282.675,157.053 \n",
       "  285.173,159.502 287.446,161.904 289.508,164.255 291.374,166.55 293.06,168.789 294.579,170.97 295.946,173.092 297.174,175.155 298.276,177.161 299.266,179.112 \n",
       "  300.154,181.009 300.95,182.853 301.663,184.645 302.301,186.389 302.873,188.084 303.387,189.733 303.851,191.338 304.271,192.9 304.654,194.421 305.005,195.903 \n",
       "  305.329,197.346 305.628,198.751 305.907,200.121 306.17,201.456 306.42,202.756 306.66,204.024 306.894,205.26 307.124,206.465 307.351,207.64 307.579,208.785 \n",
       "  307.809,209.901 308.043,210.989 308.284,212.049 308.533,213.082 308.793,214.088 309.065,215.067 309.352,216.02 309.654,216.947 309.973,217.848 310.313,218.723 \n",
       "  310.675,219.573 311.061,220.397 311.474,221.194 311.915,221.966 312.388,222.711 312.895,223.43 313.44,224.12 314.025,224.783 314.653,225.416 315.329,226.02 \n",
       "  316.056,226.593 316.839,227.133 317.681,227.64 318.588,228.111 319.565,228.544 320.618,228.938 321.751,229.288 322.973,229.592 324.29,229.846 325.709,230.048 \n",
       "  327.238,230.19 328.885,230.27 330.659,230.28 332.571,230.215 334.629,230.065 336.845,229.823 339.228,229.478 341.789,229.018 344.539,228.43 347.489,227.703 \n",
       "  350.65,226.819 354.023,225.768 357.623,224.525 361.466,223.066 365.561,221.367 369.91,219.404 374.51,217.152 379.352,214.586 384.419,211.683 389.689,208.418 \n",
       "  395.136,204.767 400.724,200.706 406.409,196.231 412.122,191.332 417.776,186.007 423.277,180.278 428.517,174.187 433.38,167.797 437.739,161.196 441.457,154.492 \n",
       "  444.385,147.816 446.376,141.323 447.336,135.188 447.184,129.573 445.871,124.621 443.387,120.449 439.757,117.156 435.046,114.821 429.353,113.499 422.819,113.218 \n",
       "  415.626,113.881 407.957,115.37 399.984,117.57 391.861,120.355 383.735,123.59 375.737,127.131 367.984,130.823 360.563,134.553 353.518,138.261 346.883,141.886 \n",
       "  340.682,145.381 334.923,148.713 329.604,151.865 324.71,154.834 320.217,157.629 316.107,160.254 312.356,162.722 308.936,165.047 305.82,167.242 302.984,169.322 \n",
       "  300.401,171.298 298.047,173.182 295.899,174.986 293.931,176.72 292.123,178.392 290.453,180.009 288.905,181.576 287.459,183.1 286.1,184.583 284.811,186.028 \n",
       "  283.577,187.438 282.385,188.814 281.222,190.156 280.08,191.467 278.948,192.744 277.815,193.989 276.673,195.201 275.513,196.378 274.326,197.52 273.103,198.624 \n",
       "  271.84,199.689 270.53,200.712 269.166,201.691 267.744,202.624 266.257,203.507 264.7,204.337 263.069,205.108 261.359,205.819 259.566,206.462 257.686,207.034 \n",
       "  255.717,207.527 253.657,207.936 251.504,208.252 249.258,208.469 246.921,208.578 244.492,208.569 241.977,208.435 239.378,208.165 236.704,207.752 233.963,207.182 \n",
       "  231.164,206.441 228.321,205.518 225.451,204.403 222.572,203.088 219.708,201.568 216.883,199.838 214.127,197.895 211.47,195.741 208.947,193.374 206.586,190.808 \n",
       "  204.428,188.055 202.516,185.133 200.887,182.065 199.576,178.877 198.61,175.603 198.014,172.281 197.809,168.954 198.01,165.67 198.627,162.484 199.666,159.449 \n",
       "  201.11,156.612 202.938,154.009 205.124,151.674 207.637,149.635 210.444,147.913 213.505,146.522 216.777,145.472 220.212,144.765 223.758,144.399 227.365,144.358 \n",
       "  230.994,144.616 234.607,145.147 238.168,145.925 241.647,146.925 245.017,148.119 248.258,149.482 251.352,150.985 254.287,152.602 257.054,154.303 259.648,156.07 \n",
       "  262.064,157.89 264.304,159.749 266.368,161.632 268.26,163.528 269.982,165.428 271.54,167.322 272.938,169.204 274.183,171.07 275.281,172.914 276.239,174.734 \n",
       "  277.063,176.526 277.761,178.289 278.336,180.021 278.796,181.72 279.145,183.386 279.387,185.018 279.528,186.614 279.57,188.176 279.52,189.702 279.38,191.193 \n",
       "  279.152,192.648 278.836,194.067 278.433,195.451 277.943,196.797 277.367,198.107 276.705,199.379 275.956,200.612 275.122,201.806 274.201,202.959 273.194,204.07 \n",
       "  272.098,205.138 270.914,206.161 269.635,207.136 268.258,208.06 266.782,208.93 265.203,209.743 263.518,210.494 261.724,211.179 259.82,211.791 257.803,212.325 \n",
       "  255.671,212.774 253.428,213.133 251.07,213.393 248.594,213.542 245.997,213.568 243.282,213.459 240.452,213.203 237.515,212.787 234.481,212.199 231.361,211.426 \n",
       "  228.173,210.456 224.934,209.274 221.666,207.868 218.392,206.224 215.139,204.332 211.934,202.192 208.821,199.793 205.846,197.132 203.052,194.214 200.485,191.05 \n",
       "  198.189,187.661 196.206,184.073 194.581,180.322 193.356,176.453 192.574,172.515 192.276,168.57 192.481,164.695 193.187,160.947 194.385,157.375 196.061,154.027 \n",
       "  198.195,150.947 200.757,148.174 203.714,145.745 207.025,143.694 210.644,142.051 214.515,140.841 218.58,140.082 222.764,139.739 227.009,139.776 231.262,140.167 \n",
       "  235.474,140.879 239.606,141.88 243.623,143.132 247.494,144.597 251.198,146.236 254.716,148.006 258.034,149.885 261.148,151.85 264.056,153.876 266.757,155.945 \n",
       "  269.252,158.04 271.544,160.144 273.639,162.247 275.544,164.338 277.267,166.411 278.817,168.459 280.203,170.479 281.435,172.468 282.521,174.422 283.469,176.34 \n",
       "  284.288,178.22 284.985,180.062 285.568,181.865 286.043,183.629 286.418,185.355 286.698,187.043 286.89,188.694 286.995,190.308 287.019,191.885 286.962,193.427 \n",
       "  286.829,194.933 286.62,196.405 286.339,197.843 285.986,199.247 285.565,200.618 285.075,201.956 284.518,203.263 283.892,204.537 283.195,205.779 282.426,206.989 \n",
       "  281.581,208.166 280.659,209.309 279.657,210.418 278.572,211.492 277.401,212.528 276.141,213.527 274.788,214.485 273.337,215.399 271.782,216.269 270.12,217.089 \n",
       "  268.344,217.856 266.449,218.565 264.432,219.21 262.287,219.784 260.01,220.28 257.597,220.689 255.044,221.002 252.348,221.21 249.514,221.305 246.537,221.27 \n",
       "  243.412,221.088 240.139,220.74 236.722,220.208 233.171,219.473 229.499,218.517 225.725,217.322 221.872,215.867 217.966,214.135 214.042,212.107 210.135,209.764 \n",
       "  206.284,207.092 202.53,204.091 198.942,200.754 195.587,197.079 192.532,193.082 189.839,188.787 187.568,184.233 185.778,179.47 184.524,174.559 183.858,169.578 \n",
       "  183.831,164.612 184.476,159.762 185.784,155.119 187.74,150.765 190.316,146.77 193.472,143.195 197.159,140.094 201.313,137.511 205.859,135.479 210.712,134.025 \n",
       "  215.778,133.154 220.975,132.815 226.222,132.965 231.451,133.562 236.601,134.556 241.62,135.896 246.465,137.528 251.102,139.394 255.508,141.432 259.664,143.603 \n",
       "  263.563,145.877 267.201,148.22 270.579,150.606 273.701,153.01 276.572,155.414 279.202,157.803 281.602,160.165 283.786,162.492 285.765,164.779 287.554,167.021 \n",
       "  289.166,169.214 290.613,171.358 291.908,173.45 293.062,175.491 294.088,177.48 294.997,179.42 295.798,181.31 296.502,183.152 297.116,184.947 297.649,186.696 \n",
       "  298.107,188.402 298.498,190.065 298.829,191.686 299.105,193.269 299.331,194.813 299.51,196.32 299.647,197.792 299.745,199.23 299.807,200.634 299.835,202.007 \n",
       "  299.833,203.35 299.8,204.663 299.74,205.947 299.653,207.204 299.539,208.434 299.399,209.639 299.235,210.819 299.045,211.976 298.83,213.109 298.589,214.221 \n",
       "  298.321,215.311 298.027,216.38 297.704,217.429 297.351,218.459 296.967,219.47 296.551,220.463 296.099,221.438 295.611,222.396 295.084,223.337 294.514,224.262 \n",
       "  293.9,225.172 293.238,226.065 292.524,226.943 291.754,227.805 290.925,228.652 290.032,229.484 289.07,230.299 288.034,231.098 286.919,231.881 285.717,232.646 \n",
       "  284.424,233.391 283.031,234.116 281.531,234.817 279.918,235.492 278.181,236.139 276.313,236.754 274.307,237.331 272.15,237.866 269.832,238.354 267.342,238.785 \n",
       "  264.669,239.152 261.804,239.442 258.737,239.642 255.461,239.735 251.967,239.705 248.248,239.532 244.297,239.195 240.121,238.675 235.718,237.939 231.082,236.948 \n",
       "  226.22,235.662 221.149,234.041 215.898,232.046 210.505,229.638 205.021,226.78 199.508,223.433 194.038,219.559 188.695,215.125 183.555,210.129 178.752,204.565 \n",
       "  174.427,198.447 170.708,191.815 167.715,184.738 165.558,177.316 164.334,169.674 164.131,161.969 165.026,154.386 167.065,147.132 170.202,140.387 174.37,134.302 \n",
       "  179.483,128.999 185.429,124.572 192.076,121.09 199.268,118.593 206.826,117.095 214.576,116.54 222.379,116.813 230.106,117.809 237.65,119.423 244.925,121.542 \n",
       "  251.868,124.056 258.434,126.846 264.6,129.809 270.35,132.887 275.685,136.022 280.612,139.164 285.143,142.275 289.295,145.325 293.089,148.294 296.552,151.171 \n",
       "  299.706,153.947 302.579,156.618 305.194,159.185 307.576,161.648 309.747,164.006 311.731,166.262 313.548,168.421 315.22,170.485 316.765,172.46 318.2,174.348 \n",
       "  319.542,176.152 320.806,177.877 322.005,179.524 323.155,181.096 324.266,182.595 325.352,184.024 326.423,185.384 327.489,186.675 328.557,187.898 329.636,189.054 \n",
       "  330.734,190.143 331.86,191.163 333.022,192.116 334.225,193 335.477,193.814 336.784,194.555 338.151,195.222 339.583,195.811 341.087,196.32 342.667,196.745 \n",
       "  344.329,197.084 346.078,197.331 347.918,197.482 349.852,197.533 351.884,197.476 354.018,197.306 356.254,197.016 358.595,196.6 361.039,196.05 363.586,195.36 \n",
       "  366.234,194.523 368.978,193.532 371.812,192.383 374.726,191.066 377.714,189.574 380.76,187.902 383.849,186.045 386.96,184.006 390.07,181.788 393.15,179.398 \n",
       "  396.169,176.845 399.093,174.142 401.882,171.305 404.5,168.354 406.909,165.32 409.058,162.239 410.901,159.148 412.397,156.085 413.512,153.093 414.216,150.214 \n",
       "  414.484,147.494 414.298,144.982 413.644,142.725 412.517,140.773 410.932,139.149 408.915,137.87 406.496,136.947 403.712,136.384 400.601,136.178 397.21,136.318 \n",
       "  393.588,136.785 389.791,137.554 385.879,138.592 381.909,139.859 377.924,141.319 373.97,142.937 370.084,144.679 366.299,146.516 362.644,148.421 359.141,150.368 \n",
       "  355.807,152.336 352.653,154.305 349.688,156.261 346.916,158.196 344.34,160.104 341.956,161.98 339.762,163.82 337.755,165.62 335.929,167.38 334.277,169.099 \n",
       "  332.794,170.778 331.47,172.419 330.298,174.021 329.269,175.585 328.376,177.114 327.613,178.606 326.971,180.063 326.445,181.486 326.028,182.875 325.715,184.23 \n",
       "  325.5,185.551 325.378,186.837 325.344,188.089 325.396,189.306 325.533,190.489 325.752,191.636 326.053,192.747 326.433,193.821 326.892,194.857 327.428,195.852 \n",
       "  328.042,196.806 328.732,197.715 329.499,198.577 330.344,199.39 331.27,200.152 332.28,200.86 333.377,201.512 334.563,202.105 335.843,202.635 337.218,203.097 \n",
       "  338.692,203.488 340.27,203.801 341.955,204.034 343.748,204.179 345.657,204.231 347.687,204.181 349.842,204.023 352.125,203.748 354.54,203.349 357.086,202.815 \n",
       "  359.765,202.138 362.575,201.308 365.514,200.314 368.58,199.147 371.768,197.796 375.067,196.256 378.466,194.517 381.953,192.563 385.511,190.387 389.118,187.986 \n",
       "  392.745,185.359 396.36,182.513 399.923,179.458 403.39,176.211 406.712,172.792 409.835,169.225 412.7,165.541 415.262,161.787 417.458,158.02 419.226,154.296 \n",
       "  420.514,150.671 421.28,147.201 421.493,143.941 421.133,140.949 420.188,138.278 418.659,135.985 416.554,134.125 413.897,132.744 410.744,131.835 407.159,131.389 \n",
       "  403.205,131.39 398.946,131.818 394.449,132.642 389.781,133.823 385.009,135.314 380.203,137.06 375.432,138.998 370.754,141.072 366.205,143.253 361.818,145.502 \n",
       "  357.622,147.787 353.638,150.081 349.881,152.361 346.361,154.61 343.082,156.816 340.04,158.972 337.226,161.076 334.638,163.126 332.269,165.12 330.108,167.059 \n",
       "  328.147,168.946 326.374,170.781 324.778,172.568 323.35,174.309 322.077,176.007 320.949,177.665 319.955,179.284 319.086,180.868 318.333,182.417 317.687,183.934 \n",
       "  317.139,185.419 316.683,186.873 316.312,188.298 316.019,189.694 315.801,191.061 315.652,192.4 315.568,193.711 315.545,194.994 315.581,196.248 315.671,197.474 \n",
       "  315.815,198.671 316.01,199.839 316.256,200.977 316.553,202.086 316.899,203.163 317.296,204.21 317.743,205.224 318.241,206.205 318.792,207.153 319.397,208.065 \n",
       "  320.059,208.94 320.779,209.779 321.561,210.578 322.407,211.336 323.322,212.051 324.308,212.721 325.369,213.344 326.511,213.916 327.738,214.434 329.056,214.895 \n",
       "  330.47,215.296 331.987,215.631 333.612,215.896 335.351,216.085 337.213,216.191 339.203,216.208 341.329,216.129 343.592,215.946 346.002,215.65 348.573,215.228 \n",
       "  351.311,214.669 354.225,213.958 357.319,213.082 360.595,212.027 364.052,210.779 367.689,209.321 371.502,207.639 375.483,205.715 379.623,203.532 383.912,201.074 \n",
       "  388.326,198.333 392.837,195.293 397.412,191.94 402.008,188.271 406.573,184.292 411.045,180.022 415.356,175.488 419.427,170.726 423.171,165.786 426.492,160.727 \n",
       "  429.307,155.63 431.528,150.599 433.067,145.73 433.858,141.114 433.852,136.841 433.021,132.994 431.355,129.652 428.864,126.891 425.575,124.782 421.536,123.392 \n",
       "  416.834,122.732 411.59,122.74 405.916,123.372 399.921,124.571 393.711,126.27 387.387,128.391 381.05,130.845 374.796,133.531 368.713,136.347 362.852,139.246 \n",
       "  357.249,142.177 351.936,145.096 346.936,147.968 342.263,150.764 337.921,153.466 333.906,156.065 330.205,158.56 326.798,160.958 323.676,163.26 320.825,165.468 \n",
       "  318.226,167.591 315.862,169.636 313.713,171.608 311.763,173.514 309.996,175.361 308.394,177.154 306.942,178.899 305.625,180.601 304.425,182.263 303.331,183.889 \n",
       "  302.331,185.483 301.412,187.045 300.564,188.579 299.776,190.087 299.039,191.569 298.342,193.026 297.678,194.458 297.039,195.868 296.419,197.255 295.813,198.62 \n",
       "  295.213,199.962 294.615,201.284 294.012,202.583 293.399,203.862 292.77,205.118 292.121,206.353 291.448,207.566 290.747,208.758 290.012,209.929 289.24,211.077 \n",
       "  288.425,212.203 287.563,213.306 286.649,214.386 285.678,215.442 284.645,216.474 283.545,217.48 282.373,218.459 281.123,219.41 279.79,220.332 278.366,221.22 \n",
       "  276.847,222.074 275.225,222.89 273.493,223.665 271.646,224.394 269.674,225.074 267.572,225.697 265.331,226.258 262.945,226.749 260.408,227.159 257.714,227.48 \n",
       "  254.857,227.698 251.832,227.802 248.639,227.779 245.278,227.615 241.744,227.285 238.033,226.766 234.15,226.033 230.106,225.063 225.918,223.831 221.608,222.313 \n",
       "  217.206,220.482 212.747,218.314 208.273,215.783 203.832,212.864 199.468,209.546 195.255,205.82 191.278,201.678 187.62,197.126 184.363,192.19 181.587,186.912 \n",
       "  179.368,181.351 177.783,175.584 176.905,169.703 176.804,163.821 177.508,158.064 179.019,152.548 181.321,147.377 184.382,142.645 188.153,138.433 192.565,134.815 \n",
       "  197.533,131.851 202.954,129.594 208.71,128.071 214.688,127.231 220.783,127.025 226.9,127.4 232.957,128.295 238.882,129.641 244.616,131.364 250.112,133.38 \n",
       "  255.334,135.615 260.261,138.022 264.883,140.551 269.194,143.159 273.195,145.809 276.889,148.47 280.286,151.119 283.401,153.738 286.249,156.314 288.845,158.838 \n",
       "  291.207,161.304 293.352,163.708 295.297,166.045 297.058,168.316 298.651,170.519 300.092,172.656 301.397,174.728 302.579,176.736 303.652,178.683 304.628,180.571 \n",
       "  305.516,182.4 306.329,184.173 307.077,185.892 307.77,187.56 308.416,189.177 309.023,190.746 309.598,192.268 310.148,193.744 310.677,195.176 311.193,196.564 \n",
       "  311.7,197.911 312.205,199.216 312.711,200.481 313.224,201.707 313.747,202.893 314.284,204.041 314.84,205.151 315.419,206.222 316.023,207.254 316.659,208.249 \n",
       "  317.329,209.204 318.037,210.121 318.788,210.998 319.586,211.833 320.434,212.627 321.338,213.378 322.302,214.083 323.331,214.742 324.431,215.352 325.607,215.91 \n",
       "  326.866,216.414 328.212,216.861 329.652,217.246 331.193,217.565 332.842,217.814 334.606,217.985 336.492,218.074 338.509,218.073 340.663,217.976 342.961,217.773 \n",
       "  345.413,217.455 348.028,217.009 350.815,216.425 353.778,215.689 356.924,214.786 360.256,213.703 363.774,212.422 367.481,210.928 371.374,209.202 375.448,207.229 \n",
       "  379.688,204.996 384.086,202.477 388.624,199.65 393.275,196.502 398.003,193.028 402.761,189.228 407.493,185.111 412.134,180.693 416.607,175.998 420.828,171.054 \n",
       "  424.722,165.912 428.188,160.648 431.114,155.349 433.402,150.105 434.971,145.011 435.754,140.167 435.7,135.676 434.773,131.645 432.955,128.188 430.245,125.413 \n",
       "  426.706,123.356 422.422,122.027 417.485,121.421 411.994,121.514 406.054,122.263 399.778,123.607 393.283,125.467 386.697,127.743 380.14,130.329 373.691,133.137 \n",
       "  367.423,136.088 361.394,139.112 355.648,142.152 350.217,145.161 345.12,148.105 340.36,150.959 335.936,153.708 331.847,156.348 328.08,158.878 324.622,161.3 \n",
       "  321.457,163.617 318.569,165.835 315.939,167.961 313.548,170.004 311.375,171.973 309.402,173.874 307.61,175.715 305.983,177.501 304.503,179.239 303.154,180.932 \n",
       "  301.921,182.587 300.79,184.205 299.747,185.789 298.779,187.343 297.875,188.868 297.027,190.365 296.224,191.837 295.458,193.284 294.721,194.707 294.002,196.107 \n",
       "  293.296,197.484 292.592,198.837 291.886,200.167 291.171,201.475 290.443,202.759 289.696,204.021 288.924,205.259 288.123,206.474 287.285,207.665 286.407,208.832 \n",
       "  285.483,209.974 284.508,211.09 283.478,212.179 282.386,213.241 281.228,214.275 279.998,215.277 278.69,216.248 277.298,217.184 275.816,218.083 274.238,218.942 \n",
       "  272.558,219.757 270.77,220.526 268.866,221.243 266.841,221.902 264.689,222.498 262.403,223.022 259.978,223.467 257.407,223.823 254.69,224.081 251.823,224.229 \n",
       "  248.798,224.253 245.611,224.135 242.263,223.859 238.758,223.405 235.103,222.754 231.31,221.886 227.394,220.779 223.375,219.41 219.275,217.756 215.122,215.793 \n",
       "  210.946,213.51 206.798,210.88 202.732,207.879 198.805,204.498 195.081,200.738 191.626,196.612 188.51,192.144 185.806,187.371 183.592,182.341 181.95,177.115 \n",
       "  180.94,171.786 180.603,166.448 180.967,161.188 182.044,156.094 183.833,151.249 186.316,146.736 189.46,142.636 193.215,139.029 197.519,135.993 202.291,133.601 \n",
       "  207.425,131.852 212.816,130.72 218.371,130.181 224.005,130.199 229.639,130.728 235.203,131.711 240.634,133.082 245.877,134.763 250.892,136.693 255.657,138.826 \n",
       "  260.154,141.113 264.373,143.51 268.307,145.979 271.955,148.488 275.323,151.011 278.421,153.527 281.262,156.021 283.857,158.481 286.221,160.899 288.369,163.269 \n",
       "  290.315,165.587 292.074,167.849 293.66,170.053 295.088,172.198 296.371,174.285 297.522,176.316 298.555,178.29 299.48,180.21 300.307,182.077 301.047,183.893 \n",
       "  301.709,185.658 302.301,187.375 302.832,189.046 303.31,190.672 303.741,192.255 304.131,193.796 304.485,195.297 304.807,196.759 305.103,198.184 305.375,199.572 \n",
       "  305.628,200.925 305.866,202.244 306.093,203.531 306.31,204.785 306.519,206.008 306.724,207.201 306.927,208.365 307.129,209.499 307.333,210.606 307.54,211.685 \n",
       "  307.753,212.737 307.973,213.763 308.201,214.762 308.44,215.736 308.691,216.685 308.956,217.609 309.236,218.507 309.534,219.382 309.851,220.231 310.189,221.056 \n",
       "  310.55,221.857 310.936,222.633 311.35,223.383 311.793,224.109 312.27,224.809 312.782,225.483 313.332,226.13 313.924,226.75 314.561,227.342 315.247,227.905 \n",
       "  315.985,228.436 316.78,228.936 317.637,229.403 318.561,229.834 319.557,230.227 320.631,230.58 321.789,230.891 323.037,231.155 324.384,231.37 325.836,231.531 \n",
       "  327.402,231.632 329.09,231.668 330.91,231.633 332.872,231.52 334.985,231.321 337.258,231.026 339.702,230.627 342.332,230.11 345.16,229.462 348.198,228.668 \n",
       "  351.458,227.712 354.948,226.573 358.675,225.233 362.647,223.67 366.867,221.859 371.34,219.776 376.062,217.397 381.02,214.703 386.209,211.652 391.615,208.209 \n",
       "  397.207,204.351 402.94,200.063 408.755,195.339 414.577,190.184 420.317,184.611 425.87,178.644 431.123,172.317 435.969,165.706 440.239,158.924 443.774,152.095 \n",
       "  446.435,145.353 448.107,138.84 448.697,132.71 448.133,127.122 446.368,122.249 443.374,118.27 439.202,115.296 433.975,113.353 427.822,112.441 420.888,112.526 \n",
       "  413.333,113.541 405.329,115.385 397.067,117.922 388.741,120.985 380.489,124.426 372.426,128.106 364.649,131.907 357.234,135.729 350.231,139.492 343.667,143.135 \n",
       "  337.549,146.617 331.879,149.917 326.649,153.03 321.844,155.956 317.444,158.7 313.425,161.27 309.761,163.682 306.425,165.95 303.388,168.09 300.624,170.116 \n",
       "  298.105,172.042 295.807,173.879 293.707,175.638 291.78,177.329 290.005,178.96 288.361,180.537 286.829,182.065 285.392,183.55 284.034,184.994 282.742,186.401 \n",
       "  281.5,187.772 280.296,189.109 279.117,190.413 277.95,191.682 276.787,192.918 275.617,194.119 274.433,195.284 273.227,196.413 271.991,197.504 270.718,198.555 \n",
       "  269.4,199.563 268.032,200.526 266.606,201.441 265.119,202.305 263.565,203.115 261.939,203.866 260.239,204.554 258.46,205.174 256.599,205.721 254.654,206.188 \n",
       "  252.622,206.57 250.503,206.86 248.296,207.05 246.003,207.132 243.626,207.096 241.167,206.934 238.633,206.636 236.032,206.193 233.372,205.595 230.666,204.833 \n",
       "  227.926,203.898 225.167,202.783 222.407,201.484 219.672,199.987 216.987,198.287 214.38,196.38 211.881,194.267 209.518,191.956 207.324,189.457 205.331,186.785 \n",
       "  203.573,183.96 202.086,181.006 200.906,177.952 200.06,174.833 199.568,171.69 199.447,168.563 199.713,165.494 200.368,162.522 201.413,159.687 202.836,157.027 \n",
       "  204.623,154.581 206.749,152.388 209.183,150.484 211.89,148.895 214.826,147.623 217.947,146.672 221.211,146.039 224.577,145.718 228.005,145.699 231.458,145.963 \n",
       "  234.898,146.489 238.291,147.25 241.603,148.214 244.811,149.357 247.897,150.658 250.847,152.091 253.648,153.634 256.291,155.267 258.768,156.969 261.076,158.726 \n",
       "  263.214,160.52 265.182,162.34 266.986,164.173 268.627,166.01 270.109,167.845 271.438,169.671 272.62,171.484 273.659,173.278 274.562,175.05 275.335,176.796 \n",
       "  275.981,178.514 276.507,180.202 276.917,181.859 277.217,183.483 277.412,185.075 277.504,186.633 277.498,188.157 277.395,189.645 277.199,191.098 276.91,192.515 \n",
       "  276.533,193.895 276.067,195.238 275.514,196.543 274.874,197.81 274.149,199.037 273.336,200.224 272.434,201.368 271.443,202.47 270.359,203.526 269.183,204.535 \n",
       "  267.911,205.494 266.543,206.399 265.075,207.249 263.507,208.038 261.837,208.763 260.062,209.42 258.18,210.002 256.187,210.503 254.082,210.916 251.865,211.233 \n",
       "  249.534,211.446 247.094,211.546 244.545,211.523 241.893,211.366 239.143,211.064 236.301,210.605 233.377,209.982 230.384,209.185 227.336,208.192 224.249,206.987 \n",
       "  221.145,205.558 218.049,203.895 214.987,201.992 211.992,199.848 209.1,197.464 206.348,194.846 203.779,192.002 201.44,188.944 199.377,185.691 197.624,182.276 \n",
       "  196.223,178.738 195.213,175.117 194.625,171.456 194.481,167.8 194.797,164.198 195.579,160.701 196.825,157.362 198.524,154.237 200.658,151.386 203.2,148.867 \n",
       "  206.104,146.706 209.317,144.92 212.788,143.517 216.465,142.503 220.298,141.874 224.237,141.619 228.233,141.718 232.237,142.146 236.201,142.87 240.079,143.849 \n",
       "  243.843,145.055 247.471,146.456 250.942,148.018 254.241,149.713 257.354,151.514 260.275,153.397 262.997,155.34 265.52,157.324 267.848,159.332 269.987,161.351 \n",
       "  271.944,163.37 273.72,165.38 275.324,167.377 276.764,169.355 278.048,171.308 279.183,173.233 280.176,175.127 281.035,176.988 281.767,178.813 282.377,180.603 \n",
       "  282.874,182.357 283.265,184.074 283.553,185.755 283.744,187.4 283.842,189.008 283.851,190.58 283.773,192.117 283.612,193.617 283.37,195.083 283.05,196.513 \n",
       "  282.654,197.909 282.181,199.271 281.632,200.598 281.006,201.89 280.302,203.147 279.519,204.369 278.655,205.554 277.709,206.703 276.679,207.813 275.561,208.884 \n",
       "  274.355,209.913 273.056,210.9 271.661,211.84 270.166,212.733 268.565,213.573 266.856,214.358 265.034,215.082 263.095,215.74 261.036,216.325 258.853,216.831 \n",
       "  256.543,217.25 254.103,217.573 251.536,217.794 248.841,217.901 246.013,217.88 243.05,217.715 239.955,217.39 236.733,216.89 233.394,216.197 229.952,215.298 \n",
       "  226.425,214.175 222.834,212.814 219.205,211.197 215.568,209.309 211.954,207.134 208.397,204.665 204.938,201.901 201.639,198.834 198.556,195.468 195.745,191.817 \n",
       "  193.262,187.903 191.157,183.762 189.482,179.437 188.286,174.982 187.615,170.463 187.514,165.955 188.014,161.552 189.107,157.336 190.774,153.366 192.988,149.697 \n",
       "  195.716,146.379 198.916,143.453 202.542,140.958 206.54,138.927 210.847,137.385 215.395,136.354 220.11,135.842 224.907,135.796 229.719,136.168 234.488,136.916 \n",
       "  239.164,137.997 243.705,139.368 248.076,140.983 252.25,142.795 256.21,144.758 259.942,146.83 263.437,148.988 266.694,151.207 269.717,153.464 272.507,155.738 \n",
       "  275.072,158.015 277.417,160.279 279.553,162.522 281.489,164.736 283.238,166.917 284.811,169.058 286.22,171.159 287.474,173.216 288.586,175.23 289.565,177.198 \n",
       "  290.421,179.121 291.163,181 291.799,182.834 292.339,184.625 292.79,186.374 293.158,188.083 293.447,189.751 293.663,191.38 293.811,192.971 293.894,194.526 \n",
       "  293.916,196.045 293.882,197.53 293.795,198.982 293.657,200.402 293.469,201.792 293.231,203.151 292.944,204.481 292.609,205.783 292.225,207.057 291.791,208.304 \n",
       "  291.307,209.525 290.773,210.72 290.185,211.89 289.543,213.035 288.844,214.155 288.085,215.251 287.263,216.322 286.374,217.368 285.416,218.389 284.383,219.384 \n",
       "  283.272,220.352 282.078,221.292 280.796,222.203 279.42,223.083 277.944,223.931 276.361,224.742 274.666,225.515 272.85,226.245 270.908,226.927 268.833,227.555 \n",
       "  266.616,228.124 264.25,228.626 261.735,229.053 259.066,229.397 256.228,229.645 253.211,229.784 250.006,229.796 246.61,229.665 243.022,229.371 239.248,228.894 \n",
       "  235.293,228.209 231.172,227.292 226.898,226.116 222.492,224.655 217.976,222.876 213.379,220.75 208.734,218.262 204.097,215.378 199.53,212.064 195.104,208.303 \n",
       "  190.892,204.092 186.973,199.441 183.433,194.378 180.363,188.945 177.857,183.198 176.017,177.209 174.917,171.081 174.61,164.934 175.136,158.881 176.513,153.035 \n",
       "  178.738,147.504 181.782,142.397 185.599,137.819 190.116,133.874 195.24,130.663 200.852,128.214 206.826,126.509 213.047,125.526 219.406,125.228 225.804,125.563 \n",
       "  232.15,126.462 238.362,127.841 244.366,129.6 250.113,131.668 255.575,133.981 260.73,136.475 265.561,139.094 270.062,141.791 274.232,144.525 278.08,147.265 \n",
       "  281.62,149.986 284.867,152.671 287.834,155.306 290.54,157.884 293.004,160.397 295.243,162.841 297.276,165.212 299.119,167.51 300.79,169.736 302.307,171.89 \n",
       "  303.685,173.974 304.939,175.991 306.084,177.942 307.131,179.829 308.093,181.655 308.982,183.421 309.808,185.13 310.584,186.784 311.317,188.385 312.016,189.934 \n",
       "  312.688,191.432 313.339,192.881 313.977,194.283 314.609,195.637 315.24,196.945 315.877,198.208 316.525,199.427 317.189,200.602 317.874,201.733 318.585,202.819 \n",
       "  319.325,203.861 320.101,204.858 320.917,205.81 321.778,206.717 322.688,207.576 323.654,208.387 324.679,209.147 325.769,209.856 326.928,210.511 328.163,211.108 \n",
       "  329.479,211.645 330.883,212.119 332.38,212.527 333.977,212.862 335.681,213.121 337.498,213.298 339.436,213.387 341.5,213.379 343.699,213.268 346.037,213.044 \n",
       "  348.523,212.698 351.161,212.22 353.958,211.599 356.913,210.827 360.032,209.886 363.323,208.761 366.787,207.435 370.422,205.892 374.222,204.119 378.173,202.103 \n",
       "  382.261,199.83 386.465,197.291 390.758,194.475 395.112,191.372 399.492,187.981 403.854,184.307 408.136,180.361 412.27,176.159 416.188,171.734 419.817,167.127 \n",
       "  423.081,162.393 425.9,157.597 428.193,152.816 429.873,148.141 430.862,143.679 431.118,139.533 430.615,135.78 429.346,132.489 427.316,129.714 424.551,127.503 \n",
       "  421.088,125.888 416.983,124.896 412.308,124.54 407.151,124.823 401.625,125.691 395.85,127.047 389.929,128.819 383.954,130.934 378.008,133.32 372.165,135.907 \n",
       "  366.487,138.621 361.026,141.392 355.823,144.171 350.899,146.932 346.267,149.648 341.935,152.3 337.908,154.872 334.182,157.356 330.75,159.747 327.6,162.049 \n",
       "  324.715,164.266 322.083,166.402 319.687,168.462 317.511,170.452 315.537,172.377 313.75,174.243 312.135,176.055 310.677,177.818 309.36,179.537 308.17,181.216 \n",
       "  307.094,182.858 306.12,184.467 305.237,186.043 304.436,187.591 303.705,189.111 303.036,190.605 302.419,192.074 301.846,193.519 301.309,194.94 300.804,196.338 \n",
       "  300.324,197.714 299.864,199.068 299.419,200.401 298.984,201.712 298.554,203.003 298.124,204.273 297.691,205.523 297.251,206.752 296.801,207.961 296.336,209.151 \n",
       "  295.855,210.321 295.352,211.471 294.825,212.603 294.27,213.715 293.684,214.808 293.063,215.883 292.404,216.939 291.703,217.976 290.956,218.994 290.159,219.993 \n",
       "  289.307,220.974 288.397,221.934 287.422,222.875 286.378,223.794 285.26,224.693 284.063,225.568 282.779,226.42 281.403,227.246 279.929,228.044 278.348,228.812 \n",
       "  276.653,229.545 274.838,230.241 272.894,230.895 270.813,231.502 268.585,232.057 266.201,232.551 263.652,232.976 260.931,233.322 258.031,233.577 254.944,233.725 \n",
       "  251.664,233.753 248.187,233.643 244.508,233.377 240.636,232.938 236.564,232.296 232.291,231.416 227.827,230.268 223.189,228.819 218.402,227.037 213.502,224.892 \n",
       "  208.532,222.352 203.544,219.388 198.599,215.969 193.764,212.069 189.106,207.689 184.739,202.823 180.772,197.479 177.311,191.692 174.454,185.517 172.294,179.031 \n",
       "  170.915,172.336 170.398,165.555 170.813,158.835 172.202,152.338 174.539,146.216 177.787,140.592 181.887,135.574 186.759,131.253 192.306,127.699 198.407,124.964 \n",
       "  204.923,123.083 211.706,122.049 218.626,121.776 225.568,122.189 232.429,123.207 239.123,124.743 245.582,126.708 251.752,129.006 257.598,131.537 263.093,134.234 \n",
       "  268.23,137.047 273.006,139.923 277.426,142.822 281.496,145.71 285.232,148.56 288.65,151.356 291.773,154.084 294.618,156.736 297.209,159.308 299.565,161.797 \n",
       "  301.708,164.202 303.657,166.523 305.431,168.759 307.049,170.914 308.529,172.99 309.887,174.99 311.139,176.917 312.298,178.773 313.377,180.561 314.39,182.282 \n",
       "  315.347,183.94 316.262,185.535 317.144,187.071 318.002,188.549 318.846,189.97 319.681,191.334 320.517,192.643 321.36,193.897 322.218,195.097 323.097,196.243 \n",
       "  324.004,197.335 324.945,198.373 325.925,199.355 326.951,200.28 328.027,201.148 329.159,201.957 330.354,202.704 331.617,203.387 332.954,204.005 334.371,204.553 \n",
       "  335.874,205.029 337.467,205.428 339.158,205.745 340.95,205.976 342.851,206.113 344.865,206.152 346.999,206.085 349.256,205.906 351.641,205.606 354.157,205.176 \n",
       "  356.811,204.606 359.604,203.884 362.537,202.999 365.609,201.943 368.815,200.702 372.149,199.268 375.603,197.63 379.165,195.776 382.822,193.7 386.553,191.397 \n",
       "  390.334,188.859 394.133,186.08 397.916,183.064 401.642,179.82 405.264,176.365 408.731,172.724 411.987,168.926 414.97,165.011 417.612,161.024 419.85,157.02 \n",
       "  421.631,153.067 422.896,149.234 423.595,145.589 423.692,142.192 423.167,139.104 422.012,136.38 420.23,134.072 417.842,132.229 414.879,130.897 411.394,130.095 \n",
       "  407.461,129.791 403.155,129.963 398.551,130.581 393.724,131.606 388.746,132.993 383.69,134.687 378.629,136.626 373.634,138.742 368.759,140.981 364.04,143.311 \n",
       "  359.509,145.693 355.193,148.093 351.111,150.485 347.277,152.847 343.698,155.165 340.373,157.427 337.296,159.63 334.457,161.774 331.852,163.856 329.471,165.876 \n",
       "  327.304,167.838 325.337,169.744 323.559,171.596 321.959,173.398 320.525,175.153 319.245,176.864 318.107,178.534 317.1,180.167 316.213,181.764 315.437,183.328 \n",
       "  314.764,184.86 314.183,186.361 313.688,187.833 313.272,189.276 312.927,190.692 312.648,192.081 312.431,193.443 312.271,194.779 312.164,196.09 312.106,197.374 \n",
       "  312.094,198.632 312.126,199.864 312.198,201.07 312.311,202.25 312.463,203.403 312.653,204.529 312.881,205.629 313.145,206.702 313.447,207.747 313.786,208.764 \n",
       "  314.164,209.752 314.581,210.711 315.039,211.641 315.54,212.54 316.085,213.408 316.677,214.244 317.319,215.048 318.012,215.817 318.761,216.55 319.569,217.246 \n",
       "  320.439,217.904 321.376,218.521 322.385,219.096 323.47,219.625 324.636,220.105 325.89,220.535 327.238,220.909 328.684,221.224 330.236,221.475 331.902,221.657 \n",
       "  333.69,221.766 335.609,221.792 337.667,221.73 339.872,221.57 342.233,221.303 344.757,220.918 347.453,220.403 350.328,219.745 353.392,218.932 356.651,217.948 \n",
       "  360.104,216.782 363.757,215.413 367.62,213.817 371.696,211.97 375.979,209.852 380.458,207.445 385.115,204.732 389.923,201.697 394.851,198.329 399.858,194.614 \n",
       "  404.898,190.546 409.922,186.124 414.86,181.369 419.613,176.306 424.083,170.975 428.17,165.432 431.776,159.751 434.801,154.02 437.145,148.342 438.709,142.839 \n",
       "  439.394,137.646 439.122,132.908 437.885,128.739 435.684,125.232 432.545,122.454 428.522,120.454 423.69,119.255 418.15,118.858 412.029,119.241 405.474,120.35 \n",
       "  398.629,122.065 391.627,124.279 384.589,126.891 377.618,129.803 370.805,132.919 364.224,136.147 357.932,139.397 351.973,142.61 346.365,145.757 341.12,148.811 \n",
       "  336.242,151.75 331.73,154.561 327.575,157.239 323.76,159.789 320.267,162.217 317.077,164.529 314.169,166.736 311.521,168.846 309.111,170.869 306.919,172.813 \n",
       "  304.925,174.688 303.11,176.499 301.453,178.256 299.937,179.963 298.545,181.626 297.262,183.249 296.072,184.836 294.964,186.389 293.922,187.911 292.936,189.404 \n",
       "  291.992,190.869 291.081,192.307 290.194,193.718 289.321,195.104 288.456,196.465 287.59,197.8 286.715,199.11 285.824,200.394 284.91,201.652 283.966,202.882 \n",
       "  282.987,204.085 281.967,205.26 280.9,206.405 279.781,207.519 278.603,208.601 277.36,209.649 276.046,210.66 274.656,211.633 273.185,212.564 271.626,213.452 \n",
       "  269.973,214.291 268.222,215.079 266.367,215.81 264.403,216.479 262.324,217.079 260.125,217.604 257.802,218.046 255.353,218.397 252.772,218.647 250.056,218.783 \n",
       "  247.204,218.794 244.218,218.666 241.101,218.385 237.859,217.934 234.5,217.299 231.034,216.46 227.474,215.401 223.838,214.111 220.15,212.567 216.438,210.744 \n",
       "  212.735,208.624 209.079,206.194 205.514,203.45 202.087,200.392 198.852,197.028 195.865,193.372 193.19,189.443 190.892,185.269 189.021,180.898 187.634,176.388 \n",
       "  186.781,171.801 186.499,167.2 186.814,162.655 187.737,158.235 189.268,154.018 191.392,150.081 194.082,146.508 197.297,143.38 200.973,140.733 205.035,138.586 \n",
       "  209.411,136.952 214.032,135.833 218.825,135.217 223.721,135.081 228.652,135.39 233.549,136.097 238.347,137.149 243.01,138.5 247.505,140.103 251.802,141.911 \n",
       "  255.88,143.884 259.724,145.982 263.324,148.173 266.676,150.426 269.783,152.715 272.654,155.02 275.297,157.324 277.716,159.617 279.922,161.889 281.925,164.132 \n",
       "  283.736,166.339 285.367,168.506 286.829,170.63 288.135,172.71 289.295,174.743 290.321,176.731 291.221,178.672 292.007,180.567 292.686,182.417 293.268,184.223 \n",
       "  293.759,185.986 294.167,187.707 294.498,189.386 294.758,191.026 294.951,192.628 295.083,194.193 295.157,195.721 295.177,197.215 295.145,198.676 295.063,200.104 \n",
       "  294.934,201.501 294.759,202.867 294.539,204.204 294.275,205.513 293.968,206.794 293.616,208.049 293.219,209.278 292.776,210.481 292.287,211.66 291.75,212.815 \n",
       "  291.162,213.946 290.523,215.054 289.829,216.139 289.077,217.201 288.264,218.24 287.387,219.256 286.442,220.248 285.424,221.217 284.329,222.161 283.152,223.079 \n",
       "  281.888,223.97 280.531,224.833 279.075,225.665 277.512,226.464 275.836,227.228 274.041,227.951 272.119,228.629 270.062,229.258 267.862,229.83 265.512,230.34 \n",
       "  263.008,230.779 260.342,231.137 257.501,231.403 254.475,231.564 251.26,231.605 247.85,231.507 244.245,231.252 240.448,230.818 236.464,230.18 232.301,229.314 \n",
       "  227.97,228.191 223.485,226.782 218.868,225.063 214.15,223.002 209.371,220.556 204.578,217.688 199.83,214.376 195.193,210.605 190.744,206.372 186.569,201.685 \n",
       "  182.763,196.559 179.432,191.024 176.668,185.138 174.565,178.991 173.212,172.681 172.675,166.309 173.001,159.983 174.215,153.818 176.318,147.937 179.292,142.466 \n",
       "  183.096,137.542 187.667,133.302 192.891,129.822 198.638,127.118 204.785,125.197 211.216,124.046 217.817,123.629 224.479,123.891 231.097,124.754 237.572,126.12 \n",
       "  243.828,127.899 249.824,130.017 255.523,132.395 260.897,134.963 265.93,137.661 270.613,140.437 274.947,143.249 278.944,146.061 282.624,148.848 286,151.592 \n",
       "  289.086,154.28 291.9,156.904 294.464,159.458 296.796,161.939 298.916,164.343 300.842,166.669 302.591,168.916 304.18,171.086 305.627,173.182 306.95,175.206 \n",
       "  308.161,177.161 309.276,179.048 310.305,180.871 311.262,182.63 312.158,184.329 313.005,185.969 313.811,187.553 314.588,189.082 315.342,190.557 316.081,191.981 \n",
       "  316.812,193.353 317.54,194.674 318.275,195.946 319.021,197.168 319.785,198.342 320.573,199.467 321.39,200.544 322.242,201.571 323.133,202.548 324.068,203.474 \n",
       "  325.053,204.349 326.094,205.169 327.195,205.935 328.364,206.643 329.604,207.293 330.922,207.879 332.323,208.401 333.813,208.852 335.399,209.23 337.085,209.529 \n",
       "  338.879,209.744 340.787,209.869 342.816,209.898 344.97,209.824 347.255,209.639 349.678,209.333 352.247,208.896 354.964,208.317 357.833,207.586 360.856,206.69 \n",
       "  364.031,205.617 367.358,204.355 370.833,202.891 374.45,201.211 378.197,199.311 382.059,197.172 386.023,194.778 390.066,192.119 394.156,189.192 398.258,185.999 \n",
       "  402.328,182.55 406.315,178.859 410.16,174.95 413.798,170.849 417.157,166.592 420.174,162.227 422.777,157.822 424.886,153.45 426.43,149.183 427.354,145.094 \n",
       "  427.615,141.258 427.187,137.748 426.052,134.639 424.21,132.007 421.672,129.924 418.486,128.416 414.724,127.48 410.46,127.106 405.772,127.275 400.742,127.952 \n",
       "  395.452,129.094 389.992,130.642 384.452,132.525 378.925,134.663 373.482,136.991 368.173,139.455 363.045,142.004 358.136,144.595 353.473,147.189 349.077,149.758 \n",
       "  344.957,152.28 341.117,154.74 337.548,157.131 334.252,159.447 331.219,161.689 328.439,163.857 325.897,165.953 323.583,167.98 321.482,169.942 319.581,171.843 \n",
       "  317.865,173.69 316.32,175.487 314.93,177.237 313.684,178.944 312.569,180.612 311.573,182.244 310.685,183.842 309.894,185.409 309.19,186.945 308.565,188.453 \n",
       "  308.009,189.934 307.516,191.389 307.079,192.819 306.693,194.225 306.352,195.607 306.05,196.966 305.783,198.302 305.545,199.615 305.333,200.906 305.144,202.174 \n",
       "  304.975,203.42 304.823,204.644 304.687,205.847 304.563,207.029 304.451,208.189 304.347,209.329 304.25,210.448 304.16,211.546 304.075,212.624 303.994,213.682 \n",
       "  303.915,214.721 303.838,215.74 303.762,216.741 303.685,217.722 303.608,218.685 303.529,219.63 303.448,220.558 303.365,221.467 303.277,222.36 303.186,223.236 \n",
       "  303.089,224.096 302.987,224.94 302.879,225.768 302.763,226.581 302.64,227.38 302.508,228.164 302.367,228.934 302.216,229.69 302.053,230.433 301.878,231.163 \n",
       "  301.69,231.881 301.487,232.587 301.268,233.281 301.033,233.964 300.778,234.637 300.504,235.299 300.208,235.951 299.888,236.593 299.542,237.227 299.168,237.852 \n",
       "  298.764,238.469 298.327,239.077 297.854,239.679 297.342,240.273 296.789,240.86 296.189,241.441 295.54,242.015 294.837,242.584 294.076,243.146 293.252,243.703 \n",
       "  292.359,244.254 291.391,244.798 290.342,245.336 289.205,245.866 287.973,246.388 286.638,246.9 285.192,247.401 283.626,247.889 281.928,248.363 280.088,248.819 \n",
       "  278.096,249.252 275.939,249.657 273.605,250.028 271.08,250.356 268.353,250.633 265.408,250.849 262.236,250.991 258.824,251.043 255.151,250.988 251.2,250.805 \n",
       "  246.957,250.466 242.417,249.941 237.576,249.194 232.439,248.186 227.012,246.872 221.309,245.202 215.348,243.125 209.161,240.599 202.799,237.56 196.323,233.919 \n",
       "  189.814,229.606 183.374,224.575 177.124,218.8 171.207,212.275 165.786,205.017 161.043,197.064 157.173,188.48 154.332,179.414 152.686,170.052 152.366,160.594 \n",
       "  153.453,151.254 155.977,142.26 159.922,133.857 165.222,126.306 171.76,119.873 179.326,114.695 187.693,110.813 196.642,108.232 205.966,106.909 215.461,106.755 \n",
       "  224.932,107.635 234.193,109.364 243.103,111.758 251.594,114.663 259.607,117.928 267.103,121.422 274.06,125.035 280.479,128.679 286.378,132.285 291.792,135.804 \n",
       "  296.738,139.203 301.247,142.465 305.352,145.582 309.086,148.546 312.481,151.355 315.568,154.009 318.378,156.511 320.938,158.867 323.279,161.087 325.427,163.177 \n",
       "  327.406,165.144 329.237,166.994 330.942,168.734 332.541,170.367 334.052,171.901 335.492,173.338 336.877,174.683 338.22,175.938 339.532,177.106 340.824,178.187 \n",
       "  342.106,179.184 343.389,180.098 344.681,180.928 345.992,181.676 347.328,182.342 348.695,182.925 350.098,183.423 351.542,183.835 353.029,184.159 354.564,184.393 \n",
       "  356.149,184.536 357.786,184.584 359.477,184.537 361.222,184.393 363.02,184.147 364.869,183.798 366.767,183.343 368.709,182.779 370.691,182.106 372.706,181.322 \n",
       "  374.747,180.427 376.804,179.422 378.868,178.308 380.929,177.089 382.972,175.766 384.98,174.345 386.937,172.833 388.825,171.236 390.625,169.566 392.319,167.834 \n",
       "  393.889,166.054 395.314,164.243 396.576,162.418 397.654,160.6 398.527,158.809 399.184,157.067 399.609,155.396 399.793,153.817 399.727,152.348 399.406,151.007 \n",
       "  398.832,149.809 398.006,148.769 396.939,147.899 395.64,147.209 394.125,146.707 392.413,146.401 390.526,146.281 388.489,146.342 386.325,146.577 384.061,146.976 \n",
       "  381.719,147.529 379.324,148.223 376.9,149.046 374.47,149.98 372.056,151.01 369.681,152.115 367.363,153.284 365.115,154.506 362.949,155.77 360.876,157.065 \n",
       "  358.905,158.38 357.044,159.708 355.298,161.041 353.672,162.372 352.169,163.695 350.788,165.007 349.531,166.303 348.396,167.582 347.384,168.839 346.491,170.072 \n",
       "  345.717,171.279 345.057,172.458 344.512,173.608 344.077,174.726 343.751,175.81 343.531,176.86 343.416,177.874 343.402,178.85 343.486,179.787 343.668,180.683 \n",
       "  343.944,181.535 344.316,182.343 344.781,183.103 345.338,183.814 345.987,184.474 346.726,185.08 347.554,185.628 348.472,186.116 349.477,186.541 350.57,186.899 \n",
       "  351.749,187.187 353.013,187.402 354.364,187.539 355.801,187.595 357.323,187.566 358.93,187.448 360.619,187.237 362.387,186.928 364.23,186.52 366.144,186.006 \n",
       "  368.124,185.385 370.163,184.652 372.256,183.804 374.393,182.843 376.565,181.765 378.76,180.568 380.965,179.253 383.166,177.822 385.346,176.279 387.489,174.63 \n",
       "  389.574,172.884 391.581,171.051 393.489,169.144 395.273,167.177 396.908,165.168 398.367,163.134 399.633,161.101 400.684,159.093 401.5,157.134 402.062,155.246 \n",
       "  402.358,153.45 402.377,151.767 402.113,150.217 401.566,148.819 400.737,147.591 399.633,146.549 398.263,145.711 396.643,145.092 394.79,144.701 392.733,144.522 \n",
       "  390.502,144.551 388.125,144.777 385.63,145.192 383.045,145.783 380.396,146.536 377.712,147.434 375.019,148.46 372.343,149.593 369.709,150.81 367.142,152.091 \n",
       "  364.655,153.429 362.261,154.81 359.972,156.222 357.796,157.654 355.744,159.096 353.819,160.54 352.027,161.979 350.371,163.406 348.851,164.817 347.466,166.209 \n",
       "  346.213,167.581 345.09,168.93 344.097,170.252 343.229,171.547 342.484,172.813 341.858,174.048 341.348,175.25 340.951,176.419 340.665,177.553 340.486,178.651 \n",
       "  340.413,179.711 340.441,180.732 340.57,181.713 340.795,182.652 341.114,183.547 341.528,184.396 342.036,185.197 342.637,185.948 343.331,186.648 344.117,187.293 \n",
       "  344.995,187.881 345.964,188.408 347.025,188.872 348.176,189.268 349.418,189.592 350.749,189.84 352.17,190.008 353.68,190.093 355.282,190.09 356.975,189.995 \n",
       "  358.758,189.802 360.63,189.506 362.587,189.103 364.628,188.589 366.745,187.96 368.934,187.21 371.189,186.337 373.5,185.336 375.859,184.206 378.257,182.947 \n",
       "  380.677,181.557 383.104,180.036 385.521,178.384 387.908,176.607 390.246,174.712 392.51,172.71 394.679,170.612 396.725,168.435 398.623,166.197 400.343,163.92 \n",
       "  401.856,161.626 403.129,159.344 404.137,157.103 404.864,154.938 405.294,152.875 405.412,150.94 405.211,149.155 404.688,147.543 403.843,146.122 402.682,144.909 \n",
       "  401.217,143.921 399.462,143.17 397.439,142.668 395.173,142.424 392.694,142.436 390.043,142.677 387.256,143.131 384.367,143.784 381.41,144.618 378.416,145.616 \n",
       "  375.415,146.756 372.434,148.018 369.5,149.379 366.638,150.816 363.871,152.302 361.215,153.823 358.681,155.372 356.278,156.939 354.011,158.513 351.888,160.084 \n",
       "  349.911,161.646 348.083,163.191 346.404,164.717 344.874,166.218 343.489,167.693 342.247,169.142 341.142,170.563 340.172,171.953 339.332,173.312 338.618,174.639 \n",
       "  338.027,175.932 337.552,177.192 337.192,178.416 336.942,179.605 336.799,180.756 336.761,181.87 336.823,182.944 336.985,183.979 337.241,184.971 337.591,185.919 \n",
       "  338.033,186.821 338.568,187.676 339.196,188.483 339.916,189.238 340.728,189.94 341.633,190.585 342.631,191.171 343.721,191.694 344.905,192.149 346.181,192.534 \n",
       "  347.551,192.842 349.015,193.07 350.574,193.214 352.23,193.269 353.986,193.23 355.841,193.092 357.795,192.848 359.846,192.494 361.993,192.023 364.232,191.43 \n",
       "  366.559,190.71 368.969,189.857 371.454,188.864 374.008,187.732 376.617,186.457 379.272,185.033 381.957,183.455 384.656,181.723 387.35,179.841 390.017,177.813 \n",
       "  392.632,175.648 395.168,173.359 397.596,170.961 399.885,168.473 401.998,165.915 403.9,163.314 405.551,160.697 406.923,158.099 407.993,155.56 408.731,153.113 \n",
       "  409.118,150.791 409.138,148.623 408.781,146.638 408.046,144.863 406.934,143.322 405.457,142.039 403.628,141.035 401.471,140.329 399.014,139.933 396.298,139.828 \n",
       "  393.367,139.995 390.264,140.42 387.028,141.087 383.699,141.973 380.314,143.057 376.91,144.313 373.523,145.712 370.186,147.223 366.932,148.813 363.787,150.456 \n",
       "  360.767,152.143 357.884,153.861 355.149,155.593 352.57,157.328 350.155,159.055 347.907,160.766 345.828,162.455 343.916,164.117 342.17,165.75 340.584,167.353 \n",
       "  339.151,168.926 337.87,170.466 336.734,171.973 335.739,173.446 334.877,174.884 334.144,176.288 333.535,177.658 333.045,178.992 332.668,180.291 332.402,181.554 \n",
       "  332.241,182.781 332.182,183.971 332.22,185.124 332.353,186.237 332.579,187.311 332.897,188.344 333.305,189.336 333.803,190.283 334.39,191.185 335.066,192.04 \n",
       "  335.83,192.844 336.682,193.596 337.623,194.291 338.653,194.926 339.774,195.499 340.987,196.006 342.297,196.443 343.704,196.807 345.212,197.093 346.823,197.295 \n",
       "  348.538,197.409 350.359,197.429 352.287,197.349 354.323,197.161 356.468,196.861 358.72,196.442 361.077,195.898 363.541,195.219 366.112,194.396 368.785,193.42 \n",
       "  371.556,192.284 374.415,190.983 377.349,189.514 380.344,187.872 383.382,186.056 386.442,184.067 389.501,181.904 392.533,179.572 395.511,177.074 398.409,174.428 \n",
       "  401.181,171.652 403.783,168.766 406.173,165.797 408.31,162.775 410.156,159.732 411.675,156.706 412.834,153.738 413.599,150.874 413.942,148.162 413.835,145.655 \n",
       "  413.259,143.406 412.222,141.446 410.744,139.797 408.846,138.477 406.556,137.496 403.905,136.859 400.929,136.564 397.668,136.605 394.167,136.97 390.477,137.641 \n",
       "  386.649,138.592 382.743,139.789 378.811,141.186 374.898,142.747 371.042,144.44 367.278,146.233 363.635,148.101 360.135,150.018 356.798,151.962 353.636,153.912 \n",
       "  350.657,155.853 347.87,157.776 345.275,159.674 342.87,161.543 340.654,163.378 338.623,165.175 336.771,166.933 335.095,168.651 333.587,170.329 332.239,171.967 \n",
       "  331.045,173.569 329.996,175.133 329.084,176.66 328.302,178.152 327.643,179.609 327.102,181.031 326.671,182.419 326.346,183.773 326.121,185.093 325.992,186.379 \n",
       "  325.953,187.63 326.001,188.845 326.133,190.025 326.348,191.168 326.644,192.274 327.022,193.344 327.479,194.374 328.016,195.364 328.633,196.312 329.328,197.216 \n",
       "  330.103,198.073 330.958,198.881 331.893,199.636 332.911,200.336 334.017,200.979 335.213,201.561 336.503,202.08 337.89,202.53 339.376,202.908 340.967,203.208 \n",
       "  342.665,203.426 344.475,203.554 346.398,203.588 348.437,203.521 350.597,203.346 352.884,203.052 355.302,202.631 357.854,202.074 360.539,201.372 363.356,200.514 \n",
       "  366.3,199.493 369.367,198.297 372.549,196.92 375.837,195.349 379.22,193.578 382.685,191.597 386.211,189.407 389.774,187.001 393.345,184.375 396.888,181.534 \n",
       "  400.367,178.486 403.739,175.249 406.958,171.846 409.974,168.306 412.732,164.664 415.173,160.965 417.235,157.256 418.861,153.601 420.011,150.068 420.647,146.716 \n",
       "  420.74,143.597 420.275,140.758 419.243,138.244 417.65,136.094 415.51,134.344 412.85,133.024 409.704,132.161 406.122,131.777 402.168,131.857 397.927,132.347 \n",
       "  393.469,133.209 388.865,134.405 384.177,135.892 379.465,137.625 374.786,139.558 370.19,141.637 365.726,143.809 361.431,146.027 357.329,148.276 353.434,150.533 \n",
       "  349.759,152.779 346.313,154.997 343.1,157.176 340.121,159.306 337.373,161.382 334.85,163.403 332.54,165.372 330.435,167.29 328.525,169.157 326.801,170.974 \n",
       "  325.251,172.744 323.864,174.47 322.629,176.154 321.537,177.797 320.577,179.403 319.742,180.973 319.022,182.509 318.409,184.012 317.894,185.483 317.47,186.924 \n",
       "  317.132,188.336 316.875,189.717 316.692,191.07 316.579,192.395 316.533,193.69 316.548,194.957 316.623,196.194 316.755,197.402 316.943,198.579 317.186,199.727 \n",
       "  317.483,200.844 317.833,201.93 318.238,202.984 318.695,204.005 319.207,204.992 319.774,205.944 320.397,206.859 321.08,207.737 321.824,208.576 322.633,209.374 \n",
       "  323.508,210.13 324.455,210.841 325.476,211.505 326.576,212.119 327.758,212.681 329.027,213.186 330.39,213.632 331.852,214.014 333.418,214.328 335.096,214.568 \n",
       "  336.891,214.728 338.81,214.802 340.86,214.782 343.047,214.66 345.378,214.428 347.86,214.076 350.489,213.599 353.276,212.982 356.234,212.209 359.37,211.264 \n",
       "  362.689,210.132 366.191,208.797 369.872,207.243 373.725,205.459 377.737,203.428 381.893,201.139 386.172,198.578 390.549,195.732 394.998,192.591 399.486,189.149 \n",
       "  403.966,185.415 408.374,181.394 412.643,177.103 416.701,172.574 420.474,167.847 423.882,162.978 426.843,158.034 429.272,153.094 431.078,148.25 432.175,143.608 \n",
       "  432.518,139.274 432.071,135.341 430.818,131.887 428.761,128.978 425.924,126.665 422.35,124.99 418.103,123.976 413.267,123.637 407.946,123.96 402.259,124.86 \n",
       "  396.319,126.265 390.229,128.101 384.086,130.295 377.974,132.769 371.972,135.444 366.147,138.237 360.557,141.073 355.232,143.921 350.196,146.746 345.463,149.519 \n",
       "  341.043,152.218 336.939,154.83 333.145,157.345 329.652,159.764 326.444,162.092 323.51,164.328 320.833,166.479 318.395,168.551 316.18,170.55 314.17,172.482 \n",
       "  312.35,174.353 310.703,176.169 309.213,177.936 307.863,179.657 306.64,181.338 305.53,182.982 304.522,184.592 303.603,186.17 302.763,187.719 301.99,189.241 \n",
       "  301.275,190.736 300.608,192.206 299.982,193.652 299.389,195.074 298.825,196.474 298.281,197.851 297.752,199.207 297.232,200.541 296.716,201.854 296.199,203.146 \n",
       "  295.675,204.417 295.141,205.667 294.594,206.897 294.027,208.106 293.439,209.295 292.824,210.463 292.178,211.611 291.498,212.739 290.778,213.846 290.016,214.933 \n",
       "  289.207,215.999 288.347,217.044 287.431,218.067 286.454,219.068 285.411,220.046 284.296,221 283.105,221.929 281.831,222.832 280.468,223.706 279.011,224.55 \n",
       "  277.452,225.362 275.784,226.137 274.001,226.872 272.095,227.563 270.057,228.204 267.882,228.79 265.562,229.313 263.088,229.766 260.45,230.139 257.641,230.421 \n",
       "  254.655,230.599 251.487,230.657 248.136,230.58 244.599,230.348 240.876,229.942 236.969,229.338 232.886,228.517 228.641,227.455 224.243,226.113 219.712,224.453 \n",
       "  215.076,222.446 210.373,220.061 205.651,217.277 200.967,214.075 196.388,210.438 191.99,206.356 187.859,201.824 184.068,196.86 180.72,191.502 177.925,185.8 \n",
       "  175.776,179.819 174.353,173.638 173.718,167.356 173.917,161.086 174.983,154.956 176.932,149.114 179.757,143.715 183.39,138.876 187.747,134.673 192.733,131.163 \n",
       "  198.252,128.383 204.197,126.351 210.458,125.063 216.917,124.499 223.449,124.615 229.94,125.34 236.312,126.578 242.497,128.243 248.44,130.256 254.098,132.541 \n",
       "  259.441,135.033 264.453,137.667 269.13,140.387 273.475,143.147 277.49,145.919 281.187,148.681 284.58,151.41 287.684,154.091 290.516,156.711 293.095,159.263 \n",
       "  295.438,161.743 297.567,164.149 299.499,166.479 301.254,168.735 302.847,170.918 304.295,173.028 305.614,175.067 306.819,177.038 307.924,178.943 308.942,180.784 \n",
       "  309.887,182.564 310.767,184.285 311.594,185.948 312.375,187.555 313.119,189.108 313.836,190.609 314.533,192.058 315.218,193.457 315.899,194.809 316.583,196.112 \n",
       "  317.274,197.369 317.977,198.578 318.698,199.741 319.443,200.858 320.216,201.928 321.024,202.95 321.871,203.926 322.762,204.853 323.702,205.732 324.696,206.559 \n",
       "  325.749,207.334 326.866,208.055 328.052,208.718 329.315,209.323 330.659,209.865 332.091,210.342 333.616,210.75 335.241,211.083 336.972,211.337 338.815,211.506 \n",
       "  340.778,211.583 342.866,211.562 345.086,211.434 347.445,211.191 349.947,210.823 352.596,210.324 355.397,209.68 358.357,208.878 361.481,207.902 364.771,206.74 \n",
       "  368.222,205.378 371.831,203.802 375.588,202.001 379.48,199.961 383.49,197.67 387.6,195.118 391.786,192.294 396.018,189.201 400.25,185.833 404.433,182.194 \n",
       "  408.512,178.3 412.427,174.174 416.113,169.851 419.497,165.377 422.505,160.808 425.055,156.21 427.062,151.66 428.462,147.255 429.201,143.084 429.238,139.225 \n",
       "  428.549,135.748 427.125,132.716 424.975,130.182 422.125,128.195 418.614,126.792 414.503,126.006 409.868,125.853 404.815,126.27 399.451,127.196 393.871,128.572 \n",
       "  388.166,130.336 382.42,132.422 376.71,134.76 371.106,137.276 365.674,139.89 360.46,142.553 355.49,145.234 350.785,147.901 346.361,150.527 342.226,153.093 \n",
       "  338.385,155.584 334.833,157.994 331.561,160.319 328.555,162.566 325.804,164.734 323.295,166.827 321.013,168.85 318.941,170.807 317.065,172.703 315.37,174.544 \n",
       "  313.842,176.334 312.466,178.078 311.228,179.78 310.115,181.443 309.115,183.07 308.217,184.665 307.41,186.228 306.684,187.763 306.031,189.271 305.441,190.752 \n",
       "  304.906,192.209 304.419,193.64 303.973,195.048 303.564,196.433 303.185,197.796 302.833,199.136 302.502,200.455 302.189,201.753 301.889,203.029 301.597,204.284 \n",
       "  301.312,205.519 301.031,206.733 300.75,207.927 300.467,209.101 300.18,210.255 299.886,211.391 299.583,212.507 299.267,213.605 298.938,214.684 298.592,215.746 \n",
       "  298.228,216.789 297.843,217.816 297.435,218.826 297.001,219.819 296.538,220.795 296.044,221.756 295.516,222.701 294.951,223.631 294.346,224.545 293.697,225.445 \n",
       "  293.001,226.329 292.253,227.199 291.45,228.054 290.587,228.894 289.659,229.718 288.661,230.526 287.588,231.319 286.434,232.094 285.191,232.852 283.855,233.589 \n",
       "  282.417,234.305 280.869,234.996 279.205,235.661 277.414,236.296 275.49,236.897 273.422,237.458 271.199,237.976 268.81,238.443 266.246,238.85 263.497,239.186 \n",
       "  260.552,239.44 257.404,239.598 254.043,239.642 250.461,239.557 246.653,239.322 242.623,238.92 238.36,238.316 233.858,237.475 229.124,236.363 224.171,234.942 \n",
       "  219.023,233.174 213.715,231.02 208.291,228.442 202.802,225.397 197.313,221.845 191.888,217.754 186.613,213.113 181.616,207.895 177.02,202.101 172.949,195.759 \n",
       "  169.52,188.926 166.849,181.689 165.046,174.162 164.221,166.488 164.476,158.84 165.847,151.412 168.322,144.384 171.865,137.912 176.412,132.132 181.869,127.161 \n",
       "  188.114,123.095 194.996,120.009 202.339,117.951 209.972,116.856 217.742,116.639 225.511,117.21 233.161,118.471 240.595,120.309 247.734,122.603 254.522,125.223 \n",
       "  260.92,128.075 266.911,131.087 272.488,134.192 277.652,137.333 282.411,140.462 286.779,143.547 290.779,146.563 294.432,149.493 297.764,152.328 300.799,155.062 \n",
       "  303.562,157.693 306.078,160.218 308.37,162.638 310.462,164.954 312.373,167.17 314.128,169.291 315.744,171.32 317.241,173.261 318.634,175.116 319.939,176.89 \n",
       "  321.172,178.584 322.347,180.202 323.478,181.747 324.577,183.221 325.654,184.624 326.718,185.959 327.78,187.225 328.847,188.424 329.929,189.555 331.034,190.62 \n",
       "  332.17,191.617 333.345,192.546 334.563,193.406 335.832,194.195 337.158,194.911 338.545,195.551 340.001,196.113 341.53,196.594 343.138,196.991 344.83,197.299 \n",
       "  346.61,197.515 348.482,197.634 350.452,197.648 352.52,197.554 354.69,197.344 356.964,197.012 359.342,196.551 361.824,195.955 364.41,195.216 367.094,194.33 \n",
       "  369.873,193.287 372.742,192.079 375.692,190.697 378.712,189.138 381.785,187.397 384.895,185.475 388.018,183.374 391.13,181.095 394.202,178.647 397.201,176.035 \n",
       "  400.099,173.276 402.854,170.39 405.419,167.402 407.748,164.341 409.8,161.241 411.534,158.138 412.915,155.072 413.907,152.089 414.48,149.238 414.605,146.57 \n",
       "  414.259,144.139 413.442,141.984 412.163,140.136 410.436,138.618 408.284,137.448 405.735,136.636 402.825,136.184 399.598,136.088 396.105,136.337 392.402,136.911 \n",
       "  388.55,137.779 384.601,138.901 380.607,140.24 376.614,141.762 372.665,143.432 368.796,145.22 365.039,147.095 361.418,149.028 357.956,150.99 354.668,152.961 \n",
       "  351.567,154.929 348.656,156.885 345.939,158.818 343.416,160.722 341.087,162.591 338.95,164.421 336.999,166.21 335.228,167.959 333.629,169.669 332.195,171.34 \n",
       "  330.918,172.971 329.79,174.563 328.803,176.119 327.95,177.638 327.223,179.122 326.617,180.57 326.124,181.984 325.738,183.364 325.453,184.711 325.264,186.023 \n",
       "  325.167,187.302 325.16,188.546 325.238,189.757 325.401,190.933 325.644,192.073 325.967,193.177 326.367,194.242 326.843,195.268 327.394,196.253 328.022,197.194 \n",
       "  328.726,198.092 329.509,198.942 330.372,199.745 331.318,200.496 332.348,201.194 333.465,201.835 334.672,202.416 335.972,202.932 337.367,203.38 338.863,203.756 \n",
       "  340.462,204.054 342.17,204.27 343.992,204.396 345.932,204.428 347.992,204.357 350.177,204.177 352.489,203.878 354.93,203.453 357.503,202.893 360.21,202.187 \n",
       "  363.043,201.331 366.005,200.311 369.096,199.112 372.314,197.723 375.649,196.132 379.09,194.332 382.62,192.317 386.216,190.083 389.854,187.63 393.503,184.959 \n",
       "  397.127,182.072 400.688,178.975 404.147,175.68 407.461,172.213 410.563,168.606 413.392,164.895 415.89,161.122 418.002,157.335 419.68,153.586 420.876,149.934 \n",
       "  421.55,146.443 421.664,143.181 421.184,140.225 420.095,137.641 418.42,135.466 416.19,133.725 413.441,132.434 410.217,131.601 406.568,131.223 402.549,131.29 \n",
       "  398.225,131.781 393.663,132.667 388.939,133.909 384.133,135.455 379.312,137.239 374.535,139.21 369.853,141.323 365.307,143.535 360.933,145.811 356.756,148.116 \n",
       "  352.795,150.423 349.062,152.708 345.566,154.958 342.309,157.165 339.287,159.324 336.498,161.429 333.934,163.477 331.589,165.469 329.453,167.404 327.517,169.284 \n",
       "  325.768,171.115 324.196,172.899 322.788,174.637 321.534,176.332 320.423,177.987 319.445,179.604 318.589,181.186 317.848,182.733 317.211,184.248 316.671,185.732 \n",
       "  316.22,187.185 315.853,188.609 315.563,190.004 315.346,191.371 315.198,192.71 315.113,194.022 315.087,195.306 315.118,196.562 315.202,197.789 315.337,198.987 \n",
       "  315.523,200.157 315.758,201.298 316.042,202.409 316.374,203.49 316.755,204.541 317.184,205.56 317.664,206.546 318.193,207.499 318.775,208.418 319.412,209.301 \n",
       "  320.105,210.148 320.858,210.957 321.674,211.726 322.555,212.454 323.506,213.138 324.53,213.776 325.632,214.365 326.816,214.902 328.088,215.385 329.454,215.809 \n",
       "  330.919,216.171 332.49,216.465 334.173,216.687 335.975,216.83 337.903,216.887 339.964,216.851 342.165,216.715 344.507,216.472 346.999,216.112 349.654,215.62 \n",
       "  352.484,214.984 355.496,214.19 358.693,213.221 362.079,212.065 365.652,210.704 369.408,209.125 373.341,207.311 377.441,205.245 381.695,202.91 386.088,200.291 \n",
       "  390.602,197.372 395.202,194.15 399.849,190.613 404.492,186.757 409.075,182.59 413.532,178.132 417.79,173.417 421.768,168.489 425.376,163.407 428.517,158.239 \n",
       "  431.089,153.067 433.014,147.999 434.213,143.144 434.622,138.601 434.197,134.463 432.919,130.813 430.787,127.727 427.826,125.273 424.081,123.509 419.617,122.487 \n",
       "  414.538,122.193 408.968,122.558 403.021,123.527 396.81,125.034 390.442,127.003 384.018,129.35 377.636,131.981 371.389,134.79 365.35,137.696 359.558,140.655 \n",
       "  354.048,143.618 348.847,146.545 343.971,149.404 339.43,152.174 335.222,154.842 331.338,157.403 327.76,159.861 324.478,162.219 321.477,164.479 318.739,166.648 \n",
       "  316.246,168.733 313.98,170.741 311.922,172.679 310.056,174.554 308.364,176.371 306.829,178.138 305.433,179.859 304.163,181.539 303.005,183.181 301.945,184.788 \n",
       "  300.971,186.364 300.072,187.91 299.236,189.428 298.452,190.92 297.71,192.387 297.004,193.829 296.325,195.247 295.667,196.643 295.023,198.016 294.386,199.366 \n",
       "  293.75,200.695 293.108,202.002 292.455,203.287 291.786,204.549 291.096,205.79 290.381,207.009 289.635,208.205 288.854,209.379 288.034,210.53 287.168,211.658 \n",
       "  286.252,212.761 285.281,213.84 284.25,214.894 283.155,215.922 281.989,216.922 280.748,217.893 279.425,218.833 278.015,219.74 276.51,220.612 274.906,221.445 \n",
       "  273.195,222.235 271.37,222.98 269.425,223.675 267.352,224.313 265.145,224.888 262.798,225.392 260.304,225.817 257.657,226.152 254.852,226.386 251.885,226.508 \n",
       "  248.759,226.507 245.466,226.362 242.002,226.054 238.367,225.562 234.568,224.862 230.616,223.933 226.527,222.751 222.324,221.292 218.034,219.532 213.689,217.446 \n",
       "  209.327,215.008 204.988,212.2 200.726,209.012 196.614,205.424 192.726,201.43 189.139,197.04 185.927,192.279 183.166,187.188 180.935,181.824 179.309,176.256 \n",
       "  178.366,170.573 178.171,164.893 178.742,159.333 180.08,153.991 182.169,148.955 184.982,144.31 188.475,140.13 192.593,136.489 197.266,133.45 202.408,131.071 \n",
       "  207.922,129.405 213.689,128.425 219.595,128.069 225.549,128.287 231.466,129.023 237.275,130.215 242.917,131.794 248.342,133.685 253.513,135.81 258.404,138.115 \n",
       "  263.001,140.557 267.3,143.091 271.297,145.68 274.997,148.292 278.404,150.902 281.53,153.491 284.391,156.045 287.002,158.554 289.378,161.009 291.536,163.407 \n",
       "  293.492,165.744 295.262,168.019 296.862,170.23 298.307,172.376 299.611,174.459 300.788,176.481 301.853,178.444 302.817,180.348 303.69,182.197 304.482,183.99 \n",
       "  305.204,185.731 305.864,187.421 306.47,189.062 307.033,190.655 307.559,192.203 308.054,193.708 308.524,195.169 308.974,196.589 309.409,197.968 309.833,199.308 \n",
       "  310.251,200.61 310.668,201.874 311.088,203.102 311.515,204.294 311.951,205.45 312.4,206.571 312.865,207.658 313.35,208.71 313.858,209.727 314.393,210.711 \n",
       "  314.958,211.659 315.556,212.573 316.191,213.452 316.866,214.295 317.585,215.101 318.352,215.87 319.172,216.6 320.048,217.289 320.987,217.937 321.991,218.541 \n",
       "  323.068,219.1 324.221,219.61 325.458,220.069 326.784,220.472 328.205,220.818 329.729,221.1 331.363,221.314 333.115,221.454 334.993,221.515 337.003,221.489 \n",
       "  339.155,221.369 341.46,221.145 343.925,220.807 346.561,220.344 349.374,219.743 352.371,218.99 355.56,218.071 358.946,216.97 362.534,215.67 366.325,214.153 \n",
       "  370.312,212.408 374.499,210.405 378.885,208.119 383.458,205.527 388.197,202.612 393.075,199.362 398.051,195.769 403.076,191.83 408.095,187.547 413.038,182.926 \n",
       "  417.836,177.98 422.412,172.75 426.649,167.297 430.431,161.689 433.651,156.008 436.212,150.35 438.024,144.819 439.007,139.536 439.087,134.629 438.203,130.243 \n",
       "  436.333,126.501 433.515,123.477 429.803,121.223 425.269,119.763 420.002,119.101 414.112,119.213 407.728,120.052 400.996,121.544 394.064,123.586 387.054,126.058 \n",
       "  380.078,128.855 373.232,131.882 366.593,135.05 360.223,138.283 354.166,141.512 348.451,144.679 343.097,147.757 338.108,150.727 333.481,153.578 329.211,156.3 \n",
       "  325.286,158.893 321.69,161.36 318.403,163.711 315.405,165.952 312.675,168.094 310.19,170.147 307.93,172.118 305.874,174.017 304.003,175.852 302.298,177.629 \n",
       "  300.74,179.354 299.312,181.034 297.997,182.673 296.78,184.274 295.65,185.84 294.592,187.375 293.594,188.88 292.645,190.357 291.732,191.807 290.847,193.23 \n",
       "  289.979,194.628 289.121,196 288.266,197.347 287.405,198.669 286.532,199.966 285.64,201.236 284.722,202.481 283.771,203.698 282.781,204.888 281.747,206.048 \n",
       "  280.663,207.18 279.523,208.279 278.323,209.347 277.055,210.379 275.715,211.375 274.295,212.331 272.79,213.245 271.196,214.114 269.505,214.934 267.713,215.7 \n",
       "  265.813,216.409 263.802,217.053 261.673,217.626 259.422,218.122 257.044,218.531 254.537,218.847 251.899,219.057 249.124,219.151 246.211,219.113 243.162,218.931 \n",
       "  239.98,218.588 236.673,218.07 233.251,217.359 229.725,216.437 226.111,215.287 222.428,213.889 218.697,212.233 214.951,210.297 211.228,208.06 207.569,205.508 \n",
       "  204.021,202.633 200.633,199.438 197.458,195.934 194.555,192.137 191.984,188.074 189.812,183.78 188.101,179.3 186.898,174.701 186.246,170.054 186.181,165.426 \n",
       "  186.722,160.889 187.878,156.511 189.642,152.367 191.994,148.527 194.904,145.066 198.324,142.057 202.193,139.565 206.431,137.593 210.959,136.143 215.701,135.211 \n",
       "  220.585,134.778 225.542,134.818 230.507,135.294 235.418,136.157 240.216,137.347 244.858,138.814 249.314,140.516 253.563,142.408 257.585,144.449 261.368,146.602 \n",
       "  264.904,148.834 268.191,151.118 271.231,153.43 274.034,155.751 276.608,158.066 278.96,160.364 281.102,162.637 283.044,164.877 284.799,167.079 286.377,169.239 \n",
       "  287.79,171.354 289.05,173.422 290.169,175.444 291.156,177.419 292.023,179.347 292.779,181.229 293.432,183.065 293.991,184.858 294.463,186.606 294.855,188.314 \n",
       "  295.174,189.98 295.424,191.607 295.61,193.195 295.738,194.747 295.81,196.263 295.831,197.745 295.803,199.193 295.729,200.61 295.609,201.995 295.446,203.351 \n",
       "  295.239,204.677 294.991,205.976 294.702,207.247 294.371,208.492 293.998,209.712 293.582,210.907 293.121,212.078 292.616,213.225 292.062,214.35 291.46,215.451 \n",
       "  290.805,216.53 290.097,217.588 289.331,218.623 288.504,219.636 287.612,220.628 286.652,221.596 285.618,222.542 284.506,223.464 283.311,224.361 282.027,225.231 \n",
       "  280.649,226.074 279.17,226.886 277.584,227.665 275.882,228.409 274.058,229.114 272.103,229.775 270.009,230.387 267.77,230.943 265.376,231.434 262.821,231.852 \n",
       "  260.096,232.187 257.193,232.429 254.11,232.564 250.843,232.579 247.379,232.453 243.713,232.165 239.843,231.691 235.774,231.006 231.515,230.085 227.082,228.898 \n",
       "  222.496,227.415 217.782,225.605 212.972,223.435 208.102,220.871 203.217,217.898 198.386,214.477 193.688,210.579 189.205,206.191 185.024,201.322 181.237,195.997 \n",
       "  177.939,190.258 175.232,184.168 173.222,177.805 172.012,171.272 171.656,164.704 172.199,158.234 173.66,151.989 176.036,146.091 179.296,140.657 183.386,135.801 \n",
       "  188.226,131.631 193.712,128.249 199.714,125.708 206.093,123.975 212.72,123.021 219.475,122.8 226.252,123.251 232.953,124.295 239.493,125.837 245.795,127.768 \n",
       "  251.811,130.009 257.512,132.49 262.877,135.143 267.893,137.91 272.555,140.739 276.866,143.59 280.836,146.432 284.485,149.241 287.824,151.999 290.875,154.695 \n",
       "  293.655,157.321 296.187,159.871 298.489,162.342 300.581,164.73 302.482,167.038 304.211,169.265 305.786,171.414 307.224,173.488 308.541,175.488 309.751,177.418 \n",
       "  310.869,179.278 311.907,181.073 312.878,182.804 313.793,184.473 314.665,186.083 315.502,187.635 316.313,189.131 317.105,190.572 317.887,191.959 318.665,193.292 \n",
       "  319.448,194.574 320.243,195.804 321.055,196.983 321.892,198.111 322.757,199.187 323.658,200.212 324.598,201.183 325.585,202.101 326.623,202.964 327.718,203.771 \n",
       "  328.877,204.519 330.104,205.207 331.404,205.832 332.785,206.391 334.251,206.88 335.808,207.294 337.462,207.631 339.219,207.883 341.085,208.047 343.067,208.116 \n",
       "  345.169,208.084 347.398,207.942 349.76,207.681 352.259,207.293 354.9,206.766 357.685,206.092 360.615,205.259 363.691,204.256 366.911,203.071 370.273,201.691 \n",
       "  373.766,200.111 377.383,198.315 381.113,196.285 384.942,194.01 388.847,191.484 392.799,188.705 396.763,185.676 400.698,182.405 404.555,178.905 408.28,175.194 \n",
       "  411.812,171.296 415.094,167.24 418.065,163.081 420.643,158.875 422.759,154.686 424.349,150.578 425.364,146.618 425.762,142.88 425.512,139.435 424.592,136.363 \n",
       "  422.992,133.743 420.729,131.627 417.85,130.034 414.412,128.975 410.476,128.449 406.11,128.441 401.387,128.927 396.386,129.866 391.193,131.209 385.9,132.892 \n",
       "  380.594,134.846 375.336,137.01 370.184,139.328 365.186,141.749 360.383,144.231 355.804,146.734 351.47,149.23 347.394,151.693 343.578,154.107 340.029,156.461 \n",
       "  336.742,158.75 333.71,160.973 330.925,163.127 328.377,165.213 326.054,167.233 323.945,169.19 322.037,171.089 320.314,172.935 318.763,174.731 317.372,176.48 \n",
       "  316.128,178.187 315.02,179.854 314.034,181.484 313.162,183.079 312.391,184.643 311.714,186.175 311.121,187.678 310.605,189.154 310.159,190.602 309.776,192.025 \n",
       "  309.451,193.423 309.178,194.795 308.951,196.143 308.766,197.467 308.62,198.766 308.51,200.041 308.432,201.293 308.385,202.521 308.366,203.726 308.373,204.907 \n",
       "  308.405,206.065 308.46,207.199 308.537,208.31 308.637,209.398 308.758,210.462 308.901,211.503 309.065,212.52 309.249,213.514 309.456,214.485 309.685,215.432 \n",
       "  309.937,216.355 310.213,217.255 310.515,218.131 310.842,218.982 311.198,219.81 311.583,220.612 312,221.39 312.451,222.142 312.937,222.868 313.462,223.567 \n",
       "  314.029,224.239 314.64,224.882 315.299,225.497 316.009,226.08 316.774,226.632 317.599,227.151 318.489,227.634 319.447,228.081 320.48,228.488 321.594,228.853 \n",
       "  322.794,229.173 324.088,229.444 325.483,229.661 326.986,229.822 328.605,229.921 330.348,229.951 332.226,229.907 334.248,229.781 336.425,229.565 338.767,229.248 \n",
       "  341.286,228.82 343.99,228.267 346.891,227.577 349.999,226.733 353.325,225.721 356.876,224.522 360.652,223.121 364.668,221.492 368.935,219.603 373.456,217.429 \n",
       "  378.225,214.944 383.23,212.125 388.447,208.948 393.847,205.393 399.391,201.442 405.031,197.077 410.714,192.286 416.376,187.079 421.91,181.474 427.2,175.503 \n",
       "  432.127,169.221 436.568,162.707 440.397,156.06 443.486,149.403 445.704,142.88 446.914,136.657 447.009,130.917 445.955,125.819 443.739,121.492 440.381,118.034 \n",
       "  435.938,115.517 430.499,113.979 424.192,113.433 417.175,113.86 409.636,115.169 401.755,117.207 393.699,119.843 385.615,122.946 377.631,126.387 369.857,130.034 \n",
       "  362.384,133.762 355.28,137.462 348.579,141.09 342.302,144.601 336.459,147.962 331.052,151.151 326.072,154.159 321.501,156.989 317.315,159.651 313.494,162.153 \n",
       "  310.009,164.51 306.834,166.735 303.943,168.842 301.311,170.844 298.912,172.752 296.724,174.577 294.723,176.331 292.885,178.021 291.191,179.654 289.621,181.238 \n",
       "  288.159,182.776 286.787,184.273 285.488,185.733 284.25,187.156 283.056,188.546 281.895,189.902 280.756,191.226 279.63,192.518 278.506,193.778 277.375,195.005 \n",
       "  276.228,196.198 275.057,197.356 273.853,198.478 272.61,199.561 271.321,200.604 269.981,201.604 268.583,202.56 267.123,203.466 265.594,204.321 263.991,205.121 \n",
       "  262.31,205.861 260.547,206.536 258.698,207.142 256.76,207.673 254.729,208.121 252.606,208.481 250.388,208.744 248.076,208.903 245.672,208.948 243.176,208.871 \n",
       "  240.594,208.662 237.932,208.313 235.197,207.811 232.398,207.142 229.546,206.294 226.658,205.256 223.751,204.021 220.847,202.581 217.971,200.931 215.149,199.067 \n",
       "  212.414,196.986 209.797,194.689 207.326,192.185 205.045,189.483 202.996,186.6 201.217,183.556 199.744,180.375 198.608,177.09 197.836,173.738 197.45,170.36 \n",
       "  197.471,167.007 197.913,163.73 198.783,160.587 200.07,157.624 201.756,154.882 203.816,152.397 206.224,150.2 208.947,148.315 211.946,146.76 215.178,145.549 \n",
       "  218.595,144.689 222.143,144.18 225.773,144.009 229.442,144.149 233.109,144.577 236.737,145.266 240.293,146.192 243.749,147.326 247.082,148.642 250.272,150.109 \n",
       "  253.306,151.699 256.173,153.382 258.865,155.14 261.379,156.959 263.714,158.821 265.871,160.712 267.852,162.62 269.66,164.535 271.3,166.446 272.776,168.348 \n",
       "  274.096,170.233 275.265,172.099 276.291,173.94 277.181,175.755 277.94,177.541 278.576,179.296 279.092,181.018 279.496,182.707 279.792,184.361 279.984,185.98 \n",
       "  280.077,187.565 280.078,189.114 279.987,190.628 279.806,192.106 279.538,193.548 279.182,194.955 278.74,196.326 278.213,197.659 277.601,198.956 276.904,200.215 \n",
       "  276.122,201.435 275.256,202.616 274.306,203.757 273.269,204.855 272.143,205.911 270.924,206.92 269.61,207.881 268.197,208.792 266.683,209.648 265.066,210.445 \n",
       "  263.341,211.18 261.507,211.847 259.561,212.44 257.503,212.956 255.331,213.386 253.041,213.721 250.628,213.951 248.092,214.067 245.434,214.057 242.659,213.909 \n",
       "  239.771,213.611 236.778,213.152 233.693,212.516 230.526,211.692 227.292,210.663 224.01,209.416 220.697,207.939 217.379,206.226 214.09,204.258 210.868,202.024 \n",
       "  207.751,199.518 204.78,196.744 201.998,193.71 199.45,190.432 197.183,186.934 195.245,183.246 193.688,179.405 192.563,175.457 191.904,171.47 191.733,167.503 \n",
       "  192.06,163.61 192.89,159.845 194.219,156.26 196.035,152.903 198.317,149.825 201.037,147.071 204.158,144.688 207.634,142.719 211.412,141.206 215.42,140.141 \n",
       "  219.588,139.499 223.857,139.263 228.169,139.409 232.476,139.911 236.731,140.734 240.893,141.84 244.928,143.186 248.804,144.725 252.499,146.422 256.001,148.251 \n",
       "  259.3,150.184 262.392,152.195 265.272,154.261 267.941,156.362 270.4,158.481 272.654,160.605 274.711,162.722 276.581,164.825 278.269,166.907 279.787,168.961 \n",
       "  281.142,170.986 282.345,172.977 283.404,174.932 284.328,176.849 285.125,178.728 285.802,180.567 286.366,182.367 286.826,184.127 287.188,185.85 287.457,187.533 \n",
       "  287.638,189.18 287.735,190.789 287.751,192.362 287.69,193.899 287.555,195.401 287.349,196.869 287.073,198.303 286.73,199.705 286.321,201.074 285.844,202.411 \n",
       "  285.3,203.716 284.687,204.989 284.004,206.231 283.25,207.441 282.423,208.618 281.521,209.764 280.541,210.876 279.481,211.954 278.337,212.996 277.104,214.002 \n",
       "  275.779,214.969 274.357,215.896 272.833,216.778 271.203,217.614 269.461,218.398 267.602,219.127 265.622,219.794 263.514,220.394 261.277,220.921 258.908,221.367 \n",
       "  256.397,221.723 253.738,221.977 250.927,222.117 247.962,222.13 244.845,222.001 241.578,221.714 238.168,221.252 234.624,220.597 230.956,219.729 227.178,218.628 \n",
       "  223.307,217.271 219.363,215.649 215.378,213.736 211.391,211.504 207.443,208.929 203.584,206.002 199.865,202.718 196.345,199.086 193.086,195.119 190.156,190.842 \n",
       "  187.628,186.29 185.58,181.505 184.078,176.555 183.168,171.528 182.888,166.499 183.262,161.548 184.301,156.75 186.002,152.182 188.351,147.92 191.317,144.04 \n",
       "  194.859,140.619 198.919,137.732 203.426,135.446 208.277,133.753 213.377,132.636 218.64,132.074 223.988,132.038 229.348,132.488 234.653,133.374 239.845,134.637 \n",
       "  244.869,136.207 249.684,138.017 254.265,140.029 258.598,142.199 262.671,144.485 266.476,146.851 270.012,149.265 273.281,151.703 276.289,154.142 279.048,156.568 \n",
       "  281.573,158.968 283.872,161.334 285.96,163.658 287.85,165.936 289.556,168.166 291.093,170.344 292.471,172.47 293.705,174.541 294.805,176.56 295.784,178.525 \n",
       "  296.652,180.44 297.42,182.305 298.098,184.121 298.692,185.89 299.211,187.614 299.663,189.293 300.053,190.929 300.389,192.525 300.676,194.081 300.92,195.6 \n",
       "  301.123,197.081 301.291,198.527 301.424,199.939 301.528,201.318 301.604,202.666 301.655,203.982 301.684,205.269 301.691,206.528 301.678,207.759 301.646,208.964 \n",
       "  301.595,210.143 301.527,211.297 301.443,212.427 301.341,213.534 301.224,214.619 301.089,215.682 300.938,216.724 300.77,217.745 300.584,218.747 300.38,219.731 \n",
       "  300.156,220.696 299.912,221.643 299.648,222.573 299.361,223.487 299.05,224.385 298.713,225.267 298.35,226.135 297.957,226.988 297.532,227.828 297.074,228.654 \n",
       "  296.58,229.467 296.047,230.267 295.472,231.055 294.852,231.831 294.182,232.595 293.46,233.349 292.681,234.09 291.841,234.82 290.933,235.538 289.954,236.244 \n",
       "  288.897,236.938 287.757,237.618 286.526,238.284 285.198,238.934 283.764,239.568 282.217,240.183 280.547,240.777 278.745,241.345 276.802,241.885 274.707,242.39 \n",
       "  272.45,242.854 270.018,243.27 267.402,243.631 264.593,243.926 261.581,244.144 258.347,244.27 254.877,244.29 251.158,244.181 247.184,243.922 242.951,243.485 \n",
       "  238.459,242.839 233.711,241.951 228.716,240.782 223.484,239.293 218.032,237.44 212.394,235.196 206.609,232.494 200.731,229.265 194.828,225.456 188.985,221.029 \n",
       "  183.303,215.967 177.898,210.264 172.905,203.934 168.473,197.006 164.765,189.528 161.921,181.618 160.07,173.434 159.318,165.136 159.737,156.888 161.365,148.863 \n",
       "  164.205,141.238 168.228,134.198 173.369,127.935 179.529,122.645 186.545,118.47 194.196,115.409 202.294,113.446 210.665,112.536 219.146,112.601 227.589,113.535 \n",
       "  235.857,115.197 243.826,117.416 251.415,120.054 258.588,123.012 265.318,126.184 271.586,129.48 277.388,132.825 282.731,136.16 287.632,139.441 292.12,142.642 \n",
       "  296.227,145.742 299.97,148.726 303.379,151.591 306.482,154.333 309.308,156.953 311.883,159.45 314.232,161.828 316.38,164.088 318.349,166.237 320.164,168.278 \n",
       "  321.844,170.219 323.41,172.063 324.878,173.813 326.263,175.474 327.583,177.05 328.851,178.541 330.082,179.952 331.288,181.285 332.481,182.541 333.671,183.721 \n",
       "  334.865,184.825 336.072,185.853 337.301,186.806 338.56,187.682 339.856,188.481 341.196,189.202 342.588,189.843 344.035,190.403 345.543,190.879 347.117,191.267 \n",
       "  348.76,191.564 350.476,191.766 352.269,191.87 354.14,191.873 356.093,191.768 358.128,191.554 360.245,191.224 362.445,190.772 364.725,190.194 367.082,189.483 \n",
       "  369.511,188.636 372.006,187.648 374.558,186.517 377.156,185.24 379.788,183.816 382.441,182.244 385.1,180.527 387.743,178.669 390.344,176.673 392.879,174.549 \n",
       "  395.319,172.307 397.637,169.963 399.805,167.535 401.792,165.045 403.568,162.519 405.101,159.986 406.358,157.477 407.306,155.03 407.926,152.68 408.201,150.461 \n",
       "  408.116,148.405 407.665,146.541 406.845,144.894 405.663,143.485 404.13,142.331 402.264,141.448 400.09,140.846 397.641,140.532 394.951,140.501 392.062,140.732 \n",
       "  389.016,141.206 385.851,141.905 382.607,142.809 379.319,143.895 376.022,145.139 372.749,146.514 369.53,147.994 366.396,149.547 363.368,151.154 360.461,152.804 \n",
       "  357.689,154.481 355.061,156.171 352.586,157.863 350.269,159.549 348.114,161.219 346.123,162.868 344.293,164.493 342.622,166.092 341.106,167.662 339.743,169.2 \n",
       "  338.526,170.707 337.452,172.181 336.513,173.622 335.707,175.029 335.026,176.401 334.468,177.739 334.028,179.041 333.7,180.308 333.481,181.539 333.365,182.734 \n",
       "  333.351,183.891 333.434,185.009 333.614,186.089 333.888,187.127 334.254,188.124 334.711,189.078 335.258,189.985 335.894,190.845 336.618,191.654 337.431,192.411 \n",
       "  338.333,193.111 339.325,193.753 340.408,194.334 341.586,194.85 342.859,195.297 344.23,195.672 345.699,195.969 347.268,196.185 348.939,196.314 350.713,196.349 \n",
       "  352.592,196.286 354.573,196.12 356.661,195.844 358.855,195.449 361.157,194.929 363.564,194.276 366.074,193.484 368.681,192.546 371.376,191.457 374.151,190.212 \n",
       "  376.996,188.805 379.895,187.232 382.836,185.49 385.802,183.58 388.771,181.504 391.713,179.265 394.599,176.869 397.397,174.328 400.073,171.658 402.592,168.877 \n",
       "  404.919,166.013 407.016,163.093 408.843,160.151 410.36,157.226 411.525,154.361 412.3,151.605 412.67,149.005 412.619,146.598 412.139,144.417 411.23,142.491 \n",
       "  409.898,140.845 408.156,139.498 406.024,138.469 403.528,137.768 400.703,137.404 397.588,137.382 394.233,137.694 390.695,138.298 387.027,139.161 383.279,140.257 \n",
       "  379.494,141.554 375.714,143.024 371.977,144.635 368.317,146.356 364.763,148.156 361.342,150.003 358.075,151.873 354.973,153.759 352.045,155.646 349.296,157.525 \n",
       "  346.731,159.384 344.351,161.216 342.156,163.017 340.144,164.782 338.309,166.51 336.646,168.202 335.148,169.858 333.808,171.477 332.62,173.058 331.576,174.603 \n",
       "  330.669,176.112 329.892,177.585 329.24,179.023 328.706,180.425 328.284,181.793 327.97,183.127 327.758,184.426 327.643,185.69 327.621,186.918 327.69,188.11 \n",
       "  327.847,189.266 328.09,190.385 328.419,191.466 328.83,192.508 329.324,193.509 329.9,194.467 330.556,195.379 331.293,196.245 332.112,197.06 333.014,197.824 \n",
       "  334.002,198.533 335.079,199.186 336.246,199.778 337.507,200.306 338.864,200.765 340.32,201.153 341.879,201.463 343.542,201.69 345.314,201.829 347.196,201.874 \n",
       "  349.193,201.819 351.31,201.655 353.551,201.375 355.916,200.971 358.407,200.434 361.023,199.756 363.762,198.928 366.619,197.941 369.591,196.786 372.671,195.454 \n",
       "  375.852,193.936 379.119,192.231 382.457,190.328 385.848,188.219 389.27,185.899 392.695,183.371 396.093,180.64 399.426,177.718 402.655,174.623 405.734,171.376 \n",
       "  408.614,168.005 411.241,164.543 413.556,161.027 415.514,157.51 417.07,154.049 418.177,150.698 418.796,147.509 418.901,144.531 418.474,141.811 417.51,139.391 \n",
       "  416.011,137.315 413.99,135.62 411.473,134.343 408.491,133.519 405.103,133.132 401.376,133.154 397.373,133.563 393.157,134.329 388.789,135.421 384.327,136.8 \n",
       "  379.829,138.422 375.35,140.239 370.945,142.197 366.663,144.241 362.532,146.353 358.575,148.507 354.809,150.677 351.25,152.845 347.908,154.992 344.789,157.105 \n",
       "  341.894,159.177 339.222,161.201 336.764,163.177 334.51,165.107 332.455,166.989 330.591,168.823 328.908,170.61 327.396,172.353 326.045,174.053 324.845,175.711 \n",
       "  323.788,177.331 322.865,178.912 322.067,180.458 321.386,181.97 320.814,183.448 320.344,184.895 319.968,186.309 319.682,187.693 319.481,189.046 319.359,190.369 \n",
       "  319.313,191.662 319.339,192.924 319.434,194.154 319.593,195.353 319.817,196.52 320.104,197.654 320.453,198.755 320.864,199.821 321.338,200.853 321.874,201.849 \n",
       "  322.474,202.807 323.139,203.726 323.869,204.604 324.667,205.439 325.536,206.229 326.478,206.972 327.498,207.667 328.599,208.31 329.784,208.898 331.059,209.428 \n",
       "  332.428,209.895 333.895,210.296 335.466,210.625 337.145,210.879 338.938,211.05 340.853,211.132 342.895,211.119 345.072,211.002 347.389,210.772 349.851,210.42 \n",
       "  352.463,209.936 355.227,209.308 358.146,208.526 361.224,207.576 364.461,206.446 367.853,205.127 371.391,203.607 375.077,201.864 378.905,199.878 382.862,197.637 \n",
       "  386.927,195.132 391.073,192.357 395.267,189.311 399.468,186 403.626,182.43 407.688,178.616 411.592,174.573 415.277,170.327 418.681,165.93 421.714,161.44 \n",
       "  424.293,156.923 426.344,152.445 427.805,148.081 428.623,143.906 428.758,140.001 428.178,136.452 426.862,133.348 424.801,130.778 422.036,128.778 418.631,127.362 \n",
       "  414.655,126.53 410.182,126.274 405.29,126.569 400.062,127.379 394.585,128.656 388.952,130.336 383.261,132.346 377.602,134.605 372.043,137.045 366.637,139.609 \n",
       "  361.432,142.242 356.463,144.903 351.757,147.555 347.33,150.169 343.189,152.726 339.331,155.213 335.758,157.623 332.462,159.954 329.433,162.205 326.658,164.38 \n",
       "  324.124,166.479 321.819,168.506 319.728,170.467 317.836,172.368 316.127,174.214 314.586,176.009 313.199,177.757 311.952,179.463 310.833,181.13 309.829,182.761 \n",
       "  308.929,184.359 308.122,185.925 307.398,187.463 306.747,188.972 306.161,190.454 305.634,191.911 305.158,193.344 304.728,194.754 304.337,196.14 303.98,197.504 \n",
       "  303.651,198.845 303.344,200.165 303.057,201.462 302.785,202.737 302.527,203.992 302.278,205.226 302.036,206.439 301.799,207.632 301.563,208.804 301.326,209.957 \n",
       "  301.085,211.09 300.84,212.204 300.588,213.299 300.327,214.376 300.055,215.434 299.77,216.474 299.47,217.497 299.153,218.503 298.817,219.492 298.46,220.465 \n",
       "  298.08,221.421 297.675,222.362 297.242,223.288 296.778,224.199 296.281,225.096 295.748,225.978 295.175,226.846 294.56,227.7 293.9,228.541 293.19,229.369 \n",
       "  292.426,230.183 291.604,230.983 290.719,231.771 289.767,232.544 288.741,233.302 287.635,234.046 286.445,234.774 285.162,235.485 283.781,236.177 282.292,236.849 \n",
       "  280.689,237.498 278.962,238.121 277.102,238.713 275.1,239.271 272.946,239.79 270.632,240.262 268.146,240.68 265.474,241.037 262.604,241.322 259.526,241.52 \n",
       "  256.229,241.618 252.707,241.595 248.952,241.432 244.96,241.104 240.726,240.587 236.247,239.851 231.537,238.875 226.599,237.613 221.443,236.015 216.088,234.032 \n",
       "  210.571,231.621 204.939,228.741 199.256,225.353 193.599,221.425 188.058,216.925 182.737,211.825 177.736,206.121 173.183,199.843 169.239,193.033 166.049,185.759 \n",
       "  163.736,178.116 162.403,170.228 162.133,162.247 162.989,154.353 165.013,146.755 168.219,139.682 172.525,133.315 177.817,127.784 183.969,123.186 190.843,119.584 \n",
       "  198.283,117.007 206.119,115.45 214.165,114.874 222.245,115.191 230.238,116.263 238.033,117.966 245.54,120.179 252.691,122.788 259.441,125.685 265.767,128.769 \n",
       "  271.664,131.947 277.127,135.164 282.166,138.379 286.797,141.552 291.038,144.655 294.912,147.668 298.444,150.576 301.661,153.375 304.589,156.06 307.255,158.632 \n",
       "  309.684,161.093 311.9,163.444 313.926,165.69 315.785,167.832 317.496,169.876 319.081,171.825 320.558,173.684 321.943,175.457 323.251,177.146 324.496,178.754 \n",
       "  325.692,180.284 326.852,181.738 327.987,183.117 329.111,184.425 330.232,185.661 331.359,186.827 332.501,187.921 333.666,188.945 334.86,189.896 336.091,190.775 \n",
       "  337.367,191.581 338.694,192.312 340.078,192.966 341.525,193.541 343.04,194.033 344.627,194.44 346.292,194.757 348.037,194.981 349.868,195.106 351.788,195.13 \n",
       "  353.799,195.046 355.904,194.85 358.103,194.535 360.398,194.095 362.788,193.522 365.27,192.811 367.842,191.956 370.496,190.951 373.225,189.791 376.02,188.472 \n",
       "  378.871,186.99 381.763,185.344 384.679,183.534 387.597,181.558 390.492,179.418 393.338,177.122 396.106,174.681 398.765,172.109 401.28,169.427 403.618,166.658 \n",
       "  405.738,163.83 407.6,160.973 409.162,158.125 410.396,155.325 411.27,152.616 411.756,150.038 411.835,147.63 411.492,145.427 410.724,143.461 409.534,141.761 \n",
       "  407.934,140.354 405.943,139.264 403.589,138.512 400.908,138.094 397.947,137.995 394.75,138.2 391.364,138.693 387.834,139.453 384.204,140.453 380.52,141.664 \n",
       "  376.823,143.052 373.158,144.581 369.565,146.214 366.068,147.931 362.69,149.711 359.45,151.532 356.365,153.376 353.446,155.227 350.703,157.072 348.14,158.902 \n",
       "  345.76,160.708 343.56,162.486 341.535,164.235 339.685,165.95 338.005,167.63 336.489,169.274 335.13,170.882 333.921,172.454 332.858,173.989 331.933,175.487 \n",
       "  331.141,176.95 330.475,178.378 329.929,179.772 329.496,181.13 329.172,182.454 328.953,183.743 328.833,184.996 328.81,186.215 328.881,187.396 329.041,188.541 \n",
       "  329.289,189.648 329.623,190.715 330.041,191.741 330.541,192.724 331.124,193.663 331.791,194.557 332.542,195.402 333.379,196.198 334.302,196.941 335.313,197.628 \n",
       "  336.414,198.257 337.606,198.823 338.892,199.323 340.274,199.751 341.755,200.106 343.339,200.38 345.029,200.57 346.829,200.669 348.742,200.671 350.77,200.57 \n",
       "  352.915,200.359 355.178,200.029 357.56,199.574 360.062,198.984 362.681,198.254 365.411,197.377 368.255,196.339 371.209,195.13 374.267,193.739 377.418,192.16 \n",
       "  380.648,190.387 383.938,188.42 387.266,186.256 390.606,183.898 393.928,181.35 397.197,178.618 400.376,175.711 403.43,172.645 406.318,169.449 408.981,166.153 \n",
       "  411.366,162.794 413.425,159.41 415.114,156.044 416.393,152.743 417.226,149.556 417.583,146.54 417.437,143.75 416.766,141.251 415.566,139.091 413.858,137.297 \n",
       "  411.674,135.887 409.047,134.872 406.019,134.256 402.633,134.035 398.94,134.196 394.993,134.72 390.852,135.579 386.581,136.739 382.247,138.157 377.907,139.781 \n",
       "  373.609,141.57 369.395,143.486 365.302,145.494 361.36,147.563 357.591,149.667 354.014,151.781 350.639,153.888 347.473,155.97 344.521,158.02 341.781,160.034 \n",
       "  339.25,162.007 336.924,163.936 334.796,165.818 332.86,167.653 331.109,169.441 329.533,171.185 328.124,172.887 326.87,174.549 325.764,176.171 324.795,177.755 \n",
       "  323.957,179.303 323.24,180.816 322.637,182.294 322.141,183.74 321.746,185.153 321.445,186.534 321.232,187.884 321.102,189.201 321.053,190.486 321.081,191.74 \n",
       "  321.184,192.962 321.359,194.152 321.605,195.309 321.92,196.432 322.301,197.521 322.749,198.573 323.262,199.587 323.841,200.562 324.488,201.497 325.205,202.391 \n",
       "  325.994,203.241 326.856,204.046 327.794,204.803 328.811,205.509 329.911,206.162 331.096,206.759 332.371,207.296 333.739,207.769 335.206,208.174 336.778,208.506 \n",
       "  338.459,208.761 340.255,208.932 342.171,209.013 344.211,208.997 346.38,208.875 348.684,208.639 351.128,208.281 353.713,207.793 356.439,207.166 359.314,206.384 \n",
       "  362.345,205.434 365.531,204.301 368.872,202.973 372.359,201.439 375.984,199.686 379.731,197.706 383.582,195.49 387.515,193.03 391.505,190.318 395.521,187.349 \n",
       "  399.532,184.127 403.491,180.664 407.337,176.972 411.009,173.075 414.445,169.005 417.582,164.803 420.354,160.519 422.698,156.214 424.545,151.957 425.828,147.827 \n",
       "  426.481,143.91 426.471,140.294 425.783,137.047 424.413,134.229 422.372,131.885 419.685,130.052 416.392,128.754 412.549,128.003 408.225,127.803 403.504,128.142 \n",
       "  398.482,128.971 393.25,130.217 387.897,131.823 382.499,133.729 377.127,135.876 371.843,138.205 366.701,140.658 361.747,143.176 357.016,145.71 352.531,148.242 \n",
       "  348.303,150.749 344.341,153.211 340.649,155.615 337.226,157.952 334.07,160.216 331.169,162.408 328.512,164.531 326.088,166.586 323.883,168.576 321.883,170.506 \n",
       "  320.075,172.379 318.445,174.199 316.98,175.971 315.667,177.699 314.493,179.385 313.446,181.033 312.514,182.646 311.687,184.226 310.956,185.775 310.312,187.294 \n",
       "  309.747,188.786 309.251,190.251 308.819,191.69 308.443,193.103 308.117,194.492 307.837,195.856 307.599,197.197 307.398,198.514 307.231,199.807 307.094,201.078 \n",
       "  306.983,202.326 306.898,203.551 306.834,204.753 306.791,205.933 306.767,207.09 306.761,208.225 306.771,209.338 306.796,210.429 306.836,211.498 306.89,212.546 \n",
       "  306.957,213.571 307.038,214.575 307.133,215.558 307.241,216.52 307.362,217.46 307.497,218.379 307.646,219.278 307.81,220.155 307.99,221.012 308.185,221.848 \n",
       "  308.398,222.663 308.629,223.458 308.879,224.232 309.15,224.985 309.442,225.717 309.759,226.428 310.1,227.117 310.469,227.785 310.868,228.431 311.298,229.054 \n",
       "  311.762,229.655 312.263,230.232 312.804,230.785 313.388,231.313 314.019,231.814 314.7,232.289 315.435,232.736 316.229,233.152 317.086,233.537 318.013,233.889 \n",
       "  319.014,234.204 320.096,234.48 321.265,234.715 322.528,234.904 323.893,235.045 325.367,235.132 326.96,235.161 328.681,235.126 330.539,235.021 332.546,234.837 \n",
       "  334.713,234.565 337.05,234.196 339.57,233.718 342.284,233.119 345.205,232.384 348.343,231.5 351.701,230.453 355.302,229.218 359.162,227.77 363.293,226.084 \n",
       "  367.701,224.134 372.386,221.892 377.341,219.332 382.554,216.425 388.007,213.141 393.677,209.453 399.533,205.33 405.533,200.76 411.612,195.729 417.684,190.221 \n",
       "  423.653,184.248 429.407,177.844 434.821,171.071 439.756,164.014 444.059,156.784 447.563,149.519 450.094,142.379 451.531,135.563 451.77,129.261 450.743,123.644 \n",
       "  448.42,118.855 444.821,115.018 440.004,112.23 434.074,110.566 427.18,110.072 419.526,110.646 411.322,112.159 402.759,114.48 394.017,117.467 385.258,120.964 \n",
       "  376.636,124.802 368.287,128.797 360.305,132.822 352.74,136.807 345.628,140.683 338.993,144.397 332.844,147.912 327.176,151.213 321.969,154.298 317.195,157.179 \n",
       "  312.836,159.863 308.86,162.367 305.239,164.707 301.943,166.901 298.942,168.965 296.209,170.912 293.719,172.758 291.444,174.514 289.36,176.193 287.441,177.803 \n",
       "  285.668,179.353 284.019,180.849 282.477,182.296 281.023,183.7 279.641,185.062 278.315,186.385 277.03,187.671 275.775,188.919 274.54,190.131 273.313,191.306 \n",
       "  272.085,192.444 270.847,193.544 269.59,194.603 268.305,195.621 266.985,196.595 265.623,197.522 264.214,198.4 262.753,199.225 261.236,199.995 259.658,200.705 \n",
       "  258.015,201.351 256.304,201.928 254.521,202.431 252.666,202.856 250.737,203.196 248.734,203.445 246.658,203.595 244.51,203.64 242.294,203.572 240.014,203.384 \n",
       "  237.677,203.067 235.289,202.616 232.861,202.02 230.401,201.278 227.923,200.38 225.445,199.317 222.985,198.082 220.562,196.672 218.197,195.084 215.915,193.321 \n",
       "  213.739,191.388 211.696,189.293 209.813,187.046 208.121,184.661 206.65,182.154 205.421,179.55 204.46,176.875 203.791,174.159 203.432,171.431 203.395,168.723 \n",
       "  203.69,166.067 204.318,163.496 205.276,161.046 206.556,158.751 208.143,156.65 210.017,154.776 212.152,153.144 214.514,151.767 217.072,150.657 219.793,149.817 \n",
       "  222.644,149.249 225.591,148.947 228.6,148.904 231.637,149.105 234.668,149.532 237.66,150.164 240.593,150.982 243.445,151.966 246.2,153.095 248.841,154.35 \n",
       "  251.356,155.711 253.735,157.161 255.971,158.684 258.058,160.264 259.996,161.887 261.784,163.54 263.426,165.21 264.919,166.893 266.268,168.58 267.475,170.265 \n",
       "  268.545,171.943 269.482,173.609 270.289,175.258 270.971,176.887 271.531,178.492 271.973,180.071 272.302,181.623 272.523,183.146 272.637,184.638 272.649,186.098 \n",
       "  272.56,187.525 272.373,188.917 272.089,190.274 271.711,191.593 271.24,192.874 270.678,194.116 270.024,195.317 269.28,196.476 268.447,197.591 267.523,198.661 \n",
       "  266.506,199.682 265.397,200.654 264.193,201.572 262.894,202.435 261.499,203.238 260.007,203.977 258.418,204.649 256.731,205.248 254.946,205.769 253.063,206.207 \n",
       "  251.085,206.557 249.008,206.81 246.835,206.957 244.567,206.991 242.208,206.903 239.764,206.683 237.243,206.323 234.655,205.815 232.01,205.148 229.321,204.313 \n",
       "  226.605,203.302 223.876,202.107 221.151,200.727 218.459,199.152 215.828,197.374 213.287,195.392 210.868,193.207 208.6,190.827 206.514,188.265 204.643,185.538 \n",
       "  203.018,182.666 201.672,179.678 200.637,176.604 199.949,173.482 199.629,170.356 199.685,167.273 200.123,164.273 200.941,161.392 202.133,158.666 203.687,156.128 \n",
       "  205.585,153.81 207.807,151.742 210.322,149.951 213.097,148.464 216.094,147.303 219.266,146.481 222.566,145.976 225.95,145.776 229.377,145.864 232.81,146.224 \n",
       "  236.216,146.834 239.563,147.672 242.825,148.713 245.98,149.928 249.006,151.285 251.888,152.757 254.616,154.329 257.184,155.983 259.588,157.701 261.825,159.467 \n",
       "  263.894,161.267 265.796,163.088 267.532,164.92 269.107,166.753 270.525,168.581 271.792,170.398 272.913,172.199 273.894,173.98 274.741,175.738 275.46,177.47 \n",
       "  276.056,179.174 276.533,180.847 276.898,182.49 277.153,184.099 277.304,185.674 277.354,187.216 277.306,188.723 277.166,190.194 276.934,191.63 276.612,193.03 \n",
       "  276.199,194.393 275.697,195.719 275.107,197.006 274.427,198.255 273.659,199.463 272.802,200.63 271.857,201.754 270.822,202.834 269.697,203.867 268.48,204.852 \n",
       "  267.169,205.786 265.76,206.665 264.25,207.487 262.637,208.246 260.919,208.939 259.094,209.56 257.162,210.103 255.119,210.561 252.967,210.928 250.704,211.197 \n",
       "  248.336,211.362 245.862,211.412 243.282,211.334 240.596,211.115 237.81,210.741 234.933,210.201 231.975,209.483 228.952,208.577 225.881,207.47 222.783,206.155 \n",
       "  219.683,204.62 216.607,202.858 213.586,200.859 210.65,198.62 207.828,196.148 205.17,193.445 202.722,190.521 200.527,187.391 198.627,184.077 197.059,180.609 \n",
       "  195.858,177.024 195.055,173.364 194.677,169.679 194.751,166.026 195.298,162.468 196.319,159.075 197.795,155.894 199.701,152.965 202.008,150.322 204.684,147.997 \n",
       "  207.691,146.012 210.988,144.387 214.529,143.137 218.264,142.271 222.14,141.792 226.098,141.697 230.084,141.948 234.051,142.506 237.961,143.34 241.777,144.419 \n",
       "  245.471,145.712 249.019,147.187 252.402,148.812 255.606,150.558 258.625,152.393 261.45,154.294 264.079,156.247 266.515,158.235 268.76,160.244 270.818,162.262 \n",
       "  272.695,164.278 274.395,166.283 275.925,168.27 277.293,170.235 278.506,172.173 279.574,174.082 280.503,175.959 281.302,177.803 281.977,179.611 282.535,181.384 \n",
       "  282.982,183.121 283.323,184.821 283.564,186.485 283.711,188.112 283.767,189.703 283.737,191.258 283.624,192.778 283.428,194.262 283.152,195.712 282.797,197.126 \n",
       "  282.362,198.506 281.85,199.851 281.26,201.161 280.592,202.436 279.846,203.675 279.023,204.879 278.12,206.047 277.135,207.177 276.063,208.268 274.904,209.319 \n",
       "  273.652,210.328 272.305,211.293 270.86,212.21 269.312,213.076 267.659,213.889 265.895,214.642 264.019,215.333 262.027,215.956 259.913,216.503 257.671,216.967 \n",
       "  255.298,217.34 252.791,217.612 250.149,217.772 247.374,217.809 244.468,217.71 241.435,217.461 238.28,217.048 235.01,216.454 231.633,215.665 228.165,214.671 \n",
       "  224.623,213.45 221.027,211.977 217.405,210.231 213.787,208.196 210.209,205.864 206.712,203.229 203.342,200.293 200.15,197.061 197.193,193.546 194.532,189.765 \n",
       "  192.23,185.742 190.333,181.526 188.896,177.173 187.966,172.739 187.579,168.284 187.761,163.869 188.524,159.561 189.871,155.428 191.791,151.54 194.265,147.973 \n",
       "  197.258,144.803 200.725,142.101 204.589,139.881 208.776,138.156 213.216,136.926 217.841,136.186 222.585,135.917 227.383,136.091 232.174,136.671 236.899,137.607 \n",
       "  241.501,138.843 245.942,140.335 250.2,142.043 254.254,143.925 258.086,145.943 261.686,148.063 265.047,150.256 268.167,152.494 271.049,154.757 273.701,157.027 \n",
       "  276.135,159.291 278.358,161.537 280.379,163.759 282.208,165.95 283.857,168.106 285.337,170.223 286.658,172.298 287.831,174.329 288.866,176.315 289.773,178.256 \n",
       "  290.562,180.153 291.241,182.006 291.819,183.815 292.303,185.582 292.7,187.307 293.016,188.992 293.257,190.638 293.428,192.246 293.533,193.817 293.577,195.352 \n",
       "  293.561,196.853 293.489,198.32 293.362,199.754 293.183,201.156 292.953,202.529 292.673,203.871 292.344,205.185 291.965,206.471 291.536,207.73 291.056,208.962 \n",
       "  290.523,210.167 289.937,211.347 289.296,212.502 288.596,213.631 287.837,214.735 287.014,215.815 286.125,216.868 285.166,217.897 284.132,218.899 283.019,219.874 \n",
       "  281.822,220.82 280.537,221.737 279.158,222.622 277.679,223.473 276.095,224.287 274.399,225.062 272.583,225.793 270.641,226.476 268.564,227.106 266.345,227.677 \n",
       "  263.977,228.18 261.454,228.605 258.77,228.944 255.919,229.184 252.894,229.312 249.692,229.314 246.316,229.178 242.764,228.885 239.03,228.408 235.114,227.721 \n",
       "  231.024,226.797 226.773,225.609 222.385,224.133 217.886,222.341 213.313,220.207 208.707,217.705 204.117,214.809 199.6,211.493 195.206,207.756 191.024,203.59 \n",
       "  187.149,198.994 183.672,193.989 180.679,188.611 178.252,182.917 176.468,176.981 175.4,170.896 175.115,164.775 175.674,158.746 177.089,152.948 179.337,147.498 \n",
       "  182.385,142.501 186.18,138.045 190.654,134.203 195.72,131.037 201.275,128.591 207.199,126.898 213.366,125.949 219.665,125.672 225.994,126.005 232.265,126.883 \n",
       "  238.4,128.235 244.337,129.984 250.028,132.051 255.437,134.351 260.538,136.819 265.32,139.411 269.779,142.082 273.916,144.795 277.737,147.516 281.25,150.221 \n",
       "  284.469,152.892 287.412,155.515 290.095,158.08 292.537,160.581 294.756,163.015 296.77,165.38 298.596,167.674 300.251,169.896 301.752,172.047 303.114,174.129 \n",
       "  304.353,176.145 305.483,178.097 306.515,179.986 307.462,181.814 308.334,183.583 309.143,185.296 309.899,186.954 310.61,188.559 311.286,190.114 311.936,191.619 \n",
       "  312.564,193.076 313.177,194.486 313.782,195.851 314.384,197.169 314.99,198.444 315.604,199.675 316.232,200.864 316.879,202.009 317.548,203.112 318.246,204.172 \n",
       "  318.975,205.189 319.741,206.162 320.548,207.091 321.401,207.975 322.306,208.814 323.266,209.604 324.287,210.346 325.374,211.037 326.532,211.674 327.766,212.255 \n",
       "  329.083,212.777 330.488,213.236 331.988,213.629 333.589,213.95 335.298,214.196 337.122,214.36 339.068,214.436 341.144,214.416 343.356,214.292 345.71,214.056 \n",
       "  348.214,213.697 350.874,213.205 353.696,212.57 356.683,211.779 359.834,210.821 363.159,209.679 366.661,208.334 370.339,206.769 374.189,204.968 378.198,202.918 \n",
       "  382.35,200.607 386.625,198.022 390.995,195.154 395.428,191.995 399.888,188.538 404.336,184.789 408.709,180.76 412.936,176.469 416.942,171.947 420.651,167.237 \n",
       "  423.984,162.393 426.861,157.484 429.2,152.588 430.915,147.796 431.923,143.216 432.166,138.964 431.624,135.128 430.293,131.775 428.181,128.961 425.318,126.732 \n",
       "  421.744,125.12 417.518,124.146 412.713,123.818 407.42,124.133 401.748,125.061 395.825,126.494 389.76,128.346 383.65,130.542 377.58,133.006 371.624,135.665 \n",
       "  365.845,138.448 360.294,141.286 355.01,144.121 350.016,146.93 345.323,149.688 340.94,152.373 336.868,154.974 333.104,157.48 329.639,159.89 326.46,162.205 \n",
       "  323.551,164.434 320.898,166.577 318.483,168.642 316.289,170.636 314.299,172.563 312.496,174.431 310.864,176.244 309.388,178.007 308.054,179.726 306.844,181.405 \n",
       "  305.747,183.047 304.75,184.655 303.841,186.231 303.012,187.779 302.251,189.298 301.548,190.792 300.894,192.262 300.282,193.706 299.702,195.128 299.149,196.526 \n",
       "  298.617,197.902 298.1,199.257 297.594,200.59 297.093,201.902 296.591,203.193 296.085,204.463 295.569,205.712 295.039,206.941 294.492,208.149 293.924,209.338 \n",
       "  293.331,210.506 292.71,211.654 292.055,212.782 291.363,213.89 290.63,214.977 289.851,216.045 289.024,217.091 288.142,218.117 287.202,219.121 286.199,220.103 \n",
       "  285.127,221.062 283.981,221.998 282.755,222.908 281.443,223.79 280.04,224.645 278.538,225.468 276.931,226.258 275.211,227.011 273.372,227.723 271.405,228.388 \n",
       "  269.303,229.002 267.058,229.558 264.662,230.048 262.111,230.465 259.394,230.797 256.502,231.033 253.427,231.159 250.164,231.16 246.71,231.017 243.065,230.711 \n",
       "  239.233,230.219 235.218,229.517 231.029,228.58 226.676,227.379 222.177,225.895 217.561,224.093 212.856,221.929 208.104,219.367 203.354,216.381 198.668,212.952 \n",
       "  194.114,209.071 189.772,204.738 185.732,199.961 182.093,194.757 178.951,189.161 176.392,183.248 174.519,177.102 173.413,170.817 173.133,164.495 173.719,158.245 \n",
       "  175.189,152.189 177.54,146.454 180.746,141.179 184.761,136.51 189.494,132.546 194.824,129.325 200.634,126.871 206.811,125.188 213.241,124.256 219.814,124.036 \n",
       "  226.419,124.466 232.947,125.463 239.304,126.932 245.44,128.796 251.309,130.974 256.875,133.39 262.113,135.979 267.009,138.683 271.558,141.454 275.766,144.251 \n",
       "  279.649,147.042 283.222,149.804 286.495,152.521 289.485,155.183 292.211,157.781 294.694,160.309 296.95,162.762 298.998,165.138 300.858,167.437 302.546,169.659 \n",
       "  304.082,171.807 305.481,173.883 306.758,175.889 307.928,177.826 309.003,179.698 309.997,181.506 310.921,183.252 311.788,184.94 312.607,186.57 313.389,188.145 \n",
       "  314.141,189.667 314.87,191.135 315.584,192.553 316.291,193.92 316.996,195.237 317.707,196.506 318.431,197.728 319.173,198.902 319.938,200.028 320.731,201.107 \n",
       "  321.557,202.137 322.422,203.119 323.33,204.05 324.288,204.932 325.3,205.761 326.372,206.538 327.509,207.259 328.717,207.922 330,208.524 331.365,209.063 \n",
       "  332.818,209.534 334.364,209.934 336.01,210.257 337.762,210.5 339.627,210.656 341.611,210.72 343.72,210.683 345.962,210.538 348.342,210.275 350.866,209.885 \n",
       "  353.538,209.358 356.361,208.683 359.34,207.848 362.475,206.84 365.767,205.649 369.206,204.265 372.794,202.669 376.527,200.843 380.394,198.77 384.381,196.441 \n",
       "  388.462,193.849 392.608,190.99 396.783,187.866 400.944,184.48 405.04,180.841 409.017,176.962 412.82,172.863 416.384,168.587 419.624,164.183 422.459,159.709 \n",
       "  424.816,155.226 426.631,150.804 427.845,146.521 428.407,142.459 428.274,138.709 427.408,135.365 425.803,132.511 423.491,130.188 420.517,128.423 416.935,127.232 \n",
       "  412.808,126.615 408.205,126.559 403.208,127.039 397.904,128.016 392.392,129.437 386.773,131.234 381.135,133.323 375.552,135.634 370.086,138.104 364.791,140.678 \n",
       "  359.709,143.309 354.871,145.954 350.297,148.579 345.998,151.156 341.984,153.673 338.253,156.121 334.8,158.494 331.618,160.79 328.697,163.006 326.027,165.144 \n",
       "  323.595,167.209 321.384,169.208 319.38,171.143 317.567,173.021 315.931,174.845 314.458,176.62 313.133,178.351 311.944,180.04 310.878,181.691 309.924,183.308 \n",
       "  309.068,184.892 308.302,186.446 307.616,187.97 307.003,189.468 306.454,190.939 305.963,192.386 305.521,193.808 305.123,195.207 304.762,196.583 304.432,197.935 \n",
       "  304.13,199.265 303.853,200.573 303.596,201.86 303.355,203.124 303.128,204.368 302.912,205.591 302.703,206.792 302.5,207.974 302.3,209.135 302.102,210.276 \n",
       "  301.903,211.397 301.701,212.499 301.495,213.582 301.282,214.646 301.062,215.692 300.832,216.72 300.591,217.731 300.337,218.724 300.069,219.7 299.785,220.66 \n",
       "  299.482,221.603 299.16,222.531 298.815,223.444 298.447,224.342 298.053,225.225 297.63,226.095 297.177,226.95 296.69,227.793 296.166,228.622 295.603,229.439 \n",
       "  294.998,230.243 294.345,231.035 293.643,231.815 292.887,232.583 292.072,233.339 291.194,234.083 290.247,234.815 289.226,235.534 288.125,236.239 286.938,236.929 \n",
       "  285.658,237.604 284.277,238.263 282.787,238.903 281.18,239.522 279.448,240.117 277.581,240.684 275.568,241.217 273.4,241.713 271.066,242.164 268.559,242.563 \n",
       "  265.863,242.902 262.965,243.169 259.851,243.352 256.512,243.436 252.937,243.401 249.12,243.226 245.056,242.885 240.741,242.353 236.174,241.597 231.356,240.586 \n",
       "  226.304,239.293 221.028,237.664 215.547,235.643 209.892,233.178 204.113,230.222 198.272,226.735 192.451,222.682 186.743,218.034 181.26,212.766 176.123,206.862 \n",
       "  171.444,200.351 167.388,193.288 164.117,185.747 161.768,177.831 160.451,169.669 160.253,161.42 161.231,153.266 163.422,145.419 166.834,138.118 171.403,131.591 \n",
       "  176.987,125.967 183.439,121.331 190.607,117.735 198.333,115.2 206.449,113.711 214.782,113.221 223.153,113.653 231.393,114.883 239.404,116.752 247.1,119.124 \n",
       "  254.416,121.877 261.307,124.901 267.746,128.099 273.728,131.386 279.266,134.692 284.365,137.972 289.043,141.195 293.324,144.336 297.233,147.376 300.795,150.301 \n",
       "  304.037,153.105 306.986,155.787 309.672,158.347 312.121,160.788 314.356,163.115 316.402,165.33 318.281,167.439 320.015,169.446 321.622,171.355 323.124,173.17 \n",
       "  324.537,174.895 325.879,176.535 327.161,178.091 328.397,179.566 329.599,180.963 330.779,182.281 331.947,183.524 333.115,184.692 334.293,185.786 335.491,186.807 \n",
       "  336.714,187.754 337.971,188.626 339.268,189.421 340.61,190.139 342.005,190.776 343.458,191.332 344.974,191.804 346.559,192.19 348.216,192.485 349.95,192.686 \n",
       "  351.764,192.788 353.66,192.787 355.64,192.678 357.705,192.456 359.856,192.117 362.092,191.654 364.412,191.064 366.813,190.341 369.289,189.481 371.835,188.477 \n",
       "  374.444,187.324 377.105,186.019 379.806,184.559 382.531,182.946 385.263,181.181 387.98,179.269 390.66,177.214 393.277,175.025 395.807,172.714 398.221,170.296 \n",
       "  400.48,167.793 402.548,165.227 404.392,162.623 405.979,160.01 407.281,157.418 408.272,154.879 408.928,152.429 409.226,150.108 409.149,147.954 408.682,146.01 \n",
       "  407.831,144.298 406.604,142.843 405.016,141.66 403.087,140.761 400.841,140.154 398.308,139.837 395.522,139.807 392.525,140.054 389.362,140.56 386.079,141.303 \n",
       "  382.716,142.255 379.314,143.388 375.91,144.676 372.538,146.095 369.227,147.62 366.002,149.228 362.887,150.897 359.899,152.607 357.053,154.336 354.359,156.07 \n",
       "  351.827,157.803 349.457,159.527 347.254,161.235 345.216,162.922 343.343,164.581 341.634,166.211 340.085,167.809 338.692,169.374 337.448,170.907 336.35,172.406 \n",
       "  335.39,173.871 334.563,175.302 333.864,176.698 333.287,178.06 332.828,179.386 332.482,180.677 332.244,181.933 332.11,183.152 332.077,184.334 332.14,185.478 \n",
       "  332.297,186.583 332.546,187.647 332.886,188.67 333.316,189.651 333.836,190.589 334.445,191.48 335.143,192.324 335.929,193.117 336.805,193.857 337.769,194.54 \n",
       "  338.823,195.163 339.967,195.721 341.204,196.213 342.537,196.635 343.969,196.981 345.502,197.248 347.138,197.431 348.878,197.524 350.725,197.522 352.68,197.417 \n",
       "  354.744,197.205 356.917,196.877 359.195,196.431 361.58,195.857 364.073,195.145 366.672,194.286 369.374,193.273 372.172,192.098 375.055,190.757 378.012,189.246 \n",
       "  381.026,187.562 384.079,185.703 387.149,183.67 390.213,181.464 393.244,179.087 396.217,176.547 399.098,173.862 401.843,171.05 404.408,168.132 406.753,165.136 \n",
       "  408.836,162.093 410.621,159.036 412.07,156.005 413.149,153.044 413.825,150.2 414.066,147.524 413.847,145.071 413.163,142.883 412.026,140.988 410.452,139.407 \n",
       "  408.461,138.157 406.082,137.247 403.345,136.682 400.288,136.462 396.953,136.578 393.386,137.018 389.642,137.764 385.777,138.787 381.85,140.038 377.907,141.48 \n",
       "  373.994,143.079 370.147,144.803 366.399,146.623 362.777,148.511 359.305,150.442 355.998,152.394 352.869,154.345 349.928,156.285 347.179,158.207 344.621,160.103 \n",
       "  342.254,161.969 340.075,163.798 338.081,165.589 336.268,167.34 334.628,169.05 333.156,170.721 331.842,172.354 330.679,173.949 329.659,175.507 328.775,177.029 \n",
       "  328.019,178.515 327.386,179.965 326.868,181.382 326.459,182.764 326.155,184.112 325.95,185.426 325.838,186.706 325.814,187.95 325.876,189.158 326.023,190.332 \n",
       "  326.253,191.469 326.565,192.57 326.958,193.634 327.431,194.66 327.983,195.645 328.615,196.587 329.324,197.485 330.113,198.336 330.98,199.136 331.926,199.882 \n",
       "  332.958,200.574 334.077,201.209 335.287,201.783 336.592,202.292 337.993,202.733 339.495,203.1 341.101,203.389 342.816,203.595 344.642,203.71 346.58,203.732 \n",
       "  348.636,203.651 350.817,203.459 353.127,203.148 355.569,202.708 358.145,202.131 360.853,201.407 363.693,200.527 366.659,199.482 369.747,198.262 372.949,196.857 \n",
       "  376.258,195.257 379.662,193.454 383.146,191.444 386.688,189.221 390.263,186.778 393.843,184.114 397.394,181.233 400.876,178.147 404.247,174.874 407.458,171.438 \n",
       "  410.459,167.869 413.193,164.205 415.597,160.487 417.61,156.767 419.188,153.115 420.283,149.591 420.857,146.252 420.882,143.15 420.343,140.334 419.232,137.847 \n",
       "  417.557,135.732 415.333,134.026 412.587,132.761 409.358,131.969 405.697,131.665 401.684,131.803 397.394,132.346 392.896,133.26 388.259,134.506 383.544,136.041 \n",
       "  378.813,137.818 374.122,139.786 369.523,141.89 365.067,144.072 360.785,146.303 356.696,148.563 352.819,150.828 349.164,153.078 345.741,155.298 342.553,157.474 \n",
       "  339.601,159.601 336.881,161.672 334.383,163.689 332.097,165.655 330.015,167.568 328.128,169.43 326.425,171.243 324.895,173.009 323.525,174.731 322.307,176.41 \n",
       "  321.231,178.051 320.286,179.653 319.463,181.22 318.755,182.752 318.152,184.253 317.647,185.722 317.231,187.161 316.9,188.57 316.649,189.95 316.471,191.301 \n",
       "  316.362,192.624 316.318,193.918 316.336,195.183 316.412,196.419 316.544,197.625 316.732,198.802 316.974,199.949 317.269,201.066 317.617,202.152 318.018,203.205 \n",
       "  318.472,204.227 318.979,205.214 319.54,206.166 320.158,207.082 320.834,207.961 321.571,208.801 322.371,209.601 323.238,210.359 324.176,211.073 325.187,211.74 \n",
       "  326.275,212.358 327.446,212.924 328.703,213.434 330.053,213.886 331.501,214.274 333.053,214.595 334.716,214.844 336.495,215.013 338.398,215.097 340.43,215.089 \n",
       "  342.599,214.98 344.912,214.762 347.374,214.427 349.982,213.967 352.751,213.369 355.693,212.616 358.813,211.692 362.118,210.583 365.606,209.273 369.275,207.747 \n",
       "  373.116,205.992 377.119,203.993 381.269,201.735 385.547,199.206 389.93,196.391 394.392,193.279 398.902,189.867 403.41,186.158 407.856,182.157 412.173,177.879 \n",
       "  416.293,173.354 420.14,168.622 423.635,163.737 426.693,158.766 429.227,153.787 431.142,148.891 432.355,144.183 432.818,139.771 432.49,135.748 431.35,132.195 \n",
       "  429.398,129.18 426.653,126.758 423.157,124.974 418.971,123.858 414.177,123.429 408.881,123.673 403.201,124.505 397.252,125.855 391.139,127.652 384.958,129.821 \n",
       "  378.797,132.284 372.738,134.957 366.851,137.756 361.196,140.605 355.803,143.47 350.698,146.316 345.899,149.11 341.415,151.831 337.248,154.463 333.394,157.002 \n",
       "  \n",
       "  \"/>\n",
       "<polygon clip-path=\"url(#clip3601)\" points=\"\n",
       "361.353,62.931 476.202,62.931 476.202,32.691 361.353,32.691 \n",
       "  \" fill=\"#ffffff\" fill-rule=\"evenodd\" fill-opacity=\"1\"/>\n",
       "<polyline clip-path=\"url(#clip3601)\" style=\"stroke:#000000; stroke-width:1; stroke-opacity:1; fill:none\" points=\"\n",
       "  361.353,62.931 476.202,62.931 476.202,32.691 361.353,32.691 361.353,62.931 \n",
       "  \"/>\n",
       "<g clip-path=\"url(#clip3601)\">\n",
       "<text style=\"fill:#000000; fill-opacity:1; font-family:Arial,Helvetica Neue,Helvetica,sans-serif; font-size:12px; text-anchor:start;\" transform=\"rotate(0, 409.353, 52.311)\" x=\"409.353\" y=\"52.311\">(u1,u2,u3)</text>\n",
       "</g>\n",
       "</svg>\n"
      ]
     },
     "execution_count": 36,
     "metadata": {},
     "output_type": "execute_result"
    }
   ],
   "source": [
    "function lorenz(du,u,p,t)\n",
    " du[1] = 10.0*(u[2]-u[1])\n",
    " du[2] = u[1]*(28.0-u[3]) - u[2]\n",
    " du[3] = u[1]*u[2] - (8/3)*u[3]\n",
    "end\n",
    "\n",
    "u0 = [1.0;0.0;0.0] ; tspan = (0.0,100.0);\n",
    "prob = ODEProblem(lorenz,u0,tspan)\n",
    "sol = solve(prob)\n",
    "Plots.plot(sol,vars=(1,2,3))"
   ]
  },
  {
   "cell_type": "markdown",
   "metadata": {
    "slideshow": {
     "slide_type": "skip"
    }
   },
   "source": [
    "### Add a bit of interaction\n",
    "\n",
    "<center><img src=\"https://imgs.xkcd.com/comics/mac_pc.png\"/></center>"
   ]
  },
  {
   "cell_type": "code",
   "execution_count": 37,
   "metadata": {
    "scrolled": true,
    "slideshow": {
     "slide_type": "skip"
    }
   },
   "outputs": [
    {
     "name": "stderr",
     "output_type": "stream",
     "text": [
      "┌ Info: Precompiling Interact [c601a237-2ae4-5e1e-952c-7a85b0c7eef1]\n",
      "└ @ Base loading.jl:1192\n"
     ]
    },
    {
     "data": {
      "text/html": [
       "    <script class='js-collapse-script'>\n",
       "        var curMatch =\n",
       "            window.location.href\n",
       "            .match(/(.*?)\\/notebooks\\/.*\\.ipynb/);\n",
       "\n",
       "        curMatch = curMatch ||\n",
       "            window.location.href\n",
       "            .match(/(.*?)\\/apps\\/.*\\.ipynb/);\n",
       "\n",
       "        if ( curMatch ) {\n",
       "            $('head').append('<base href=\"' + curMatch[1] + '/\">');\n",
       "        }\n",
       "    </script>\n"
      ],
      "text/plain": [
       "HTML{String}(\"    <script class='js-collapse-script'>\\n        var curMatch =\\n            window.location.href\\n            .match(/(.*?)\\\\/notebooks\\\\/.*\\\\.ipynb/);\\n\\n        curMatch = curMatch ||\\n            window.location.href\\n            .match(/(.*?)\\\\/apps\\\\/.*\\\\.ipynb/);\\n\\n        if ( curMatch ) {\\n            \\$('head').append('<base href=\\\"' + curMatch[1] + '/\\\">');\\n        }\\n    </script>\\n\")"
      ]
     },
     "metadata": {},
     "output_type": "display_data"
    },
    {
     "data": {
      "text/html": [
       "<script class='js-collapse-script' src='/assetserver/22e44be54a4cfcbf0b15a39fb64a147611b3d015-assets/webio/dist/bundle.js'></script>"
      ],
      "text/plain": [
       "HTML{String}(\"<script class='js-collapse-script' src='/assetserver/22e44be54a4cfcbf0b15a39fb64a147611b3d015-assets/webio/dist/bundle.js'></script>\")"
      ]
     },
     "metadata": {},
     "output_type": "display_data"
    },
    {
     "data": {
      "text/html": [
       "<script class='js-collapse-script' src='/assetserver/22e44be54a4cfcbf0b15a39fb64a147611b3d015-assets/providers/ijulia_setup.js'></script>"
      ],
      "text/plain": [
       "HTML{String}(\"<script class='js-collapse-script' src='/assetserver/22e44be54a4cfcbf0b15a39fb64a147611b3d015-assets/providers/ijulia_setup.js'></script>\")"
      ]
     },
     "metadata": {},
     "output_type": "display_data"
    },
    {
     "data": {
      "text/html": [
       "  <script class='js-collapse-script'>\n",
       "    $('.js-collapse-script').parent('.output_subarea').css('padding', '0');\n",
       "  </script>\n"
      ],
      "text/plain": [
       "HTML{String}(\"  <script class='js-collapse-script'>\\n    \\$('.js-collapse-script').parent('.output_subarea').css('padding', '0');\\n  </script>\\n\")"
      ]
     },
     "metadata": {},
     "output_type": "display_data"
    }
   ],
   "source": [
    "#Pkg.add(\"IJulia\") \n",
    "#Pkg.add(\"Interact\") \n",
    "#Pkg.add(\"Plots\") \n",
    "\n",
    "using Interact #load library\n",
    "using Plots\n",
    "using IJulia"
   ]
  },
  {
   "cell_type": "code",
   "execution_count": 38,
   "metadata": {
    "slideshow": {
     "slide_type": "skip"
    }
   },
   "outputs": [
    {
     "data": {
      "text/html": [
       "<div class='tex2jax_ignore interactbulma'>\n",
       "<div class='display:none'></div><unsafe-script style='display:none'>\n",
       "WebIO.mount(this.previousSibling,{&quot;props&quot;:{},&quot;nodeType&quot;:&quot;DOM&quot;,&quot;type&quot;:&quot;node&quot;,&quot;instanceArgs&quot;:{&quot;namespace&quot;:&quot;html&quot;,&quot;tag&quot;:&quot;div&quot;},&quot;children&quot;:[{&quot;props&quot;:{&quot;className&quot;:&quot;field&quot;},&quot;nodeType&quot;:&quot;DOM&quot;,&quot;type&quot;:&quot;node&quot;,&quot;instanceArgs&quot;:{&quot;namespace&quot;:&quot;html&quot;,&quot;tag&quot;:&quot;div&quot;},&quot;children&quot;:[{&quot;props&quot;:{},&quot;nodeType&quot;:&quot;Scope&quot;,&quot;type&quot;:&quot;node&quot;,&quot;instanceArgs&quot;:{&quot;imports&quot;:{&quot;data&quot;:[{&quot;name&quot;:&quot;knockout&quot;,&quot;type&quot;:&quot;js&quot;,&quot;url&quot;:&quot;/assetserver/380a542d6f0e315dbf6b588d6d248de9bcff9d25-knockout.js&quot;},{&quot;name&quot;:&quot;knockout_punches&quot;,&quot;type&quot;:&quot;js&quot;,&quot;url&quot;:&quot;/assetserver/f8b810a10b141aeb8a025847af5dfac4622d74f5-knockout_punches.js&quot;},{&quot;name&quot;:null,&quot;type&quot;:&quot;js&quot;,&quot;url&quot;:&quot;/assetserver/dc625d6cd2e4a570927db080db7a0efd5447963b-all.js&quot;},{&quot;name&quot;:null,&quot;type&quot;:&quot;css&quot;,&quot;url&quot;:&quot;/assetserver/57449b9420340723b63cf8f54ee5fa61d9b54ac7-style.css&quot;},{&quot;name&quot;:null,&quot;type&quot;:&quot;css&quot;,&quot;url&quot;:&quot;/assetserver/1733cfda9084c68181bfadc5ac7b452737e80088-main.css&quot;}],&quot;type&quot;:&quot;async_block&quot;},&quot;id&quot;:&quot;knockout-component-1f4671df-a073-49fd-bcbe-8ddb397770d1&quot;,&quot;handlers&quot;:{&quot;_promises&quot;:{&quot;importsLoaded&quot;:[function (ko, koPunches) {\n",
       "    ko.punches.enableAll();\n",
       "    ko.bindingHandlers.numericValue = {\n",
       "        init : function(element, valueAccessor, allBindings, data, context) {\n",
       "            var stringified = ko.observable(ko.unwrap(valueAccessor()));\n",
       "            stringified.subscribe(function(value) {\n",
       "                var val = parseFloat(value);\n",
       "                if (!isNaN(val)) {\n",
       "                    valueAccessor()(val);\n",
       "                }\n",
       "            })\n",
       "            valueAccessor().subscribe(function(value) {\n",
       "                var str = JSON.stringify(value);\n",
       "                if ((str == &quot;0&quot;) &amp;&amp; ([&quot;-0&quot;, &quot;-0.&quot;].indexOf(stringified()) &gt;= 0))\n",
       "                     return;\n",
       "                 if ([&quot;null&quot;, &quot;&quot;].indexOf(str) &gt;= 0)\n",
       "                     return;\n",
       "                stringified(str);\n",
       "            })\n",
       "            ko.applyBindingsToNode(element, { value: stringified, valueUpdate: allBindings.get(&#39;valueUpdate&#39;)}, context);\n",
       "        }\n",
       "    };\n",
       "    var json_data = JSON.parse(&quot;{\\&quot;options_js\\&quot;:[{\\&quot;key\\&quot;:\\&quot;pi/4\\&quot;,\\&quot;val\\&quot;:1,\\&quot;id\\&quot;:\\&quot;idBr3GCOTe\\&quot;},{\\&quot;key\\&quot;:\\&quot;π/2\\&quot;,\\&quot;val\\&quot;:2,\\&quot;id\\&quot;:\\&quot;idDsau5BEg\\&quot;},{\\&quot;key\\&quot;:\\&quot;3π/4\\&quot;,\\&quot;val\\&quot;:3,\\&quot;id\\&quot;:\\&quot;idmb1zi3yv\\&quot;},{\\&quot;key\\&quot;:\\&quot;π\\&quot;,\\&quot;val\\&quot;:4,\\&quot;id\\&quot;:\\&quot;idzm5MqY7V\\&quot;}],\\&quot;index\\&quot;:1}&quot;);\n",
       "    var self = this;\n",
       "    function AppViewModel() {\n",
       "        for (var key in json_data) {\n",
       "            var el = json_data[key];\n",
       "            this[key] = Array.isArray(el) ? ko.observableArray(el) : ko.observable(el);\n",
       "        }\n",
       "        \n",
       "        \n",
       "        [this[&quot;options_js&quot;].subscribe((function (val){!(this.valueFromJulia[&quot;options_js&quot;]) ? (WebIO.setval({&quot;name&quot;:&quot;options_js&quot;,&quot;scope&quot;:&quot;knockout-component-1f4671df-a073-49fd-bcbe-8ddb397770d1&quot;,&quot;id&quot;:&quot;ob_05&quot;,&quot;type&quot;:&quot;observable&quot;},val)) : undefined; return this.valueFromJulia[&quot;options_js&quot;]=false}),self),this[&quot;index&quot;].subscribe((function (val){!(this.valueFromJulia[&quot;index&quot;]) ? (WebIO.setval({&quot;name&quot;:&quot;index&quot;,&quot;scope&quot;:&quot;knockout-component-1f4671df-a073-49fd-bcbe-8ddb397770d1&quot;,&quot;id&quot;:&quot;ob_04&quot;,&quot;type&quot;:&quot;observable&quot;},val)) : undefined; return this.valueFromJulia[&quot;index&quot;]=false}),self)]\n",
       "        \n",
       "    }\n",
       "    self.model = new AppViewModel();\n",
       "    self.valueFromJulia = {};\n",
       "    for (var key in json_data) {\n",
       "        self.valueFromJulia[key] = false;\n",
       "    }\n",
       "    ko.applyBindings(self.model, self.dom);\n",
       "}\n",
       "]},&quot;options_js&quot;:[(function (val){return (val!=this.model[&quot;options_js&quot;]()) ? (this.valueFromJulia[&quot;options_js&quot;]=true, this.model[&quot;options_js&quot;](val)) : undefined})],&quot;index&quot;:[(function (val){return (val!=this.model[&quot;index&quot;]()) ? (this.valueFromJulia[&quot;index&quot;]=true, this.model[&quot;index&quot;](val)) : undefined})]},&quot;systemjs_options&quot;:null,&quot;observables&quot;:{&quot;options_js&quot;:{&quot;sync&quot;:false,&quot;id&quot;:&quot;ob_05&quot;,&quot;value&quot;:[{&quot;key&quot;:&quot;pi/4&quot;,&quot;val&quot;:1,&quot;id&quot;:&quot;idBr3GCOTe&quot;},{&quot;key&quot;:&quot;π/2&quot;,&quot;val&quot;:2,&quot;id&quot;:&quot;idDsau5BEg&quot;},{&quot;key&quot;:&quot;3π/4&quot;,&quot;val&quot;:3,&quot;id&quot;:&quot;idmb1zi3yv&quot;},{&quot;key&quot;:&quot;π&quot;,&quot;val&quot;:4,&quot;id&quot;:&quot;idzm5MqY7V&quot;}]},&quot;index&quot;:{&quot;sync&quot;:true,&quot;id&quot;:&quot;ob_04&quot;,&quot;value&quot;:1}}},&quot;children&quot;:[{&quot;props&quot;:{&quot;attributes&quot;:{&quot;class&quot;:&quot;interact-flex-row&quot;}},&quot;nodeType&quot;:&quot;DOM&quot;,&quot;type&quot;:&quot;node&quot;,&quot;instanceArgs&quot;:{&quot;namespace&quot;:&quot;html&quot;,&quot;tag&quot;:&quot;div&quot;},&quot;children&quot;:[{&quot;props&quot;:{&quot;attributes&quot;:{&quot;class&quot;:&quot;interact-flex-row-left&quot;}},&quot;nodeType&quot;:&quot;DOM&quot;,&quot;type&quot;:&quot;node&quot;,&quot;instanceArgs&quot;:{&quot;namespace&quot;:&quot;html&quot;,&quot;tag&quot;:&quot;div&quot;},&quot;children&quot;:[{&quot;props&quot;:{&quot;className&quot;:&quot;interact &quot;,&quot;style&quot;:{&quot;padding&quot;:&quot;5px 10px 0px 10px&quot;}},&quot;nodeType&quot;:&quot;DOM&quot;,&quot;type&quot;:&quot;node&quot;,&quot;instanceArgs&quot;:{&quot;namespace&quot;:&quot;html&quot;,&quot;tag&quot;:&quot;label&quot;},&quot;children&quot;:[&quot;freq1&quot;]}]},{&quot;props&quot;:{&quot;attributes&quot;:{&quot;class&quot;:&quot;interact-flex-row-center&quot;}},&quot;nodeType&quot;:&quot;DOM&quot;,&quot;type&quot;:&quot;node&quot;,&quot;instanceArgs&quot;:{&quot;namespace&quot;:&quot;html&quot;,&quot;tag&quot;:&quot;div&quot;},&quot;children&quot;:[{&quot;props&quot;:{&quot;attributes&quot;:{&quot;data-bind&quot;:&quot;foreach : options_js&quot;},&quot;className&quot;:&quot;field is-grouped has-addons is-oneline is-centered&quot;},&quot;nodeType&quot;:&quot;DOM&quot;,&quot;type&quot;:&quot;node&quot;,&quot;instanceArgs&quot;:{&quot;namespace&quot;:&quot;html&quot;,&quot;tag&quot;:&quot;div&quot;},&quot;children&quot;:[{&quot;props&quot;:{&quot;attributes&quot;:{&quot;data-bind&quot;:&quot;click: function () {$root.index(val)}, css: {&#39;is-primary is-selected&#39; : $root.index() == val, &#39;button is-fullwidth&#39; : true}&quot;}},&quot;nodeType&quot;:&quot;DOM&quot;,&quot;type&quot;:&quot;node&quot;,&quot;instanceArgs&quot;:{&quot;namespace&quot;:&quot;html&quot;,&quot;tag&quot;:&quot;button&quot;},&quot;children&quot;:[{&quot;props&quot;:{&quot;attributes&quot;:{&quot;data-bind&quot;:&quot;text : key&quot;}},&quot;nodeType&quot;:&quot;DOM&quot;,&quot;type&quot;:&quot;node&quot;,&quot;instanceArgs&quot;:{&quot;namespace&quot;:&quot;html&quot;,&quot;tag&quot;:&quot;label&quot;},&quot;children&quot;:[]}]}]}]},{&quot;props&quot;:{&quot;attributes&quot;:{&quot;class&quot;:&quot;interact-flex-row-right&quot;}},&quot;nodeType&quot;:&quot;DOM&quot;,&quot;type&quot;:&quot;node&quot;,&quot;instanceArgs&quot;:{&quot;namespace&quot;:&quot;html&quot;,&quot;tag&quot;:&quot;div&quot;},&quot;children&quot;:[{&quot;props&quot;:{},&quot;nodeType&quot;:&quot;DOM&quot;,&quot;type&quot;:&quot;node&quot;,&quot;instanceArgs&quot;:{&quot;namespace&quot;:&quot;html&quot;,&quot;tag&quot;:&quot;div&quot;},&quot;children&quot;:[]}]}]}]}]},{&quot;props&quot;:{&quot;className&quot;:&quot;field&quot;},&quot;nodeType&quot;:&quot;DOM&quot;,&quot;type&quot;:&quot;node&quot;,&quot;instanceArgs&quot;:{&quot;namespace&quot;:&quot;html&quot;,&quot;tag&quot;:&quot;div&quot;},&quot;children&quot;:[{&quot;props&quot;:{},&quot;nodeType&quot;:&quot;Scope&quot;,&quot;type&quot;:&quot;node&quot;,&quot;instanceArgs&quot;:{&quot;imports&quot;:{&quot;data&quot;:[{&quot;name&quot;:&quot;knockout&quot;,&quot;type&quot;:&quot;js&quot;,&quot;url&quot;:&quot;/assetserver/380a542d6f0e315dbf6b588d6d248de9bcff9d25-knockout.js&quot;},{&quot;name&quot;:&quot;knockout_punches&quot;,&quot;type&quot;:&quot;js&quot;,&quot;url&quot;:&quot;/assetserver/f8b810a10b141aeb8a025847af5dfac4622d74f5-knockout_punches.js&quot;},{&quot;name&quot;:null,&quot;type&quot;:&quot;js&quot;,&quot;url&quot;:&quot;/assetserver/dc625d6cd2e4a570927db080db7a0efd5447963b-all.js&quot;},{&quot;name&quot;:null,&quot;type&quot;:&quot;css&quot;,&quot;url&quot;:&quot;/assetserver/57449b9420340723b63cf8f54ee5fa61d9b54ac7-style.css&quot;},{&quot;name&quot;:null,&quot;type&quot;:&quot;css&quot;,&quot;url&quot;:&quot;/assetserver/1733cfda9084c68181bfadc5ac7b452737e80088-main.css&quot;}],&quot;type&quot;:&quot;async_block&quot;},&quot;id&quot;:&quot;knockout-component-e344e865-e7eb-4897-b365-a088f184901e&quot;,&quot;handlers&quot;:{&quot;formatted_vals&quot;:[(function (val){return (val!=this.model[&quot;formatted_vals&quot;]()) ? (this.valueFromJulia[&quot;formatted_vals&quot;]=true, this.model[&quot;formatted_vals&quot;](val)) : undefined})],&quot;_promises&quot;:{&quot;importsLoaded&quot;:[function (ko, koPunches) {\n",
       "    ko.punches.enableAll();\n",
       "    ko.bindingHandlers.numericValue = {\n",
       "        init : function(element, valueAccessor, allBindings, data, context) {\n",
       "            var stringified = ko.observable(ko.unwrap(valueAccessor()));\n",
       "            stringified.subscribe(function(value) {\n",
       "                var val = parseFloat(value);\n",
       "                if (!isNaN(val)) {\n",
       "                    valueAccessor()(val);\n",
       "                }\n",
       "            })\n",
       "            valueAccessor().subscribe(function(value) {\n",
       "                var str = JSON.stringify(value);\n",
       "                if ((str == &quot;0&quot;) &amp;&amp; ([&quot;-0&quot;, &quot;-0.&quot;].indexOf(stringified()) &gt;= 0))\n",
       "                     return;\n",
       "                 if ([&quot;null&quot;, &quot;&quot;].indexOf(str) &gt;= 0)\n",
       "                     return;\n",
       "                stringified(str);\n",
       "            })\n",
       "            ko.applyBindingsToNode(element, { value: stringified, valueUpdate: allBindings.get(&#39;valueUpdate&#39;)}, context);\n",
       "        }\n",
       "    };\n",
       "    var json_data = JSON.parse(&quot;{\\&quot;formatted_vals\\&quot;:[\\&quot;0.01\\&quot;,\\&quot;0.11\\&quot;,\\&quot;0.21\\&quot;,\\&quot;0.31\\&quot;,\\&quot;0.41\\&quot;,\\&quot;0.51\\&quot;,\\&quot;0.61\\&quot;,\\&quot;0.71\\&quot;,\\&quot;0.81\\&quot;,\\&quot;0.91\\&quot;,\\&quot;1.01\\&quot;,\\&quot;1.11\\&quot;,\\&quot;1.21\\&quot;,\\&quot;1.31\\&quot;,\\&quot;1.41\\&quot;,\\&quot;1.51\\&quot;,\\&quot;1.61\\&quot;,\\&quot;1.71\\&quot;,\\&quot;1.81\\&quot;,\\&quot;1.91\\&quot;,\\&quot;2.01\\&quot;,\\&quot;2.11\\&quot;,\\&quot;2.21\\&quot;,\\&quot;2.31\\&quot;,\\&quot;2.41\\&quot;,\\&quot;2.51\\&quot;,\\&quot;2.61\\&quot;,\\&quot;2.71\\&quot;,\\&quot;2.81\\&quot;,\\&quot;2.91\\&quot;,\\&quot;3.01\\&quot;,\\&quot;3.11\\&quot;,\\&quot;3.21\\&quot;,\\&quot;3.31\\&quot;,\\&quot;3.41\\&quot;,\\&quot;3.51\\&quot;,\\&quot;3.61\\&quot;,\\&quot;3.71\\&quot;,\\&quot;3.81\\&quot;,\\&quot;3.91\\&quot;,\\&quot;4.01\\&quot;,\\&quot;4.11\\&quot;,\\&quot;4.21\\&quot;,\\&quot;4.31\\&quot;,\\&quot;4.41\\&quot;,\\&quot;4.51\\&quot;,\\&quot;4.61\\&quot;,\\&quot;4.71\\&quot;,\\&quot;4.81\\&quot;,\\&quot;4.91\\&quot;,\\&quot;5.01\\&quot;,\\&quot;5.11\\&quot;,\\&quot;5.21\\&quot;,\\&quot;5.31\\&quot;,\\&quot;5.41\\&quot;,\\&quot;5.51\\&quot;,\\&quot;5.61\\&quot;,\\&quot;5.71\\&quot;,\\&quot;5.81\\&quot;,\\&quot;5.91\\&quot;,\\&quot;6.01\\&quot;,\\&quot;6.11\\&quot;,\\&quot;6.21\\&quot;,\\&quot;6.31\\&quot;,\\&quot;6.41\\&quot;,\\&quot;6.51\\&quot;,\\&quot;6.61\\&quot;,\\&quot;6.71\\&quot;,\\&quot;6.81\\&quot;,\\&quot;6.91\\&quot;,\\&quot;7.01\\&quot;,\\&quot;7.11\\&quot;,\\&quot;7.21\\&quot;,\\&quot;7.31\\&quot;,\\&quot;7.41\\&quot;,\\&quot;7.51\\&quot;,\\&quot;7.61\\&quot;,\\&quot;7.71\\&quot;,\\&quot;7.81\\&quot;,\\&quot;7.91\\&quot;,\\&quot;8.01\\&quot;,\\&quot;8.11\\&quot;,\\&quot;8.21\\&quot;,\\&quot;8.31\\&quot;,\\&quot;8.41\\&quot;,\\&quot;8.51\\&quot;,\\&quot;8.61\\&quot;,\\&quot;8.71\\&quot;,\\&quot;8.81\\&quot;,\\&quot;8.91\\&quot;,\\&quot;9.01\\&quot;,\\&quot;9.11\\&quot;,\\&quot;9.21\\&quot;,\\&quot;9.31\\&quot;,\\&quot;9.41\\&quot;,\\&quot;9.51\\&quot;,\\&quot;9.61\\&quot;,\\&quot;9.71\\&quot;,\\&quot;9.81\\&quot;,\\&quot;9.91\\&quot;,\\&quot;10.01\\&quot;,\\&quot;10.11\\&quot;,\\&quot;10.21\\&quot;,\\&quot;10.31\\&quot;,\\&quot;10.41\\&quot;,\\&quot;10.51\\&quot;,\\&quot;10.61\\&quot;,\\&quot;10.71\\&quot;,\\&quot;10.81\\&quot;,\\&quot;10.91\\&quot;,\\&quot;11.01\\&quot;,\\&quot;11.11\\&quot;,\\&quot;11.21\\&quot;,\\&quot;11.31\\&quot;,\\&quot;11.41\\&quot;,\\&quot;11.51\\&quot;,\\&quot;11.61\\&quot;,\\&quot;11.71\\&quot;,\\&quot;11.81\\&quot;,\\&quot;11.91\\&quot;,\\&quot;12.01\\&quot;,\\&quot;12.11\\&quot;,\\&quot;12.21\\&quot;,\\&quot;12.31\\&quot;,\\&quot;12.41\\&quot;,\\&quot;12.51\\&quot;],\\&quot;changes\\&quot;:0,\\&quot;formatted_value\\&quot;:\\&quot;6.21\\&quot;,\\&quot;index\\&quot;:63}&quot;);\n",
       "    var self = this;\n",
       "    function AppViewModel() {\n",
       "        for (var key in json_data) {\n",
       "            var el = json_data[key];\n",
       "            this[key] = Array.isArray(el) ? ko.observableArray(el) : ko.observable(el);\n",
       "        }\n",
       "        \n",
       "        \n",
       "        [this[&quot;formatted_vals&quot;].subscribe((function (val){!(this.valueFromJulia[&quot;formatted_vals&quot;]) ? (WebIO.setval({&quot;name&quot;:&quot;formatted_vals&quot;,&quot;scope&quot;:&quot;knockout-component-e344e865-e7eb-4897-b365-a088f184901e&quot;,&quot;id&quot;:&quot;ob_08&quot;,&quot;type&quot;:&quot;observable&quot;},val)) : undefined; return this.valueFromJulia[&quot;formatted_vals&quot;]=false}),self),this[&quot;changes&quot;].subscribe((function (val){!(this.valueFromJulia[&quot;changes&quot;]) ? (WebIO.setval({&quot;name&quot;:&quot;changes&quot;,&quot;scope&quot;:&quot;knockout-component-e344e865-e7eb-4897-b365-a088f184901e&quot;,&quot;id&quot;:&quot;ob_10&quot;,&quot;type&quot;:&quot;observable&quot;},val)) : undefined; return this.valueFromJulia[&quot;changes&quot;]=false}),self),this[&quot;formatted_value&quot;].subscribe((function (val){!(this.valueFromJulia[&quot;formatted_value&quot;]) ? (WebIO.setval({&quot;name&quot;:&quot;formatted_value&quot;,&quot;scope&quot;:&quot;knockout-component-e344e865-e7eb-4897-b365-a088f184901e&quot;,&quot;id&quot;:&quot;ob_09&quot;,&quot;type&quot;:&quot;observable&quot;},val)) : undefined; return this.valueFromJulia[&quot;formatted_value&quot;]=false}),self),this[&quot;index&quot;].subscribe((function (val){!(this.valueFromJulia[&quot;index&quot;]) ? (WebIO.setval({&quot;name&quot;:&quot;index&quot;,&quot;scope&quot;:&quot;knockout-component-e344e865-e7eb-4897-b365-a088f184901e&quot;,&quot;id&quot;:&quot;ob_07&quot;,&quot;type&quot;:&quot;observable&quot;},val)) : undefined; return this.valueFromJulia[&quot;index&quot;]=false}),self)]\n",
       "        \n",
       "    }\n",
       "    self.model = new AppViewModel();\n",
       "    self.valueFromJulia = {};\n",
       "    for (var key in json_data) {\n",
       "        self.valueFromJulia[key] = false;\n",
       "    }\n",
       "    ko.applyBindings(self.model, self.dom);\n",
       "}\n",
       "]},&quot;changes&quot;:[(function (val){return (val!=this.model[&quot;changes&quot;]()) ? (this.valueFromJulia[&quot;changes&quot;]=true, this.model[&quot;changes&quot;](val)) : undefined})],&quot;formatted_value&quot;:[(function (val){return (val!=this.model[&quot;formatted_value&quot;]()) ? (this.valueFromJulia[&quot;formatted_value&quot;]=true, this.model[&quot;formatted_value&quot;](val)) : undefined})],&quot;index&quot;:[(function (val){return (val!=this.model[&quot;index&quot;]()) ? (this.valueFromJulia[&quot;index&quot;]=true, this.model[&quot;index&quot;](val)) : undefined}),(function (val){return WebIO.setval({&quot;name&quot;:&quot;formatted_value&quot;,&quot;scope&quot;:&quot;knockout-component-e344e865-e7eb-4897-b365-a088f184901e&quot;,&quot;id&quot;:&quot;ob_09&quot;,&quot;type&quot;:&quot;observable&quot;},WebIO.getval({&quot;name&quot;:&quot;formatted_vals&quot;,&quot;scope&quot;:&quot;knockout-component-e344e865-e7eb-4897-b365-a088f184901e&quot;,&quot;id&quot;:&quot;ob_08&quot;,&quot;type&quot;:&quot;observable&quot;})[(WebIO.getval({&quot;name&quot;:&quot;index&quot;,&quot;scope&quot;:&quot;knockout-component-e344e865-e7eb-4897-b365-a088f184901e&quot;,&quot;id&quot;:&quot;ob_07&quot;,&quot;type&quot;:&quot;observable&quot;})-1)])})]},&quot;systemjs_options&quot;:null,&quot;observables&quot;:{&quot;formatted_vals&quot;:{&quot;sync&quot;:false,&quot;id&quot;:&quot;ob_08&quot;,&quot;value&quot;:[&quot;0.01&quot;,&quot;0.11&quot;,&quot;0.21&quot;,&quot;0.31&quot;,&quot;0.41&quot;,&quot;0.51&quot;,&quot;0.61&quot;,&quot;0.71&quot;,&quot;0.81&quot;,&quot;0.91&quot;,&quot;1.01&quot;,&quot;1.11&quot;,&quot;1.21&quot;,&quot;1.31&quot;,&quot;1.41&quot;,&quot;1.51&quot;,&quot;1.61&quot;,&quot;1.71&quot;,&quot;1.81&quot;,&quot;1.91&quot;,&quot;2.01&quot;,&quot;2.11&quot;,&quot;2.21&quot;,&quot;2.31&quot;,&quot;2.41&quot;,&quot;2.51&quot;,&quot;2.61&quot;,&quot;2.71&quot;,&quot;2.81&quot;,&quot;2.91&quot;,&quot;3.01&quot;,&quot;3.11&quot;,&quot;3.21&quot;,&quot;3.31&quot;,&quot;3.41&quot;,&quot;3.51&quot;,&quot;3.61&quot;,&quot;3.71&quot;,&quot;3.81&quot;,&quot;3.91&quot;,&quot;4.01&quot;,&quot;4.11&quot;,&quot;4.21&quot;,&quot;4.31&quot;,&quot;4.41&quot;,&quot;4.51&quot;,&quot;4.61&quot;,&quot;4.71&quot;,&quot;4.81&quot;,&quot;4.91&quot;,&quot;5.01&quot;,&quot;5.11&quot;,&quot;5.21&quot;,&quot;5.31&quot;,&quot;5.41&quot;,&quot;5.51&quot;,&quot;5.61&quot;,&quot;5.71&quot;,&quot;5.81&quot;,&quot;5.91&quot;,&quot;6.01&quot;,&quot;6.11&quot;,&quot;6.21&quot;,&quot;6.31&quot;,&quot;6.41&quot;,&quot;6.51&quot;,&quot;6.61&quot;,&quot;6.71&quot;,&quot;6.81&quot;,&quot;6.91&quot;,&quot;7.01&quot;,&quot;7.11&quot;,&quot;7.21&quot;,&quot;7.31&quot;,&quot;7.41&quot;,&quot;7.51&quot;,&quot;7.61&quot;,&quot;7.71&quot;,&quot;7.81&quot;,&quot;7.91&quot;,&quot;8.01&quot;,&quot;8.11&quot;,&quot;8.21&quot;,&quot;8.31&quot;,&quot;8.41&quot;,&quot;8.51&quot;,&quot;8.61&quot;,&quot;8.71&quot;,&quot;8.81&quot;,&quot;8.91&quot;,&quot;9.01&quot;,&quot;9.11&quot;,&quot;9.21&quot;,&quot;9.31&quot;,&quot;9.41&quot;,&quot;9.51&quot;,&quot;9.61&quot;,&quot;9.71&quot;,&quot;9.81&quot;,&quot;9.91&quot;,&quot;10.01&quot;,&quot;10.11&quot;,&quot;10.21&quot;,&quot;10.31&quot;,&quot;10.41&quot;,&quot;10.51&quot;,&quot;10.61&quot;,&quot;10.71&quot;,&quot;10.81&quot;,&quot;10.91&quot;,&quot;11.01&quot;,&quot;11.11&quot;,&quot;11.21&quot;,&quot;11.31&quot;,&quot;11.41&quot;,&quot;11.51&quot;,&quot;11.61&quot;,&quot;11.71&quot;,&quot;11.81&quot;,&quot;11.91&quot;,&quot;12.01&quot;,&quot;12.11&quot;,&quot;12.21&quot;,&quot;12.31&quot;,&quot;12.41&quot;,&quot;12.51&quot;]},&quot;changes&quot;:{&quot;sync&quot;:false,&quot;id&quot;:&quot;ob_10&quot;,&quot;value&quot;:0},&quot;formatted_value&quot;:{&quot;sync&quot;:false,&quot;id&quot;:&quot;ob_09&quot;,&quot;value&quot;:&quot;6.21&quot;},&quot;index&quot;:{&quot;sync&quot;:true,&quot;id&quot;:&quot;ob_07&quot;,&quot;value&quot;:63}}},&quot;children&quot;:[{&quot;props&quot;:{&quot;attributes&quot;:{&quot;class&quot;:&quot;interact-flex-row&quot;}},&quot;nodeType&quot;:&quot;DOM&quot;,&quot;type&quot;:&quot;node&quot;,&quot;instanceArgs&quot;:{&quot;namespace&quot;:&quot;html&quot;,&quot;tag&quot;:&quot;div&quot;},&quot;children&quot;:[{&quot;props&quot;:{&quot;attributes&quot;:{&quot;class&quot;:&quot;interact-flex-row-left&quot;}},&quot;nodeType&quot;:&quot;DOM&quot;,&quot;type&quot;:&quot;node&quot;,&quot;instanceArgs&quot;:{&quot;namespace&quot;:&quot;html&quot;,&quot;tag&quot;:&quot;div&quot;},&quot;children&quot;:[{&quot;props&quot;:{&quot;className&quot;:&quot;interact &quot;,&quot;style&quot;:{&quot;padding&quot;:&quot;5px 10px 0px 10px&quot;}},&quot;nodeType&quot;:&quot;DOM&quot;,&quot;type&quot;:&quot;node&quot;,&quot;instanceArgs&quot;:{&quot;namespace&quot;:&quot;html&quot;,&quot;tag&quot;:&quot;label&quot;},&quot;children&quot;:[&quot;freq2&quot;]}]},{&quot;props&quot;:{&quot;attributes&quot;:{&quot;class&quot;:&quot;interact-flex-row-center&quot;}},&quot;nodeType&quot;:&quot;DOM&quot;,&quot;type&quot;:&quot;node&quot;,&quot;instanceArgs&quot;:{&quot;namespace&quot;:&quot;html&quot;,&quot;tag&quot;:&quot;div&quot;},&quot;children&quot;:[{&quot;props&quot;:{&quot;max&quot;:126,&quot;min&quot;:1,&quot;attributes&quot;:{&quot;type&quot;:&quot;range&quot;,&quot;data-bind&quot;:&quot;numericValue: index, valueUpdate: &#39;input&#39;, event: {change : function () {this.changes(this.changes()+1)}}&quot;,&quot;orient&quot;:&quot;horizontal&quot;},&quot;step&quot;:1,&quot;className&quot;:&quot;slider slider is-fullwidth&quot;,&quot;style&quot;:{}},&quot;nodeType&quot;:&quot;DOM&quot;,&quot;type&quot;:&quot;node&quot;,&quot;instanceArgs&quot;:{&quot;namespace&quot;:&quot;html&quot;,&quot;tag&quot;:&quot;input&quot;},&quot;children&quot;:[]}]},{&quot;props&quot;:{&quot;attributes&quot;:{&quot;class&quot;:&quot;interact-flex-row-right&quot;}},&quot;nodeType&quot;:&quot;DOM&quot;,&quot;type&quot;:&quot;node&quot;,&quot;instanceArgs&quot;:{&quot;namespace&quot;:&quot;html&quot;,&quot;tag&quot;:&quot;div&quot;},&quot;children&quot;:[{&quot;props&quot;:{&quot;attributes&quot;:{&quot;data-bind&quot;:&quot;text: formatted_value&quot;}},&quot;nodeType&quot;:&quot;DOM&quot;,&quot;type&quot;:&quot;node&quot;,&quot;instanceArgs&quot;:{&quot;namespace&quot;:&quot;html&quot;,&quot;tag&quot;:&quot;p&quot;},&quot;children&quot;:[]}]}]}]}]},{&quot;props&quot;:{},&quot;nodeType&quot;:&quot;Scope&quot;,&quot;type&quot;:&quot;node&quot;,&quot;instanceArgs&quot;:{&quot;imports&quot;:{&quot;data&quot;:[],&quot;type&quot;:&quot;async_block&quot;},&quot;id&quot;:&quot;scope-8b5fa770-7cfc-4f16-bd79-847e54fd86ec&quot;,&quot;handlers&quot;:{&quot;obs-output&quot;:[function (updated_htmlstr) {\n",
       "    var el = this.dom.querySelector(&quot;#out&quot;);\n",
       "    WebIO.propUtils.setInnerHtml(el, updated_htmlstr);\n",
       "}]},&quot;systemjs_options&quot;:null,&quot;observables&quot;:{&quot;obs-output&quot;:{&quot;sync&quot;:false,&quot;id&quot;:&quot;ob_13&quot;,&quot;value&quot;:&quot;&lt;div class=&#39;display:none&#39;&gt;&lt;/div&gt;&lt;unsafe-script style=&#39;display:none&#39;&gt;\\nWebIO.mount(this.previousSibling,{&amp;quot;props&amp;quot;:{&amp;quot;attributes&amp;quot;:{&amp;quot;class&amp;quot;:&amp;quot;interact-flex-row&amp;quot;}},&amp;quot;nodeType&amp;quot;:&amp;quot;DOM&amp;quot;,&amp;quot;type&amp;quot;:&amp;quot;node&amp;quot;,&amp;quot;instanceArgs&amp;quot;:{&amp;quot;namespace&amp;quot;:&amp;quot;html&amp;quot;,&amp;quot;tag&amp;quot;:&amp;quot;div&amp;quot;},&amp;quot;children&amp;quot;:[{&amp;quot;props&amp;quot;:{&amp;quot;setInnerHtml&amp;quot;:&amp;quot;&amp;lt;?xml version=\\\\&amp;quot;1.0\\\\&amp;quot; encoding=\\\\&amp;quot;utf-8\\\\&amp;quot;?&amp;gt;\\\\n&amp;lt;svg xmlns=\\\\&amp;quot;http://www.w3.org/2000/svg\\\\&amp;quot; xmlns:xlink=\\\\&amp;quot;http://www.w3.org/1999/xlink\\\\&amp;quot; width=\\\\&amp;quot;150\\\\&amp;quot; height=\\\\&amp;quot;100\\\\&amp;quot; viewBox=\\\\&amp;quot;0 0 600 400\\\\&amp;quot;&amp;gt;\\\\n&amp;lt;defs&amp;gt;\\\\n  &amp;lt;clipPath id=\\\\&amp;quot;clip3800\\\\&amp;quot;&amp;gt;\\\\n    &amp;lt;rect x=\\\\&amp;quot;0\\\\&amp;quot; y=\\\\&amp;quot;0\\\\&amp;quot; width=\\\\&amp;quot;2000\\\\&amp;quot; height=\\\\&amp;quot;2000\\\\&amp;quot;/&amp;gt;\\\\n  &amp;lt;/clipPath&amp;gt;\\\\n&amp;lt;/defs&amp;gt;\\\\n&amp;lt;defs&amp;gt;\\\\n  &amp;lt;clipPath id=\\\\&amp;quot;clip3801\\\\&amp;quot;&amp;gt;\\\\n    &amp;lt;rect x=\\\\&amp;quot;0\\\\&amp;quot; y=\\\\&amp;quot;0\\\\&amp;quot; width=\\\\&amp;quot;600\\\\&amp;quot; height=\\\\&amp;quot;400\\\\&amp;quot;/&amp;gt;\\\\n  &amp;lt;/clipPath&amp;gt;\\\\n&amp;lt;/defs&amp;gt;\\\\n&amp;lt;polygon clip-path=\\\\&amp;quot;url(#clip3801)\\\\&amp;quot; points=\\\\&amp;quot;\\\\n0,400 600,400 600,0 0,0 \\\\n  \\\\&amp;quot; fill=\\\\&amp;quot;#ffffff\\\\&amp;quot; fill-rule=\\\\&amp;quot;evenodd\\\\&amp;quot; fill-opacity=\\\\&amp;quot;1\\\\&amp;quot;/&amp;gt;\\\\n&amp;lt;defs&amp;gt;\\\\n  &amp;lt;clipPath id=\\\\&amp;quot;clip3802\\\\&amp;quot;&amp;gt;\\\\n    &amp;lt;rect x=\\\\&amp;quot;120\\\\&amp;quot; y=\\\\&amp;quot;0\\\\&amp;quot; width=\\\\&amp;quot;421\\\\&amp;quot; height=\\\\&amp;quot;400\\\\&amp;quot;/&amp;gt;\\\\n  &amp;lt;/clipPath&amp;gt;\\\\n&amp;lt;/defs&amp;gt;\\\\n&amp;lt;polygon clip-path=\\\\&amp;quot;url(#clip3801)\\\\&amp;quot; points=\\\\&amp;quot;\\\\n47.376,375.869 580.315,375.869 580.315,11.811 47.376,11.811 \\\\n  \\\\&amp;quot; fill=\\\\&amp;quot;#ffffff\\\\&amp;quot; fill-rule=\\\\&amp;quot;evenodd\\\\&amp;quot; fill-opacity=\\\\&amp;quot;1\\\\&amp;quot;/&amp;gt;\\\\n&amp;lt;defs&amp;gt;\\\\n  &amp;lt;clipPath id=\\\\&amp;quot;clip3803\\\\&amp;quot;&amp;gt;\\\\n    &amp;lt;rect x=\\\\&amp;quot;47\\\\&amp;quot; y=\\\\&amp;quot;11\\\\&amp;quot; width=\\\\&amp;quot;534\\\\&amp;quot; height=\\\\&amp;quot;365\\\\&amp;quot;/&amp;gt;\\\\n  &amp;lt;/clipPath&amp;gt;\\\\n&amp;lt;/defs&amp;gt;\\\\n&amp;lt;polyline clip-path=\\\\&amp;quot;url(#clip3803)\\\\&amp;quot; style=\\\\&amp;quot;stroke:#000000; stroke-width:0.5; stroke-opacity:0.1; fill:none\\\\&amp;quot; points=\\\\&amp;quot;\\\\n  62.4592,375.869 62.4592,11.811 \\\\n  \\\\&amp;quot;/&amp;gt;\\\\n&amp;lt;polyline clip-path=\\\\&amp;quot;url(#clip3803)\\\\&amp;quot; style=\\\\&amp;quot;stroke:#000000; stroke-width:0.5; stroke-opacity:0.1; fill:none\\\\&amp;quot; points=\\\\&amp;quot;\\\\n  230.05,375.869 230.05,11.811 \\\\n  \\\\&amp;quot;/&amp;gt;\\\\n&amp;lt;polyline clip-path=\\\\&amp;quot;url(#clip3803)\\\\&amp;quot; style=\\\\&amp;quot;stroke:#000000; stroke-width:0.5; stroke-opacity:0.1; fill:none\\\\&amp;quot; points=\\\\&amp;quot;\\\\n  397.641,375.869 397.641,11.811 \\\\n  \\\\&amp;quot;/&amp;gt;\\\\n&amp;lt;polyline clip-path=\\\\&amp;quot;url(#clip3803)\\\\&amp;quot; style=\\\\&amp;quot;stroke:#000000; stroke-width:0.5; stroke-opacity:0.1; fill:none\\\\&amp;quot; points=\\\\&amp;quot;\\\\n  565.232,375.869 565.232,11.811 \\\\n  \\\\&amp;quot;/&amp;gt;\\\\n&amp;lt;polyline clip-path=\\\\&amp;quot;url(#clip3803)\\\\&amp;quot; style=\\\\&amp;quot;stroke:#000000; stroke-width:0.5; stroke-opacity:0.1; fill:none\\\\&amp;quot; points=\\\\&amp;quot;\\\\n  47.376,370.208 580.315,370.208 \\\\n  \\\\&amp;quot;/&amp;gt;\\\\n&amp;lt;polyline clip-path=\\\\&amp;quot;url(#clip3803)\\\\&amp;quot; style=\\\\&amp;quot;stroke:#000000; stroke-width:0.5; stroke-opacity:0.1; fill:none\\\\&amp;quot; points=\\\\&amp;quot;\\\\n  47.376,283.151 580.315,283.151 \\\\n  \\\\&amp;quot;/&amp;gt;\\\\n&amp;lt;polyline clip-path=\\\\&amp;quot;url(#clip3803)\\\\&amp;quot; style=\\\\&amp;quot;stroke:#000000; stroke-width:0.5; stroke-opacity:0.1; fill:none\\\\&amp;quot; points=\\\\&amp;quot;\\\\n  47.376,196.094 580.315,196.094 \\\\n  \\\\&amp;quot;/&amp;gt;\\\\n&amp;lt;polyline clip-path=\\\\&amp;quot;url(#clip3803)\\\\&amp;quot; style=\\\\&amp;quot;stroke:#000000; stroke-width:0.5; stroke-opacity:0.1; fill:none\\\\&amp;quot; points=\\\\&amp;quot;\\\\n  47.376,109.037 580.315,109.037 \\\\n  \\\\&amp;quot;/&amp;gt;\\\\n&amp;lt;polyline clip-path=\\\\&amp;quot;url(#clip3803)\\\\&amp;quot; style=\\\\&amp;quot;stroke:#000000; stroke-width:0.5; stroke-opacity:0.1; fill:none\\\\&amp;quot; points=\\\\&amp;quot;\\\\n  47.376,21.9802 580.315,21.9802 \\\\n  \\\\&amp;quot;/&amp;gt;\\\\n&amp;lt;polyline clip-path=\\\\&amp;quot;url(#clip3801)\\\\&amp;quot; style=\\\\&amp;quot;stroke:#000000; stroke-width:1; stroke-opacity:1; fill:none\\\\&amp;quot; points=\\\\&amp;quot;\\\\n  47.376,375.869 580.315,375.869 \\\\n  \\\\&amp;quot;/&amp;gt;\\\\n&amp;lt;polyline clip-path=\\\\&amp;quot;url(#clip3801)\\\\&amp;quot; style=\\\\&amp;quot;stroke:#000000; stroke-width:1; stroke-opacity:1; fill:none\\\\&amp;quot; points=\\\\&amp;quot;\\\\n  47.376,375.869 47.376,11.811 \\\\n  \\\\&amp;quot;/&amp;gt;\\\\n&amp;lt;polyline clip-path=\\\\&amp;quot;url(#clip3801)\\\\&amp;quot; style=\\\\&amp;quot;stroke:#000000; stroke-width:1; stroke-opacity:1; fill:none\\\\&amp;quot; points=\\\\&amp;quot;\\\\n  62.4592,375.869 62.4592,370.408 \\\\n  \\\\&amp;quot;/&amp;gt;\\\\n&amp;lt;polyline clip-path=\\\\&amp;quot;url(#clip3801)\\\\&amp;quot; style=\\\\&amp;quot;stroke:#000000; stroke-width:1; stroke-opacity:1; fill:none\\\\&amp;quot; points=\\\\&amp;quot;\\\\n  230.05,375.869 230.05,370.408 \\\\n  \\\\&amp;quot;/&amp;gt;\\\\n&amp;lt;polyline clip-path=\\\\&amp;quot;url(#clip3801)\\\\&amp;quot; style=\\\\&amp;quot;stroke:#000000; stroke-width:1; stroke-opacity:1; fill:none\\\\&amp;quot; points=\\\\&amp;quot;\\\\n  397.641,375.869 397.641,370.408 \\\\n  \\\\&amp;quot;/&amp;gt;\\\\n&amp;lt;polyline clip-path=\\\\&amp;quot;url(#clip3801)\\\\&amp;quot; style=\\\\&amp;quot;stroke:#000000; stroke-width:1; stroke-opacity:1; fill:none\\\\&amp;quot; points=\\\\&amp;quot;\\\\n  565.232,375.869 565.232,370.408 \\\\n  \\\\&amp;quot;/&amp;gt;\\\\n&amp;lt;polyline clip-path=\\\\&amp;quot;url(#clip3801)\\\\&amp;quot; style=\\\\&amp;quot;stroke:#000000; stroke-width:1; stroke-opacity:1; fill:none\\\\&amp;quot; points=\\\\&amp;quot;\\\\n  47.376,370.208 55.3701,370.208 \\\\n  \\\\&amp;quot;/&amp;gt;\\\\n&amp;lt;polyline clip-path=\\\\&amp;quot;url(#clip3801)\\\\&amp;quot; style=\\\\&amp;quot;stroke:#000000; stroke-width:1; stroke-opacity:1; fill:none\\\\&amp;quot; points=\\\\&amp;quot;\\\\n  47.376,283.151 55.3701,283.151 \\\\n  \\\\&amp;quot;/&amp;gt;\\\\n&amp;lt;polyline clip-path=\\\\&amp;quot;url(#clip3801)\\\\&amp;quot; style=\\\\&amp;quot;stroke:#000000; stroke-width:1; stroke-opacity:1; fill:none\\\\&amp;quot; points=\\\\&amp;quot;\\\\n  47.376,196.094 55.3701,196.094 \\\\n  \\\\&amp;quot;/&amp;gt;\\\\n&amp;lt;polyline clip-path=\\\\&amp;quot;url(#clip3801)\\\\&amp;quot; style=\\\\&amp;quot;stroke:#000000; stroke-width:1; stroke-opacity:1; fill:none\\\\&amp;quot; points=\\\\&amp;quot;\\\\n  47.376,109.037 55.3701,109.037 \\\\n  \\\\&amp;quot;/&amp;gt;\\\\n&amp;lt;polyline clip-path=\\\\&amp;quot;url(#clip3801)\\\\&amp;quot; style=\\\\&amp;quot;stroke:#000000; stroke-width:1; stroke-opacity:1; fill:none\\\\&amp;quot; points=\\\\&amp;quot;\\\\n  47.376,21.9802 55.3701,21.9802 \\\\n  \\\\&amp;quot;/&amp;gt;\\\\n&amp;lt;g clip-path=\\\\&amp;quot;url(#clip3801)\\\\&amp;quot;&amp;gt;\\\\n&amp;lt;text style=\\\\&amp;quot;fill:#000000; fill-opacity:1; font-family:Arial,Helvetica Neue,Helvetica,sans-serif; font-size:12px; text-anchor:middle;\\\\&amp;quot; transform=\\\\&amp;quot;rotate(0, 62.4592, 389.669)\\\\&amp;quot; x=\\\\&amp;quot;62.4592\\\\&amp;quot; y=\\\\&amp;quot;389.669\\\\&amp;quot;&amp;gt;0&amp;lt;/text&amp;gt;\\\\n&amp;lt;/g&amp;gt;\\\\n&amp;lt;g clip-path=\\\\&amp;quot;url(#clip3801)\\\\&amp;quot;&amp;gt;\\\\n&amp;lt;text style=\\\\&amp;quot;fill:#000000; fill-opacity:1; font-family:Arial,Helvetica Neue,Helvetica,sans-serif; font-size:12px; text-anchor:middle;\\\\&amp;quot; transform=\\\\&amp;quot;rotate(0, 230.05, 389.669)\\\\&amp;quot; x=\\\\&amp;quot;230.05\\\\&amp;quot; y=\\\\&amp;quot;389.669\\\\&amp;quot;&amp;gt;10&amp;lt;/text&amp;gt;\\\\n&amp;lt;/g&amp;gt;\\\\n&amp;lt;g clip-path=\\\\&amp;quot;url(#clip3801)\\\\&amp;quot;&amp;gt;\\\\n&amp;lt;text style=\\\\&amp;quot;fill:#000000; fill-opacity:1; font-family:Arial,Helvetica Neue,Helvetica,sans-serif; font-size:12px; text-anchor:middle;\\\\&amp;quot; transform=\\\\&amp;quot;rotate(0, 397.641, 389.669)\\\\&amp;quot; x=\\\\&amp;quot;397.641\\\\&amp;quot; y=\\\\&amp;quot;389.669\\\\&amp;quot;&amp;gt;20&amp;lt;/text&amp;gt;\\\\n&amp;lt;/g&amp;gt;\\\\n&amp;lt;g clip-path=\\\\&amp;quot;url(#clip3801)\\\\&amp;quot;&amp;gt;\\\\n&amp;lt;text style=\\\\&amp;quot;fill:#000000; fill-opacity:1; font-family:Arial,Helvetica Neue,Helvetica,sans-serif; font-size:12px; text-anchor:middle;\\\\&amp;quot; transform=\\\\&amp;quot;rotate(0, 565.232, 389.669)\\\\&amp;quot; x=\\\\&amp;quot;565.232\\\\&amp;quot; y=\\\\&amp;quot;389.669\\\\&amp;quot;&amp;gt;30&amp;lt;/text&amp;gt;\\\\n&amp;lt;/g&amp;gt;\\\\n&amp;lt;g clip-path=\\\\&amp;quot;url(#clip3801)\\\\&amp;quot;&amp;gt;\\\\n&amp;lt;text style=\\\\&amp;quot;fill:#000000; fill-opacity:1; font-family:Arial,Helvetica Neue,Helvetica,sans-serif; font-size:12px; text-anchor:end;\\\\&amp;quot; transform=\\\\&amp;quot;rotate(0, 41.376, 374.708)\\\\&amp;quot; x=\\\\&amp;quot;41.376\\\\&amp;quot; y=\\\\&amp;quot;374.708\\\\&amp;quot;&amp;gt;-1.0&amp;lt;/text&amp;gt;\\\\n&amp;lt;/g&amp;gt;\\\\n&amp;lt;g clip-path=\\\\&amp;quot;url(#clip3801)\\\\&amp;quot;&amp;gt;\\\\n&amp;lt;text style=\\\\&amp;quot;fill:#000000; fill-opacity:1; font-family:Arial,Helvetica Neue,Helvetica,sans-serif; font-size:12px; text-anchor:end;\\\\&amp;quot; transform=\\\\&amp;quot;rotate(0, 41.376, 287.651)\\\\&amp;quot; x=\\\\&amp;quot;41.376\\\\&amp;quot; y=\\\\&amp;quot;287.651\\\\&amp;quot;&amp;gt;-0.5&amp;lt;/text&amp;gt;\\\\n&amp;lt;/g&amp;gt;\\\\n&amp;lt;g clip-path=\\\\&amp;quot;url(#clip3801)\\\\&amp;quot;&amp;gt;\\\\n&amp;lt;text style=\\\\&amp;quot;fill:#000000; fill-opacity:1; font-family:Arial,Helvetica Neue,Helvetica,sans-serif; font-size:12px; text-anchor:end;\\\\&amp;quot; transform=\\\\&amp;quot;rotate(0, 41.376, 200.594)\\\\&amp;quot; x=\\\\&amp;quot;41.376\\\\&amp;quot; y=\\\\&amp;quot;200.594\\\\&amp;quot;&amp;gt;0.0&amp;lt;/text&amp;gt;\\\\n&amp;lt;/g&amp;gt;\\\\n&amp;lt;g clip-path=\\\\&amp;quot;url(#clip3801)\\\\&amp;quot;&amp;gt;\\\\n&amp;lt;text style=\\\\&amp;quot;fill:#000000; fill-opacity:1; font-family:Arial,Helvetica Neue,Helvetica,sans-serif; font-size:12px; text-anchor:end;\\\\&amp;quot; transform=\\\\&amp;quot;rotate(0, 41.376, 113.537)\\\\&amp;quot; x=\\\\&amp;quot;41.376\\\\&amp;quot; y=\\\\&amp;quot;113.537\\\\&amp;quot;&amp;gt;0.5&amp;lt;/text&amp;gt;\\\\n&amp;lt;/g&amp;gt;\\\\n&amp;lt;g clip-path=\\\\&amp;quot;url(#clip3801)\\\\&amp;quot;&amp;gt;\\\\n&amp;lt;text style=\\\\&amp;quot;fill:#000000; fill-opacity:1; font-family:Arial,Helvetica Neue,Helvetica,sans-serif; font-size:12px; text-anchor:end;\\\\&amp;quot; transform=\\\\&amp;quot;rotate(0, 41.376, 26.4802)\\\\&amp;quot; x=\\\\&amp;quot;41.376\\\\&amp;quot; y=\\\\&amp;quot;26.4802\\\\&amp;quot;&amp;gt;1.0&amp;lt;/text&amp;gt;\\\\n&amp;lt;/g&amp;gt;\\\\n&amp;lt;polyline clip-path=\\\\&amp;quot;url(#clip3803)\\\\&amp;quot; style=\\\\&amp;quot;stroke:#009af9; stroke-width:1; stroke-opacity:1; fill:none\\\\&amp;quot; points=\\\\&amp;quot;\\\\n  62.4592,196.094 64.1351,188.146 65.811,170.316 67.4869,157.171 69.1628,163.208 70.8388,193.656 72.5147,239.704 74.1906,281.063 75.8665,295.111 77.5424,268.437 \\\\n  79.2183,205.096 80.8942,127.139 82.5701,66.4614 84.246,51.1841 85.9219,92.5483 87.5978,178.471 89.2737,277.109 90.9497,349.374 92.6256,365.211 94.3015,316.599 \\\\n  95.9774,221.488 97.6533,116.768 99.3292,43.1754 101.005,28.5881 102.681,76.8493 104.357,166.827 106.033,261.897 107.709,325.531 109.385,336.116 111.061,294.732 \\\\n  112.736,222.909 114.412,151.909 116.088,108.757 117.764,105.36 119.44,135.314 121.116,179.213 122.792,215.292 124.468,229.982 126.144,223.314 127.82,206.911 \\\\n  129.496,196.094 131.171,200.498 132.847,218.238 134.523,236.74 136.199,239.87 137.875,217.643 139.551,173.365 141.227,124.121 142.903,93.8231 144.579,101.749 \\\\n  146.255,152.041 147.931,229.5 149.606,304.308 151.282,344.147 152.958,328.572 154.634,259.109 156.31,160.203 157.986,70.0824 159.662,25.1692 161.338,44.6637 \\\\n  163.014,122.072 164.69,227.492 166.366,319.804 168.041,363.574 169.717,343.423 171.393,269.762 173.069,173.633 174.745,93.1439 176.421,57.598 178.097,76.1668 \\\\n  179.773,135.744 181.449,208.362 183.125,264.32 184.801,284.874 186.476,268.872 188.152,230.858 189.828,192.218 191.504,170.124 193.18,169.749 194.856,183.33 \\\\n  196.532,196.094 198.208,195.609 199.884,179.469 201.56,157.184 203.236,145.154 204.911,157.267 206.587,196.009 208.263,248.948 209.939,292.918 211.615,304.414 \\\\n  213.291,271.45 214.967,201.08 216.643,118.507 218.319,57.4951 219.995,45.956 221.671,93.0494 223.346,183.808 225.022,284.116 226.698,354.284 228.374,365.565 \\\\n  230.05,312.446 231.726,215.296 233.402,112.12 235.078,42.8916 236.754,33.2175 238.43,84.2933 240.106,173.303 241.781,263.798 243.457,321.281 245.133,327.107 \\\\n  246.809,284.844 248.485,216.788 250.161,152.784 251.837,116.823 253.513,117.51 255.189,146.406 256.865,184.319 258.541,211.936 260.216,219.323 261.892,209.72 \\\\n  263.568,196.094 265.244,192.619 266.92,205.785 268.596,229.958 270.272,249.865 271.948,248.895 273.624,218.986 275.3,166.857 276.976,112.956 278.651,83.0163 \\\\n  280.327,95.8479 282.003,153.14 283.679,236.453 285.355,313.446 287.031,351.118 288.707,330.401 290.383,255.512 292.059,153.552 293.735,64.0996 295.411,23.0023 \\\\n  297.086,47.3132 298.762,127.926 300.438,233.188 302.114,321.984 303.79,360.66 305.466,336.515 307.142,262.199 308.818,169.397 310.494,94.8688 312.17,65.1439 \\\\n  313.845,86.4955 315.521,144.2 317.197,210.803 318.873,259.112 320.549,273.798 322.225,256.479 323.901,222.518 325.577,191.728 327.253,177.958 328.929,182.766 \\\\n  330.605,196.094 332.28,203.234 333.956,194.161 335.632,170.158 337.308,144.067 338.984,133.811 340.66,152.342 342.336,199.227 344.012,258.472 345.688,304.309 \\\\n  347.364,312.701 349.04,273.361 350.715,196.397 352.391,109.975 354.067,49.376 355.743,41.9532 357.419,94.6004 359.095,189.536 360.771,290.662 362.447,358.079 \\\\n  364.123,364.645 365.799,307.428 367.475,209.037 369.15,108.228 370.826,43.8414 372.502,39.0018 374.178,92.3002 375.854,179.512 377.53,264.745 379.206,315.84 \\\\n  380.882,317.216 382.558,274.773 384.234,211.238 385.91,154.692 387.585,125.883 389.261,130.15 390.937,157.269 392.613,188.613 394.289,207.594 395.965,207.99 \\\\n  397.641,196.094 399.317,185.897 400.993,190.105 402.669,211.896 404.345,241.949 406.02,262.559 407.696,256.983 409.372,219.332 411.048,159.783 412.724,101.951 \\\\n  414.4,73.0478 416.076,91.0891 417.752,155.155 419.428,243.654 421.104,322.023 422.78,356.954 424.455,331.028 426.131,251.193 427.807,146.999 429.483,58.9994 \\\\n  431.159,22.1145 432.835,51.0671 434.511,134.215 436.187,238.46 437.863,323.079 439.539,356.492 441.215,328.745 442.89,254.544 444.566,165.859 446.242,97.7417 \\\\n  447.918,73.7548 449.594,97.3252 451.27,152.386 452.946,212.358 454.622,252.839 456.298,261.986 457.974,244.017 459.65,214.786 461.325,192.209 463.001,186.642 \\\\n  464.677,196.094 466.353,208.481 468.029,209.496 469.705,191.771 471.381,160.312 473.057,131.102 474.733,123.25 476.409,148.462 478.085,203.248 479.76,268.156 \\\\n  481.436,315.11 483.112,319.903 484.788,274.186 486.464,191.141 488.14,101.669 489.816,42.2028 491.492,39.2008 493.168,97.1417 494.844,195.539 496.52,296.634 \\\\n  498.195,360.699 499.871,362.474 501.547,301.643 503.223,202.834 504.899,105.182 506.575,46.0392 508.251,45.8723 509.927,100.75 511.603,185.341 513.279,264.685 \\\\n  514.955,309.241 516.63,306.549 518.306,264.647 519.982,206.353 521.658,157.644 523.334,135.861 525.01,143.152 526.686,167.782 528.362,192.035 530.038,202.298 \\\\n  531.714,196.094 533.39,182.572 535.065,176.419 536.741,188.57 538.417,218.759 540.093,254.083 541.769,274.696 543.445,264.067 545.121,218.706 546.797,152.245 \\\\n  548.473,91.2354 550.149,64.0158 551.825,87.4934 553.5,158.019 555.176,250.981 556.852,329.923 558.528,361.597 560.204,330.48 561.88,246.252 563.556,140.664 \\\\n  565.232,54.87 \\\\n  \\\\&amp;quot;/&amp;gt;\\\\n&amp;lt;polygon clip-path=\\\\&amp;quot;url(#clip3801)\\\\&amp;quot; points=\\\\&amp;quot;\\\\n489.608,62.931 562.315,62.931 562.315,32.691 489.608,32.691 \\\\n  \\\\&amp;quot; fill=\\\\&amp;quot;#ffffff\\\\&amp;quot; fill-rule=\\\\&amp;quot;evenodd\\\\&amp;quot; fill-opacity=\\\\&amp;quot;1\\\\&amp;quot;/&amp;gt;\\\\n&amp;lt;polyline clip-path=\\\\&amp;quot;url(#clip3801)\\\\&amp;quot; style=\\\\&amp;quot;stroke:#000000; stroke-width:1; stroke-opacity:1; fill:none\\\\&amp;quot; points=\\\\&amp;quot;\\\\n  489.608,62.931 562.315,62.931 562.315,32.691 489.608,32.691 489.608,62.931 \\\\n  \\\\&amp;quot;/&amp;gt;\\\\n&amp;lt;polyline clip-path=\\\\&amp;quot;url(#clip3801)\\\\&amp;quot; style=\\\\&amp;quot;stroke:#009af9; stroke-width:1; stroke-opacity:1; fill:none\\\\&amp;quot; points=\\\\&amp;quot;\\\\n  495.608,47.811 531.608,47.811 \\\\n  \\\\&amp;quot;/&amp;gt;\\\\n&amp;lt;g clip-path=\\\\&amp;quot;url(#clip3801)\\\\&amp;quot;&amp;gt;\\\\n&amp;lt;text style=\\\\&amp;quot;fill:#000000; fill-opacity:1; font-family:Arial,Helvetica Neue,Helvetica,sans-serif; font-size:12px; text-anchor:start;\\\\&amp;quot; transform=\\\\&amp;quot;rotate(0, 537.608, 52.311)\\\\&amp;quot; x=\\\\&amp;quot;537.608\\\\&amp;quot; y=\\\\&amp;quot;52.311\\\\&amp;quot;&amp;gt;y1&amp;lt;/text&amp;gt;\\\\n&amp;lt;/g&amp;gt;\\\\n&amp;lt;/svg&amp;gt;\\\\n&amp;quot;},&amp;quot;nodeType&amp;quot;:&amp;quot;DOM&amp;quot;,&amp;quot;type&amp;quot;:&amp;quot;node&amp;quot;,&amp;quot;instanceArgs&amp;quot;:{&amp;quot;namespace&amp;quot;:&amp;quot;html&amp;quot;,&amp;quot;tag&amp;quot;:&amp;quot;div&amp;quot;},&amp;quot;children&amp;quot;:[]}]})&lt;/unsafe-script&gt;&quot;}}},&quot;children&quot;:[{&quot;props&quot;:{&quot;id&quot;:&quot;out&quot;,&quot;setInnerHtml&quot;:&quot;&lt;div class=&#39;display:none&#39;&gt;&lt;/div&gt;&lt;unsafe-script style=&#39;display:none&#39;&gt;\\nWebIO.mount(this.previousSibling,{&amp;quot;props&amp;quot;:{&amp;quot;attributes&amp;quot;:{&amp;quot;class&amp;quot;:&amp;quot;interact-flex-row&amp;quot;}},&amp;quot;nodeType&amp;quot;:&amp;quot;DOM&amp;quot;,&amp;quot;type&amp;quot;:&amp;quot;node&amp;quot;,&amp;quot;instanceArgs&amp;quot;:{&amp;quot;namespace&amp;quot;:&amp;quot;html&amp;quot;,&amp;quot;tag&amp;quot;:&amp;quot;div&amp;quot;},&amp;quot;children&amp;quot;:[{&amp;quot;props&amp;quot;:{&amp;quot;setInnerHtml&amp;quot;:&amp;quot;&amp;lt;?xml version=\\\\&amp;quot;1.0\\\\&amp;quot; encoding=\\\\&amp;quot;utf-8\\\\&amp;quot;?&amp;gt;\\\\n&amp;lt;svg xmlns=\\\\&amp;quot;http://www.w3.org/2000/svg\\\\&amp;quot; xmlns:xlink=\\\\&amp;quot;http://www.w3.org/1999/xlink\\\\&amp;quot; width=\\\\&amp;quot;150\\\\&amp;quot; height=\\\\&amp;quot;100\\\\&amp;quot; viewBox=\\\\&amp;quot;0 0 600 400\\\\&amp;quot;&amp;gt;\\\\n&amp;lt;defs&amp;gt;\\\\n  &amp;lt;clipPath id=\\\\&amp;quot;clip3800\\\\&amp;quot;&amp;gt;\\\\n    &amp;lt;rect x=\\\\&amp;quot;0\\\\&amp;quot; y=\\\\&amp;quot;0\\\\&amp;quot; width=\\\\&amp;quot;2000\\\\&amp;quot; height=\\\\&amp;quot;2000\\\\&amp;quot;/&amp;gt;\\\\n  &amp;lt;/clipPath&amp;gt;\\\\n&amp;lt;/defs&amp;gt;\\\\n&amp;lt;defs&amp;gt;\\\\n  &amp;lt;clipPath id=\\\\&amp;quot;clip3801\\\\&amp;quot;&amp;gt;\\\\n    &amp;lt;rect x=\\\\&amp;quot;0\\\\&amp;quot; y=\\\\&amp;quot;0\\\\&amp;quot; width=\\\\&amp;quot;600\\\\&amp;quot; height=\\\\&amp;quot;400\\\\&amp;quot;/&amp;gt;\\\\n  &amp;lt;/clipPath&amp;gt;\\\\n&amp;lt;/defs&amp;gt;\\\\n&amp;lt;polygon clip-path=\\\\&amp;quot;url(#clip3801)\\\\&amp;quot; points=\\\\&amp;quot;\\\\n0,400 600,400 600,0 0,0 \\\\n  \\\\&amp;quot; fill=\\\\&amp;quot;#ffffff\\\\&amp;quot; fill-rule=\\\\&amp;quot;evenodd\\\\&amp;quot; fill-opacity=\\\\&amp;quot;1\\\\&amp;quot;/&amp;gt;\\\\n&amp;lt;defs&amp;gt;\\\\n  &amp;lt;clipPath id=\\\\&amp;quot;clip3802\\\\&amp;quot;&amp;gt;\\\\n    &amp;lt;rect x=\\\\&amp;quot;120\\\\&amp;quot; y=\\\\&amp;quot;0\\\\&amp;quot; width=\\\\&amp;quot;421\\\\&amp;quot; height=\\\\&amp;quot;400\\\\&amp;quot;/&amp;gt;\\\\n  &amp;lt;/clipPath&amp;gt;\\\\n&amp;lt;/defs&amp;gt;\\\\n&amp;lt;polygon clip-path=\\\\&amp;quot;url(#clip3801)\\\\&amp;quot; points=\\\\&amp;quot;\\\\n47.376,375.869 580.315,375.869 580.315,11.811 47.376,11.811 \\\\n  \\\\&amp;quot; fill=\\\\&amp;quot;#ffffff\\\\&amp;quot; fill-rule=\\\\&amp;quot;evenodd\\\\&amp;quot; fill-opacity=\\\\&amp;quot;1\\\\&amp;quot;/&amp;gt;\\\\n&amp;lt;defs&amp;gt;\\\\n  &amp;lt;clipPath id=\\\\&amp;quot;clip3803\\\\&amp;quot;&amp;gt;\\\\n    &amp;lt;rect x=\\\\&amp;quot;47\\\\&amp;quot; y=\\\\&amp;quot;11\\\\&amp;quot; width=\\\\&amp;quot;534\\\\&amp;quot; height=\\\\&amp;quot;365\\\\&amp;quot;/&amp;gt;\\\\n  &amp;lt;/clipPath&amp;gt;\\\\n&amp;lt;/defs&amp;gt;\\\\n&amp;lt;polyline clip-path=\\\\&amp;quot;url(#clip3803)\\\\&amp;quot; style=\\\\&amp;quot;stroke:#000000; stroke-width:0.5; stroke-opacity:0.1; fill:none\\\\&amp;quot; points=\\\\&amp;quot;\\\\n  62.4592,375.869 62.4592,11.811 \\\\n  \\\\&amp;quot;/&amp;gt;\\\\n&amp;lt;polyline clip-path=\\\\&amp;quot;url(#clip3803)\\\\&amp;quot; style=\\\\&amp;quot;stroke:#000000; stroke-width:0.5; stroke-opacity:0.1; fill:none\\\\&amp;quot; points=\\\\&amp;quot;\\\\n  230.05,375.869 230.05,11.811 \\\\n  \\\\&amp;quot;/&amp;gt;\\\\n&amp;lt;polyline clip-path=\\\\&amp;quot;url(#clip3803)\\\\&amp;quot; style=\\\\&amp;quot;stroke:#000000; stroke-width:0.5; stroke-opacity:0.1; fill:none\\\\&amp;quot; points=\\\\&amp;quot;\\\\n  397.641,375.869 397.641,11.811 \\\\n  \\\\&amp;quot;/&amp;gt;\\\\n&amp;lt;polyline clip-path=\\\\&amp;quot;url(#clip3803)\\\\&amp;quot; style=\\\\&amp;quot;stroke:#000000; stroke-width:0.5; stroke-opacity:0.1; fill:none\\\\&amp;quot; points=\\\\&amp;quot;\\\\n  565.232,375.869 565.232,11.811 \\\\n  \\\\&amp;quot;/&amp;gt;\\\\n&amp;lt;polyline clip-path=\\\\&amp;quot;url(#clip3803)\\\\&amp;quot; style=\\\\&amp;quot;stroke:#000000; stroke-width:0.5; stroke-opacity:0.1; fill:none\\\\&amp;quot; points=\\\\&amp;quot;\\\\n  47.376,370.208 580.315,370.208 \\\\n  \\\\&amp;quot;/&amp;gt;\\\\n&amp;lt;polyline clip-path=\\\\&amp;quot;url(#clip3803)\\\\&amp;quot; style=\\\\&amp;quot;stroke:#000000; stroke-width:0.5; stroke-opacity:0.1; fill:none\\\\&amp;quot; points=\\\\&amp;quot;\\\\n  47.376,283.151 580.315,283.151 \\\\n  \\\\&amp;quot;/&amp;gt;\\\\n&amp;lt;polyline clip-path=\\\\&amp;quot;url(#clip3803)\\\\&amp;quot; style=\\\\&amp;quot;stroke:#000000; stroke-width:0.5; stroke-opacity:0.1; fill:none\\\\&amp;quot; points=\\\\&amp;quot;\\\\n  47.376,196.094 580.315,196.094 \\\\n  \\\\&amp;quot;/&amp;gt;\\\\n&amp;lt;polyline clip-path=\\\\&amp;quot;url(#clip3803)\\\\&amp;quot; style=\\\\&amp;quot;stroke:#000000; stroke-width:0.5; stroke-opacity:0.1; fill:none\\\\&amp;quot; points=\\\\&amp;quot;\\\\n  47.376,109.037 580.315,109.037 \\\\n  \\\\&amp;quot;/&amp;gt;\\\\n&amp;lt;polyline clip-path=\\\\&amp;quot;url(#clip3803)\\\\&amp;quot; style=\\\\&amp;quot;stroke:#000000; stroke-width:0.5; stroke-opacity:0.1; fill:none\\\\&amp;quot; points=\\\\&amp;quot;\\\\n  47.376,21.9802 580.315,21.9802 \\\\n  \\\\&amp;quot;/&amp;gt;\\\\n&amp;lt;polyline clip-path=\\\\&amp;quot;url(#clip3801)\\\\&amp;quot; style=\\\\&amp;quot;stroke:#000000; stroke-width:1; stroke-opacity:1; fill:none\\\\&amp;quot; points=\\\\&amp;quot;\\\\n  47.376,375.869 580.315,375.869 \\\\n  \\\\&amp;quot;/&amp;gt;\\\\n&amp;lt;polyline clip-path=\\\\&amp;quot;url(#clip3801)\\\\&amp;quot; style=\\\\&amp;quot;stroke:#000000; stroke-width:1; stroke-opacity:1; fill:none\\\\&amp;quot; points=\\\\&amp;quot;\\\\n  47.376,375.869 47.376,11.811 \\\\n  \\\\&amp;quot;/&amp;gt;\\\\n&amp;lt;polyline clip-path=\\\\&amp;quot;url(#clip3801)\\\\&amp;quot; style=\\\\&amp;quot;stroke:#000000; stroke-width:1; stroke-opacity:1; fill:none\\\\&amp;quot; points=\\\\&amp;quot;\\\\n  62.4592,375.869 62.4592,370.408 \\\\n  \\\\&amp;quot;/&amp;gt;\\\\n&amp;lt;polyline clip-path=\\\\&amp;quot;url(#clip3801)\\\\&amp;quot; style=\\\\&amp;quot;stroke:#000000; stroke-width:1; stroke-opacity:1; fill:none\\\\&amp;quot; points=\\\\&amp;quot;\\\\n  230.05,375.869 230.05,370.408 \\\\n  \\\\&amp;quot;/&amp;gt;\\\\n&amp;lt;polyline clip-path=\\\\&amp;quot;url(#clip3801)\\\\&amp;quot; style=\\\\&amp;quot;stroke:#000000; stroke-width:1; stroke-opacity:1; fill:none\\\\&amp;quot; points=\\\\&amp;quot;\\\\n  397.641,375.869 397.641,370.408 \\\\n  \\\\&amp;quot;/&amp;gt;\\\\n&amp;lt;polyline clip-path=\\\\&amp;quot;url(#clip3801)\\\\&amp;quot; style=\\\\&amp;quot;stroke:#000000; stroke-width:1; stroke-opacity:1; fill:none\\\\&amp;quot; points=\\\\&amp;quot;\\\\n  565.232,375.869 565.232,370.408 \\\\n  \\\\&amp;quot;/&amp;gt;\\\\n&amp;lt;polyline clip-path=\\\\&amp;quot;url(#clip3801)\\\\&amp;quot; style=\\\\&amp;quot;stroke:#000000; stroke-width:1; stroke-opacity:1; fill:none\\\\&amp;quot; points=\\\\&amp;quot;\\\\n  47.376,370.208 55.3701,370.208 \\\\n  \\\\&amp;quot;/&amp;gt;\\\\n&amp;lt;polyline clip-path=\\\\&amp;quot;url(#clip3801)\\\\&amp;quot; style=\\\\&amp;quot;stroke:#000000; stroke-width:1; stroke-opacity:1; fill:none\\\\&amp;quot; points=\\\\&amp;quot;\\\\n  47.376,283.151 55.3701,283.151 \\\\n  \\\\&amp;quot;/&amp;gt;\\\\n&amp;lt;polyline clip-path=\\\\&amp;quot;url(#clip3801)\\\\&amp;quot; style=\\\\&amp;quot;stroke:#000000; stroke-width:1; stroke-opacity:1; fill:none\\\\&amp;quot; points=\\\\&amp;quot;\\\\n  47.376,196.094 55.3701,196.094 \\\\n  \\\\&amp;quot;/&amp;gt;\\\\n&amp;lt;polyline clip-path=\\\\&amp;quot;url(#clip3801)\\\\&amp;quot; style=\\\\&amp;quot;stroke:#000000; stroke-width:1; stroke-opacity:1; fill:none\\\\&amp;quot; points=\\\\&amp;quot;\\\\n  47.376,109.037 55.3701,109.037 \\\\n  \\\\&amp;quot;/&amp;gt;\\\\n&amp;lt;polyline clip-path=\\\\&amp;quot;url(#clip3801)\\\\&amp;quot; style=\\\\&amp;quot;stroke:#000000; stroke-width:1; stroke-opacity:1; fill:none\\\\&amp;quot; points=\\\\&amp;quot;\\\\n  47.376,21.9802 55.3701,21.9802 \\\\n  \\\\&amp;quot;/&amp;gt;\\\\n&amp;lt;g clip-path=\\\\&amp;quot;url(#clip3801)\\\\&amp;quot;&amp;gt;\\\\n&amp;lt;text style=\\\\&amp;quot;fill:#000000; fill-opacity:1; font-family:Arial,Helvetica Neue,Helvetica,sans-serif; font-size:12px; text-anchor:middle;\\\\&amp;quot; transform=\\\\&amp;quot;rotate(0, 62.4592, 389.669)\\\\&amp;quot; x=\\\\&amp;quot;62.4592\\\\&amp;quot; y=\\\\&amp;quot;389.669\\\\&amp;quot;&amp;gt;0&amp;lt;/text&amp;gt;\\\\n&amp;lt;/g&amp;gt;\\\\n&amp;lt;g clip-path=\\\\&amp;quot;url(#clip3801)\\\\&amp;quot;&amp;gt;\\\\n&amp;lt;text style=\\\\&amp;quot;fill:#000000; fill-opacity:1; font-family:Arial,Helvetica Neue,Helvetica,sans-serif; font-size:12px; text-anchor:middle;\\\\&amp;quot; transform=\\\\&amp;quot;rotate(0, 230.05, 389.669)\\\\&amp;quot; x=\\\\&amp;quot;230.05\\\\&amp;quot; y=\\\\&amp;quot;389.669\\\\&amp;quot;&amp;gt;10&amp;lt;/text&amp;gt;\\\\n&amp;lt;/g&amp;gt;\\\\n&amp;lt;g clip-path=\\\\&amp;quot;url(#clip3801)\\\\&amp;quot;&amp;gt;\\\\n&amp;lt;text style=\\\\&amp;quot;fill:#000000; fill-opacity:1; font-family:Arial,Helvetica Neue,Helvetica,sans-serif; font-size:12px; text-anchor:middle;\\\\&amp;quot; transform=\\\\&amp;quot;rotate(0, 397.641, 389.669)\\\\&amp;quot; x=\\\\&amp;quot;397.641\\\\&amp;quot; y=\\\\&amp;quot;389.669\\\\&amp;quot;&amp;gt;20&amp;lt;/text&amp;gt;\\\\n&amp;lt;/g&amp;gt;\\\\n&amp;lt;g clip-path=\\\\&amp;quot;url(#clip3801)\\\\&amp;quot;&amp;gt;\\\\n&amp;lt;text style=\\\\&amp;quot;fill:#000000; fill-opacity:1; font-family:Arial,Helvetica Neue,Helvetica,sans-serif; font-size:12px; text-anchor:middle;\\\\&amp;quot; transform=\\\\&amp;quot;rotate(0, 565.232, 389.669)\\\\&amp;quot; x=\\\\&amp;quot;565.232\\\\&amp;quot; y=\\\\&amp;quot;389.669\\\\&amp;quot;&amp;gt;30&amp;lt;/text&amp;gt;\\\\n&amp;lt;/g&amp;gt;\\\\n&amp;lt;g clip-path=\\\\&amp;quot;url(#clip3801)\\\\&amp;quot;&amp;gt;\\\\n&amp;lt;text style=\\\\&amp;quot;fill:#000000; fill-opacity:1; font-family:Arial,Helvetica Neue,Helvetica,sans-serif; font-size:12px; text-anchor:end;\\\\&amp;quot; transform=\\\\&amp;quot;rotate(0, 41.376, 374.708)\\\\&amp;quot; x=\\\\&amp;quot;41.376\\\\&amp;quot; y=\\\\&amp;quot;374.708\\\\&amp;quot;&amp;gt;-1.0&amp;lt;/text&amp;gt;\\\\n&amp;lt;/g&amp;gt;\\\\n&amp;lt;g clip-path=\\\\&amp;quot;url(#clip3801)\\\\&amp;quot;&amp;gt;\\\\n&amp;lt;text style=\\\\&amp;quot;fill:#000000; fill-opacity:1; font-family:Arial,Helvetica Neue,Helvetica,sans-serif; font-size:12px; text-anchor:end;\\\\&amp;quot; transform=\\\\&amp;quot;rotate(0, 41.376, 287.651)\\\\&amp;quot; x=\\\\&amp;quot;41.376\\\\&amp;quot; y=\\\\&amp;quot;287.651\\\\&amp;quot;&amp;gt;-0.5&amp;lt;/text&amp;gt;\\\\n&amp;lt;/g&amp;gt;\\\\n&amp;lt;g clip-path=\\\\&amp;quot;url(#clip3801)\\\\&amp;quot;&amp;gt;\\\\n&amp;lt;text style=\\\\&amp;quot;fill:#000000; fill-opacity:1; font-family:Arial,Helvetica Neue,Helvetica,sans-serif; font-size:12px; text-anchor:end;\\\\&amp;quot; transform=\\\\&amp;quot;rotate(0, 41.376, 200.594)\\\\&amp;quot; x=\\\\&amp;quot;41.376\\\\&amp;quot; y=\\\\&amp;quot;200.594\\\\&amp;quot;&amp;gt;0.0&amp;lt;/text&amp;gt;\\\\n&amp;lt;/g&amp;gt;\\\\n&amp;lt;g clip-path=\\\\&amp;quot;url(#clip3801)\\\\&amp;quot;&amp;gt;\\\\n&amp;lt;text style=\\\\&amp;quot;fill:#000000; fill-opacity:1; font-family:Arial,Helvetica Neue,Helvetica,sans-serif; font-size:12px; text-anchor:end;\\\\&amp;quot; transform=\\\\&amp;quot;rotate(0, 41.376, 113.537)\\\\&amp;quot; x=\\\\&amp;quot;41.376\\\\&amp;quot; y=\\\\&amp;quot;113.537\\\\&amp;quot;&amp;gt;0.5&amp;lt;/text&amp;gt;\\\\n&amp;lt;/g&amp;gt;\\\\n&amp;lt;g clip-path=\\\\&amp;quot;url(#clip3801)\\\\&amp;quot;&amp;gt;\\\\n&amp;lt;text style=\\\\&amp;quot;fill:#000000; fill-opacity:1; font-family:Arial,Helvetica Neue,Helvetica,sans-serif; font-size:12px; text-anchor:end;\\\\&amp;quot; transform=\\\\&amp;quot;rotate(0, 41.376, 26.4802)\\\\&amp;quot; x=\\\\&amp;quot;41.376\\\\&amp;quot; y=\\\\&amp;quot;26.4802\\\\&amp;quot;&amp;gt;1.0&amp;lt;/text&amp;gt;\\\\n&amp;lt;/g&amp;gt;\\\\n&amp;lt;polyline clip-path=\\\\&amp;quot;url(#clip3803)\\\\&amp;quot; style=\\\\&amp;quot;stroke:#009af9; stroke-width:1; stroke-opacity:1; fill:none\\\\&amp;quot; points=\\\\&amp;quot;\\\\n  62.4592,196.094 64.1351,188.146 65.811,170.316 67.4869,157.171 69.1628,163.208 70.8388,193.656 72.5147,239.704 74.1906,281.063 75.8665,295.111 77.5424,268.437 \\\\n  79.2183,205.096 80.8942,127.139 82.5701,66.4614 84.246,51.1841 85.9219,92.5483 87.5978,178.471 89.2737,277.109 90.9497,349.374 92.6256,365.211 94.3015,316.599 \\\\n  95.9774,221.488 97.6533,116.768 99.3292,43.1754 101.005,28.5881 102.681,76.8493 104.357,166.827 106.033,261.897 107.709,325.531 109.385,336.116 111.061,294.732 \\\\n  112.736,222.909 114.412,151.909 116.088,108.757 117.764,105.36 119.44,135.314 121.116,179.213 122.792,215.292 124.468,229.982 126.144,223.314 127.82,206.911 \\\\n  129.496,196.094 131.171,200.498 132.847,218.238 134.523,236.74 136.199,239.87 137.875,217.643 139.551,173.365 141.227,124.121 142.903,93.8231 144.579,101.749 \\\\n  146.255,152.041 147.931,229.5 149.606,304.308 151.282,344.147 152.958,328.572 154.634,259.109 156.31,160.203 157.986,70.0824 159.662,25.1692 161.338,44.6637 \\\\n  163.014,122.072 164.69,227.492 166.366,319.804 168.041,363.574 169.717,343.423 171.393,269.762 173.069,173.633 174.745,93.1439 176.421,57.598 178.097,76.1668 \\\\n  179.773,135.744 181.449,208.362 183.125,264.32 184.801,284.874 186.476,268.872 188.152,230.858 189.828,192.218 191.504,170.124 193.18,169.749 194.856,183.33 \\\\n  196.532,196.094 198.208,195.609 199.884,179.469 201.56,157.184 203.236,145.154 204.911,157.267 206.587,196.009 208.263,248.948 209.939,292.918 211.615,304.414 \\\\n  213.291,271.45 214.967,201.08 216.643,118.507 218.319,57.4951 219.995,45.956 221.671,93.0494 223.346,183.808 225.022,284.116 226.698,354.284 228.374,365.565 \\\\n  230.05,312.446 231.726,215.296 233.402,112.12 235.078,42.8916 236.754,33.2175 238.43,84.2933 240.106,173.303 241.781,263.798 243.457,321.281 245.133,327.107 \\\\n  246.809,284.844 248.485,216.788 250.161,152.784 251.837,116.823 253.513,117.51 255.189,146.406 256.865,184.319 258.541,211.936 260.216,219.323 261.892,209.72 \\\\n  263.568,196.094 265.244,192.619 266.92,205.785 268.596,229.958 270.272,249.865 271.948,248.895 273.624,218.986 275.3,166.857 276.976,112.956 278.651,83.0163 \\\\n  280.327,95.8479 282.003,153.14 283.679,236.453 285.355,313.446 287.031,351.118 288.707,330.401 290.383,255.512 292.059,153.552 293.735,64.0996 295.411,23.0023 \\\\n  297.086,47.3132 298.762,127.926 300.438,233.188 302.114,321.984 303.79,360.66 305.466,336.515 307.142,262.199 308.818,169.397 310.494,94.8688 312.17,65.1439 \\\\n  313.845,86.4955 315.521,144.2 317.197,210.803 318.873,259.112 320.549,273.798 322.225,256.479 323.901,222.518 325.577,191.728 327.253,177.958 328.929,182.766 \\\\n  330.605,196.094 332.28,203.234 333.956,194.161 335.632,170.158 337.308,144.067 338.984,133.811 340.66,152.342 342.336,199.227 344.012,258.472 345.688,304.309 \\\\n  347.364,312.701 349.04,273.361 350.715,196.397 352.391,109.975 354.067,49.376 355.743,41.9532 357.419,94.6004 359.095,189.536 360.771,290.662 362.447,358.079 \\\\n  364.123,364.645 365.799,307.428 367.475,209.037 369.15,108.228 370.826,43.8414 372.502,39.0018 374.178,92.3002 375.854,179.512 377.53,264.745 379.206,315.84 \\\\n  380.882,317.216 382.558,274.773 384.234,211.238 385.91,154.692 387.585,125.883 389.261,130.15 390.937,157.269 392.613,188.613 394.289,207.594 395.965,207.99 \\\\n  397.641,196.094 399.317,185.897 400.993,190.105 402.669,211.896 404.345,241.949 406.02,262.559 407.696,256.983 409.372,219.332 411.048,159.783 412.724,101.951 \\\\n  414.4,73.0478 416.076,91.0891 417.752,155.155 419.428,243.654 421.104,322.023 422.78,356.954 424.455,331.028 426.131,251.193 427.807,146.999 429.483,58.9994 \\\\n  431.159,22.1145 432.835,51.0671 434.511,134.215 436.187,238.46 437.863,323.079 439.539,356.492 441.215,328.745 442.89,254.544 444.566,165.859 446.242,97.7417 \\\\n  447.918,73.7548 449.594,97.3252 451.27,152.386 452.946,212.358 454.622,252.839 456.298,261.986 457.974,244.017 459.65,214.786 461.325,192.209 463.001,186.642 \\\\n  464.677,196.094 466.353,208.481 468.029,209.496 469.705,191.771 471.381,160.312 473.057,131.102 474.733,123.25 476.409,148.462 478.085,203.248 479.76,268.156 \\\\n  481.436,315.11 483.112,319.903 484.788,274.186 486.464,191.141 488.14,101.669 489.816,42.2028 491.492,39.2008 493.168,97.1417 494.844,195.539 496.52,296.634 \\\\n  498.195,360.699 499.871,362.474 501.547,301.643 503.223,202.834 504.899,105.182 506.575,46.0392 508.251,45.8723 509.927,100.75 511.603,185.341 513.279,264.685 \\\\n  514.955,309.241 516.63,306.549 518.306,264.647 519.982,206.353 521.658,157.644 523.334,135.861 525.01,143.152 526.686,167.782 528.362,192.035 530.038,202.298 \\\\n  531.714,196.094 533.39,182.572 535.065,176.419 536.741,188.57 538.417,218.759 540.093,254.083 541.769,274.696 543.445,264.067 545.121,218.706 546.797,152.245 \\\\n  548.473,91.2354 550.149,64.0158 551.825,87.4934 553.5,158.019 555.176,250.981 556.852,329.923 558.528,361.597 560.204,330.48 561.88,246.252 563.556,140.664 \\\\n  565.232,54.87 \\\\n  \\\\&amp;quot;/&amp;gt;\\\\n&amp;lt;polygon clip-path=\\\\&amp;quot;url(#clip3801)\\\\&amp;quot; points=\\\\&amp;quot;\\\\n489.608,62.931 562.315,62.931 562.315,32.691 489.608,32.691 \\\\n  \\\\&amp;quot; fill=\\\\&amp;quot;#ffffff\\\\&amp;quot; fill-rule=\\\\&amp;quot;evenodd\\\\&amp;quot; fill-opacity=\\\\&amp;quot;1\\\\&amp;quot;/&amp;gt;\\\\n&amp;lt;polyline clip-path=\\\\&amp;quot;url(#clip3801)\\\\&amp;quot; style=\\\\&amp;quot;stroke:#000000; stroke-width:1; stroke-opacity:1; fill:none\\\\&amp;quot; points=\\\\&amp;quot;\\\\n  489.608,62.931 562.315,62.931 562.315,32.691 489.608,32.691 489.608,62.931 \\\\n  \\\\&amp;quot;/&amp;gt;\\\\n&amp;lt;polyline clip-path=\\\\&amp;quot;url(#clip3801)\\\\&amp;quot; style=\\\\&amp;quot;stroke:#009af9; stroke-width:1; stroke-opacity:1; fill:none\\\\&amp;quot; points=\\\\&amp;quot;\\\\n  495.608,47.811 531.608,47.811 \\\\n  \\\\&amp;quot;/&amp;gt;\\\\n&amp;lt;g clip-path=\\\\&amp;quot;url(#clip3801)\\\\&amp;quot;&amp;gt;\\\\n&amp;lt;text style=\\\\&amp;quot;fill:#000000; fill-opacity:1; font-family:Arial,Helvetica Neue,Helvetica,sans-serif; font-size:12px; text-anchor:start;\\\\&amp;quot; transform=\\\\&amp;quot;rotate(0, 537.608, 52.311)\\\\&amp;quot; x=\\\\&amp;quot;537.608\\\\&amp;quot; y=\\\\&amp;quot;52.311\\\\&amp;quot;&amp;gt;y1&amp;lt;/text&amp;gt;\\\\n&amp;lt;/g&amp;gt;\\\\n&amp;lt;/svg&amp;gt;\\\\n&amp;quot;},&amp;quot;nodeType&amp;quot;:&amp;quot;DOM&amp;quot;,&amp;quot;type&amp;quot;:&amp;quot;node&amp;quot;,&amp;quot;instanceArgs&amp;quot;:{&amp;quot;namespace&amp;quot;:&amp;quot;html&amp;quot;,&amp;quot;tag&amp;quot;:&amp;quot;div&amp;quot;},&amp;quot;children&amp;quot;:[]}]})&lt;/unsafe-script&gt;&quot;},&quot;nodeType&quot;:&quot;DOM&quot;,&quot;type&quot;:&quot;node&quot;,&quot;instanceArgs&quot;:{&quot;namespace&quot;:&quot;html&quot;,&quot;tag&quot;:&quot;div&quot;},&quot;children&quot;:[]}]}]})</unsafe-script>\n",
       "</div>"
      ],
      "text/plain": [
       "Widget{:manipulate,Any}(OrderedDict{Symbol,Any}(:freq1=>Widget{:togglebuttons,Any}(OrderedDict{Symbol,Any}(:options=>Observable{OrderedDict{String,Float64}} with 2 listeners. Value:\n",
       "OrderedDict(\"pi/4\"=>0.785398,\"π/2\"=>1.5708,\"3π/4\"=>2.35619,\"π\"=>3.14159),:index=>Observable{Any} with 2 listeners. Value:\n",
       "1,:vals2idxs=>Observable{Any} with 1 listeners. Value:\n",
       "[0.785398, 1.5708, 2.35619, 3.14159]), Observable{Any} with 2 listeners. Value:\n",
       "0.785398, Scope(\"knockout-component-1f4671df-a073-49fd-bcbe-8ddb397770d1\", Node{DOM}(DOM(:html, :div), Any[Node{DOM}(DOM(:html, :div), Any[Node{DOM}(DOM(:html, :label), Any[\"freq1\"], Dict{Symbol,Any}(:className=>\"interact \",:style=>Dict{Any,Any}(:padding=>\"5px 10px 0px 10px\")), 1)], Dict{Symbol,Any}(:attributes=>Dict(\"class\"=>\"interact-flex-row-left\")), 2), Node{DOM}(DOM(:html, :div), Any[Node{DOM}(DOM(:html, :div), Any[Node{DOM}(DOM(:html, :button), Any[Node{DOM}(DOM(:html, :label), Any[], Dict{Symbol,Any}(:attributes=>Dict(\"data-bind\"=>\"text : key\")), 0)], Dict{Symbol,Any}(:attributes=>Dict(\"data-bind\"=>\"click: function () {\\$root.index(val)}, css: {'is-primary is-selected' : \\$root.index() == val, 'button is-fullwidth' : true}\")), 1)], Dict{Symbol,Any}(:attributes=>(\"data-bind\"=>\"foreach : options_js\"),:className=>\"field is-grouped has-addons is-oneline is-centered\"), 2)], Dict{Symbol,Any}(:attributes=>Dict(\"class\"=>\"interact-flex-row-center\")), 3), Node{DOM}(DOM(:html, :div), Any[Node{DOM}(DOM(:html, :div), Any[], Dict{Symbol,Any}(), 0)], Dict{Symbol,Any}(:attributes=>Dict(\"class\"=>\"interact-flex-row-right\")), 1)], Dict{Symbol,Any}(:attributes=>Dict(\"class\"=>\"interact-flex-row\")), 9), Dict{String,Tuple{Observables.AbstractObservable,Union{Nothing, Bool}}}(\"options_js\"=>(Observable{Any} with 1 listeners. Value:\n",
       "OrderedDict[OrderedDict{String,Any}(\"key\"=>\"pi/4\",\"val\"=>1,\"id\"=>\"idBr3GCOTe\"), OrderedDict{String,Any}(\"key\"=>\"π/2\",\"val\"=>2,\"id\"=>\"idDsau5BEg\"), OrderedDict{String,Any}(\"key\"=>\"3π/4\",\"val\"=>3,\"id\"=>\"idmb1zi3yv\"), OrderedDict{String,Any}(\"key\"=>\"π\",\"val\"=>4,\"id\"=>\"idzm5MqY7V\")], nothing),\"index\"=>(Observable{Any} with 2 listeners. Value:\n",
       "1, nothing)), Set(String[]), nothing, Any[\"knockout\"=>\"/home/raphaelb/.julia/packages/Knockout/JIqpG/src/../assets/knockout.js\", \"knockout_punches\"=>\"/home/raphaelb/.julia/packages/Knockout/JIqpG/src/../assets/knockout_punches.js\", \"/home/raphaelb/.julia/packages/InteractBase/3SqBl/src/../assets/all.js\", \"/home/raphaelb/.julia/packages/InteractBase/3SqBl/src/../assets/style.css\", \"/home/raphaelb/.julia/packages/InteractBulma/Ohu5Y/src/../assets/main.css\"], Dict{Any,Any}(\"_promises\"=>Dict{Any,Any}(\"importsLoaded\"=>Any[JSString(\"function (ko, koPunches) {\\n    ko.punches.enableAll();\\n    ko.bindingHandlers.numericValue = {\\n        init : function(element, valueAccessor, allBindings, data, context) {\\n            var stringified = ko.observable(ko.unwrap(valueAccessor()));\\n            stringified.subscribe(function(value) {\\n                var val = parseFloat(value);\\n                if (!isNaN(val)) {\\n                    valueAccessor()(val);\\n                }\\n            })\\n            valueAccessor().subscribe(function(value) {\\n                var str = JSON.stringify(value);\\n                if ((str == \\\"0\\\") && ([\\\"-0\\\", \\\"-0.\\\"].indexOf(stringified()) >= 0))\\n                     return;\\n                 if ([\\\"null\\\", \\\"\\\"].indexOf(str) >= 0)\\n                     return;\\n                stringified(str);\\n            })\\n            ko.applyBindingsToNode(element, { value: stringified, valueUpdate: allBindings.get('valueUpdate')}, context);\\n        }\\n    };\\n    var json_data = JSON.parse(\\\"{\\\\\\\"options_js\\\\\\\":[{\\\\\\\"key\\\\\\\":\\\\\\\"pi/4\\\\\\\",\\\\\\\"val\\\\\\\":1,\\\\\\\"id\\\\\\\":\\\\\\\"idBr3GCOTe\\\\\\\"},{\\\\\\\"key\\\\\\\":\\\\\\\"π/2\\\\\\\",\\\\\\\"val\\\\\\\":2,\\\\\\\"id\\\\\\\":\\\\\\\"idDsau5BEg\\\\\\\"},{\\\\\\\"key\\\\\\\":\\\\\\\"3π/4\\\\\\\",\\\\\\\"val\\\\\\\":3,\\\\\\\"id\\\\\\\":\\\\\\\"idmb1zi3yv\\\\\\\"},{\\\\\\\"key\\\\\\\":\\\\\\\"π\\\\\\\",\\\\\\\"val\\\\\\\":4,\\\\\\\"id\\\\\\\":\\\\\\\"idzm5MqY7V\\\\\\\"}],\\\\\\\"index\\\\\\\":1}\\\");\\n    var self = this;\\n    function AppViewModel() {\\n        for (var key in json_data) {\\n            var el = json_data[key];\\n            this[key] = Array.isArray(el) ? ko.observableArray(el) : ko.observable(el);\\n        }\\n        \\n        \\n        [this[\\\"options_js\\\"].subscribe((function (val){!(this.valueFromJulia[\\\"options_js\\\"]) ? (WebIO.setval({\\\"name\\\":\\\"options_js\\\",\\\"scope\\\":\\\"knockout-component-1f4671df-a073-49fd-bcbe-8ddb397770d1\\\",\\\"id\\\":\\\"ob_05\\\",\\\"type\\\":\\\"observable\\\"},val)) : undefined; return this.valueFromJulia[\\\"options_js\\\"]=false}),self),this[\\\"index\\\"].subscribe((function (val){!(this.valueFromJulia[\\\"index\\\"]) ? (WebIO.setval({\\\"name\\\":\\\"index\\\",\\\"scope\\\":\\\"knockout-component-1f4671df-a073-49fd-bcbe-8ddb397770d1\\\",\\\"id\\\":\\\"ob_04\\\",\\\"type\\\":\\\"observable\\\"},val)) : undefined; return this.valueFromJulia[\\\"index\\\"]=false}),self)]\\n        \\n    }\\n    self.model = new AppViewModel();\\n    self.valueFromJulia = {};\\n    for (var key in json_data) {\\n        self.valueFromJulia[key] = false;\\n    }\\n    ko.applyBindings(self.model, self.dom);\\n}\\n\")]),\"options_js\"=>Any[JSString(\"(function (val){return (val!=this.model[\\\"options_js\\\"]()) ? (this.valueFromJulia[\\\"options_js\\\"]=true, this.model[\\\"options_js\\\"](val)) : undefined})\")],\"index\"=>Any[JSString(\"(function (val){return (val!=this.model[\\\"index\\\"]()) ? (this.valueFromJulia[\\\"index\\\"]=true, this.model[\\\"index\\\"](val)) : undefined})\")]), ConnectionPool(Channel{Any}(sz_max:9223372036854775807,sz_curr:2), Set(AbstractConnection[]), Channel{AbstractConnection}(sz_max:32,sz_curr:0))), ##52#53{#dom#14{##dom#12#13{Dict{Any,Any},DOM}},typeof(scope)}(#dom#14{##dom#12#13{Dict{Any,Any},DOM}}(##dom#12#13{Dict{Any,Any},DOM}(Dict{Any,Any}(:className=>\"field\"), DOM(:html, :div))), scope)),:freq2=>Widget{:slider,Float64}(OrderedDict{Symbol,Any}(:changes=>Observable{Int64} with 1 listeners. Value:\n",
       "0,:index=>Observable{Any} with 2 listeners. Value:\n",
       "63,:formatted_vals=>Observable{Any} with 1 listeners. Value:\n",
       "[\"0.01\", \"0.11\", \"0.21\", \"0.31\", \"0.41\", \"0.51\", \"0.61\", \"0.71\", \"0.81\", \"0.91\"  …  \"11.61\", \"11.71\", \"11.81\", \"11.91\", \"12.01\", \"12.11\", \"12.21\", \"12.31\", \"12.41\", \"12.51\"],:formatted_value=>Observable{String} with 1 listeners. Value:\n",
       "\"6.21\",:value=>Observable{Float64} with 2 listeners. Value:\n",
       "6.21), Observable{Float64} with 2 listeners. Value:\n",
       "6.21, Scope(\"knockout-component-e344e865-e7eb-4897-b365-a088f184901e\", Node{DOM}(DOM(:html, :div), Any[Node{DOM}(DOM(:html, :div), Any[Node{DOM}(DOM(:html, :label), Any[\"freq2\"], Dict{Symbol,Any}(:className=>\"interact \",:style=>Dict{Any,Any}(:padding=>\"5px 10px 0px 10px\")), 1)], Dict{Symbol,Any}(:attributes=>Dict(\"class\"=>\"interact-flex-row-left\")), 2), Node{DOM}(DOM(:html, :div), Any[Node{DOM}(DOM(:html, :input), Any[], Dict{Symbol,Any}(:max=>126,:min=>1,:attributes=>Dict{Any,Any}(:type=>\"range\",Symbol(\"data-bind\")=>\"numericValue: index, valueUpdate: 'input', event: {change : function () {this.changes(this.changes()+1)}}\",\"orient\"=>\"horizontal\"),:step=>1,:className=>\"slider slider is-fullwidth\",:style=>Dict{Any,Any}()), 0)], Dict{Symbol,Any}(:attributes=>Dict(\"class\"=>\"interact-flex-row-center\")), 1), Node{DOM}(DOM(:html, :div), Any[Node{DOM}(DOM(:html, :p), Any[], Dict{Symbol,Any}(:attributes=>Dict(\"data-bind\"=>\"text: formatted_value\")), 0)], Dict{Symbol,Any}(:attributes=>Dict(\"class\"=>\"interact-flex-row-right\")), 1)], Dict{Symbol,Any}(:attributes=>Dict(\"class\"=>\"interact-flex-row\")), 7), Dict{String,Tuple{Observables.AbstractObservable,Union{Nothing, Bool}}}(\"formatted_vals\"=>(Observable{Any} with 1 listeners. Value:\n",
       "[\"0.01\", \"0.11\", \"0.21\", \"0.31\", \"0.41\", \"0.51\", \"0.61\", \"0.71\", \"0.81\", \"0.91\"  …  \"11.61\", \"11.71\", \"11.81\", \"11.91\", \"12.01\", \"12.11\", \"12.21\", \"12.31\", \"12.41\", \"12.51\"], nothing),\"changes\"=>(Observable{Int64} with 1 listeners. Value:\n",
       "0, nothing),\"formatted_value\"=>(Observable{String} with 1 listeners. Value:\n",
       "\"6.21\", nothing),\"index\"=>(Observable{Any} with 2 listeners. Value:\n",
       "63, nothing)), Set(String[]), nothing, Any[\"knockout\"=>\"/home/raphaelb/.julia/packages/Knockout/JIqpG/src/../assets/knockout.js\", \"knockout_punches\"=>\"/home/raphaelb/.julia/packages/Knockout/JIqpG/src/../assets/knockout_punches.js\", \"/home/raphaelb/.julia/packages/InteractBase/3SqBl/src/../assets/all.js\", \"/home/raphaelb/.julia/packages/InteractBase/3SqBl/src/../assets/style.css\", \"/home/raphaelb/.julia/packages/InteractBulma/Ohu5Y/src/../assets/main.css\"], Dict{Any,Any}(\"formatted_vals\"=>Any[JSString(\"(function (val){return (val!=this.model[\\\"formatted_vals\\\"]()) ? (this.valueFromJulia[\\\"formatted_vals\\\"]=true, this.model[\\\"formatted_vals\\\"](val)) : undefined})\")],\"_promises\"=>Dict{Any,Any}(\"importsLoaded\"=>Any[JSString(\"function (ko, koPunches) {\\n    ko.punches.enableAll();\\n    ko.bindingHandlers.numericValue = {\\n        init : function(element, valueAccessor, allBindings, data, context) {\\n            var stringified = ko.observable(ko.unwrap(valueAccessor()));\\n            stringified.subscribe(function(value) {\\n                var val = parseFloat(value);\\n                if (!isNaN(val)) {\\n                    valueAccessor()(val);\\n                }\\n            })\\n            valueAccessor().subscribe(function(value) {\\n                var str = JSON.stringify(value);\\n                if ((str == \\\"0\\\") && ([\\\"-0\\\", \\\"-0.\\\"].indexOf(stringified()) >= 0))\\n                     return;\\n                 if ([\\\"null\\\", \\\"\\\"].indexOf(str) >= 0)\\n                     return;\\n                stringified(str);\\n            })\\n            ko.applyBindingsToNode(element, { value: stringified, valueUpdate: allBindings.get('valueUpdate')}, context);\\n        }\\n    };\\n    var json_data = JSON.parse(\\\"{\\\\\\\"formatted_vals\\\\\\\":[\\\\\\\"0.01\\\\\\\",\\\\\\\"0.11\\\\\\\",\\\\\\\"0.21\\\\\\\",\\\\\\\"0.31\\\\\\\",\\\\\\\"0.41\\\\\\\",\\\\\\\"0.51\\\\\\\",\\\\\\\"0.61\\\\\\\",\\\\\\\"0.71\\\\\\\",\\\\\\\"0.81\\\\\\\",\\\\\\\"0.91\\\\\\\",\\\\\\\"1.01\\\\\\\",\\\\\\\"1.11\\\\\\\",\\\\\\\"1.21\\\\\\\",\\\\\\\"1.31\\\\\\\",\\\\\\\"1.41\\\\\\\",\\\\\\\"1.51\\\\\\\",\\\\\\\"1.61\\\\\\\",\\\\\\\"1.71\\\\\\\",\\\\\\\"1.81\\\\\\\",\\\\\\\"1.91\\\\\\\",\\\\\\\"2.01\\\\\\\",\\\\\\\"2.11\\\\\\\",\\\\\\\"2.21\\\\\\\",\\\\\\\"2.31\\\\\\\",\\\\\\\"2.41\\\\\\\",\\\\\\\"2.51\\\\\\\",\\\\\\\"2.61\\\\\\\",\\\\\\\"2.71\\\\\\\",\\\\\\\"2.81\\\\\\\",\\\\\\\"2.91\\\\\\\",\\\\\\\"3.01\\\\\\\",\\\\\\\"3.11\\\\\\\",\\\\\\\"3.21\\\\\\\",\\\\\\\"3.31\\\\\\\",\\\\\\\"3.41\\\\\\\",\\\\\\\"3.51\\\\\\\",\\\\\\\"3.61\\\\\\\",\\\\\\\"3.71\\\\\\\",\\\\\\\"3.81\\\\\\\",\\\\\\\"3.91\\\\\\\",\\\\\\\"4.01\\\\\\\",\\\\\\\"4.11\\\\\\\",\\\\\\\"4.21\\\\\\\",\\\\\\\"4.31\\\\\\\",\\\\\\\"4.41\\\\\\\",\\\\\\\"4.51\\\\\\\",\\\\\\\"4.61\\\\\\\",\\\\\\\"4.71\\\\\\\",\\\\\\\"4.81\\\\\\\",\\\\\\\"4.91\\\\\\\",\\\\\\\"5.01\\\\\\\",\\\\\\\"5.11\\\\\\\",\\\\\\\"5.21\\\\\\\",\\\\\\\"5.31\\\\\\\",\\\\\\\"5.41\\\\\\\",\\\\\\\"5.51\\\\\\\",\\\\\\\"5.61\\\\\\\",\\\\\\\"5.71\\\\\\\",\\\\\\\"5.81\\\\\\\",\\\\\\\"5.91\\\\\\\",\\\\\\\"6.01\\\\\\\",\\\\\\\"6.11\\\\\\\",\\\\\\\"6.21\\\\\\\",\\\\\\\"6.31\\\\\\\",\\\\\\\"6.41\\\\\\\",\\\\\\\"6.51\\\\\\\",\\\\\\\"6.61\\\\\\\",\\\\\\\"6.71\\\\\\\",\\\\\\\"6.81\\\\\\\",\\\\\\\"6.91\\\\\\\",\\\\\\\"7.01\\\\\\\",\\\\\\\"7.11\\\\\\\",\\\\\\\"7.21\\\\\\\",\\\\\\\"7.31\\\\\\\",\\\\\\\"7.41\\\\\\\",\\\\\\\"7.51\\\\\\\",\\\\\\\"7.61\\\\\\\",\\\\\\\"7.71\\\\\\\",\\\\\\\"7.81\\\\\\\",\\\\\\\"7.91\\\\\\\",\\\\\\\"8.01\\\\\\\",\\\\\\\"8.11\\\\\\\",\\\\\\\"8.21\\\\\\\",\\\\\\\"8.31\\\\\\\",\\\\\\\"8.41\\\\\\\",\\\\\\\"8.51\\\\\\\",\\\\\\\"8.61\\\\\\\",\\\\\\\"8.71\\\\\\\",\\\\\\\"8.81\\\\\\\",\\\\\\\"8.91\\\\\\\",\\\\\\\"9.01\\\\\\\",\\\\\\\"9.11\\\\\\\",\\\\\\\"9.21\\\\\\\",\\\\\\\"9.31\\\\\\\",\\\\\\\"9.41\\\\\\\",\\\\\\\"9.51\\\\\\\",\\\\\\\"9.61\\\\\\\",\\\\\\\"9.71\\\\\\\",\\\\\\\"9.81\\\\\\\",\\\\\\\"9.91\\\\\\\",\\\\\\\"10.01\\\\\\\",\\\\\\\"10.11\\\\\\\",\\\\\\\"10.21\\\\\\\",\\\\\\\"10.31\\\\\\\",\\\\\\\"10.41\\\\\\\",\\\\\\\"10.51\\\\\\\",\\\\\\\"10.61\\\\\\\",\\\\\\\"10.71\\\\\\\",\\\\\\\"10.81\\\\\\\",\\\\\\\"10.91\\\\\\\",\\\\\\\"11.01\\\\\\\",\\\\\\\"11.11\\\\\\\",\\\\\\\"11.21\\\\\\\",\\\\\\\"11.31\\\\\\\",\\\\\\\"11.41\\\\\\\",\\\\\\\"11.51\\\\\\\",\\\\\\\"11.61\\\\\\\",\\\\\\\"11.71\\\\\\\",\\\\\\\"11.81\\\\\\\",\\\\\\\"11.91\\\\\\\",\\\\\\\"12.01\\\\\\\",\\\\\\\"12.11\\\\\\\",\\\\\\\"12.21\\\\\\\",\\\\\\\"12.31\\\\\\\",\\\\\\\"12.41\\\\\\\",\\\\\\\"12.51\\\\\\\"],\\\\\\\"changes\\\\\\\":0,\\\\\\\"formatted_value\\\\\\\":\\\\\\\"6.21\\\\\\\",\\\\\\\"index\\\\\\\":63}\\\");\\n    var self = this;\\n    function AppViewModel() {\\n        for (var key in json_data) {\\n            var el = json_data[key];\\n            this[key] = Array.isArray(el) ? ko.observableArray(el) : ko.observable(el);\\n        }\\n        \\n        \\n        [this[\\\"formatted_vals\\\"].subscribe((function (val){!(this.valueFromJulia[\\\"formatted_vals\\\"]) ? (WebIO.setval({\\\"name\\\":\\\"formatted_vals\\\",\\\"scope\\\":\\\"knockout-component-e344e865-e7eb-4897-b365-a088f184901e\\\",\\\"id\\\":\\\"ob_08\\\",\\\"type\\\":\\\"observable\\\"},val)) : undefined; return this.valueFromJulia[\\\"formatted_vals\\\"]=false}),self),this[\\\"changes\\\"].subscribe((function (val){!(this.valueFromJulia[\\\"changes\\\"]) ? (WebIO.setval({\\\"name\\\":\\\"changes\\\",\\\"scope\\\":\\\"knockout-component-e344e865-e7eb-4897-b365-a088f184901e\\\",\\\"id\\\":\\\"ob_10\\\",\\\"type\\\":\\\"observable\\\"},val)) : undefined; return this.valueFromJulia[\\\"changes\\\"]=false}),self),this[\\\"formatted_value\\\"].subscribe((function (val){!(this.valueFromJulia[\\\"formatted_value\\\"]) ? (WebIO.setval({\\\"name\\\":\\\"formatted_value\\\",\\\"scope\\\":\\\"knockout-component-e344e865-e7eb-4897-b365-a088f184901e\\\",\\\"id\\\":\\\"ob_09\\\",\\\"type\\\":\\\"observable\\\"},val)) : undefined; return this.valueFromJulia[\\\"formatted_value\\\"]=false}),self),this[\\\"index\\\"].subscribe((function (val){!(this.valueFromJulia[\\\"index\\\"]) ? (WebIO.setval({\\\"name\\\":\\\"index\\\",\\\"scope\\\":\\\"knockout-component-e344e865-e7eb-4897-b365-a088f184901e\\\",\\\"id\\\":\\\"ob_07\\\",\\\"type\\\":\\\"observable\\\"},val)) : undefined; return this.valueFromJulia[\\\"index\\\"]=false}),self)]\\n        \\n    }\\n    self.model = new AppViewModel();\\n    self.valueFromJulia = {};\\n    for (var key in json_data) {\\n        self.valueFromJulia[key] = false;\\n    }\\n    ko.applyBindings(self.model, self.dom);\\n}\\n\")]),\"changes\"=>Any[JSString(\"(function (val){return (val!=this.model[\\\"changes\\\"]()) ? (this.valueFromJulia[\\\"changes\\\"]=true, this.model[\\\"changes\\\"](val)) : undefined})\")],\"formatted_value\"=>Any[JSString(\"(function (val){return (val!=this.model[\\\"formatted_value\\\"]()) ? (this.valueFromJulia[\\\"formatted_value\\\"]=true, this.model[\\\"formatted_value\\\"](val)) : undefined})\")],\"index\"=>Any[JSString(\"(function (val){return (val!=this.model[\\\"index\\\"]()) ? (this.valueFromJulia[\\\"index\\\"]=true, this.model[\\\"index\\\"](val)) : undefined})\"), JSString(\"(function (val){return WebIO.setval({\\\"name\\\":\\\"formatted_value\\\",\\\"scope\\\":\\\"knockout-component-e344e865-e7eb-4897-b365-a088f184901e\\\",\\\"id\\\":\\\"ob_09\\\",\\\"type\\\":\\\"observable\\\"},WebIO.getval({\\\"name\\\":\\\"formatted_vals\\\",\\\"scope\\\":\\\"knockout-component-e344e865-e7eb-4897-b365-a088f184901e\\\",\\\"id\\\":\\\"ob_08\\\",\\\"type\\\":\\\"observable\\\"})[(WebIO.getval({\\\"name\\\":\\\"index\\\",\\\"scope\\\":\\\"knockout-component-e344e865-e7eb-4897-b365-a088f184901e\\\",\\\"id\\\":\\\"ob_07\\\",\\\"type\\\":\\\"observable\\\"})-1)])})\")]), ConnectionPool(Channel{Any}(sz_max:9223372036854775807,sz_curr:4), Set(AbstractConnection[]), Channel{AbstractConnection}(sz_max:32,sz_curr:0))), ##52#53{#dom#14{##dom#12#13{Dict{Any,Any},DOM}},typeof(scope)}(#dom#14{##dom#12#13{Dict{Any,Any},DOM}}(##dom#12#13{Dict{Any,Any},DOM}(Dict{Any,Any}(:className=>\"field\"), DOM(:html, :div))), scope))), Observable{Any} with 0 listeners. Value:\n",
       "Plot{Plots.GRBackend() n=1}, nothing, getfield(Main, Symbol(\"##18#20\"))(Core.Box(Observable{Any} with 0 listeners. Value:\n",
       "Plot{Plots.GRBackend() n=1})))"
      ]
     },
     "metadata": {},
     "output_type": "display_data"
    }
   ],
   "source": [
    "x = y = 0:0.1:30\n",
    "\n",
    "freqs = OrderedDict(zip([\"pi/4\", \"π/2\", \"3π/4\", \"π\"], [π/4, π/2, 3π/4, π]))\n",
    "\n",
    "mp = @manipulate for freq1 in freqs, freq2 in slider(0.01:0.1:4π; label=\"freq2\")\n",
    "    y = @. sin(freq1*x) * sin(freq2*x)\n",
    "    plot(x, y)\n",
    "end\n",
    "\n",
    "display(mp) # do not work online on mybinder for now.\n"
   ]
  },
  {
   "cell_type": "markdown",
   "metadata": {
    "slideshow": {
     "slide_type": "slide"
    }
   },
   "source": [
    "## Automatic differentiation\n",
    "\n"
   ]
  },
  {
   "cell_type": "code",
   "execution_count": 50,
   "metadata": {
    "slideshow": {
     "slide_type": "fragment"
    }
   },
   "outputs": [
    {
     "name": "stdout",
     "output_type": "stream",
     "text": [
      "g(x) = [23.1928, 21.2858, 22.509, 22.0068, 21.1942]\n",
      "ForwardDiff.hessian(f, x) = [31.4369 48.0747 51.1381 49.8991 47.8324; 48.0747 51.16 47.2696 46.1251 44.2164; 51.1381 47.2696 67.3522 49.0608 47.0319; 49.8991 46.1251 49.0608 61.3345 45.893; 47.8324 44.2164 47.0319 45.893 49.4467]\n"
     ]
    },
    {
     "data": {
      "text/plain": [
       "5×5 Array{Float64,2}:\n",
       " 31.4369  48.0747  51.1381  49.8991  47.8324\n",
       " 48.0747  51.16    47.2696  46.1251  44.2164\n",
       " 51.1381  47.2696  67.3522  49.0608  47.0319\n",
       " 49.8991  46.1251  49.0608  61.3345  45.893 \n",
       " 47.8324  44.2164  47.0319  45.893   49.4467"
      ]
     },
     "execution_count": 50,
     "metadata": {},
     "output_type": "execute_result"
    }
   ],
   "source": [
    "#Pkg.add(\"ForwardDiff\")\n",
    "using ForwardDiff\n",
    "\n",
    "f(x::Vector) = sum(sin, x) + prod(tan, x) * sum(sqrt, x);\n",
    "\n",
    "x = rand(5) # small size for example's sake\n",
    "\n",
    "g = x -> ForwardDiff.gradient(f, x); # g = ∇f\n",
    "\n",
    "@show g(x)\n",
    "\n",
    "@show ForwardDiff.hessian(f, x)"
   ]
  },
  {
   "cell_type": "markdown",
   "metadata": {
    "slideshow": {
     "slide_type": "slide"
    }
   },
   "source": [
    "# Interop\n",
    "\n",
    "Interop possible avec Python, Matlab, R, Java, C/Fortran,..."
   ]
  },
  {
   "cell_type": "code",
   "execution_count": 51,
   "metadata": {
    "slideshow": {
     "slide_type": "fragment"
    }
   },
   "outputs": [
    {
     "data": {
      "text/plain": [
       "0.0"
      ]
     },
     "execution_count": 51,
     "metadata": {},
     "output_type": "execute_result"
    }
   ],
   "source": [
    "#Pkg.add(\"PyCall\") # add python binding package\n",
    "\n",
    "using PyCall \n",
    "@pyimport math\n",
    "math.sin(math.pi / 4) - sin(pi / 4) # python - julia = 0"
   ]
  },
  {
   "cell_type": "markdown",
   "metadata": {
    "slideshow": {
     "slide_type": "slide"
    }
   },
   "source": [
    "### Macros: code that transforms code"
   ]
  },
  {
   "cell_type": "code",
   "execution_count": 41,
   "metadata": {
    "slideshow": {
     "slide_type": "fragment"
    }
   },
   "outputs": [
    {
     "name": "stdout",
     "output_type": "stream",
     "text": [
      "  0.085254 seconds (138.90 k allocations: 7.234 MiB)\n"
     ]
    },
    {
     "data": {
      "text/plain": [
       "8//9"
      ]
     },
     "execution_count": 41,
     "metadata": {},
     "output_type": "execute_result"
    }
   ],
   "source": [
    "# @time macro inserts timing and memory profiling into expression, then evaluates, and prints\n",
    "@time f(2//3)"
   ]
  },
  {
   "cell_type": "code",
   "execution_count": 42,
   "metadata": {
    "slideshow": {
     "slide_type": "fragment"
    }
   },
   "outputs": [
    {
     "data": {
      "text/html": [
       "exp(x::<b>Real</b>) in Base.Math at <a href=\"https://github.com/JuliaLang/julia/tree/d789231e9985537686052db9b2314c0d51656308/base/special/exp.jl#L73\" target=\"_blank\">special/exp.jl:73</a>"
      ],
      "text/plain": [
       "exp(x::Real) in Base.Math at special/exp.jl:73"
      ]
     },
     "execution_count": 42,
     "metadata": {},
     "output_type": "execute_result"
    }
   ],
   "source": [
    "# @which macro determines which function is called, provides link to source code on GitHub\n",
    "@which exp(π)"
   ]
  },
  {
   "cell_type": "code",
   "execution_count": 43,
   "metadata": {
    "slideshow": {
     "slide_type": "fragment"
    }
   },
   "outputs": [
    {
     "data": {
      "text/html": [
       "exp(z::<b>Complex</b>) in Base at <a href=\"https://github.com/JuliaLang/julia/tree/d789231e9985537686052db9b2314c0d51656308/base/complex.jl#L569\" target=\"_blank\">complex.jl:569</a>"
      ],
      "text/plain": [
       "exp(z::Complex) in Base at complex.jl:569"
      ]
     },
     "execution_count": 43,
     "metadata": {},
     "output_type": "execute_result"
    }
   ],
   "source": [
    "@which exp(π*im)"
   ]
  },
  {
   "cell_type": "markdown",
   "metadata": {
    "slideshow": {
     "slide_type": "slide"
    }
   },
   "source": [
    "Macros enable run-time code generation and transformation. \n",
    "\n",
    "Applications :\n",
    "\n",
    "  * generation and execution of boilerplate code\n",
    "  * run-time generation and optimization of algorithms, e.g. FFTW, ATLAS\n",
    "  * symbolic mathematics, automatic differentiation\n",
    "  * *all written like high-level Python, running like compiled C !!!*"
   ]
  },
  {
   "cell_type": "markdown",
   "metadata": {
    "slideshow": {
     "slide_type": "slide"
    }
   },
   "source": [
    "## Parallelism in Julia: just change the array type\n",
    "\n",
    "Some very trivial examples of Julia's built-in parallelism"
   ]
  },
  {
   "cell_type": "code",
   "execution_count": 44,
   "metadata": {
    "slideshow": {
     "slide_type": "fragment"
    }
   },
   "outputs": [],
   "source": [
    "using Distributed\n",
    "#Pkg.add(\"DistributedArrays\")\n",
    "\n",
    "addprocs(2);"
   ]
  },
  {
   "cell_type": "code",
   "execution_count": 45,
   "metadata": {
    "slideshow": {
     "slide_type": "fragment"
    }
   },
   "outputs": [
    {
     "name": "stdout",
     "output_type": "stream",
     "text": [
      "function count_heads(n)\n",
      "    c::Int = 0\n",
      "    for i=1:n\n",
      "        c += rand(Bool)\n",
      "    end\n",
      "    c\n",
      "end\n"
     ]
    }
   ],
   "source": [
    "; cat codes/count_heads.jl"
   ]
  },
  {
   "cell_type": "code",
   "execution_count": 46,
   "metadata": {
    "slideshow": {
     "slide_type": "fragment"
    }
   },
   "outputs": [
    {
     "data": {
      "text/plain": [
       "10000050"
      ]
     },
     "execution_count": 46,
     "metadata": {},
     "output_type": "execute_result"
    }
   ],
   "source": [
    "@everywhere include(\"codes/count_heads.jl\")\n",
    "\n",
    "a = @spawn count_heads(10000000)\n",
    "b = @spawn count_heads(10000000)\n",
    "fetch(a)+fetch(b)"
   ]
  },
  {
   "cell_type": "markdown",
   "metadata": {
    "slideshow": {
     "slide_type": "slide"
    }
   },
   "source": [
    "### Parallel loops with reduction"
   ]
  },
  {
   "cell_type": "code",
   "execution_count": 47,
   "metadata": {
    "slideshow": {
     "slide_type": "fragment"
    }
   },
   "outputs": [
    {
     "data": {
      "text/plain": [
       "99989621"
      ]
     },
     "execution_count": 47,
     "metadata": {},
     "output_type": "execute_result"
    }
   ],
   "source": [
    "nheads = @distributed (+) for i=1:200000000\n",
    "  Int(rand(Bool))\n",
    "end"
   ]
  },
  {
   "cell_type": "markdown",
   "metadata": {
    "slideshow": {
     "slide_type": "fragment"
    }
   },
   "source": [
    "And more :\n",
    "- Distributed arrays\n",
    "- GPUArrays\n",
    "- TPUArrays ...\n",
    "\n",
    "Just changing the behavior of the underlying structure can bring new hardware support for all packages"
   ]
  },
  {
   "cell_type": "markdown",
   "metadata": {
    "slideshow": {
     "slide_type": "slide"
    }
   },
   "source": [
    "# Helpful materials\n",
    "\n",
    "- Main site https://julialang.org/\n",
    "- Docs https://docs.julialang.org/en/v1/\n",
    "- Forum https://discourse.julialang.org/\n",
    "- Book https://benlauwens.github.io/ThinkJulia.jl/latest/book.html\n",
    "- Blog http://www.stochasticlifestyle.com/\n",
    "- All-in-one package : https://juliacomputing.com/products/juliapro.html\n",
    "- Try online  : https://juliabox.com/\n",
    "\n",
    "<center> <img src=\"https://imgs.xkcd.com/comics/wisdom_of_the_ancients.png\"></center>"
   ]
  },
  {
   "cell_type": "markdown",
   "metadata": {
    "slideshow": {
     "slide_type": "slide"
    }
   },
   "source": [
    "# Code as a first-class citizen product of research\n",
    "\n",
    "- The (new version) Julia package manager has reproductibility at its core (each code project is linked to a deterministic set of dependencies)\n",
    "- Creating a Julia package comes with tools for documentation, unit testing, continuous integration\n",
    "- New scientific collaborations can be based on software (see the Github organizations such as JuliaDiff, JuliaStats, etc...)\n",
    "\n"
   ]
  },
  {
   "cell_type": "markdown",
   "metadata": {
    "slideshow": {
     "slide_type": "slide"
    }
   },
   "source": [
    "# Food for thoughts\n",
    "\n",
    "- Cost and open source\n",
    "    - Matlab licences cost several 10K€ each year to some labs\n",
    "    - Julia (and Python and R) come for free but development is not free\n",
    "    - A part of Matlab costs could go to financing open source software that is critical for science (see e.g. https://bitbucket.org/paugier/etude-asso-pynumfr/src/default/etude_asso_python_sciences_fr.rst?fileviewer=file-view-default)\n",
    "- The combo C(++) low-level libraries and high level bindings (as Tensorflow, Keras...) lead to black box workflows..."
   ]
  },
  {
   "cell_type": "markdown",
   "metadata": {
    "slideshow": {
     "slide_type": "slide"
    }
   },
   "source": [
    "# Conclusions\n",
    "\n",
    "Julia\n",
    "* **Easy as Matlab, fast as Fortran, flexible as Python, deep as Lisp**\n",
    "*  Scientific computing, from interactive exploration to HPC\n",
    "*  Paradigms (multiple dispatch) that enforce collaboration\n",
    "\n",
    "Not covered\n",
    "* large-scale programming, development ecosystem, environments, debuggers, etc.\n",
    "* Abstract Types, compositions, ...\n",
    "* rough edges: plotting, static compilation  (not quite there), package loading times, young 1.0\n",
    "\n",
    "*Thanks* : the Julia community for most of the examples, xkcd\n",
    "\n",
    "  \n",
    "Julia website: http://www.julialang.org, this talk: https://github.com/raphbacher/julia-intro\n"
   ]
  },
  {
   "cell_type": "code",
   "execution_count": null,
   "metadata": {},
   "outputs": [],
   "source": []
  }
 ],
 "metadata": {
  "@webio": {
   "lastCommId": "6dfaabb2568a4734a53dd8f2c2c85aa9",
   "lastKernelId": "d8ceb5e8-6b4a-4f27-b7db-c8bdf0dfa47c"
  },
  "celltoolbar": "Slideshow",
  "kernelspec": {
   "display_name": "Julia 1.0.2",
   "language": "julia",
   "name": "julia-1.0"
  },
  "language_info": {
   "file_extension": ".jl",
   "mimetype": "application/julia",
   "name": "julia",
   "version": "1.0.2"
  },
  "rise": {
   "scroll": true
  }
 },
 "nbformat": 4,
 "nbformat_minor": 2
}
